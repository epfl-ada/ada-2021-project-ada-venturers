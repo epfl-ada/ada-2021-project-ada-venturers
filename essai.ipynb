{
 "cells": [
  {
   "cell_type": "code",
   "execution_count": 2,
   "id": "9388a4d2",
   "metadata": {},
   "outputs": [],
   "source": [
    "import pandas as pd\n",
    "import matplotlib as plt\n",
    "import numpy as np"
   ]
  },
  {
   "cell_type": "code",
   "execution_count": 29,
   "id": "eb71d20d",
   "metadata": {},
   "outputs": [],
   "source": [
    "df = pd.read_json('quotes-2020.json.bz2', compression='bz2', nrows=1000000, lines=True)"
   ]
  },
  {
   "cell_type": "code",
   "execution_count": 30,
   "id": "9e739931",
   "metadata": {},
   "outputs": [
    {
     "data": {
      "text/html": [
       "<div>\n",
       "<style scoped>\n",
       "    .dataframe tbody tr th:only-of-type {\n",
       "        vertical-align: middle;\n",
       "    }\n",
       "\n",
       "    .dataframe tbody tr th {\n",
       "        vertical-align: top;\n",
       "    }\n",
       "\n",
       "    .dataframe thead th {\n",
       "        text-align: right;\n",
       "    }\n",
       "</style>\n",
       "<table border=\"1\" class=\"dataframe\">\n",
       "  <thead>\n",
       "    <tr style=\"text-align: right;\">\n",
       "      <th></th>\n",
       "      <th>quoteID</th>\n",
       "      <th>quotation</th>\n",
       "      <th>speaker</th>\n",
       "      <th>qids</th>\n",
       "      <th>date</th>\n",
       "      <th>numOccurrences</th>\n",
       "      <th>probas</th>\n",
       "      <th>urls</th>\n",
       "      <th>phase</th>\n",
       "    </tr>\n",
       "  </thead>\n",
       "  <tbody>\n",
       "    <tr>\n",
       "      <th>0</th>\n",
       "      <td>2020-01-28-000082</td>\n",
       "      <td>[ D ] espite the efforts of the partners to cr...</td>\n",
       "      <td>None</td>\n",
       "      <td>[]</td>\n",
       "      <td>2020-01-28 08:04:05</td>\n",
       "      <td>1</td>\n",
       "      <td>[[None, 0.7272], [Prime Minister Netanyahu, 0....</td>\n",
       "      <td>[http://israelnationalnews.com/News/News.aspx/...</td>\n",
       "      <td>E</td>\n",
       "    </tr>\n",
       "    <tr>\n",
       "      <th>1</th>\n",
       "      <td>2020-01-16-000088</td>\n",
       "      <td>[ Department of Homeland Security ] was livid ...</td>\n",
       "      <td>Sue Myrick</td>\n",
       "      <td>[Q367796]</td>\n",
       "      <td>2020-01-16 12:00:13</td>\n",
       "      <td>1</td>\n",
       "      <td>[[Sue Myrick, 0.8867], [None, 0.0992], [Ron Wy...</td>\n",
       "      <td>[http://thehill.com/opinion/international/4782...</td>\n",
       "      <td>E</td>\n",
       "    </tr>\n",
       "    <tr>\n",
       "      <th>2</th>\n",
       "      <td>2020-02-10-000142</td>\n",
       "      <td>... He (Madhav) also disclosed that the illega...</td>\n",
       "      <td>None</td>\n",
       "      <td>[]</td>\n",
       "      <td>2020-02-10 23:45:54</td>\n",
       "      <td>1</td>\n",
       "      <td>[[None, 0.8926], [Prakash Rai, 0.1074]]</td>\n",
       "      <td>[https://indianexpress.com/article/business/ec...</td>\n",
       "      <td>E</td>\n",
       "    </tr>\n",
       "    <tr>\n",
       "      <th>3</th>\n",
       "      <td>2020-02-15-000053</td>\n",
       "      <td>... [ I ] f it gets to the floor,</td>\n",
       "      <td>None</td>\n",
       "      <td>[]</td>\n",
       "      <td>2020-02-15 14:12:51</td>\n",
       "      <td>2</td>\n",
       "      <td>[[None, 0.581], [Andy Harris, 0.4191]]</td>\n",
       "      <td>[https://patriotpost.us/opinion/68622-trump-bu...</td>\n",
       "      <td>E</td>\n",
       "    </tr>\n",
       "    <tr>\n",
       "      <th>4</th>\n",
       "      <td>2020-01-24-000168</td>\n",
       "      <td>[ I met them ] when they just turned 4 and 7. ...</td>\n",
       "      <td>Meghan King Edmonds</td>\n",
       "      <td>[Q20684375]</td>\n",
       "      <td>2020-01-24 20:37:09</td>\n",
       "      <td>4</td>\n",
       "      <td>[[Meghan King Edmonds, 0.5446], [None, 0.2705]...</td>\n",
       "      <td>[https://people.com/parents/meghan-king-edmond...</td>\n",
       "      <td>E</td>\n",
       "    </tr>\n",
       "  </tbody>\n",
       "</table>\n",
       "</div>"
      ],
      "text/plain": [
       "             quoteID                                          quotation  \\\n",
       "0  2020-01-28-000082  [ D ] espite the efforts of the partners to cr...   \n",
       "1  2020-01-16-000088  [ Department of Homeland Security ] was livid ...   \n",
       "2  2020-02-10-000142  ... He (Madhav) also disclosed that the illega...   \n",
       "3  2020-02-15-000053                  ... [ I ] f it gets to the floor,   \n",
       "4  2020-01-24-000168  [ I met them ] when they just turned 4 and 7. ...   \n",
       "\n",
       "               speaker         qids                date  numOccurrences  \\\n",
       "0                 None           [] 2020-01-28 08:04:05               1   \n",
       "1           Sue Myrick    [Q367796] 2020-01-16 12:00:13               1   \n",
       "2                 None           [] 2020-02-10 23:45:54               1   \n",
       "3                 None           [] 2020-02-15 14:12:51               2   \n",
       "4  Meghan King Edmonds  [Q20684375] 2020-01-24 20:37:09               4   \n",
       "\n",
       "                                              probas  \\\n",
       "0  [[None, 0.7272], [Prime Minister Netanyahu, 0....   \n",
       "1  [[Sue Myrick, 0.8867], [None, 0.0992], [Ron Wy...   \n",
       "2            [[None, 0.8926], [Prakash Rai, 0.1074]]   \n",
       "3             [[None, 0.581], [Andy Harris, 0.4191]]   \n",
       "4  [[Meghan King Edmonds, 0.5446], [None, 0.2705]...   \n",
       "\n",
       "                                                urls phase  \n",
       "0  [http://israelnationalnews.com/News/News.aspx/...     E  \n",
       "1  [http://thehill.com/opinion/international/4782...     E  \n",
       "2  [https://indianexpress.com/article/business/ec...     E  \n",
       "3  [https://patriotpost.us/opinion/68622-trump-bu...     E  \n",
       "4  [https://people.com/parents/meghan-king-edmond...     E  "
      ]
     },
     "execution_count": 30,
     "metadata": {},
     "output_type": "execute_result"
    }
   ],
   "source": [
    "df.head()"
   ]
  },
  {
   "cell_type": "code",
   "execution_count": 31,
   "id": "e99d5d12",
   "metadata": {},
   "outputs": [
    {
     "name": "stdout",
     "output_type": "stream",
     "text": [
      "0        [ D ] espite the efforts of the partners to cr...\n",
      "1        [ Department of Homeland Security ] was livid ...\n",
      "2        ... He (Madhav) also disclosed that the illega...\n",
      "3                        ... [ I ] f it gets to the floor,\n",
      "4        [ I met them ] when they just turned 4 and 7. ...\n",
      "                               ...                        \n",
      "99995    We've started watching the outsider would defi...\n",
      "99996                        we've ventured into a battle.\n",
      "99997    What goes on this site can't just look pretty ...\n",
      "99998    What happens in Berkshire County is that these...\n",
      "99999      What I like is everyone's at a different level,\n",
      "Name: quotation, Length: 100000, dtype: object\n"
     ]
    }
   ],
   "source": [
    "print(df.quotation)"
   ]
  },
  {
   "cell_type": "code",
   "execution_count": 33,
   "id": "fc9027af",
   "metadata": {},
   "outputs": [
    {
     "data": {
      "text/plain": [
       "319"
      ]
     },
     "execution_count": 33,
     "metadata": {},
     "output_type": "execute_result"
    }
   ],
   "source": [
    "found = []\n",
    "\n",
    "for quote in df.quotation:\n",
    "    if 'climate' in quote or 'Climate' in quote or 'global warming' in quote:\n",
    "        found.append(quote)\n",
    "    \n",
    "        \n",
    "len(found)"
   ]
  },
  {
   "cell_type": "code",
   "execution_count": 26,
   "id": "afc69a83",
   "metadata": {},
   "outputs": [
    {
     "data": {
      "text/plain": [
       "[\"And it's also in the context of decades of utter failure on climate change. And now we're staring down a very dark future.\",\n",
       " 'Many make the link today between their experience of violent conflicts and climate change,',\n",
       " 'Now you hear a lot about climate action at the national level,',\n",
       " \"Single crusades in Australia will have absolutely zero effect on the climate or future bushfires. It'll only have an effect on the economy of Australia,\",\n",
       " 'Super giants funnel billions into fossil fuels, vote down climate push',\n",
       " 'the National Energy and Climate Plans are how we chart the course towards climate neutrality. We have no time to lose in our fight against climate change so we really need to respect our own deadlines for action.',\n",
       " 'This budget also allows us to earmark £ 500,000 to ensure funding is available for the recommendations that will come from our environment and climate change taskforce, helping us to achieve our ambition of being carbon neutral by 2030 and ensuring our finances are robust enough to meet the local and global challenges of the future.',\n",
       " \"This entry on its face represents a senior official confessing that Rhode Island's climate litigation is in fact a product of Rhode Island's elected representatives lacking enthusiasm for politically enacting policies, including revenue measures, thus leaving the State `looking for (a) sustainable funding stream,' and therefore `suing big oil,\",\n",
       " \"this is so important when celebrities are willing to use their platform to bring attention to the climate crisis so let's give them a big round of applause. Take your pictures quick because I'm going to wave a wand and they're going to disappear. I'm so grateful to all of you, my friends, for being here, thank you so much.\",\n",
       " 'As a state, we will pursue every option available under existing law to combat the effects of climate change and put Oregon on a path we can be proud to leave behind for our children.',\n",
       " \"how will you inspire Americans who have given up hope in our nation's ability to tackle the climate crisis, and how will you yourself remain hopeful when things get tough?\",\n",
       " 'However, a number of suspected bots that have consistently disparaged climate science and activists have large numbers of followers on Twitter.',\n",
       " \"Sen. Bernie Sanders didn't want to get into any details when pressed about the price tag for his ambitious agenda. He said his Medicare-for-All plan would cost about $30 trillion over 10 years, which would, he argues, cost `substantially less than letting the current system go.' Asked about a total price tag for his entire agenda -- which includes free public college, cancellation of all student debt and a Green New Deal to tackle climate change -- Sanders said he doesn't have a total cost figure....\",\n",
       " \"The worry I have is that deepfakes are a way of creating chaos in the current disinformation climate [... ] but also they'll create some sort of plausible deniability and that's what I see as being the major aim,\",\n",
       " 'tracks directly back to the issues of climate change',\n",
       " \"And the message from that climate fingerprinting, from the pattern analysis, is nature couldn't do this,\",\n",
       " 'I just wanted to... do a special call out to the volunteer firefighters who have been at the center of battling the climate disaster that is facing Australia,',\n",
       " \"If we're going to think seriously about climate change mitigation, we've got to think about some of these big policy areas like trade and investment,\",\n",
       " 'The only answer is decisive climate action... Gradual approaches are no longer enough.',\n",
       " 'We discussed ways, too, to further improve the business climate, strengthen the rule of law, and provide sustainable economic opportunities for all citizens all across Uzbekistan. We want private investment, American private investment sector, to flow between our two nations.',\n",
       " 'Coal phase-out has a positive synergy between the global climate challenge and local environmental pollution.',\n",
       " \"I loved the message. It's nice to see a brand actually care about climate change.\",\n",
       " 'Nexii will not only help to reduce the impact of buildings on our climate, but can also help address the housing crunch in growing cities,',\n",
       " 'The move comes less than a week after environmental campaigners including Friends of the Earth won a legal challenge in the High Court against the construction of a third runway at Heathrow airport on the grounds that the UK government did not take into account commitments it had made under the Paris agreement on climate change.',\n",
       " 'The problem is, if we are going to deal with issues like climate change, not only do we in America have to take on the greed of the fossil fuel industry, we have to lead the entire world,',\n",
       " 'We believe with climate change this catastrophic fire season is not a one off event and that air monitors should provide the community with a valuable tool for assessing conditions in future,',\n",
       " 'While we must face the climate crisis, preserve biodiversity and mobilize all players to meet the Sustainable Development Goals, the legacy of Javiez Pérez de Cuéllar maintains its full pertinence,']"
      ]
     },
     "execution_count": 26,
     "metadata": {},
     "output_type": "execute_result"
    }
   ],
   "source": [
    "found"
   ]
  },
  {
   "cell_type": "code",
   "execution_count": 1,
   "id": "ce98b10c",
   "metadata": {},
   "outputs": [
    {
     "ename": "NameError",
     "evalue": "name 'plt' is not defined",
     "output_type": "error",
     "traceback": [
      "\u001b[1;31m---------------------------------------------------------------------------\u001b[0m",
      "\u001b[1;31mNameError\u001b[0m                                 Traceback (most recent call last)",
      "\u001b[1;32m<ipython-input-1-a721e8b628cf>\u001b[0m in \u001b[0;36m<module>\u001b[1;34m\u001b[0m\n\u001b[1;32m----> 1\u001b[1;33m \u001b[0mplt\u001b[0m\u001b[1;33m.\u001b[0m\u001b[0mrcParams\u001b[0m\u001b[1;33m[\u001b[0m\u001b[1;34m'figure.figsize'\u001b[0m\u001b[1;33m]\u001b[0m \u001b[1;33m=\u001b[0m \u001b[1;33m[\u001b[0m\u001b[1;36m25\u001b[0m\u001b[1;33m,\u001b[0m \u001b[1;36m15\u001b[0m\u001b[1;33m]\u001b[0m\u001b[1;33m\u001b[0m\u001b[1;33m\u001b[0m\u001b[0m\n\u001b[0m\u001b[0;32m      2\u001b[0m \u001b[0mdf\u001b[0m\u001b[1;33m.\u001b[0m\u001b[0mdate\u001b[0m\u001b[1;33m.\u001b[0m\u001b[0mhist\u001b[0m\u001b[1;33m(\u001b[0m\u001b[0mbins\u001b[0m \u001b[1;33m=\u001b[0m \u001b[1;36m10\u001b[0m\u001b[1;33m)\u001b[0m\u001b[1;33m\u001b[0m\u001b[1;33m\u001b[0m\u001b[0m\n\u001b[0;32m      3\u001b[0m \u001b[1;33m\u001b[0m\u001b[0m\n\u001b[0;32m      4\u001b[0m \u001b[1;31m## je voulais plot found avec la date mais je sais pas comment faire !!!\u001b[0m\u001b[1;33m\u001b[0m\u001b[1;33m\u001b[0m\u001b[1;33m\u001b[0m\u001b[0m\n",
      "\u001b[1;31mNameError\u001b[0m: name 'plt' is not defined"
     ]
    }
   ],
   "source": [
    "plt.rcParams['figure.figsize'] = [25, 15]\n",
    "df.date.hist(bins = 10)\n",
    "\n",
    "## je voulais plot found avec la date mais je sais pas comment faire !!!"
   ]
  },
  {
   "cell_type": "code",
   "execution_count": null,
   "id": "20f3f98a",
   "metadata": {},
   "outputs": [],
   "source": []
  }
 ],
 "metadata": {
  "kernelspec": {
   "display_name": "Python 3",
   "language": "python",
   "name": "python3"
  },
  "language_info": {
   "codemirror_mode": {
    "name": "ipython",
    "version": 3
   },
   "file_extension": ".py",
   "mimetype": "text/x-python",
   "name": "python",
   "nbconvert_exporter": "python",
   "pygments_lexer": "ipython3",
   "version": "3.8.8"
  }
 },
 "nbformat": 4,
 "nbformat_minor": 5
}
