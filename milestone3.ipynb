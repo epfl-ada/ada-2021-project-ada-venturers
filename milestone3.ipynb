{
 "cells": [
  {
   "cell_type": "markdown",
   "id": "613c356f",
   "metadata": {},
   "source": [
    "# Please, Act! \n",
    "Politicians Lie Everytime About Subjects on the Environment, Acknowledge Climate Transformation !"
   ]
  },
  {
   "cell_type": "markdown",
   "id": "6abec98f",
   "metadata": {},
   "source": [
    "## Abstract\n",
    "\n",
    "Now more than ever, climate change is a very hotly debated topic which often comes up in the news. This year alone, the Intergovernmental Panel on Climate Change and World Meteorological Organization released very alarming reports stating that we are \"way behind\" on the objectives of the Paris Agreement. While there will be some individual action involved if we are to tackle the climate crisis, laws and regulations passed by governments will be imperative to avoid the worst case scenario. Using the Quotebank dataset, we were interested to see whether climate change is used as a campaign promise by politicians or if it really is a subject that is constantly talked about. Furthermore, which political groups are the most involved in proposing solutions and spreading awareness about the pressing climate crisis that we are facing. More importantly: do they Act?"
   ]
  },
  {
   "cell_type": "markdown",
   "id": "a82ce98c",
   "metadata": {},
   "source": [
    "## Research questions\n",
    "Research questions: Who speaks the most about climate change? What is their position on the subject? Do politicians all have the same words and opinions on the subject ? What factors affect this position? What are the periods when the subject is most highlighted, and at the heart of the debates ? Do voting periods have an impact? Does speaking about the problem mean taking action?"
   ]
  },
  {
   "cell_type": "markdown",
   "id": "bebcf20d",
   "metadata": {},
   "source": [
    "## Datasets\n",
    "\n",
    "* Quotebank\n",
    "* Informations about the speakers from the Wikidata knowledge base\n",
    "* Dataset containing an environmental index for each state: <a href='https://www.governing.com/next/what-is-the-greenest-most-environmentally-friendly-state.html'> link </a>\n",
    "* Dataset containing the CO2 emissions of each states: <a href='https://www.wri.org/data/climate-watch-historical-emissions-data-countries-us-states-unfccc'> link </a>\n",
    "* Dataset of the senators and governors\n",
    "* Dataset of events"
   ]
  },
  {
   "cell_type": "markdown",
   "id": "5fb38b1c",
   "metadata": {},
   "source": [
    "# Table of contents\n",
    "<a id = table_of_contents></a>\n",
    "1. [Load the data](#load_data)\n",
    "\n",
    "\n",
    "2. [Temporal Analysis](#temporal_analysis)\n",
    "\n",
    "\n",
    "3. [Semantique Analysis](#semantique_analysis)\n",
    "    - [3.1 LDA](#LDA)\n",
    "    - [3.1 Word cloud](#word_cloud)\n",
    "    - [3.3 Distribution of quotes by party in each topic](#quotes_party_topic)\n",
    "  \n",
    " \n",
    "4. [Political Analysis](#political_analysis)\n",
    "    - [4.1 How political parties talk about climate change?](#political_talking)\n",
    "    - [4.2 Score of durability of each states](#score_durability)\n",
    "    - [4.3 CO2 emissions of each states](#CO2_emissions)\n",
    "    - [4.4 Does talking leads to actions?](#talking_action)\n",
    "    - [4.5 Interactive map](#interactive_map)\n",
    "    \n",
    "\n",
    "5. [Conclusion](#conclusion)"
   ]
  },
  {
   "cell_type": "code",
   "execution_count": 4,
   "id": "e3148fc4",
   "metadata": {},
   "outputs": [
    {
     "ename": "ModuleNotFoundError",
     "evalue": "No module named 'geopandas'",
     "output_type": "error",
     "traceback": [
      "\u001b[1;31m---------------------------------------------------------------------------\u001b[0m",
      "\u001b[1;31mModuleNotFoundError\u001b[0m                       Traceback (most recent call last)",
      "\u001b[1;32m<ipython-input-4-3a9b74746a6a>\u001b[0m in \u001b[0;36m<module>\u001b[1;34m\u001b[0m\n\u001b[0;32m      7\u001b[0m \u001b[1;32mfrom\u001b[0m \u001b[0mgensim\u001b[0m\u001b[1;33m.\u001b[0m\u001b[0mmodels\u001b[0m\u001b[1;33m.\u001b[0m\u001b[0mdoc2vec\u001b[0m \u001b[1;32mimport\u001b[0m \u001b[0mDoc2Vec\u001b[0m\u001b[1;33m,\u001b[0m \u001b[0mTaggedDocument\u001b[0m\u001b[1;33m\u001b[0m\u001b[1;33m\u001b[0m\u001b[0m\n\u001b[0;32m      8\u001b[0m \u001b[1;32mimport\u001b[0m \u001b[0mpyarrow\u001b[0m\u001b[1;33m.\u001b[0m\u001b[0mparquet\u001b[0m \u001b[1;32mas\u001b[0m \u001b[0mpq\u001b[0m\u001b[1;33m\u001b[0m\u001b[1;33m\u001b[0m\u001b[0m\n\u001b[1;32m----> 9\u001b[1;33m \u001b[1;32mimport\u001b[0m \u001b[0mgeopandas\u001b[0m\u001b[1;33m\u001b[0m\u001b[1;33m\u001b[0m\u001b[0m\n\u001b[0m",
      "\u001b[1;31mModuleNotFoundError\u001b[0m: No module named 'geopandas'"
     ]
    }
   ],
   "source": [
    "import numpy as np\n",
    "import pandas as pd\n",
    "import gensim\n",
    "import matplotlib.pyplot as plt\n",
    "import seaborn as sns\n",
    "from nltk.tokenize import word_tokenize\n",
    "from gensim.models.doc2vec import Doc2Vec, TaggedDocument\n",
    "import pyarrow.parquet as pq\n",
    "import geopandas"
   ]
  },
  {
   "cell_type": "code",
   "execution_count": 178,
   "id": "388f3929",
   "metadata": {},
   "outputs": [],
   "source": [
    "import warnings\n",
    "warnings.filterwarnings(\"ignore\")"
   ]
  },
  {
   "cell_type": "markdown",
   "id": "ce1f3d33",
   "metadata": {},
   "source": [
    "<a id = load_data></a>\n",
    "## 1. Load the Data"
   ]
  },
  {
   "cell_type": "code",
   "execution_count": null,
   "id": "d9f4a240",
   "metadata": {},
   "outputs": [],
   "source": [
    "data2020 = pd.DataFrame()\n",
    "data2019 = pd.DataFrame()\n",
    "data2018 = pd.DataFrame()\n",
    "data2017 = pd.DataFrame()\n",
    "data2016 = pd.DataFrame()\n",
    "data2015 = pd.DataFrame()\n",
    "\n",
    "def process_chunk(chunk):\n",
    "        print(f'Processing chunk with {len(chunk)} rows')\n",
    "        data = pd.DataFrame()\n",
    "        \n",
    "        # Take only the quotes about climate change\n",
    "        keywords = [\"limate change\", \"lobal warming\", \"COP\", \"limate variation\", \"limate crisis\", \"CO2 emissions\", \n",
    "                    \"reenhouse effect\", \"reenhouse gas\", \"limate emergency\", \"nvironmental crisis\"]\n",
    "        mask = chunk.quotation.apply(lambda x: any(word in x for word in keywords))\n",
    "        data = chunk[mask]\n",
    "\n",
    "        print(\"Number of filtered quotes {} out of {}\".format(len(data), len(chunk)))\n",
    "        data[['quotation', 'speaker']].head()\n",
    "        \n",
    "        # Drop quotes without speaker\n",
    "        no_speaker = data[data.speaker == \"None\"].index\n",
    "        data = data.drop(no_speaker)\n",
    "        print(\"{} quotes are removed\".format(len(no_speaker)))\n",
    "        \n",
    "        # Drop useless informations\n",
    "        del data[\"probas\"]\n",
    "        del data[\"phase\"]\n",
    "        del data[\"qids\"]\n",
    "        del data[\"urls\"]\n",
    "\n",
    "\n",
    "        return data\n",
    "    \n",
    "\n",
    "with pd.read_json('quotes-2020.json.bz2', lines=True, compression='bz2', chunksize=1000000) as df_reader:\n",
    "    for chunk in df_reader:    \n",
    "        data2020 = data2020.append(process_chunk(chunk))\n",
    "\n",
    "with pd.read_json('quotes-2019.json.bz2', lines=True, compression='bz2', chunksize=1000000) as df_reader:\n",
    "    for chunk in df_reader:    \n",
    "        data2019 = data2019.append(process_chunk(chunk))       \n",
    "\n",
    "\n",
    "with pd.read_json('quotes-2018.json.bz2', lines=True, compression='bz2', chunksize=1000000) as df_reader:\n",
    "    for chunk in df_reader:    \n",
    "        data2018 = data2018.append(process_chunk(chunk))\n",
    "        \n",
    "\n",
    "with pd.read_json('quotes-2017.json.bz2', lines=True, compression='bz2', chunksize=1000000) as df_reader:\n",
    "    for chunk in df_reader:    \n",
    "        data2017 = data2017.append(process_chunk(chunk))\n",
    "        \n",
    "\n",
    "with pd.read_json('quotes-2016.json.bz2', lines=True, compression='bz2', chunksize=1000000) as df_reader:\n",
    "    for chunk in df_reader:    \n",
    "        data2016 = data2016.append(process_chunk(chunk))\n",
    "        \n",
    "\n",
    "with pd.read_json('quotes-2015.json.bz2', lines=True, compression='bz2', chunksize=1000000) as df_reader:\n",
    "    for chunk in df_reader:    \n",
    "        data2015 = data2015.append(process_chunk(chunk))\n",
    "        \n",
    "\n",
    "## Saving data as pickle\n",
    "\n",
    "data2020.to_pickle(\"./data2020.pkl\")\n",
    "data2019.to_pickle(\"./data2019.pkl\")\n",
    "data2018.to_pickle(\"./data2018.pkl\")\n",
    "data2017.to_pickle(\"./data2017.pkl\")\n",
    "data2016.to_pickle(\"./data2016.pkl\")\n",
    "data2015.to_pickle(\"./data2015.pkl\")"
   ]
  },
  {
   "cell_type": "markdown",
   "id": "71b8bd1d",
   "metadata": {},
   "source": [
    "Load data from the pickle files"
   ]
  },
  {
   "cell_type": "code",
   "execution_count": 80,
   "id": "7f847829",
   "metadata": {},
   "outputs": [],
   "source": [
    "data2020 = pd.read_pickle('data2020.pkl', compression='infer')\n",
    "data2019 = pd.read_pickle('data2019.pkl', compression='infer')\n",
    "data2018 = pd.read_pickle('data2018.pkl', compression='infer')\n",
    "data2017 = pd.read_pickle('data2017.pkl', compression='infer')\n",
    "data2016 = pd.read_pickle('data2016.pkl', compression='infer')\n",
    "data2015 = pd.read_pickle('data2015.pkl', compression='infer')"
   ]
  },
  {
   "cell_type": "code",
   "execution_count": 81,
   "id": "22dcebb3",
   "metadata": {},
   "outputs": [
    {
     "data": {
      "text/plain": [
       "135492"
      ]
     },
     "execution_count": 81,
     "metadata": {},
     "output_type": "execute_result"
    }
   ],
   "source": [
    "data = data2020\n",
    "data = data.append(data2019, ignore_index=True)\n",
    "data = data.append(data2018, ignore_index=True)\n",
    "data = data.append(data2017, ignore_index=True)\n",
    "data =data.append(data2016, ignore_index=True)\n",
    "data = data.append(data2015, ignore_index=True)\n",
    "len(data)"
   ]
  },
  {
   "cell_type": "code",
   "execution_count": 82,
   "id": "a8783fec",
   "metadata": {},
   "outputs": [],
   "source": [
    "#read QID csv\n",
    "QID = pd.read_csv('wikidata_labels_descriptions_quotebank.csv.bz2', compression='bz2', index_col='QID')"
   ]
  },
  {
   "cell_type": "code",
   "execution_count": 83,
   "id": "895dda07",
   "metadata": {},
   "outputs": [],
   "source": [
    "#read parquet file\n",
    "speaker_df = pd.read_parquet(\"speaker_attributes.parquet\", engine='pyarrow')"
   ]
  },
  {
   "cell_type": "code",
   "execution_count": 84,
   "id": "742081cd",
   "metadata": {},
   "outputs": [],
   "source": [
    "#removing duplicates on 'label'\n",
    "speaker_df=speaker_df.drop_duplicates(subset=['label'])"
   ]
  },
  {
   "cell_type": "markdown",
   "id": "501df331",
   "metadata": {},
   "source": [
    "<a id = temporal_analysis></a>\n",
    "## 2. Temporal Analysis"
   ]
  },
  {
   "cell_type": "code",
   "execution_count": 162,
   "id": "3448bbcf",
   "metadata": {},
   "outputs": [],
   "source": [
    "# Copying the data\n",
    "df_TA = data"
   ]
  },
  {
   "cell_type": "code",
   "execution_count": 157,
   "id": "999adab4",
   "metadata": {},
   "outputs": [],
   "source": [
    "df_time = df_TA.groupby(pd.Grouper(freq='W-MON', key='date'), as_index=True).count() # or .sum(), dunno which is better\n",
    "df_time = df_time.rename(columns={'numOccurrences':'val'})"
   ]
  },
  {
   "cell_type": "code",
   "execution_count": 158,
   "id": "ff822faa",
   "metadata": {},
   "outputs": [
    {
     "data": {
      "text/html": [
       "<div>\n",
       "<style scoped>\n",
       "    .dataframe tbody tr th:only-of-type {\n",
       "        vertical-align: middle;\n",
       "    }\n",
       "\n",
       "    .dataframe tbody tr th {\n",
       "        vertical-align: top;\n",
       "    }\n",
       "\n",
       "    .dataframe thead th {\n",
       "        text-align: right;\n",
       "    }\n",
       "</style>\n",
       "<table border=\"1\" class=\"dataframe\">\n",
       "  <thead>\n",
       "    <tr style=\"text-align: right;\">\n",
       "      <th></th>\n",
       "      <th>Name</th>\n",
       "      <th>Date</th>\n",
       "      <th>Type</th>\n",
       "      <th>Comment</th>\n",
       "      <th>Unnamed: 4</th>\n",
       "      <th>Unnamed: 5</th>\n",
       "      <th>Unnamed: 6</th>\n",
       "      <th>date_ann</th>\n",
       "    </tr>\n",
       "  </thead>\n",
       "  <tbody>\n",
       "    <tr>\n",
       "      <th>0</th>\n",
       "      <td>COP 21</td>\n",
       "      <td>2015-12-07</td>\n",
       "      <td>1</td>\n",
       "      <td>NaN</td>\n",
       "      <td>NaN</td>\n",
       "      <td>NaN</td>\n",
       "      <td>NaN</td>\n",
       "      <td>2015-12-07</td>\n",
       "    </tr>\n",
       "    <tr>\n",
       "      <th>1</th>\n",
       "      <td>COP 22</td>\n",
       "      <td>2016-11-07</td>\n",
       "      <td>1</td>\n",
       "      <td>NaN</td>\n",
       "      <td>NaN</td>\n",
       "      <td>NaN</td>\n",
       "      <td>NaN</td>\n",
       "      <td>2016-11-07</td>\n",
       "    </tr>\n",
       "    <tr>\n",
       "      <th>2</th>\n",
       "      <td>COP 23</td>\n",
       "      <td>2017-11-12</td>\n",
       "      <td>1</td>\n",
       "      <td>NaN</td>\n",
       "      <td>NaN</td>\n",
       "      <td>NaN</td>\n",
       "      <td>NaN</td>\n",
       "      <td>2017-11-13</td>\n",
       "    </tr>\n",
       "    <tr>\n",
       "      <th>3</th>\n",
       "      <td>COP 24</td>\n",
       "      <td>2018-12-02</td>\n",
       "      <td>1</td>\n",
       "      <td>NaN</td>\n",
       "      <td>NaN</td>\n",
       "      <td>NaN</td>\n",
       "      <td>NaN</td>\n",
       "      <td>2018-12-03</td>\n",
       "    </tr>\n",
       "    <tr>\n",
       "      <th>4</th>\n",
       "      <td>COP 25</td>\n",
       "      <td>2019-12-09</td>\n",
       "      <td>1</td>\n",
       "      <td>NaN</td>\n",
       "      <td>NaN</td>\n",
       "      <td>NaN</td>\n",
       "      <td>NaN</td>\n",
       "      <td>2019-12-09</td>\n",
       "    </tr>\n",
       "    <tr>\n",
       "      <th>5</th>\n",
       "      <td>G20 2016</td>\n",
       "      <td>2016-09-05</td>\n",
       "      <td>1</td>\n",
       "      <td>NaN</td>\n",
       "      <td>NaN</td>\n",
       "      <td>NaN</td>\n",
       "      <td>NaN</td>\n",
       "      <td>2016-09-05</td>\n",
       "    </tr>\n",
       "    <tr>\n",
       "      <th>6</th>\n",
       "      <td>G20 2017</td>\n",
       "      <td>2017-07-07</td>\n",
       "      <td>1</td>\n",
       "      <td>NaN</td>\n",
       "      <td>NaN</td>\n",
       "      <td>NaN</td>\n",
       "      <td>NaN</td>\n",
       "      <td>2017-07-10</td>\n",
       "    </tr>\n",
       "    <tr>\n",
       "      <th>7</th>\n",
       "      <td>G20 2018</td>\n",
       "      <td>2018-11-30</td>\n",
       "      <td>1</td>\n",
       "      <td>NaN</td>\n",
       "      <td>NaN</td>\n",
       "      <td>NaN</td>\n",
       "      <td>NaN</td>\n",
       "      <td>2018-12-03</td>\n",
       "    </tr>\n",
       "    <tr>\n",
       "      <th>8</th>\n",
       "      <td>G20 2019</td>\n",
       "      <td>2019-06-28</td>\n",
       "      <td>1</td>\n",
       "      <td>NaN</td>\n",
       "      <td>NaN</td>\n",
       "      <td>NaN</td>\n",
       "      <td>NaN</td>\n",
       "      <td>2019-07-01</td>\n",
       "    </tr>\n",
       "    <tr>\n",
       "      <th>9</th>\n",
       "      <td>Primary elections 2016</td>\n",
       "      <td>2016-05-30</td>\n",
       "      <td>2</td>\n",
       "      <td>Février à Juin 2016</td>\n",
       "      <td>24/04/2016 -</td>\n",
       "      <td>NaN</td>\n",
       "      <td>NaN</td>\n",
       "      <td>2016-05-30</td>\n",
       "    </tr>\n",
       "    <tr>\n",
       "      <th>10</th>\n",
       "      <td>Presidential elections 2016</td>\n",
       "      <td>2016-11-08</td>\n",
       "      <td>2</td>\n",
       "      <td>Date du vote</td>\n",
       "      <td>NaN</td>\n",
       "      <td>NaN</td>\n",
       "      <td>NaN</td>\n",
       "      <td>2016-11-14</td>\n",
       "    </tr>\n",
       "    <tr>\n",
       "      <th>11</th>\n",
       "      <td>Primary elections 2020</td>\n",
       "      <td>2020-03-01</td>\n",
       "      <td>2</td>\n",
       "      <td>Février à Juin 2016</td>\n",
       "      <td>NaN</td>\n",
       "      <td>NaN</td>\n",
       "      <td>NaN</td>\n",
       "      <td>2020-03-02</td>\n",
       "    </tr>\n",
       "    <tr>\n",
       "      <th>12</th>\n",
       "      <td>Australia fires</td>\n",
       "      <td>2020-01-19</td>\n",
       "      <td>3</td>\n",
       "      <td>NaN</td>\n",
       "      <td>NaN</td>\n",
       "      <td>NaN</td>\n",
       "      <td>NaN</td>\n",
       "      <td>2020-01-20</td>\n",
       "    </tr>\n",
       "    <tr>\n",
       "      <th>13</th>\n",
       "      <td>Amazonia fires</td>\n",
       "      <td>2019-09-22</td>\n",
       "      <td>3</td>\n",
       "      <td>NaN</td>\n",
       "      <td>NaN</td>\n",
       "      <td>NaN</td>\n",
       "      <td>NaN</td>\n",
       "      <td>2019-09-23</td>\n",
       "    </tr>\n",
       "    <tr>\n",
       "      <th>14</th>\n",
       "      <td>Hottest December Month Record</td>\n",
       "      <td>2016-12-11</td>\n",
       "      <td>3</td>\n",
       "      <td>NaN</td>\n",
       "      <td>NaN</td>\n",
       "      <td>NaN</td>\n",
       "      <td>NaN</td>\n",
       "      <td>2016-12-12</td>\n",
       "    </tr>\n",
       "    <tr>\n",
       "      <th>15</th>\n",
       "      <td>USA withdrawal from Paris Agreements</td>\n",
       "      <td>2017-06-05</td>\n",
       "      <td>2</td>\n",
       "      <td>NaN</td>\n",
       "      <td>NaN</td>\n",
       "      <td>NaN</td>\n",
       "      <td>NaN</td>\n",
       "      <td>2017-06-05</td>\n",
       "    </tr>\n",
       "    <tr>\n",
       "      <th>16</th>\n",
       "      <td>Hurricanes in the USA and EU</td>\n",
       "      <td>2018-10-15</td>\n",
       "      <td>2</td>\n",
       "      <td>NaN</td>\n",
       "      <td>NaN</td>\n",
       "      <td>NaN</td>\n",
       "      <td>NaN</td>\n",
       "      <td>2018-10-15</td>\n",
       "    </tr>\n",
       "  </tbody>\n",
       "</table>\n",
       "</div>"
      ],
      "text/plain": [
       "                                    Name       Date  Type  \\\n",
       "0                                 COP 21 2015-12-07     1   \n",
       "1                                 COP 22 2016-11-07     1   \n",
       "2                                 COP 23 2017-11-12     1   \n",
       "3                                 COP 24 2018-12-02     1   \n",
       "4                                 COP 25 2019-12-09     1   \n",
       "5                               G20 2016 2016-09-05     1   \n",
       "6                               G20 2017 2017-07-07     1   \n",
       "7                               G20 2018 2018-11-30     1   \n",
       "8                               G20 2019 2019-06-28     1   \n",
       "9                 Primary elections 2016 2016-05-30     2   \n",
       "10           Presidential elections 2016 2016-11-08     2   \n",
       "11                Primary elections 2020 2020-03-01     2   \n",
       "12                       Australia fires 2020-01-19     3   \n",
       "13                        Amazonia fires 2019-09-22     3   \n",
       "14         Hottest December Month Record 2016-12-11     3   \n",
       "15  USA withdrawal from Paris Agreements 2017-06-05     2   \n",
       "16          Hurricanes in the USA and EU 2018-10-15     2   \n",
       "\n",
       "                Comment     Unnamed: 4  Unnamed: 5  Unnamed: 6   date_ann  \n",
       "0                   NaN            NaN         NaN         NaN 2015-12-07  \n",
       "1                   NaN            NaN         NaN         NaN 2016-11-07  \n",
       "2                   NaN            NaN         NaN         NaN 2017-11-13  \n",
       "3                   NaN            NaN         NaN         NaN 2018-12-03  \n",
       "4                   NaN            NaN         NaN         NaN 2019-12-09  \n",
       "5                   NaN            NaN         NaN         NaN 2016-09-05  \n",
       "6                   NaN            NaN         NaN         NaN 2017-07-10  \n",
       "7                   NaN            NaN         NaN         NaN 2018-12-03  \n",
       "8                   NaN            NaN         NaN         NaN 2019-07-01  \n",
       "9   Février à Juin 2016  24/04/2016 -          NaN         NaN 2016-05-30  \n",
       "10         Date du vote            NaN         NaN         NaN 2016-11-14  \n",
       "11  Février à Juin 2016            NaN         NaN         NaN 2020-03-02  \n",
       "12                  NaN            NaN         NaN         NaN 2020-01-20  \n",
       "13                  NaN            NaN         NaN         NaN 2019-09-23  \n",
       "14                  NaN            NaN         NaN         NaN 2016-12-12  \n",
       "15                  NaN            NaN         NaN         NaN 2017-06-05  \n",
       "16                  NaN            NaN         NaN         NaN 2018-10-15  "
      ]
     },
     "execution_count": 158,
     "metadata": {},
     "output_type": "execute_result"
    }
   ],
   "source": [
    "ev = pd.read_csv(\"./events.csv\", delimiter=';')\n",
    "ev['Date'] = pd.to_datetime(ev['Date'], format=\"%d/%m/%Y\")\n",
    "ev['date_ann'] = ev['Date'].dt.to_period('W-mon').apply(lambda r: r.end_time.date())\n",
    "ev['date_ann'] = ev['date_ann'].astype('datetime64[ns]')\n",
    "\n",
    "ev"
   ]
  },
  {
   "cell_type": "code",
   "execution_count": 159,
   "id": "26487a00",
   "metadata": {},
   "outputs": [],
   "source": [
    "def add_annotation(fig, df_time, date, text, bgcolor):   \n",
    "    fig.add_annotation(\n",
    "            x=date,\n",
    "            y=df_time.loc[date].val,\n",
    "            hovertext=text,\n",
    "            showarrow=True,\n",
    "            align=\"center\",\n",
    "            arrowhead=2,\n",
    "            arrowsize=1,\n",
    "            arrowwidth=2,\n",
    "            borderwidth=4,\n",
    "            borderpad=4,\n",
    "            opacity=0.8,\n",
    "            bgcolor=bgcolor,\n",
    "            font=dict(\n",
    "                family=\"Courier New, monospace\",\n",
    "                size=12,\n",
    "                color=\"#ffffff\"\n",
    "            ),\n",
    "            )"
   ]
  },
  {
   "cell_type": "code",
   "execution_count": 160,
   "id": "d7fb1580",
   "metadata": {},
   "outputs": [
    {
     "data": {
      "application/vnd.plotly.v1+json": {
       "config": {
        "plotlyServerURL": "https://plot.ly"
       },
       "data": [
        {
         "name": "",
         "showlegend": false,
         "type": "scatter",
         "x": [
          "2015-01-05T00:00:00",
          "2015-01-12T00:00:00",
          "2015-01-19T00:00:00",
          "2015-01-26T00:00:00",
          "2015-02-02T00:00:00",
          "2015-02-09T00:00:00",
          "2015-02-16T00:00:00",
          "2015-02-23T00:00:00",
          "2015-03-02T00:00:00",
          "2015-03-09T00:00:00",
          "2015-03-16T00:00:00",
          "2015-03-23T00:00:00",
          "2015-03-30T00:00:00",
          "2015-04-06T00:00:00",
          "2015-04-13T00:00:00",
          "2015-04-20T00:00:00",
          "2015-04-27T00:00:00",
          "2015-05-04T00:00:00",
          "2015-05-11T00:00:00",
          "2015-05-18T00:00:00",
          "2015-05-25T00:00:00",
          "2015-06-01T00:00:00",
          "2015-06-08T00:00:00",
          "2015-06-15T00:00:00",
          "2015-06-22T00:00:00",
          "2015-06-29T00:00:00",
          "2015-07-06T00:00:00",
          "2015-07-13T00:00:00",
          "2015-07-20T00:00:00",
          "2015-07-27T00:00:00",
          "2015-08-03T00:00:00",
          "2015-08-10T00:00:00",
          "2015-08-17T00:00:00",
          "2015-08-24T00:00:00",
          "2015-08-31T00:00:00",
          "2015-09-07T00:00:00",
          "2015-09-14T00:00:00",
          "2015-09-21T00:00:00",
          "2015-09-28T00:00:00",
          "2015-10-05T00:00:00",
          "2015-10-12T00:00:00",
          "2015-10-19T00:00:00",
          "2015-10-26T00:00:00",
          "2015-11-02T00:00:00",
          "2015-11-09T00:00:00",
          "2015-11-16T00:00:00",
          "2015-11-23T00:00:00",
          "2015-11-30T00:00:00",
          "2015-12-07T00:00:00",
          "2015-12-14T00:00:00",
          "2015-12-21T00:00:00",
          "2015-12-28T00:00:00",
          "2016-01-04T00:00:00",
          "2016-01-11T00:00:00",
          "2016-01-18T00:00:00",
          "2016-01-25T00:00:00",
          "2016-02-01T00:00:00",
          "2016-02-08T00:00:00",
          "2016-02-15T00:00:00",
          "2016-02-22T00:00:00",
          "2016-02-29T00:00:00",
          "2016-03-07T00:00:00",
          "2016-03-14T00:00:00",
          "2016-03-21T00:00:00",
          "2016-03-28T00:00:00",
          "2016-04-04T00:00:00",
          "2016-04-11T00:00:00",
          "2016-04-18T00:00:00",
          "2016-04-25T00:00:00",
          "2016-05-02T00:00:00",
          "2016-05-09T00:00:00",
          "2016-05-16T00:00:00",
          "2016-05-23T00:00:00",
          "2016-05-30T00:00:00",
          "2016-06-06T00:00:00",
          "2016-06-13T00:00:00",
          "2016-06-20T00:00:00",
          "2016-06-27T00:00:00",
          "2016-07-04T00:00:00",
          "2016-07-11T00:00:00",
          "2016-07-18T00:00:00",
          "2016-07-25T00:00:00",
          "2016-08-01T00:00:00",
          "2016-08-08T00:00:00",
          "2016-08-15T00:00:00",
          "2016-08-22T00:00:00",
          "2016-08-29T00:00:00",
          "2016-09-05T00:00:00",
          "2016-09-12T00:00:00",
          "2016-09-19T00:00:00",
          "2016-09-26T00:00:00",
          "2016-10-03T00:00:00",
          "2016-10-10T00:00:00",
          "2016-10-17T00:00:00",
          "2016-10-24T00:00:00",
          "2016-10-31T00:00:00",
          "2016-11-07T00:00:00",
          "2016-11-14T00:00:00",
          "2016-11-21T00:00:00",
          "2016-11-28T00:00:00",
          "2016-12-05T00:00:00",
          "2016-12-12T00:00:00",
          "2016-12-19T00:00:00",
          "2016-12-26T00:00:00",
          "2017-01-02T00:00:00",
          "2017-01-09T00:00:00",
          "2017-01-16T00:00:00",
          "2017-01-23T00:00:00",
          "2017-01-30T00:00:00",
          "2017-02-06T00:00:00",
          "2017-02-13T00:00:00",
          "2017-02-20T00:00:00",
          "2017-02-27T00:00:00",
          "2017-03-06T00:00:00",
          "2017-03-13T00:00:00",
          "2017-03-20T00:00:00",
          "2017-03-27T00:00:00",
          "2017-04-03T00:00:00",
          "2017-04-10T00:00:00",
          "2017-04-17T00:00:00",
          "2017-04-24T00:00:00",
          "2017-05-01T00:00:00",
          "2017-05-08T00:00:00",
          "2017-05-15T00:00:00",
          "2017-05-22T00:00:00",
          "2017-05-29T00:00:00",
          "2017-06-05T00:00:00",
          "2017-06-12T00:00:00",
          "2017-06-19T00:00:00",
          "2017-06-26T00:00:00",
          "2017-07-03T00:00:00",
          "2017-07-10T00:00:00",
          "2017-07-17T00:00:00",
          "2017-07-24T00:00:00",
          "2017-07-31T00:00:00",
          "2017-08-07T00:00:00",
          "2017-08-14T00:00:00",
          "2017-08-21T00:00:00",
          "2017-08-28T00:00:00",
          "2017-09-04T00:00:00",
          "2017-09-11T00:00:00",
          "2017-09-18T00:00:00",
          "2017-09-25T00:00:00",
          "2017-10-02T00:00:00",
          "2017-10-09T00:00:00",
          "2017-10-16T00:00:00",
          "2017-10-23T00:00:00",
          "2017-10-30T00:00:00",
          "2017-11-06T00:00:00",
          "2017-11-13T00:00:00",
          "2017-11-20T00:00:00",
          "2017-11-27T00:00:00",
          "2017-12-04T00:00:00",
          "2017-12-11T00:00:00",
          "2017-12-18T00:00:00",
          "2017-12-25T00:00:00",
          "2018-01-01T00:00:00",
          "2018-01-08T00:00:00",
          "2018-01-15T00:00:00",
          "2018-01-22T00:00:00",
          "2018-01-29T00:00:00",
          "2018-02-05T00:00:00",
          "2018-02-12T00:00:00",
          "2018-02-19T00:00:00",
          "2018-02-26T00:00:00",
          "2018-03-05T00:00:00",
          "2018-03-12T00:00:00",
          "2018-03-19T00:00:00",
          "2018-03-26T00:00:00",
          "2018-04-02T00:00:00",
          "2018-04-09T00:00:00",
          "2018-04-16T00:00:00",
          "2018-04-23T00:00:00",
          "2018-04-30T00:00:00",
          "2018-05-07T00:00:00",
          "2018-05-14T00:00:00",
          "2018-05-21T00:00:00",
          "2018-05-28T00:00:00",
          "2018-06-04T00:00:00",
          "2018-06-11T00:00:00",
          "2018-06-18T00:00:00",
          "2018-06-25T00:00:00",
          "2018-07-02T00:00:00",
          "2018-07-09T00:00:00",
          "2018-07-16T00:00:00",
          "2018-07-23T00:00:00",
          "2018-07-30T00:00:00",
          "2018-08-06T00:00:00",
          "2018-08-13T00:00:00",
          "2018-08-20T00:00:00",
          "2018-08-27T00:00:00",
          "2018-09-03T00:00:00",
          "2018-09-10T00:00:00",
          "2018-09-17T00:00:00",
          "2018-09-24T00:00:00",
          "2018-10-01T00:00:00",
          "2018-10-08T00:00:00",
          "2018-10-15T00:00:00",
          "2018-10-22T00:00:00",
          "2018-10-29T00:00:00",
          "2018-11-05T00:00:00",
          "2018-11-12T00:00:00",
          "2018-11-19T00:00:00",
          "2018-11-26T00:00:00",
          "2018-12-03T00:00:00",
          "2018-12-10T00:00:00",
          "2018-12-17T00:00:00",
          "2018-12-24T00:00:00",
          "2018-12-31T00:00:00",
          "2019-01-07T00:00:00",
          "2019-01-14T00:00:00",
          "2019-01-21T00:00:00",
          "2019-01-28T00:00:00",
          "2019-02-04T00:00:00",
          "2019-02-11T00:00:00",
          "2019-02-18T00:00:00",
          "2019-02-25T00:00:00",
          "2019-03-04T00:00:00",
          "2019-03-11T00:00:00",
          "2019-03-18T00:00:00",
          "2019-03-25T00:00:00",
          "2019-04-01T00:00:00",
          "2019-04-08T00:00:00",
          "2019-04-15T00:00:00",
          "2019-04-22T00:00:00",
          "2019-04-29T00:00:00",
          "2019-05-06T00:00:00",
          "2019-05-13T00:00:00",
          "2019-05-20T00:00:00",
          "2019-05-27T00:00:00",
          "2019-06-03T00:00:00",
          "2019-06-10T00:00:00",
          "2019-06-17T00:00:00",
          "2019-06-24T00:00:00",
          "2019-07-01T00:00:00",
          "2019-07-08T00:00:00",
          "2019-07-15T00:00:00",
          "2019-07-22T00:00:00",
          "2019-07-29T00:00:00",
          "2019-08-05T00:00:00",
          "2019-08-12T00:00:00",
          "2019-08-19T00:00:00",
          "2019-08-26T00:00:00",
          "2019-09-02T00:00:00",
          "2019-09-09T00:00:00",
          "2019-09-16T00:00:00",
          "2019-09-23T00:00:00",
          "2019-09-30T00:00:00",
          "2019-10-07T00:00:00",
          "2019-10-14T00:00:00",
          "2019-10-21T00:00:00",
          "2019-10-28T00:00:00",
          "2019-11-04T00:00:00",
          "2019-11-11T00:00:00",
          "2019-11-18T00:00:00",
          "2019-11-25T00:00:00",
          "2019-12-02T00:00:00",
          "2019-12-09T00:00:00",
          "2019-12-16T00:00:00",
          "2019-12-23T00:00:00",
          "2019-12-30T00:00:00",
          "2020-01-06T00:00:00",
          "2020-01-13T00:00:00",
          "2020-01-20T00:00:00",
          "2020-01-27T00:00:00",
          "2020-02-03T00:00:00",
          "2020-02-10T00:00:00",
          "2020-02-17T00:00:00",
          "2020-02-24T00:00:00",
          "2020-03-02T00:00:00",
          "2020-03-09T00:00:00",
          "2020-03-16T00:00:00",
          "2020-03-23T00:00:00",
          "2020-03-30T00:00:00",
          "2020-04-06T00:00:00",
          "2020-04-13T00:00:00",
          "2020-04-20T00:00:00"
         ],
         "y": [
          85,
          320,
          335,
          447,
          346,
          316,
          351,
          259,
          400,
          312,
          348,
          436,
          345,
          334,
          374,
          384,
          350,
          90,
          218,
          234,
          363,
          203,
          114,
          286,
          513,
          300,
          15,
          44,
          463,
          470,
          537,
          501,
          404,
          380,
          404,
          418,
          462,
          644,
          941,
          592,
          516,
          582,
          553,
          529,
          821,
          779,
          333,
          1201,
          1565,
          1441,
          637,
          244,
          144,
          5,
          11,
          7,
          13,
          7,
          163,
          399,
          161,
          7,
          10,
          9,
          27,
          13,
          11,
          63,
          699,
          463,
          482,
          460,
          426,
          506,
          92,
          17,
          5,
          4,
          205,
          324,
          428,
          435,
          380,
          292,
          287,
          369,
          403,
          452,
          387,
          484,
          538,
          430,
          14,
          8,
          6,
          11,
          30,
          22,
          20,
          13,
          422,
          628,
          522,
          274,
          156,
          7,
          12,
          15,
          23,
          197,
          59,
          278,
          184,
          251,
          424,
          519,
          446,
          733,
          440,
          338,
          580,
          506,
          433,
          409,
          375,
          446,
          1907,
          781,
          434,
          447,
          462,
          427,
          475,
          439,
          425,
          346,
          447,
          357,
          357,
          478,
          665,
          679,
          630,
          397,
          518,
          526,
          459,
          502,
          545,
          625,
          657,
          330,
          407,
          504,
          496,
          306,
          221,
          481,
          494,
          585,
          710,
          598,
          541,
          412,
          538,
          495,
          587,
          572,
          643,
          381,
          463,
          583,
          740,
          558,
          500,
          467,
          548,
          457,
          481,
          569,
          430,
          475,
          424,
          369,
          451,
          535,
          476,
          617,
          521,
          487,
          524,
          566,
          615,
          926,
          605,
          687,
          628,
          1131,
          848,
          774,
          625,
          605,
          695,
          838,
          1240,
          1112,
          940,
          529,
          319,
          303,
          412,
          472,
          595,
          556,
          798,
          624,
          682,
          682,
          533,
          716,
          632,
          829,
          610,
          629,
          493,
          546,
          827,
          889,
          828,
          665,
          641,
          846,
          751,
          830,
          793,
          463,
          654,
          455,
          531,
          550,
          564,
          618,
          678,
          631,
          866,
          893,
          1538,
          1256,
          742,
          828,
          815,
          780,
          766,
          875,
          872,
          868,
          851,
          1076,
          1048,
          651,
          266,
          517,
          764,
          941,
          912,
          772,
          939,
          814,
          628,
          521,
          490,
          375,
          224,
          186,
          231,
          149,
          110
         ]
        },
        {
         "hoverinfo": "text",
         "marker": {
          "color": "#2f669c",
          "size": 10
         },
         "mode": "markers",
         "name": "Governmental Events",
         "showlegend": true,
         "text": [
          "COP 21",
          "COP 22",
          "COP 23",
          "COP 24",
          "COP 25",
          "G20 2016",
          "G20 2017",
          "G20 2018",
          "G20 2019"
         ],
         "type": "scatter",
         "x": [
          "2015-12-07T00:00:00",
          "2016-11-07T00:00:00",
          "2017-11-13T00:00:00",
          "2018-12-03T00:00:00",
          "2019-12-09T00:00:00",
          "2016-09-05T00:00:00",
          "2017-07-10T00:00:00",
          "2018-12-03T00:00:00",
          "2019-07-01T00:00:00"
         ],
         "y": [
          1565,
          30,
          625,
          1240,
          1076,
          452,
          427,
          1240,
          793
         ]
        },
        {
         "hoverinfo": "text",
         "marker": {
          "color": "#9c342f",
          "size": 10
         },
         "mode": "markers",
         "name": "Politics",
         "showlegend": true,
         "text": [
          "Primary elections 2016",
          "Presidential elections 2016",
          "Primary elections 2020",
          "USA withdrawal from Paris Agreements",
          "Hurricanes in the USA and EU"
         ],
         "type": "scatter",
         "x": [
          "2016-05-30T00:00:00",
          "2016-11-14T00:00:00",
          "2020-03-02T00:00:00",
          "2017-06-05T00:00:00",
          "2018-10-15T00:00:00"
         ],
         "y": [
          506,
          22,
          521,
          1907,
          1131
         ]
        },
        {
         "hoverinfo": "text",
         "marker": {
          "color": "#2f9c3d",
          "size": 10
         },
         "mode": "markers",
         "name": "Climate Catastrophe",
         "showlegend": true,
         "text": [
          "Australia fires",
          "Amazonia fires",
          "Hottest December Month Record"
         ],
         "type": "scatter",
         "x": [
          "2020-01-20T00:00:00",
          "2019-09-23T00:00:00",
          "2016-12-12T00:00:00"
         ],
         "y": [
          941,
          1538,
          628
         ]
        }
       ],
       "layout": {
        "height": 600,
        "template": {
         "data": {
          "bar": [
           {
            "error_x": {
             "color": "#2a3f5f"
            },
            "error_y": {
             "color": "#2a3f5f"
            },
            "marker": {
             "line": {
              "color": "#E5ECF6",
              "width": 0.5
             },
             "pattern": {
              "fillmode": "overlay",
              "size": 10,
              "solidity": 0.2
             }
            },
            "type": "bar"
           }
          ],
          "barpolar": [
           {
            "marker": {
             "line": {
              "color": "#E5ECF6",
              "width": 0.5
             },
             "pattern": {
              "fillmode": "overlay",
              "size": 10,
              "solidity": 0.2
             }
            },
            "type": "barpolar"
           }
          ],
          "carpet": [
           {
            "aaxis": {
             "endlinecolor": "#2a3f5f",
             "gridcolor": "white",
             "linecolor": "white",
             "minorgridcolor": "white",
             "startlinecolor": "#2a3f5f"
            },
            "baxis": {
             "endlinecolor": "#2a3f5f",
             "gridcolor": "white",
             "linecolor": "white",
             "minorgridcolor": "white",
             "startlinecolor": "#2a3f5f"
            },
            "type": "carpet"
           }
          ],
          "choropleth": [
           {
            "colorbar": {
             "outlinewidth": 0,
             "ticks": ""
            },
            "type": "choropleth"
           }
          ],
          "contour": [
           {
            "colorbar": {
             "outlinewidth": 0,
             "ticks": ""
            },
            "colorscale": [
             [
              0,
              "#0d0887"
             ],
             [
              0.1111111111111111,
              "#46039f"
             ],
             [
              0.2222222222222222,
              "#7201a8"
             ],
             [
              0.3333333333333333,
              "#9c179e"
             ],
             [
              0.4444444444444444,
              "#bd3786"
             ],
             [
              0.5555555555555556,
              "#d8576b"
             ],
             [
              0.6666666666666666,
              "#ed7953"
             ],
             [
              0.7777777777777778,
              "#fb9f3a"
             ],
             [
              0.8888888888888888,
              "#fdca26"
             ],
             [
              1,
              "#f0f921"
             ]
            ],
            "type": "contour"
           }
          ],
          "contourcarpet": [
           {
            "colorbar": {
             "outlinewidth": 0,
             "ticks": ""
            },
            "type": "contourcarpet"
           }
          ],
          "heatmap": [
           {
            "colorbar": {
             "outlinewidth": 0,
             "ticks": ""
            },
            "colorscale": [
             [
              0,
              "#0d0887"
             ],
             [
              0.1111111111111111,
              "#46039f"
             ],
             [
              0.2222222222222222,
              "#7201a8"
             ],
             [
              0.3333333333333333,
              "#9c179e"
             ],
             [
              0.4444444444444444,
              "#bd3786"
             ],
             [
              0.5555555555555556,
              "#d8576b"
             ],
             [
              0.6666666666666666,
              "#ed7953"
             ],
             [
              0.7777777777777778,
              "#fb9f3a"
             ],
             [
              0.8888888888888888,
              "#fdca26"
             ],
             [
              1,
              "#f0f921"
             ]
            ],
            "type": "heatmap"
           }
          ],
          "heatmapgl": [
           {
            "colorbar": {
             "outlinewidth": 0,
             "ticks": ""
            },
            "colorscale": [
             [
              0,
              "#0d0887"
             ],
             [
              0.1111111111111111,
              "#46039f"
             ],
             [
              0.2222222222222222,
              "#7201a8"
             ],
             [
              0.3333333333333333,
              "#9c179e"
             ],
             [
              0.4444444444444444,
              "#bd3786"
             ],
             [
              0.5555555555555556,
              "#d8576b"
             ],
             [
              0.6666666666666666,
              "#ed7953"
             ],
             [
              0.7777777777777778,
              "#fb9f3a"
             ],
             [
              0.8888888888888888,
              "#fdca26"
             ],
             [
              1,
              "#f0f921"
             ]
            ],
            "type": "heatmapgl"
           }
          ],
          "histogram": [
           {
            "marker": {
             "pattern": {
              "fillmode": "overlay",
              "size": 10,
              "solidity": 0.2
             }
            },
            "type": "histogram"
           }
          ],
          "histogram2d": [
           {
            "colorbar": {
             "outlinewidth": 0,
             "ticks": ""
            },
            "colorscale": [
             [
              0,
              "#0d0887"
             ],
             [
              0.1111111111111111,
              "#46039f"
             ],
             [
              0.2222222222222222,
              "#7201a8"
             ],
             [
              0.3333333333333333,
              "#9c179e"
             ],
             [
              0.4444444444444444,
              "#bd3786"
             ],
             [
              0.5555555555555556,
              "#d8576b"
             ],
             [
              0.6666666666666666,
              "#ed7953"
             ],
             [
              0.7777777777777778,
              "#fb9f3a"
             ],
             [
              0.8888888888888888,
              "#fdca26"
             ],
             [
              1,
              "#f0f921"
             ]
            ],
            "type": "histogram2d"
           }
          ],
          "histogram2dcontour": [
           {
            "colorbar": {
             "outlinewidth": 0,
             "ticks": ""
            },
            "colorscale": [
             [
              0,
              "#0d0887"
             ],
             [
              0.1111111111111111,
              "#46039f"
             ],
             [
              0.2222222222222222,
              "#7201a8"
             ],
             [
              0.3333333333333333,
              "#9c179e"
             ],
             [
              0.4444444444444444,
              "#bd3786"
             ],
             [
              0.5555555555555556,
              "#d8576b"
             ],
             [
              0.6666666666666666,
              "#ed7953"
             ],
             [
              0.7777777777777778,
              "#fb9f3a"
             ],
             [
              0.8888888888888888,
              "#fdca26"
             ],
             [
              1,
              "#f0f921"
             ]
            ],
            "type": "histogram2dcontour"
           }
          ],
          "mesh3d": [
           {
            "colorbar": {
             "outlinewidth": 0,
             "ticks": ""
            },
            "type": "mesh3d"
           }
          ],
          "parcoords": [
           {
            "line": {
             "colorbar": {
              "outlinewidth": 0,
              "ticks": ""
             }
            },
            "type": "parcoords"
           }
          ],
          "pie": [
           {
            "automargin": true,
            "type": "pie"
           }
          ],
          "scatter": [
           {
            "marker": {
             "colorbar": {
              "outlinewidth": 0,
              "ticks": ""
             }
            },
            "type": "scatter"
           }
          ],
          "scatter3d": [
           {
            "line": {
             "colorbar": {
              "outlinewidth": 0,
              "ticks": ""
             }
            },
            "marker": {
             "colorbar": {
              "outlinewidth": 0,
              "ticks": ""
             }
            },
            "type": "scatter3d"
           }
          ],
          "scattercarpet": [
           {
            "marker": {
             "colorbar": {
              "outlinewidth": 0,
              "ticks": ""
             }
            },
            "type": "scattercarpet"
           }
          ],
          "scattergeo": [
           {
            "marker": {
             "colorbar": {
              "outlinewidth": 0,
              "ticks": ""
             }
            },
            "type": "scattergeo"
           }
          ],
          "scattergl": [
           {
            "marker": {
             "colorbar": {
              "outlinewidth": 0,
              "ticks": ""
             }
            },
            "type": "scattergl"
           }
          ],
          "scattermapbox": [
           {
            "marker": {
             "colorbar": {
              "outlinewidth": 0,
              "ticks": ""
             }
            },
            "type": "scattermapbox"
           }
          ],
          "scatterpolar": [
           {
            "marker": {
             "colorbar": {
              "outlinewidth": 0,
              "ticks": ""
             }
            },
            "type": "scatterpolar"
           }
          ],
          "scatterpolargl": [
           {
            "marker": {
             "colorbar": {
              "outlinewidth": 0,
              "ticks": ""
             }
            },
            "type": "scatterpolargl"
           }
          ],
          "scatterternary": [
           {
            "marker": {
             "colorbar": {
              "outlinewidth": 0,
              "ticks": ""
             }
            },
            "type": "scatterternary"
           }
          ],
          "surface": [
           {
            "colorbar": {
             "outlinewidth": 0,
             "ticks": ""
            },
            "colorscale": [
             [
              0,
              "#0d0887"
             ],
             [
              0.1111111111111111,
              "#46039f"
             ],
             [
              0.2222222222222222,
              "#7201a8"
             ],
             [
              0.3333333333333333,
              "#9c179e"
             ],
             [
              0.4444444444444444,
              "#bd3786"
             ],
             [
              0.5555555555555556,
              "#d8576b"
             ],
             [
              0.6666666666666666,
              "#ed7953"
             ],
             [
              0.7777777777777778,
              "#fb9f3a"
             ],
             [
              0.8888888888888888,
              "#fdca26"
             ],
             [
              1,
              "#f0f921"
             ]
            ],
            "type": "surface"
           }
          ],
          "table": [
           {
            "cells": {
             "fill": {
              "color": "#EBF0F8"
             },
             "line": {
              "color": "white"
             }
            },
            "header": {
             "fill": {
              "color": "#C8D4E3"
             },
             "line": {
              "color": "white"
             }
            },
            "type": "table"
           }
          ]
         },
         "layout": {
          "annotationdefaults": {
           "arrowcolor": "#2a3f5f",
           "arrowhead": 0,
           "arrowwidth": 1
          },
          "autotypenumbers": "strict",
          "coloraxis": {
           "colorbar": {
            "outlinewidth": 0,
            "ticks": ""
           }
          },
          "colorscale": {
           "diverging": [
            [
             0,
             "#8e0152"
            ],
            [
             0.1,
             "#c51b7d"
            ],
            [
             0.2,
             "#de77ae"
            ],
            [
             0.3,
             "#f1b6da"
            ],
            [
             0.4,
             "#fde0ef"
            ],
            [
             0.5,
             "#f7f7f7"
            ],
            [
             0.6,
             "#e6f5d0"
            ],
            [
             0.7,
             "#b8e186"
            ],
            [
             0.8,
             "#7fbc41"
            ],
            [
             0.9,
             "#4d9221"
            ],
            [
             1,
             "#276419"
            ]
           ],
           "sequential": [
            [
             0,
             "#0d0887"
            ],
            [
             0.1111111111111111,
             "#46039f"
            ],
            [
             0.2222222222222222,
             "#7201a8"
            ],
            [
             0.3333333333333333,
             "#9c179e"
            ],
            [
             0.4444444444444444,
             "#bd3786"
            ],
            [
             0.5555555555555556,
             "#d8576b"
            ],
            [
             0.6666666666666666,
             "#ed7953"
            ],
            [
             0.7777777777777778,
             "#fb9f3a"
            ],
            [
             0.8888888888888888,
             "#fdca26"
            ],
            [
             1,
             "#f0f921"
            ]
           ],
           "sequentialminus": [
            [
             0,
             "#0d0887"
            ],
            [
             0.1111111111111111,
             "#46039f"
            ],
            [
             0.2222222222222222,
             "#7201a8"
            ],
            [
             0.3333333333333333,
             "#9c179e"
            ],
            [
             0.4444444444444444,
             "#bd3786"
            ],
            [
             0.5555555555555556,
             "#d8576b"
            ],
            [
             0.6666666666666666,
             "#ed7953"
            ],
            [
             0.7777777777777778,
             "#fb9f3a"
            ],
            [
             0.8888888888888888,
             "#fdca26"
            ],
            [
             1,
             "#f0f921"
            ]
           ]
          },
          "colorway": [
           "#636efa",
           "#EF553B",
           "#00cc96",
           "#ab63fa",
           "#FFA15A",
           "#19d3f3",
           "#FF6692",
           "#B6E880",
           "#FF97FF",
           "#FECB52"
          ],
          "font": {
           "color": "#2a3f5f"
          },
          "geo": {
           "bgcolor": "white",
           "lakecolor": "white",
           "landcolor": "#E5ECF6",
           "showlakes": true,
           "showland": true,
           "subunitcolor": "white"
          },
          "hoverlabel": {
           "align": "left"
          },
          "hovermode": "closest",
          "mapbox": {
           "style": "light"
          },
          "paper_bgcolor": "white",
          "plot_bgcolor": "#E5ECF6",
          "polar": {
           "angularaxis": {
            "gridcolor": "white",
            "linecolor": "white",
            "ticks": ""
           },
           "bgcolor": "#E5ECF6",
           "radialaxis": {
            "gridcolor": "white",
            "linecolor": "white",
            "ticks": ""
           }
          },
          "scene": {
           "xaxis": {
            "backgroundcolor": "#E5ECF6",
            "gridcolor": "white",
            "gridwidth": 2,
            "linecolor": "white",
            "showbackground": true,
            "ticks": "",
            "zerolinecolor": "white"
           },
           "yaxis": {
            "backgroundcolor": "#E5ECF6",
            "gridcolor": "white",
            "gridwidth": 2,
            "linecolor": "white",
            "showbackground": true,
            "ticks": "",
            "zerolinecolor": "white"
           },
           "zaxis": {
            "backgroundcolor": "#E5ECF6",
            "gridcolor": "white",
            "gridwidth": 2,
            "linecolor": "white",
            "showbackground": true,
            "ticks": "",
            "zerolinecolor": "white"
           }
          },
          "shapedefaults": {
           "line": {
            "color": "#2a3f5f"
           }
          },
          "ternary": {
           "aaxis": {
            "gridcolor": "white",
            "linecolor": "white",
            "ticks": ""
           },
           "baxis": {
            "gridcolor": "white",
            "linecolor": "white",
            "ticks": ""
           },
           "bgcolor": "#E5ECF6",
           "caxis": {
            "gridcolor": "white",
            "linecolor": "white",
            "ticks": ""
           }
          },
          "title": {
           "x": 0.05
          },
          "xaxis": {
           "automargin": true,
           "gridcolor": "white",
           "linecolor": "white",
           "ticks": "",
           "title": {
            "standoff": 15
           },
           "zerolinecolor": "white",
           "zerolinewidth": 2
          },
          "yaxis": {
           "automargin": true,
           "gridcolor": "white",
           "linecolor": "white",
           "ticks": "",
           "title": {
            "standoff": 15
           },
           "zerolinecolor": "white",
           "zerolinewidth": 2
          }
         }
        },
        "width": 800,
        "xaxis": {
         "rangeselector": {
          "buttons": [
           {
            "count": 1,
            "label": "1m",
            "step": "month",
            "stepmode": "backward"
           },
           {
            "count": 6,
            "label": "6m",
            "step": "month",
            "stepmode": "backward"
           },
           {
            "count": 1,
            "label": "YTD",
            "step": "year",
            "stepmode": "todate"
           },
           {
            "count": 1,
            "label": "1y",
            "step": "year",
            "stepmode": "backward"
           },
           {
            "step": "all"
           }
          ]
         },
         "rangeslider": {
          "visible": true
         }
        }
       }
      },
      "text/html": [
       "<div>                            <div id=\"2c257256-5053-4b14-bd68-0f69e6198ae1\" class=\"plotly-graph-div\" style=\"height:600px; width:800px;\"></div>            <script type=\"text/javascript\">                require([\"plotly\"], function(Plotly) {                    window.PLOTLYENV=window.PLOTLYENV || {};                                    if (document.getElementById(\"2c257256-5053-4b14-bd68-0f69e6198ae1\")) {                    Plotly.newPlot(                        \"2c257256-5053-4b14-bd68-0f69e6198ae1\",                        [{\"name\":\"\",\"showlegend\":false,\"x\":[\"2015-01-05T00:00:00\",\"2015-01-12T00:00:00\",\"2015-01-19T00:00:00\",\"2015-01-26T00:00:00\",\"2015-02-02T00:00:00\",\"2015-02-09T00:00:00\",\"2015-02-16T00:00:00\",\"2015-02-23T00:00:00\",\"2015-03-02T00:00:00\",\"2015-03-09T00:00:00\",\"2015-03-16T00:00:00\",\"2015-03-23T00:00:00\",\"2015-03-30T00:00:00\",\"2015-04-06T00:00:00\",\"2015-04-13T00:00:00\",\"2015-04-20T00:00:00\",\"2015-04-27T00:00:00\",\"2015-05-04T00:00:00\",\"2015-05-11T00:00:00\",\"2015-05-18T00:00:00\",\"2015-05-25T00:00:00\",\"2015-06-01T00:00:00\",\"2015-06-08T00:00:00\",\"2015-06-15T00:00:00\",\"2015-06-22T00:00:00\",\"2015-06-29T00:00:00\",\"2015-07-06T00:00:00\",\"2015-07-13T00:00:00\",\"2015-07-20T00:00:00\",\"2015-07-27T00:00:00\",\"2015-08-03T00:00:00\",\"2015-08-10T00:00:00\",\"2015-08-17T00:00:00\",\"2015-08-24T00:00:00\",\"2015-08-31T00:00:00\",\"2015-09-07T00:00:00\",\"2015-09-14T00:00:00\",\"2015-09-21T00:00:00\",\"2015-09-28T00:00:00\",\"2015-10-05T00:00:00\",\"2015-10-12T00:00:00\",\"2015-10-19T00:00:00\",\"2015-10-26T00:00:00\",\"2015-11-02T00:00:00\",\"2015-11-09T00:00:00\",\"2015-11-16T00:00:00\",\"2015-11-23T00:00:00\",\"2015-11-30T00:00:00\",\"2015-12-07T00:00:00\",\"2015-12-14T00:00:00\",\"2015-12-21T00:00:00\",\"2015-12-28T00:00:00\",\"2016-01-04T00:00:00\",\"2016-01-11T00:00:00\",\"2016-01-18T00:00:00\",\"2016-01-25T00:00:00\",\"2016-02-01T00:00:00\",\"2016-02-08T00:00:00\",\"2016-02-15T00:00:00\",\"2016-02-22T00:00:00\",\"2016-02-29T00:00:00\",\"2016-03-07T00:00:00\",\"2016-03-14T00:00:00\",\"2016-03-21T00:00:00\",\"2016-03-28T00:00:00\",\"2016-04-04T00:00:00\",\"2016-04-11T00:00:00\",\"2016-04-18T00:00:00\",\"2016-04-25T00:00:00\",\"2016-05-02T00:00:00\",\"2016-05-09T00:00:00\",\"2016-05-16T00:00:00\",\"2016-05-23T00:00:00\",\"2016-05-30T00:00:00\",\"2016-06-06T00:00:00\",\"2016-06-13T00:00:00\",\"2016-06-20T00:00:00\",\"2016-06-27T00:00:00\",\"2016-07-04T00:00:00\",\"2016-07-11T00:00:00\",\"2016-07-18T00:00:00\",\"2016-07-25T00:00:00\",\"2016-08-01T00:00:00\",\"2016-08-08T00:00:00\",\"2016-08-15T00:00:00\",\"2016-08-22T00:00:00\",\"2016-08-29T00:00:00\",\"2016-09-05T00:00:00\",\"2016-09-12T00:00:00\",\"2016-09-19T00:00:00\",\"2016-09-26T00:00:00\",\"2016-10-03T00:00:00\",\"2016-10-10T00:00:00\",\"2016-10-17T00:00:00\",\"2016-10-24T00:00:00\",\"2016-10-31T00:00:00\",\"2016-11-07T00:00:00\",\"2016-11-14T00:00:00\",\"2016-11-21T00:00:00\",\"2016-11-28T00:00:00\",\"2016-12-05T00:00:00\",\"2016-12-12T00:00:00\",\"2016-12-19T00:00:00\",\"2016-12-26T00:00:00\",\"2017-01-02T00:00:00\",\"2017-01-09T00:00:00\",\"2017-01-16T00:00:00\",\"2017-01-23T00:00:00\",\"2017-01-30T00:00:00\",\"2017-02-06T00:00:00\",\"2017-02-13T00:00:00\",\"2017-02-20T00:00:00\",\"2017-02-27T00:00:00\",\"2017-03-06T00:00:00\",\"2017-03-13T00:00:00\",\"2017-03-20T00:00:00\",\"2017-03-27T00:00:00\",\"2017-04-03T00:00:00\",\"2017-04-10T00:00:00\",\"2017-04-17T00:00:00\",\"2017-04-24T00:00:00\",\"2017-05-01T00:00:00\",\"2017-05-08T00:00:00\",\"2017-05-15T00:00:00\",\"2017-05-22T00:00:00\",\"2017-05-29T00:00:00\",\"2017-06-05T00:00:00\",\"2017-06-12T00:00:00\",\"2017-06-19T00:00:00\",\"2017-06-26T00:00:00\",\"2017-07-03T00:00:00\",\"2017-07-10T00:00:00\",\"2017-07-17T00:00:00\",\"2017-07-24T00:00:00\",\"2017-07-31T00:00:00\",\"2017-08-07T00:00:00\",\"2017-08-14T00:00:00\",\"2017-08-21T00:00:00\",\"2017-08-28T00:00:00\",\"2017-09-04T00:00:00\",\"2017-09-11T00:00:00\",\"2017-09-18T00:00:00\",\"2017-09-25T00:00:00\",\"2017-10-02T00:00:00\",\"2017-10-09T00:00:00\",\"2017-10-16T00:00:00\",\"2017-10-23T00:00:00\",\"2017-10-30T00:00:00\",\"2017-11-06T00:00:00\",\"2017-11-13T00:00:00\",\"2017-11-20T00:00:00\",\"2017-11-27T00:00:00\",\"2017-12-04T00:00:00\",\"2017-12-11T00:00:00\",\"2017-12-18T00:00:00\",\"2017-12-25T00:00:00\",\"2018-01-01T00:00:00\",\"2018-01-08T00:00:00\",\"2018-01-15T00:00:00\",\"2018-01-22T00:00:00\",\"2018-01-29T00:00:00\",\"2018-02-05T00:00:00\",\"2018-02-12T00:00:00\",\"2018-02-19T00:00:00\",\"2018-02-26T00:00:00\",\"2018-03-05T00:00:00\",\"2018-03-12T00:00:00\",\"2018-03-19T00:00:00\",\"2018-03-26T00:00:00\",\"2018-04-02T00:00:00\",\"2018-04-09T00:00:00\",\"2018-04-16T00:00:00\",\"2018-04-23T00:00:00\",\"2018-04-30T00:00:00\",\"2018-05-07T00:00:00\",\"2018-05-14T00:00:00\",\"2018-05-21T00:00:00\",\"2018-05-28T00:00:00\",\"2018-06-04T00:00:00\",\"2018-06-11T00:00:00\",\"2018-06-18T00:00:00\",\"2018-06-25T00:00:00\",\"2018-07-02T00:00:00\",\"2018-07-09T00:00:00\",\"2018-07-16T00:00:00\",\"2018-07-23T00:00:00\",\"2018-07-30T00:00:00\",\"2018-08-06T00:00:00\",\"2018-08-13T00:00:00\",\"2018-08-20T00:00:00\",\"2018-08-27T00:00:00\",\"2018-09-03T00:00:00\",\"2018-09-10T00:00:00\",\"2018-09-17T00:00:00\",\"2018-09-24T00:00:00\",\"2018-10-01T00:00:00\",\"2018-10-08T00:00:00\",\"2018-10-15T00:00:00\",\"2018-10-22T00:00:00\",\"2018-10-29T00:00:00\",\"2018-11-05T00:00:00\",\"2018-11-12T00:00:00\",\"2018-11-19T00:00:00\",\"2018-11-26T00:00:00\",\"2018-12-03T00:00:00\",\"2018-12-10T00:00:00\",\"2018-12-17T00:00:00\",\"2018-12-24T00:00:00\",\"2018-12-31T00:00:00\",\"2019-01-07T00:00:00\",\"2019-01-14T00:00:00\",\"2019-01-21T00:00:00\",\"2019-01-28T00:00:00\",\"2019-02-04T00:00:00\",\"2019-02-11T00:00:00\",\"2019-02-18T00:00:00\",\"2019-02-25T00:00:00\",\"2019-03-04T00:00:00\",\"2019-03-11T00:00:00\",\"2019-03-18T00:00:00\",\"2019-03-25T00:00:00\",\"2019-04-01T00:00:00\",\"2019-04-08T00:00:00\",\"2019-04-15T00:00:00\",\"2019-04-22T00:00:00\",\"2019-04-29T00:00:00\",\"2019-05-06T00:00:00\",\"2019-05-13T00:00:00\",\"2019-05-20T00:00:00\",\"2019-05-27T00:00:00\",\"2019-06-03T00:00:00\",\"2019-06-10T00:00:00\",\"2019-06-17T00:00:00\",\"2019-06-24T00:00:00\",\"2019-07-01T00:00:00\",\"2019-07-08T00:00:00\",\"2019-07-15T00:00:00\",\"2019-07-22T00:00:00\",\"2019-07-29T00:00:00\",\"2019-08-05T00:00:00\",\"2019-08-12T00:00:00\",\"2019-08-19T00:00:00\",\"2019-08-26T00:00:00\",\"2019-09-02T00:00:00\",\"2019-09-09T00:00:00\",\"2019-09-16T00:00:00\",\"2019-09-23T00:00:00\",\"2019-09-30T00:00:00\",\"2019-10-07T00:00:00\",\"2019-10-14T00:00:00\",\"2019-10-21T00:00:00\",\"2019-10-28T00:00:00\",\"2019-11-04T00:00:00\",\"2019-11-11T00:00:00\",\"2019-11-18T00:00:00\",\"2019-11-25T00:00:00\",\"2019-12-02T00:00:00\",\"2019-12-09T00:00:00\",\"2019-12-16T00:00:00\",\"2019-12-23T00:00:00\",\"2019-12-30T00:00:00\",\"2020-01-06T00:00:00\",\"2020-01-13T00:00:00\",\"2020-01-20T00:00:00\",\"2020-01-27T00:00:00\",\"2020-02-03T00:00:00\",\"2020-02-10T00:00:00\",\"2020-02-17T00:00:00\",\"2020-02-24T00:00:00\",\"2020-03-02T00:00:00\",\"2020-03-09T00:00:00\",\"2020-03-16T00:00:00\",\"2020-03-23T00:00:00\",\"2020-03-30T00:00:00\",\"2020-04-06T00:00:00\",\"2020-04-13T00:00:00\",\"2020-04-20T00:00:00\"],\"y\":[85,320,335,447,346,316,351,259,400,312,348,436,345,334,374,384,350,90,218,234,363,203,114,286,513,300,15,44,463,470,537,501,404,380,404,418,462,644,941,592,516,582,553,529,821,779,333,1201,1565,1441,637,244,144,5,11,7,13,7,163,399,161,7,10,9,27,13,11,63,699,463,482,460,426,506,92,17,5,4,205,324,428,435,380,292,287,369,403,452,387,484,538,430,14,8,6,11,30,22,20,13,422,628,522,274,156,7,12,15,23,197,59,278,184,251,424,519,446,733,440,338,580,506,433,409,375,446,1907,781,434,447,462,427,475,439,425,346,447,357,357,478,665,679,630,397,518,526,459,502,545,625,657,330,407,504,496,306,221,481,494,585,710,598,541,412,538,495,587,572,643,381,463,583,740,558,500,467,548,457,481,569,430,475,424,369,451,535,476,617,521,487,524,566,615,926,605,687,628,1131,848,774,625,605,695,838,1240,1112,940,529,319,303,412,472,595,556,798,624,682,682,533,716,632,829,610,629,493,546,827,889,828,665,641,846,751,830,793,463,654,455,531,550,564,618,678,631,866,893,1538,1256,742,828,815,780,766,875,872,868,851,1076,1048,651,266,517,764,941,912,772,939,814,628,521,490,375,224,186,231,149,110],\"type\":\"scatter\"},{\"hoverinfo\":\"text\",\"marker\":{\"color\":\"#2f669c\",\"size\":10},\"mode\":\"markers\",\"name\":\"Governmental Events\",\"showlegend\":true,\"text\":[\"COP 21\",\"COP 22\",\"COP 23\",\"COP 24\",\"COP 25\",\"G20 2016\",\"G20 2017\",\"G20 2018\",\"G20 2019\"],\"x\":[\"2015-12-07T00:00:00\",\"2016-11-07T00:00:00\",\"2017-11-13T00:00:00\",\"2018-12-03T00:00:00\",\"2019-12-09T00:00:00\",\"2016-09-05T00:00:00\",\"2017-07-10T00:00:00\",\"2018-12-03T00:00:00\",\"2019-07-01T00:00:00\"],\"y\":[1565,30,625,1240,1076,452,427,1240,793],\"type\":\"scatter\"},{\"hoverinfo\":\"text\",\"marker\":{\"color\":\"#9c342f\",\"size\":10},\"mode\":\"markers\",\"name\":\"Politics\",\"showlegend\":true,\"text\":[\"Primary elections 2016\",\"Presidential elections 2016\",\"Primary elections 2020\",\"USA withdrawal from Paris Agreements\",\"Hurricanes in the USA and EU\"],\"x\":[\"2016-05-30T00:00:00\",\"2016-11-14T00:00:00\",\"2020-03-02T00:00:00\",\"2017-06-05T00:00:00\",\"2018-10-15T00:00:00\"],\"y\":[506,22,521,1907,1131],\"type\":\"scatter\"},{\"hoverinfo\":\"text\",\"marker\":{\"color\":\"#2f9c3d\",\"size\":10},\"mode\":\"markers\",\"name\":\"Climate Catastrophe\",\"showlegend\":true,\"text\":[\"Australia fires\",\"Amazonia fires\",\"Hottest December Month Record\"],\"x\":[\"2020-01-20T00:00:00\",\"2019-09-23T00:00:00\",\"2016-12-12T00:00:00\"],\"y\":[941,1538,628],\"type\":\"scatter\"}],                        {\"template\":{\"data\":{\"bar\":[{\"error_x\":{\"color\":\"#2a3f5f\"},\"error_y\":{\"color\":\"#2a3f5f\"},\"marker\":{\"line\":{\"color\":\"#E5ECF6\",\"width\":0.5},\"pattern\":{\"fillmode\":\"overlay\",\"size\":10,\"solidity\":0.2}},\"type\":\"bar\"}],\"barpolar\":[{\"marker\":{\"line\":{\"color\":\"#E5ECF6\",\"width\":0.5},\"pattern\":{\"fillmode\":\"overlay\",\"size\":10,\"solidity\":0.2}},\"type\":\"barpolar\"}],\"carpet\":[{\"aaxis\":{\"endlinecolor\":\"#2a3f5f\",\"gridcolor\":\"white\",\"linecolor\":\"white\",\"minorgridcolor\":\"white\",\"startlinecolor\":\"#2a3f5f\"},\"baxis\":{\"endlinecolor\":\"#2a3f5f\",\"gridcolor\":\"white\",\"linecolor\":\"white\",\"minorgridcolor\":\"white\",\"startlinecolor\":\"#2a3f5f\"},\"type\":\"carpet\"}],\"choropleth\":[{\"colorbar\":{\"outlinewidth\":0,\"ticks\":\"\"},\"type\":\"choropleth\"}],\"contour\":[{\"colorbar\":{\"outlinewidth\":0,\"ticks\":\"\"},\"colorscale\":[[0.0,\"#0d0887\"],[0.1111111111111111,\"#46039f\"],[0.2222222222222222,\"#7201a8\"],[0.3333333333333333,\"#9c179e\"],[0.4444444444444444,\"#bd3786\"],[0.5555555555555556,\"#d8576b\"],[0.6666666666666666,\"#ed7953\"],[0.7777777777777778,\"#fb9f3a\"],[0.8888888888888888,\"#fdca26\"],[1.0,\"#f0f921\"]],\"type\":\"contour\"}],\"contourcarpet\":[{\"colorbar\":{\"outlinewidth\":0,\"ticks\":\"\"},\"type\":\"contourcarpet\"}],\"heatmap\":[{\"colorbar\":{\"outlinewidth\":0,\"ticks\":\"\"},\"colorscale\":[[0.0,\"#0d0887\"],[0.1111111111111111,\"#46039f\"],[0.2222222222222222,\"#7201a8\"],[0.3333333333333333,\"#9c179e\"],[0.4444444444444444,\"#bd3786\"],[0.5555555555555556,\"#d8576b\"],[0.6666666666666666,\"#ed7953\"],[0.7777777777777778,\"#fb9f3a\"],[0.8888888888888888,\"#fdca26\"],[1.0,\"#f0f921\"]],\"type\":\"heatmap\"}],\"heatmapgl\":[{\"colorbar\":{\"outlinewidth\":0,\"ticks\":\"\"},\"colorscale\":[[0.0,\"#0d0887\"],[0.1111111111111111,\"#46039f\"],[0.2222222222222222,\"#7201a8\"],[0.3333333333333333,\"#9c179e\"],[0.4444444444444444,\"#bd3786\"],[0.5555555555555556,\"#d8576b\"],[0.6666666666666666,\"#ed7953\"],[0.7777777777777778,\"#fb9f3a\"],[0.8888888888888888,\"#fdca26\"],[1.0,\"#f0f921\"]],\"type\":\"heatmapgl\"}],\"histogram\":[{\"marker\":{\"pattern\":{\"fillmode\":\"overlay\",\"size\":10,\"solidity\":0.2}},\"type\":\"histogram\"}],\"histogram2d\":[{\"colorbar\":{\"outlinewidth\":0,\"ticks\":\"\"},\"colorscale\":[[0.0,\"#0d0887\"],[0.1111111111111111,\"#46039f\"],[0.2222222222222222,\"#7201a8\"],[0.3333333333333333,\"#9c179e\"],[0.4444444444444444,\"#bd3786\"],[0.5555555555555556,\"#d8576b\"],[0.6666666666666666,\"#ed7953\"],[0.7777777777777778,\"#fb9f3a\"],[0.8888888888888888,\"#fdca26\"],[1.0,\"#f0f921\"]],\"type\":\"histogram2d\"}],\"histogram2dcontour\":[{\"colorbar\":{\"outlinewidth\":0,\"ticks\":\"\"},\"colorscale\":[[0.0,\"#0d0887\"],[0.1111111111111111,\"#46039f\"],[0.2222222222222222,\"#7201a8\"],[0.3333333333333333,\"#9c179e\"],[0.4444444444444444,\"#bd3786\"],[0.5555555555555556,\"#d8576b\"],[0.6666666666666666,\"#ed7953\"],[0.7777777777777778,\"#fb9f3a\"],[0.8888888888888888,\"#fdca26\"],[1.0,\"#f0f921\"]],\"type\":\"histogram2dcontour\"}],\"mesh3d\":[{\"colorbar\":{\"outlinewidth\":0,\"ticks\":\"\"},\"type\":\"mesh3d\"}],\"parcoords\":[{\"line\":{\"colorbar\":{\"outlinewidth\":0,\"ticks\":\"\"}},\"type\":\"parcoords\"}],\"pie\":[{\"automargin\":true,\"type\":\"pie\"}],\"scatter\":[{\"marker\":{\"colorbar\":{\"outlinewidth\":0,\"ticks\":\"\"}},\"type\":\"scatter\"}],\"scatter3d\":[{\"line\":{\"colorbar\":{\"outlinewidth\":0,\"ticks\":\"\"}},\"marker\":{\"colorbar\":{\"outlinewidth\":0,\"ticks\":\"\"}},\"type\":\"scatter3d\"}],\"scattercarpet\":[{\"marker\":{\"colorbar\":{\"outlinewidth\":0,\"ticks\":\"\"}},\"type\":\"scattercarpet\"}],\"scattergeo\":[{\"marker\":{\"colorbar\":{\"outlinewidth\":0,\"ticks\":\"\"}},\"type\":\"scattergeo\"}],\"scattergl\":[{\"marker\":{\"colorbar\":{\"outlinewidth\":0,\"ticks\":\"\"}},\"type\":\"scattergl\"}],\"scattermapbox\":[{\"marker\":{\"colorbar\":{\"outlinewidth\":0,\"ticks\":\"\"}},\"type\":\"scattermapbox\"}],\"scatterpolar\":[{\"marker\":{\"colorbar\":{\"outlinewidth\":0,\"ticks\":\"\"}},\"type\":\"scatterpolar\"}],\"scatterpolargl\":[{\"marker\":{\"colorbar\":{\"outlinewidth\":0,\"ticks\":\"\"}},\"type\":\"scatterpolargl\"}],\"scatterternary\":[{\"marker\":{\"colorbar\":{\"outlinewidth\":0,\"ticks\":\"\"}},\"type\":\"scatterternary\"}],\"surface\":[{\"colorbar\":{\"outlinewidth\":0,\"ticks\":\"\"},\"colorscale\":[[0.0,\"#0d0887\"],[0.1111111111111111,\"#46039f\"],[0.2222222222222222,\"#7201a8\"],[0.3333333333333333,\"#9c179e\"],[0.4444444444444444,\"#bd3786\"],[0.5555555555555556,\"#d8576b\"],[0.6666666666666666,\"#ed7953\"],[0.7777777777777778,\"#fb9f3a\"],[0.8888888888888888,\"#fdca26\"],[1.0,\"#f0f921\"]],\"type\":\"surface\"}],\"table\":[{\"cells\":{\"fill\":{\"color\":\"#EBF0F8\"},\"line\":{\"color\":\"white\"}},\"header\":{\"fill\":{\"color\":\"#C8D4E3\"},\"line\":{\"color\":\"white\"}},\"type\":\"table\"}]},\"layout\":{\"annotationdefaults\":{\"arrowcolor\":\"#2a3f5f\",\"arrowhead\":0,\"arrowwidth\":1},\"autotypenumbers\":\"strict\",\"coloraxis\":{\"colorbar\":{\"outlinewidth\":0,\"ticks\":\"\"}},\"colorscale\":{\"diverging\":[[0,\"#8e0152\"],[0.1,\"#c51b7d\"],[0.2,\"#de77ae\"],[0.3,\"#f1b6da\"],[0.4,\"#fde0ef\"],[0.5,\"#f7f7f7\"],[0.6,\"#e6f5d0\"],[0.7,\"#b8e186\"],[0.8,\"#7fbc41\"],[0.9,\"#4d9221\"],[1,\"#276419\"]],\"sequential\":[[0.0,\"#0d0887\"],[0.1111111111111111,\"#46039f\"],[0.2222222222222222,\"#7201a8\"],[0.3333333333333333,\"#9c179e\"],[0.4444444444444444,\"#bd3786\"],[0.5555555555555556,\"#d8576b\"],[0.6666666666666666,\"#ed7953\"],[0.7777777777777778,\"#fb9f3a\"],[0.8888888888888888,\"#fdca26\"],[1.0,\"#f0f921\"]],\"sequentialminus\":[[0.0,\"#0d0887\"],[0.1111111111111111,\"#46039f\"],[0.2222222222222222,\"#7201a8\"],[0.3333333333333333,\"#9c179e\"],[0.4444444444444444,\"#bd3786\"],[0.5555555555555556,\"#d8576b\"],[0.6666666666666666,\"#ed7953\"],[0.7777777777777778,\"#fb9f3a\"],[0.8888888888888888,\"#fdca26\"],[1.0,\"#f0f921\"]]},\"colorway\":[\"#636efa\",\"#EF553B\",\"#00cc96\",\"#ab63fa\",\"#FFA15A\",\"#19d3f3\",\"#FF6692\",\"#B6E880\",\"#FF97FF\",\"#FECB52\"],\"font\":{\"color\":\"#2a3f5f\"},\"geo\":{\"bgcolor\":\"white\",\"lakecolor\":\"white\",\"landcolor\":\"#E5ECF6\",\"showlakes\":true,\"showland\":true,\"subunitcolor\":\"white\"},\"hoverlabel\":{\"align\":\"left\"},\"hovermode\":\"closest\",\"mapbox\":{\"style\":\"light\"},\"paper_bgcolor\":\"white\",\"plot_bgcolor\":\"#E5ECF6\",\"polar\":{\"angularaxis\":{\"gridcolor\":\"white\",\"linecolor\":\"white\",\"ticks\":\"\"},\"bgcolor\":\"#E5ECF6\",\"radialaxis\":{\"gridcolor\":\"white\",\"linecolor\":\"white\",\"ticks\":\"\"}},\"scene\":{\"xaxis\":{\"backgroundcolor\":\"#E5ECF6\",\"gridcolor\":\"white\",\"gridwidth\":2,\"linecolor\":\"white\",\"showbackground\":true,\"ticks\":\"\",\"zerolinecolor\":\"white\"},\"yaxis\":{\"backgroundcolor\":\"#E5ECF6\",\"gridcolor\":\"white\",\"gridwidth\":2,\"linecolor\":\"white\",\"showbackground\":true,\"ticks\":\"\",\"zerolinecolor\":\"white\"},\"zaxis\":{\"backgroundcolor\":\"#E5ECF6\",\"gridcolor\":\"white\",\"gridwidth\":2,\"linecolor\":\"white\",\"showbackground\":true,\"ticks\":\"\",\"zerolinecolor\":\"white\"}},\"shapedefaults\":{\"line\":{\"color\":\"#2a3f5f\"}},\"ternary\":{\"aaxis\":{\"gridcolor\":\"white\",\"linecolor\":\"white\",\"ticks\":\"\"},\"baxis\":{\"gridcolor\":\"white\",\"linecolor\":\"white\",\"ticks\":\"\"},\"bgcolor\":\"#E5ECF6\",\"caxis\":{\"gridcolor\":\"white\",\"linecolor\":\"white\",\"ticks\":\"\"}},\"title\":{\"x\":0.05},\"xaxis\":{\"automargin\":true,\"gridcolor\":\"white\",\"linecolor\":\"white\",\"ticks\":\"\",\"title\":{\"standoff\":15},\"zerolinecolor\":\"white\",\"zerolinewidth\":2},\"yaxis\":{\"automargin\":true,\"gridcolor\":\"white\",\"linecolor\":\"white\",\"ticks\":\"\",\"title\":{\"standoff\":15},\"zerolinecolor\":\"white\",\"zerolinewidth\":2}}},\"xaxis\":{\"rangeslider\":{\"visible\":true},\"rangeselector\":{\"buttons\":[{\"count\":1,\"label\":\"1m\",\"step\":\"month\",\"stepmode\":\"backward\"},{\"count\":6,\"label\":\"6m\",\"step\":\"month\",\"stepmode\":\"backward\"},{\"count\":1,\"label\":\"YTD\",\"step\":\"year\",\"stepmode\":\"todate\"},{\"count\":1,\"label\":\"1y\",\"step\":\"year\",\"stepmode\":\"backward\"},{\"step\":\"all\"}]}},\"width\":800,\"height\":600},                        {\"responsive\": true}                    ).then(function(){\n",
       "                            \n",
       "var gd = document.getElementById('2c257256-5053-4b14-bd68-0f69e6198ae1');\n",
       "var x = new MutationObserver(function (mutations, observer) {{\n",
       "        var display = window.getComputedStyle(gd).display;\n",
       "        if (!display || display === 'none') {{\n",
       "            console.log([gd, 'removed!']);\n",
       "            Plotly.purge(gd);\n",
       "            observer.disconnect();\n",
       "        }}\n",
       "}});\n",
       "\n",
       "// Listen for the removal of the full notebook cells\n",
       "var notebookContainer = gd.closest('#notebook-container');\n",
       "if (notebookContainer) {{\n",
       "    x.observe(notebookContainer, {childList: true});\n",
       "}}\n",
       "\n",
       "// Listen for the clearing of the current output cell\n",
       "var outputEl = gd.closest('.output');\n",
       "if (outputEl) {{\n",
       "    x.observe(outputEl, {childList: true});\n",
       "}}\n",
       "\n",
       "                        })                };                });            </script>        </div>"
      ]
     },
     "metadata": {},
     "output_type": "display_data"
    }
   ],
   "source": [
    "import plotly.express as px\n",
    "import plotly.graph_objects as go\n",
    "\n",
    "fig = go.Figure()\n",
    "\n",
    "c_cop = \"#2f669c\"\n",
    "c_pol = \"#9c342f\"\n",
    "c_cli = \"#2f9c3d\"\n",
    "\n",
    "colors=[c_cop, c_pol, c_cli]\n",
    "topics=[\"Governmental Events\", \"Politics\", \"Climate Catastrophe\"]\n",
    "\n",
    "fig.add_trace(go.Scatter(x=df_time.index, y=df_time.val, name=\"\", showlegend=False))\n",
    "for i in range (0,3):\n",
    "    ev_s = ev.loc[ev.Type == i+1]\n",
    "    fig.add_trace(go.Scatter(x=ev_s['date_ann'], y=df_time.loc[ev_s.date_ann].val, \n",
    "                             mode=\"markers\",\n",
    "                             marker=dict(\n",
    "                                 size=10, color=colors[i]),\n",
    "                             name=topics[i], showlegend=True,\n",
    "                            hoverinfo=\"text\",\n",
    "                            text=ev_s['Name']))\n",
    "\n",
    "fig.update_xaxes(rangeslider_visible=True)\n",
    "\n",
    "\"\"\"\n",
    "for r in ev.iterrows():\n",
    "    add_annotation(fig, df_time, r[1]['date_ann'], r[1][\"Name\"], colors[r[1][\"Type\"]-1])\n",
    "\"\"\"\n",
    "fig.update_xaxes(\n",
    "    rangeslider_visible=True,\n",
    "    rangeselector=dict(\n",
    "        buttons=list([\n",
    "            dict(count=1, label=\"1m\", step=\"month\", stepmode=\"backward\"),\n",
    "            dict(count=6, label=\"6m\", step=\"month\", stepmode=\"backward\"),\n",
    "            dict(count=1, label=\"YTD\", step=\"year\", stepmode=\"todate\"),\n",
    "            dict(count=1, label=\"1y\", step=\"year\", stepmode=\"backward\"),\n",
    "            dict(step=\"all\")\n",
    "        ])\n",
    "    )\n",
    ")\n",
    "fig.update_layout(width=800, height=600)\n",
    "fig.show()"
   ]
  },
  {
   "cell_type": "code",
   "execution_count": 161,
   "id": "8c84ca50",
   "metadata": {},
   "outputs": [],
   "source": [
    "fig.write_html('./time_series.html')"
   ]
  },
  {
   "cell_type": "markdown",
   "id": "54153f8a",
   "metadata": {},
   "source": [
    "<a id = semantique_analysis></a>\n",
    "## 3. Semantique Analysis"
   ]
  },
  {
   "cell_type": "markdown",
   "id": "78708af6",
   "metadata": {},
   "source": [
    "<a id = LDA></a>\n",
    "##### 3.1 LDA"
   ]
  },
  {
   "cell_type": "code",
   "execution_count": 179,
   "id": "7302c8f9",
   "metadata": {},
   "outputs": [],
   "source": [
    "np.random.seed(11172613)"
   ]
  },
  {
   "cell_type": "code",
   "execution_count": 180,
   "id": "d6b30ec8",
   "metadata": {},
   "outputs": [
    {
     "data": {
      "text/html": [
       "<div>\n",
       "<style scoped>\n",
       "    .dataframe tbody tr th:only-of-type {\n",
       "        vertical-align: middle;\n",
       "    }\n",
       "\n",
       "    .dataframe tbody tr th {\n",
       "        vertical-align: top;\n",
       "    }\n",
       "\n",
       "    .dataframe thead th {\n",
       "        text-align: right;\n",
       "    }\n",
       "</style>\n",
       "<table border=\"1\" class=\"dataframe\">\n",
       "  <thead>\n",
       "    <tr style=\"text-align: right;\">\n",
       "      <th></th>\n",
       "      <th>quoteID</th>\n",
       "      <th>quotation</th>\n",
       "      <th>speaker</th>\n",
       "      <th>date</th>\n",
       "      <th>numOccurrences</th>\n",
       "    </tr>\n",
       "  </thead>\n",
       "  <tbody>\n",
       "    <tr>\n",
       "      <th>0</th>\n",
       "      <td>2020-01-29-062975</td>\n",
       "      <td>Many make the link today between their experie...</td>\n",
       "      <td>Peter Maurer</td>\n",
       "      <td>2020-01-29 09:04:36</td>\n",
       "      <td>5</td>\n",
       "    </tr>\n",
       "    <tr>\n",
       "      <th>1</th>\n",
       "      <td>2020-02-10-076321</td>\n",
       "      <td>the National Energy and Climate Plans are how ...</td>\n",
       "      <td>Kadri Simson</td>\n",
       "      <td>2020-02-10 05:51:51</td>\n",
       "      <td>1</td>\n",
       "    </tr>\n",
       "    <tr>\n",
       "      <th>2</th>\n",
       "      <td>2020-01-06-069057</td>\n",
       "      <td>This budget also allows us to earmark £ 500,00...</td>\n",
       "      <td>John Whitehead</td>\n",
       "      <td>2020-01-06 11:49:00</td>\n",
       "      <td>1</td>\n",
       "    </tr>\n",
       "    <tr>\n",
       "      <th>3</th>\n",
       "      <td>2020-03-10-005294</td>\n",
       "      <td>As a state, we will pursue every option availa...</td>\n",
       "      <td>Kate Brown</td>\n",
       "      <td>2020-03-10 20:47:28</td>\n",
       "      <td>2</td>\n",
       "    </tr>\n",
       "    <tr>\n",
       "      <th>4</th>\n",
       "      <td>2020-02-11-027545</td>\n",
       "      <td>how will you inspire Americans who have given ...</td>\n",
       "      <td>Amy Klobuchar</td>\n",
       "      <td>2020-02-11 12:29:43</td>\n",
       "      <td>1</td>\n",
       "    </tr>\n",
       "  </tbody>\n",
       "</table>\n",
       "</div>"
      ],
      "text/plain": [
       "             quoteID                                          quotation  \\\n",
       "0  2020-01-29-062975  Many make the link today between their experie...   \n",
       "1  2020-02-10-076321  the National Energy and Climate Plans are how ...   \n",
       "2  2020-01-06-069057  This budget also allows us to earmark £ 500,00...   \n",
       "3  2020-03-10-005294  As a state, we will pursue every option availa...   \n",
       "4  2020-02-11-027545  how will you inspire Americans who have given ...   \n",
       "\n",
       "          speaker                date  numOccurrences  \n",
       "0    Peter Maurer 2020-01-29 09:04:36               5  \n",
       "1    Kadri Simson 2020-02-10 05:51:51               1  \n",
       "2  John Whitehead 2020-01-06 11:49:00               1  \n",
       "3      Kate Brown 2020-03-10 20:47:28               2  \n",
       "4   Amy Klobuchar 2020-02-11 12:29:43               1  "
      ]
     },
     "execution_count": 180,
     "metadata": {},
     "output_type": "execute_result"
    }
   ],
   "source": [
    "# Copying the data for the LDA task\n",
    "df_LDA = data\n",
    "df_LDA.head()"
   ]
  },
  {
   "cell_type": "code",
   "execution_count": 181,
   "id": "4642b217",
   "metadata": {},
   "outputs": [],
   "source": [
    "docs = df_LDA['quotation'].to_numpy()"
   ]
  },
  {
   "cell_type": "code",
   "execution_count": 182,
   "id": "5b2d8f4f",
   "metadata": {},
   "outputs": [],
   "source": [
    "# Tokenize the documents.\n",
    "from nltk.tokenize import RegexpTokenizer\n",
    "\n",
    "# Split the documents into tokens.\n",
    "tokenizer = RegexpTokenizer(r'\\w+')\n",
    "for idx in range(len(docs)):\n",
    "    docs[idx] = docs[idx].lower()  # Convert to lowercase.\n",
    "    docs[idx] = tokenizer.tokenize(docs[idx])  # Split into words.\n",
    "\n",
    "# Remove numbers, but not words that contain numbers.\n",
    "docs = [[token for token in doc if not token.isnumeric()] for doc in docs]\n",
    "\n",
    "# Remove words that are only one character.\n",
    "docs = [[token for token in doc if len(token) > 1] for doc in docs]"
   ]
  },
  {
   "cell_type": "code",
   "execution_count": 183,
   "id": "deb759cc",
   "metadata": {},
   "outputs": [
    {
     "name": "stderr",
     "output_type": "stream",
     "text": [
      "[nltk_data] Downloading package stopwords to\n",
      "[nltk_data]     C:\\Users\\sandy\\AppData\\Roaming\\nltk_data...\n",
      "[nltk_data]   Package stopwords is already up-to-date!\n"
     ]
    }
   ],
   "source": [
    "import nltk\n",
    "nltk.download('stopwords')\n",
    "from nltk.corpus import stopwords\n",
    "\n",
    "stopwords = set(stopwords.words('english'))\n",
    "\n",
    "docs = [[token for token in doc if not token in stopwords ] for doc in docs]"
   ]
  },
  {
   "cell_type": "code",
   "execution_count": 184,
   "id": "7115bc1a",
   "metadata": {},
   "outputs": [
    {
     "name": "stderr",
     "output_type": "stream",
     "text": [
      "[nltk_data] Downloading package wordnet to\n",
      "[nltk_data]     C:\\Users\\sandy\\AppData\\Roaming\\nltk_data...\n",
      "[nltk_data]   Package wordnet is already up-to-date!\n"
     ]
    },
    {
     "data": {
      "text/plain": [
       "True"
      ]
     },
     "execution_count": 184,
     "metadata": {},
     "output_type": "execute_result"
    }
   ],
   "source": [
    "import nltk\n",
    "nltk.download('wordnet')"
   ]
  },
  {
   "cell_type": "code",
   "execution_count": 185,
   "id": "a96dd3a0",
   "metadata": {},
   "outputs": [],
   "source": [
    "# Lemmatize the documents.\n",
    "from nltk.stem.wordnet import WordNetLemmatizer\n",
    "\n",
    "lemmatizer = WordNetLemmatizer()\n",
    "docs = [[lemmatizer.lemmatize(token) for token in doc] for doc in docs]"
   ]
  },
  {
   "cell_type": "code",
   "execution_count": 186,
   "id": "ea94cfa4",
   "metadata": {},
   "outputs": [],
   "source": [
    "# Compute bigrams.\n",
    "from gensim.models import Phrases\n",
    "\n",
    "# Add bigrams and trigrams to docs (only ones that appear 20 times or more).\n",
    "bigram = Phrases(docs, min_count=20)\n",
    "for idx in range(len(docs)):\n",
    "    for token in bigram[docs[idx]]:\n",
    "        if '_' in token:\n",
    "            # Token is a bigram, add to document.\n",
    "            docs[idx].append(token)"
   ]
  },
  {
   "cell_type": "code",
   "execution_count": 187,
   "id": "40e82b6b",
   "metadata": {},
   "outputs": [],
   "source": [
    "# Remove rare and common tokens.\n",
    "from gensim.corpora import Dictionary\n",
    "\n",
    "# Create a dictionary representation of the documents.\n",
    "dictionary = Dictionary(docs)\n",
    "\n",
    "# Filter out words that occur less than 20 documents, or more than 50% of the documents.\n",
    "dictionary.filter_extremes(no_below=20, no_above=1)"
   ]
  },
  {
   "cell_type": "code",
   "execution_count": 188,
   "id": "21ad5b80",
   "metadata": {},
   "outputs": [],
   "source": [
    "# Bag-of-words representation of the documents.\n",
    "corpus = [dictionary.doc2bow(doc) for doc in docs]"
   ]
  },
  {
   "cell_type": "code",
   "execution_count": 189,
   "id": "6f2173a2",
   "metadata": {},
   "outputs": [
    {
     "name": "stdout",
     "output_type": "stream",
     "text": [
      "Number of unique tokens: 8843\n",
      "Number of documents: 135492\n"
     ]
    }
   ],
   "source": [
    "print('Number of unique tokens: %d' % len(dictionary))\n",
    "print('Number of documents: %d' % len(corpus))"
   ]
  },
  {
   "cell_type": "code",
   "execution_count": 190,
   "id": "674f31f9",
   "metadata": {},
   "outputs": [],
   "source": [
    "def compute_coherence_values(dictionary, corpus, texts, limit, start=2, step=3):\n",
    "    \"\"\"\n",
    "    Compute c_v coherence for various number of topics\n",
    "\n",
    "    Parameters:\n",
    "    ----------\n",
    "    dictionary : Gensim dictionary\n",
    "    corpus : Gensim corpus\n",
    "    texts : List of input texts\n",
    "    limit : Max num of topics\n",
    "\n",
    "    Returns:\n",
    "    -------\n",
    "    model_list : List of LDA topic models\n",
    "    coherence_values : Coherence values corresponding to the LDA model with respective number of topics\n",
    "    \"\"\"\n",
    "    coherence_values = []\n",
    "    model_list = []\n",
    "    \n",
    "    chunksize = 2000\n",
    "    passes = 20\n",
    "    iterations = 400\n",
    "    eval_every = 1  # Don't evaluate model perplexity, takes too much time.\n",
    "\n",
    "    # Make a index to word dictionary.\n",
    "    temp = dictionary[0]  # This is only to \"load\" the dictionary.\n",
    "    id2word = dictionary.id2token\n",
    "    \n",
    "    for num_topics in range(start, limit, step):\n",
    "        print(\"Current pass {}\".format(num_topics))\n",
    "        model =  models.ldamodel.LdaModel(\n",
    "            corpus=corpus,\n",
    "            id2word=id2word,\n",
    "            num_topics=num_topics,\n",
    "        )        \n",
    "        model_list.append(model)\n",
    "        coherencemodel = CoherenceModel(model=model, texts=texts, dictionary=dictionary, coherence='c_v')\n",
    "        coherence_values.append(coherencemodel.get_coherence())\n",
    "\n",
    "    return model_list, coherence_values"
   ]
  },
  {
   "cell_type": "code",
   "execution_count": 191,
   "id": "81ad9b79",
   "metadata": {},
   "outputs": [],
   "source": [
    "from gensim import models"
   ]
  },
  {
   "cell_type": "code",
   "execution_count": 192,
   "id": "64009576",
   "metadata": {},
   "outputs": [
    {
     "name": "stdout",
     "output_type": "stream",
     "text": [
      "Current pass 2\n",
      "Current pass 8\n",
      "Current pass 14\n",
      "Current pass 20\n",
      "Current pass 26\n",
      "Current pass 32\n",
      "Current pass 38\n"
     ]
    }
   ],
   "source": [
    "import gensim\n",
    "from gensim.models import CoherenceModel\n",
    "model_list, coherence_values = compute_coherence_values(dictionary=dictionary, corpus=corpus, texts=docs, start=2, limit=40, step=6)"
   ]
  },
  {
   "cell_type": "code",
   "execution_count": 193,
   "id": "c220d0e6",
   "metadata": {},
   "outputs": [
    {
     "data": {
      "image/png": "[encoded data removed]",
      "text/plain": [
       "<Figure size 432x288 with 1 Axes>"
      ]
     },
     "metadata": {
      "needs_background": "light"
     },
     "output_type": "display_data"
    }
   ],
   "source": [
    "# Show graph\n",
    "import matplotlib.pyplot as plt\n",
    "limit=40; start=2; step=6;\n",
    "x = range(start, limit, step)\n",
    "plt.plot(x, coherence_values)\n",
    "plt.xlabel(\"Num Topics\")\n",
    "plt.ylabel(\"Coherence score\")\n",
    "plt.legend((\"coherence_values\"), loc='best')\n",
    "plt.show()"
   ]
  },
  {
   "cell_type": "markdown",
   "id": "2e5c7771",
   "metadata": {},
   "source": [
    "The optimal number of topics is 8."
   ]
  },
  {
   "cell_type": "code",
   "execution_count": 194,
   "id": "953a0205",
   "metadata": {},
   "outputs": [],
   "source": [
    "# Train LDA model.\n",
    "from gensim.models import LdaModel\n",
    "np.random.seed(6080)\n",
    "# Set training parameters.\n",
    "num_topics = 8\n",
    "chunksize = 2000\n",
    "passes = 20\n",
    "iterations = 400\n",
    "eval_every = 1  # Don't evaluate model perplexity, takes too much time.\n",
    "\n",
    "# Make a index to word dictionary.\n",
    "temp = dictionary[0]  # This is only to \"load\" the dictionary.\n",
    "id2word = dictionary.id2token\n",
    "\n",
    "model = LdaModel(\n",
    "    corpus=corpus,\n",
    "    id2word=id2word,\n",
    "    chunksize=chunksize,\n",
    "    alpha='auto',\n",
    "    eta='auto',\n",
    "    iterations=iterations,\n",
    "    num_topics=num_topics,\n",
    "    passes=passes,\n",
    "    eval_every=eval_every\n",
    ")"
   ]
  },
  {
   "cell_type": "code",
   "execution_count": 74,
   "id": "2f45e9b2",
   "metadata": {},
   "outputs": [
    {
     "name": "stdout",
     "output_type": "stream",
     "text": [
      "Average topic coherence: -4.0283.\n"
     ]
    },
    {
     "data": {
      "text/plain": [
       "[([(0.12819447, 'climate'),\n",
       "   (0.11950742, 'change'),\n",
       "   (0.015576311, 'world'),\n",
       "   (0.011802828, 'need'),\n",
       "   (0.01054662, 'u'),\n",
       "   (0.010542016, 'issue'),\n",
       "   (0.010291302, 'country'),\n",
       "   (0.009737601, 'people'),\n",
       "   (0.008827103, 'action'),\n",
       "   (0.008073371, 'make'),\n",
       "   (0.0080207875, 'future'),\n",
       "   (0.00708607, 'way'),\n",
       "   (0.006977066, 'challenge'),\n",
       "   (0.0068982826, 'government'),\n",
       "   (0.006608826, 'important'),\n",
       "   (0.006545409, 'also'),\n",
       "   (0.0063193687, 'state'),\n",
       "   (0.006307283, 'problem'),\n",
       "   (0.0056905206, 'take'),\n",
       "   (0.0056309984, 'real')],\n",
       "  -2.734538788237368),\n",
       " ([(0.059762333, 'emission'),\n",
       "   (0.058870215, 'gas'),\n",
       "   (0.05622275, 'energy'),\n",
       "   (0.052672718, 'greenhouse'),\n",
       "   (0.037744284, 'greenhouse_gas'),\n",
       "   (0.030666545, 'carbon'),\n",
       "   (0.022382168, 'reduce'),\n",
       "   (0.018526727, 'clean'),\n",
       "   (0.013380813, 'power'),\n",
       "   (0.011896119, 'pollution'),\n",
       "   (0.01132421, 'co2'),\n",
       "   (0.011080572, 'cost'),\n",
       "   (0.010825422, 'renewable'),\n",
       "   (0.010813813, 'reducing'),\n",
       "   (0.010725808, 'reduction'),\n",
       "   (0.010070516, 'percent'),\n",
       "   (0.009858125, 'gas_emission'),\n",
       "   (0.009729304, 'air'),\n",
       "   (0.009310858, 'coal'),\n",
       "   (0.00889087, 'target')],\n",
       "  -2.850785083732279),\n",
       " ([(0.019871062, 'year'),\n",
       "   (0.0153003605, 'would'),\n",
       "   (0.015257507, 'going'),\n",
       "   (0.015087106, 'like'),\n",
       "   (0.013942019, 'think'),\n",
       "   (0.011412506, 'know'),\n",
       "   (0.0109696025, 'time'),\n",
       "   (0.010726352, 'one'),\n",
       "   (0.00992607, 'science'),\n",
       "   (0.009652274, 'say'),\n",
       "   (0.00924369, 'see'),\n",
       "   (0.009164798, 'even'),\n",
       "   (0.009041319, 'much'),\n",
       "   (0.008802825, 'thing'),\n",
       "   (0.008758843, 'could'),\n",
       "   (0.008469527, 'get'),\n",
       "   (0.008175596, 'term'),\n",
       "   (0.0076322504, 'people'),\n",
       "   (0.0074772015, 'really'),\n",
       "   (0.00690255, 'long')],\n",
       "  -2.8789193947754055),\n",
       " ([(0.035350826, 'impact'),\n",
       "   (0.019108305, 'effect'),\n",
       "   (0.018592492, 'threat'),\n",
       "   (0.016131312, 'risk'),\n",
       "   (0.014997055, 'level'),\n",
       "   (0.014035036, 'water'),\n",
       "   (0.011903946, 'already'),\n",
       "   (0.01029589, 'extreme'),\n",
       "   (0.009695147, 'sea'),\n",
       "   (0.009491264, 'event'),\n",
       "   (0.009405699, 'food'),\n",
       "   (0.009349529, 'life'),\n",
       "   (0.009348192, 'weather'),\n",
       "   (0.008934431, 'resource'),\n",
       "   (0.008873928, 'increase'),\n",
       "   (0.008851907, 'natural'),\n",
       "   (0.008156727, 'result'),\n",
       "   (0.007801122, 'protect'),\n",
       "   (0.007761901, 'area'),\n",
       "   (0.0074012317, 'ocean')],\n",
       "  -3.2563467898100678),\n",
       " ([(0.022709724, 'development'),\n",
       "   (0.019486865, 'support'),\n",
       "   (0.015392984, 'national'),\n",
       "   (0.013352502, 'technology'),\n",
       "   (0.013229002, 'growth'),\n",
       "   (0.012949187, 'role'),\n",
       "   (0.011573105, 'investment'),\n",
       "   (0.011350089, 'project'),\n",
       "   (0.010113461, 'decision'),\n",
       "   (0.0100726625, 'renewable_energy'),\n",
       "   (0.009927987, 'local'),\n",
       "   (0.00953689, 'cop'),\n",
       "   (0.0095021315, 'economic'),\n",
       "   (0.0087689385, 'city'),\n",
       "   (0.008681807, 'source'),\n",
       "   (0.00853055, 'forward'),\n",
       "   (0.00847922, 'provide'),\n",
       "   (0.008424714, 'ensure'),\n",
       "   (0.008374843, 'president'),\n",
       "   (0.008365148, 'strategy')],\n",
       "  -3.4703474507065075),\n",
       " ([(0.034173686, 'new'),\n",
       "   (0.015711237, 'fossil'),\n",
       "   (0.015390117, 'health'),\n",
       "   (0.015192587, 'fuel'),\n",
       "   (0.013870061, 'public'),\n",
       "   (0.012822986, 'fossil_fuel'),\n",
       "   (0.0123614995, 'american'),\n",
       "   (0.011335918, 'last'),\n",
       "   (0.010204696, 'company'),\n",
       "   (0.009464923, 'million'),\n",
       "   (0.008654995, 'oil'),\n",
       "   (0.008290585, 'care'),\n",
       "   (0.007988336, 'industry'),\n",
       "   (0.006743363, 'job'),\n",
       "   (0.006639872, 'billion'),\n",
       "   (0.0062329094, 'agenda'),\n",
       "   (0.006125393, 'money'),\n",
       "   (0.005527179, 'minister'),\n",
       "   (0.005407793, 'disease'),\n",
       "   (0.00512429, 'group')],\n",
       "  -3.793138003762362),\n",
       " ([(0.10225605, 'paris'),\n",
       "   (0.08192364, 'agreement'),\n",
       "   (0.023381818, 'ambitious'),\n",
       "   (0.023092877, 'man'),\n",
       "   (0.022871472, 'made'),\n",
       "   (0.021849297, 'federal'),\n",
       "   (0.020747708, 'dioxide'),\n",
       "   (0.018842652, 'carbon_dioxide'),\n",
       "   (0.016150907, 'paris_agreement'),\n",
       "   (0.012451814, 'take_action'),\n",
       "   (0.012129977, 'man_made'),\n",
       "   (0.011843821, 'signal'),\n",
       "   (0.011128372, 'though'),\n",
       "   (0.010448904, 'clean_power'),\n",
       "   (0.009588829, 'air_pollution'),\n",
       "   (0.0089352, 'federal_government'),\n",
       "   (0.008600304, 'contributes'),\n",
       "   (0.008227937, 'concrete'),\n",
       "   (0.007862465, 'obligation'),\n",
       "   (0.0072690905, 'hunger')],\n",
       "  -6.3386748201382845),\n",
       " ([(0.20095003, 'global'),\n",
       "   (0.13254784, 'warming'),\n",
       "   (0.11575773, 'global_warming'),\n",
       "   (0.04979942, 'human'),\n",
       "   (0.01716963, 'caused'),\n",
       "   (0.016070252, 'activity'),\n",
       "   (0.014602071, 'pope'),\n",
       "   (0.011329971, 'terrorism'),\n",
       "   (0.009916825, 'temperature'),\n",
       "   (0.009548862, 'president_obama'),\n",
       "   (0.009334536, 'trend'),\n",
       "   (0.006967508, 'human_activity'),\n",
       "   (0.0058837114, 'pope_francis'),\n",
       "   (0.005706186, 'pattern'),\n",
       "   (0.0055955565, 'crop'),\n",
       "   (0.0048341383, 'el'),\n",
       "   (0.0041333674, 'complex'),\n",
       "   (0.0040346673, 'human_caused'),\n",
       "   (0.00352317, 'theory'),\n",
       "   (0.0033727493, 'winter')],\n",
       "  -6.903528445652304)]"
      ]
     },
     "execution_count": 74,
     "metadata": {},
     "output_type": "execute_result"
    }
   ],
   "source": [
    "top_topics = model.top_topics(corpus) #, num_words=20)\n",
    "\n",
    "# Average topic coherence is the sum of topic coherences of all topics, divided by the number of topics.\n",
    "avg_topic_coherence = sum([t[1] for t in top_topics]) / num_topics\n",
    "print('Average topic coherence: %.4f.' % avg_topic_coherence)\n",
    "\n",
    "from pprint import pprint\n",
    "top_topics"
   ]
  },
  {
   "cell_type": "code",
   "execution_count": 75,
   "id": "679c9ad2",
   "metadata": {},
   "outputs": [],
   "source": [
    "import pyLDAvis\n",
    "import pyLDAvis.gensim_models as gensimvis"
   ]
  },
  {
   "cell_type": "code",
   "execution_count": 76,
   "id": "e50267b6",
   "metadata": {},
   "outputs": [],
   "source": [
    "viz_data = gensimvis.prepare(model, corpus, dictionary)"
   ]
  },
  {
   "cell_type": "code",
   "execution_count": 78,
   "id": "82e9c9e1",
   "metadata": {},
   "outputs": [
    {
     "data": {
      "text/html": [
       "\n",
       "<link rel=\"stylesheet\" type=\"text/css\" href=\"https://cdn.jsdelivr.net/gh/bmabey/pyLDAvis@3.3.1/pyLDAvis/js/ldavis.v1.0.0.css\">\n",
       "\n",
       "\n",
       "<div id=\"ldavis_el389624699561938568447602835\"></div>\n",
       "<script type=\"text/javascript\">\n",
       "\n",
       "var ldavis_el389624699561938568447602835_data = {\"mdsDat\": {\"x\": [-0.18145561413486822, -0.015983172939994045, -0.11707271529787058, 0.0646275276086753, -0.13472251385478187, -0.14829776718929422, 0.3493776067017958, 0.18352664910633748], \"y\": [-0.12154380954143809, -0.266526617175194, 0.08044304434977889, 0.3006279738416411, 0.17669154049647393, -0.10744095203593816, -0.10268303083752939, 0.04043185090220561], \"topics\": [1, 2, 3, 4, 5, 6, 7, 8], \"cluster\": [1, 1, 1, 1, 1, 1, 1, 1], \"Freq\": [36.18366985679771, 18.66533510428294, 11.727807564802436, 9.53303664680146, 9.273225250996921, 7.876100390959059, 4.374498227897162, 2.366326957462313]}, \"tinfo\": {\"Term\": [\"climate\", \"change\", \"global\", \"warming\", \"global_warming\", \"emission\", \"gas\", \"energy\", \"greenhouse\", \"paris\", \"impact\", \"greenhouse_gas\", \"new\", \"agreement\", \"human\", \"carbon\", \"year\", \"world\", \"reduce\", \"effect\", \"would\", \"going\", \"like\", \"threat\", \"development\", \"think\", \"need\", \"clean\", \"risk\", \"made\", \"climate\", \"world\", \"need\", \"u\", \"issue\", \"country\", \"action\", \"make\", \"way\", \"challenge\", \"government\", \"important\", \"problem\", \"change\", \"take\", \"real\", \"work\", \"address\", \"part\", \"right\", \"today\", \"must\", \"crisis\", \"leader\", \"environment\", \"around\", \"nation\", \"solution\", \"generation\", \"fight\", \"future\", \"state\", \"people\", \"also\", \"policy\", \"economy\", \"want\", \"would\", \"going\", \"think\", \"know\", \"science\", \"say\", \"see\", \"even\", \"much\", \"thing\", \"could\", \"get\", \"term\", \"really\", \"long\", \"scientist\", \"may\", \"fact\", \"lot\", \"two\", \"something\", \"mean\", \"day\", \"obama\", \"still\", \"go\", \"whether\", \"scientific\", \"talk\", \"rise\", \"year\", \"like\", \"time\", \"one\", \"president\", \"people\", \"look\", \"impact\", \"effect\", \"threat\", \"risk\", \"water\", \"already\", \"extreme\", \"sea\", \"event\", \"food\", \"weather\", \"resource\", \"result\", \"protect\", \"area\", \"ocean\", \"drought\", \"due\", \"vulnerable\", \"study\", \"disaster\", \"land\", \"consequence\", \"likely\", \"rising\", \"population\", \"affect\", \"forest\", \"future_generation\", \"specie\", \"level\", \"especially\", \"natural\", \"life\", \"increase\", \"increasing\", \"security\", \"community\", \"new\", \"fossil\", \"public\", \"fossil_fuel\", \"american\", \"last\", \"care\", \"billion\", \"agenda\", \"money\", \"minister\", \"disease\", \"group\", \"copd\", \"pipeline\", \"message\", \"tax\", \"family\", \"price\", \"epa\", \"week\", \"bill\", \"campaign\", \"fund\", \"top\", \"member\", \"ago\", \"law\", \"last_year\", \"either\", \"company\", \"million\", \"health\", \"oil\", \"fuel\", \"industry\", \"job\", \"emission\", \"gas\", \"energy\", \"greenhouse\", \"greenhouse_gas\", \"carbon\", \"reduce\", \"clean\", \"power\", \"co2\", \"cost\", \"renewable\", \"reducing\", \"reduction\", \"percent\", \"gas_emission\", \"air\", \"coal\", \"clean_energy\", \"low\", \"cop21\", \"reduce_greenhouse\", \"per\", \"co2_emission\", \"plant\", \"solar\", \"atmosphere\", \"transition\", \"electricity\", \"low_carbon\", \"target\", \"pollution\", \"cut\", \"use\", \"fuel\", \"goal\", \"support\", \"national\", \"growth\", \"role\", \"investment\", \"project\", \"decision\", \"renewable_energy\", \"local\", \"cop\", \"source\", \"provide\", \"ensure\", \"strategy\", \"key\", \"administration\", \"china\", \"market\", \"play\", \"building\", \"trump\", \"infrastructure\", \"program\", \"innovation\", \"efficiency\", \"financial\", \"improve\", \"quality\", \"initiative\", \"general\", \"development\", \"technology\", \"sector\", \"forward\", \"city\", \"economic\", \"president\", \"business\", \"global\", \"warming\", \"global_warming\", \"human\", \"caused\", \"activity\", \"pope\", \"terrorism\", \"president_obama\", \"trend\", \"human_activity\", \"pope_francis\", \"pattern\", \"crop\", \"el\", \"complex\", \"human_caused\", \"theory\", \"winter\", \"catholic\", \"phenomenon\", \"anthropogenic\", \"occurring\", \"intense\", \"ni\", \"reject\", \"hot\", \"ntilde\", \"caused_human\", \"hillary\", \"temperature\", \"earth\", \"paris\", \"agreement\", \"ambitious\", \"man\", \"federal\", \"dioxide\", \"carbon_dioxide\", \"paris_agreement\", \"take_action\", \"man_made\", \"signal\", \"though\", \"clean_power\", \"air_pollution\", \"federal_government\", \"contributes\", \"concrete\", \"obligation\", \"hunger\", \"marriage\", \"diesel\", \"move_forward\", \"send\", \"relation\", \"credible\", \"component\", \"announcement\", \"oppose\", \"two_degree\", \"scientific_evidence\", \"made\", \"goal\", \"commitment\"], \"Freq\": [122964.0, 114643.0, 23302.0, 15370.0, 13423.0, 14691.0, 14471.0, 13821.0, 12948.0, 6414.0, 10990.0, 9278.0, 8636.0, 5139.0, 5775.0, 7539.0, 9848.0, 14940.0, 5502.0, 5941.0, 7571.0, 7549.0, 7493.0, 5780.0, 4851.0, 6899.0, 11321.0, 4554.0, 5015.0, 3497.0, 122957.23865752712, 14939.96030332136, 11320.637890381842, 10115.750788241316, 10111.334438945672, 9870.86314786848, 8466.48283061927, 7743.543244483775, 6796.577104803073, 6692.026466805372, 6616.4616941584645, 6338.830629107951, 6049.606647156375, 114625.08823786606, 5458.041393360048, 5400.950877986164, 5181.736840992388, 4902.152631173484, 4795.47198004968, 4727.305307092601, 4545.112586519388, 4444.167204540542, 4341.084216602054, 4101.026064996793, 4076.561955336646, 4067.4675273069247, 4015.9854360941854, 3860.013449552052, 3843.9349545789687, 3760.215925349278, 7693.108071024776, 6061.198670782904, 9339.782852674885, 6278.004439633263, 4651.0138556123575, 4519.935643781182, 4380.658065003261, 7570.240308103203, 7549.037268706991, 6898.166535258201, 5646.625962088202, 4911.174390343845, 4775.706533974608, 4573.549602983383, 4534.515624905992, 4473.421067198626, 4355.420121146962, 4333.659058525019, 4190.512507660661, 4045.0827156043133, 3699.534551392939, 3415.2111195885755, 3282.92067787915, 2914.2055642896753, 2913.9306998353823, 2867.9131371192007, 2802.7806293481804, 2763.062139708589, 2620.282612377918, 2563.8621327797255, 2537.78894683293, 2440.6654882295175, 2437.0408716369457, 2331.8369049522544, 2282.20555433533, 2268.58513359397, 2174.324596791937, 9831.710299972548, 7464.7273781048425, 5427.488259923209, 5307.134031779215, 3008.0419389287968, 3776.2489210691206, 2582.083365162139, 10989.770000699431, 5940.338607690002, 5779.984041183865, 5014.85896584233, 4363.17435952033, 3700.666941876553, 3200.75879409564, 3014.0013856947753, 2950.618699064116, 2924.0183997091435, 2906.140971853127, 2777.5119128563206, 2535.7414663010254, 2425.1919250535652, 2412.9989268833815, 2300.875082204709, 2243.0183091902563, 2212.8125292598556, 2157.1301045246505, 1993.8889531524542, 1915.5090539363448, 1904.964478126733, 1800.1050123429275, 1639.3769559193154, 1630.321996873582, 1625.1293289124235, 1594.3077249087928, 1541.8530926890585, 1519.2339352799968, 1499.1594312699106, 4662.244239484545, 1562.5518170573416, 2751.857208904813, 2906.5564431954335, 2758.703076423162, 1661.5755752623843, 1803.5328680622547, 1650.2133750132791, 8635.655297579327, 3970.213356613086, 3504.950235440416, 3240.355277032274, 3123.738197255164, 2864.5747489348214, 2095.0223303896423, 1677.8888746825708, 1575.0497890377935, 1547.8804713859906, 1396.712501362779, 1366.5437211662818, 1294.9028114944235, 1286.7074184623411, 1262.4089477192438, 1186.3381531137816, 1152.030138140032, 1152.1312184980504, 1117.6369285455542, 1082.640060934039, 1074.4311356072278, 1020.0608465011691, 972.9349831241346, 970.5505339568372, 965.6995593129083, 950.4781400215135, 869.3588581051443, 852.673479868338, 850.8225561297436, 819.414923768847, 2578.716201638828, 2391.776375368583, 3889.066657090875, 2187.1083016264456, 3839.151081737444, 2018.6441761856415, 1704.0409167871442, 14690.29645056112, 14471.003264840107, 13820.22512349856, 12947.58428350304, 9277.996565749649, 7538.203717020248, 5501.804737929678, 4554.091264552192, 3289.164048047488, 2783.626343232113, 2723.7372786104393, 2661.0181784508795, 2658.164563099015, 2636.532029680717, 2475.4532839284398, 2423.2450575474722, 2391.579427746438, 2288.720387358249, 2115.0161392669957, 2097.6531546904366, 1858.0555742967217, 1608.0025212407522, 1576.8053971611448, 1425.8961902103533, 1389.0614302177883, 1375.971771831809, 1371.6400684318648, 1153.6299222005862, 1005.7571313925507, 929.4069528464375, 2185.4822385045413, 2924.208507381251, 1419.355195598763, 2031.9904695975217, 1743.556919617115, 1421.4231223916545, 4068.416724692575, 3213.707003594309, 2761.9164962781533, 2703.497465579272, 2416.2026243837704, 2369.6418505778483, 2111.461930113616, 2102.944136818162, 2072.7391905381373, 1991.0870216356077, 1812.5649083090852, 1770.2693504213742, 1758.8898025724814, 1746.4536726986266, 1746.2172347629707, 1745.0994044240852, 1719.8061840425808, 1707.4231360407935, 1704.7707923892472, 1680.9953635585068, 1619.803825849333, 1508.1676906946345, 1388.7685747989358, 1383.5945505655477, 1310.9942019241616, 1298.1557775693268, 1227.960834932873, 1177.5175013414453, 1167.5776777479498, 1005.9841122922875, 4741.276701846874, 2787.7004809274167, 1663.873834889013, 1780.9858609671535, 1830.7560464226926, 1983.8301658506202, 1748.4777836444955, 1620.9315725819015, 23301.749194058808, 15369.973264472424, 13423.027217521674, 5774.637672765474, 1990.9547790062877, 1863.473196376429, 1693.225895374034, 1313.8000184223017, 1107.2663293635244, 1082.4135073059733, 807.9377810762375, 682.2629960504995, 661.6775123228263, 648.8491467390442, 560.5566753001038, 479.2967346630837, 467.85166727787197, 408.53950368774315, 391.09703027485557, 380.2796524012872, 378.43951157608706, 375.1679611191476, 362.0584325359138, 353.7255161118893, 338.2427601445755, 336.7693137555723, 326.2097181288606, 325.7456398882636, 320.91238475105837, 312.3697435162272, 1149.934528938863, 344.11948261093494, 6414.103800030452, 5138.734847099734, 1466.6457878595634, 1448.5217031816055, 1370.5170092428145, 1301.4188487810188, 1181.922497719996, 1013.0802988996317, 781.0513210047719, 760.8638522118155, 742.914437517829, 698.0372204454079, 655.4169849217249, 601.4680281132214, 560.4685431030156, 539.4618779270397, 516.1048207326369, 493.18029081626827, 455.9603079090644, 408.810307204071, 357.68612622832177, 333.5634712162151, 328.0332092186898, 313.96254890287827, 296.31036527191696, 295.9853564238154, 295.29824326278896, 293.90395033889854, 281.7390622261278, 279.39626455482994, 1434.6338621684154, 372.26005808657874, 339.01405098693874], \"Total\": [122964.0, 114643.0, 23302.0, 15370.0, 13423.0, 14691.0, 14471.0, 13821.0, 12948.0, 6414.0, 10990.0, 9278.0, 8636.0, 5139.0, 5775.0, 7539.0, 9848.0, 14940.0, 5502.0, 5941.0, 7571.0, 7549.0, 7493.0, 5780.0, 4851.0, 6899.0, 11321.0, 4554.0, 5015.0, 3497.0, 122964.06140410413, 14940.821417352314, 11321.4989642052, 10116.611880458737, 10112.19535447251, 9871.724269424567, 8467.343840277908, 7744.404377298485, 6797.438199961427, 6692.8873558998275, 6617.3227966032555, 6339.691670808, 6050.4677459484765, 114643.14857399867, 5458.902462596889, 5401.811883107925, 5182.597792339598, 4903.013572776743, 4796.333303698188, 4728.166350911216, 4545.973847972767, 4445.02816529618, 4341.945078031129, 4101.887092802118, 4077.4229515535803, 4068.3286727289133, 4016.8465921215015, 3860.8745337707537, 3844.7961200675395, 3761.0767514879667, 7813.928211913232, 6955.978851132419, 13116.77109304198, 7633.480442096835, 5140.179788517795, 5159.261434714201, 4839.994212343797, 7571.104061038561, 7549.9008628486035, 6899.030009364613, 5647.48954682489, 4912.037960332781, 4776.570133728827, 4574.413366976006, 4535.379395413431, 4474.284834779818, 4356.283552960526, 4334.522869644919, 4191.376140345287, 4045.946568600152, 3700.398030969145, 3416.074895838149, 3283.784333407022, 2915.069237782852, 2914.794396323935, 2868.7766330975396, 2803.644569730681, 2763.92558466124, 2621.1464351579493, 2564.7259506778432, 2538.653432239528, 2441.5291373058058, 2437.904487143518, 2332.7004071809756, 2283.0693474888462, 2269.4488546135885, 2175.1883968416973, 9848.90795417024, 7493.484883794207, 8010.924873131076, 9562.23719471087, 4757.251279618274, 13116.77109304198, 3261.5503353012623, 10990.62657135808, 5941.1951178594, 5780.840548505449, 5015.715472031619, 4364.030693937356, 3701.523724267018, 3201.615055304646, 3014.8576433937455, 2951.4749944716855, 2924.8747819858622, 2906.9971908409457, 2778.368490281902, 2536.5983133800855, 2426.0485375379603, 2413.855462081182, 2301.731498533572, 2243.8745371574732, 2213.669030700498, 2157.9866762362103, 1994.7459153593495, 1916.3654273668708, 1905.821052071117, 1800.9615776659732, 1640.2335030751, 1631.1784177345583, 1625.985713134638, 1595.1642701828766, 1542.709458901452, 1520.0908690042463, 1500.0155287516006, 5053.72698480854, 1567.609835593475, 3012.077664351391, 3562.7400648030402, 3494.6589242251625, 1838.4245006574124, 3245.9985250130385, 6251.4398182506475, 8636.513637782611, 3971.0714023550954, 3505.8083468802047, 3241.2131910832354, 3124.596505440722, 2865.433321715081, 2095.8805322329017, 1678.7472687782515, 1575.908142740298, 1548.7386448203831, 1397.5705695947447, 1367.401860139491, 1295.7611294341095, 1287.565203935023, 1263.2671384618136, 1187.19660452013, 1152.8880429297662, 1152.9893261251045, 1118.495391808029, 1083.4983039195315, 1075.289510346749, 1020.9189887499282, 973.7929444128939, 971.4087271915831, 966.5578512788009, 951.3458768640855, 870.2170744537713, 853.5316183948772, 851.6808864869483, 820.273686236162, 2590.3156243427834, 2612.812940377409, 4809.966905265934, 2727.793218272504, 5583.449277300826, 2949.8863702796, 3446.052054643869, 14691.164500072948, 14471.87122639598, 13821.093607109382, 12948.452228971431, 9278.864522107302, 7539.072191197383, 5502.672930856989, 4554.959516378312, 3290.032515196203, 2784.494402431718, 2724.6058147789927, 2661.886384928705, 2659.0326259900653, 2637.40029036932, 2476.3219451725663, 2424.1128467346603, 2392.4478451224586, 2289.5889832714615, 2115.8843186220593, 2098.52175680769, 1858.9261979978835, 1608.8703275634964, 1577.6735679438036, 1426.7641430575713, 1389.9296273417344, 1376.840290383367, 1372.5084639653699, 1154.498482277817, 1006.625182273243, 930.2752367053232, 2215.3817102698813, 3031.821075944992, 1511.7887466142367, 2994.6828783991714, 5583.449277300826, 2956.9076265226463, 4069.2696863504457, 3214.55990195574, 2762.769441137189, 2704.3502876754815, 2417.055375563324, 2370.4946361738703, 2112.314735048023, 2103.7970776094794, 2073.591996087358, 1991.940018819449, 1813.4181053940845, 1771.1222424368514, 1759.742643386561, 1747.3065695412567, 1747.0701629810524, 1745.9521890503688, 1720.6591276764138, 1708.275941829827, 1705.6234663501489, 1681.848269873403, 1620.656004285668, 1509.0204762204035, 1389.6212398073037, 1384.4473114926518, 1311.8470082866484, 1299.0087473788824, 1228.8137260838052, 1178.3702761950917, 1168.4305477540756, 1006.8372839535451, 4851.058159821464, 3306.818958477332, 2131.2601709979613, 2685.37993450989, 3213.744175772505, 4797.469294113612, 4757.251279618274, 3814.7912896404882, 23302.623607923346, 15370.847275373928, 13423.90115937946, 5775.512156456547, 1991.8290290951118, 1864.3476798728395, 1694.101035006144, 1314.6747236450747, 1108.1431959757065, 1083.2878957044538, 808.8117207143605, 683.137820564876, 662.551768337908, 649.7238716158157, 561.4306429545823, 480.17151949682705, 468.7255210466137, 409.41381767839766, 391.97141970232775, 381.15457332398705, 379.3138801034453, 376.04221220325815, 362.93265152511617, 354.6000596712697, 339.11703084639356, 337.64487085416084, 327.08397358517533, 326.6207964504744, 321.7863314565128, 313.24513934655124, 2831.618478937963, 2600.53622303226, 6414.9649316418945, 5139.595869967144, 1467.5071575780848, 1449.3827557430293, 1371.3782760097708, 1302.2799177000575, 1182.7834728110895, 1013.940882852602, 781.9127347499684, 761.7246121164411, 743.7756853580627, 698.8986349984519, 656.2787647053411, 602.3294938040507, 561.3294194563539, 540.3235043659439, 516.9662631845765, 494.04143677829313, 456.8222596707271, 409.6719313248925, 358.5476203815328, 334.4248808826669, 328.8944992676266, 314.82403451941667, 297.1717659110306, 296.8466955437343, 296.159465051827, 294.7654900920056, 282.6007456219822, 280.2578616962405, 3497.4234512764297, 2956.9076265226463, 3380.4620872115634], \"Category\": [\"Default\", \"Default\", \"Default\", \"Default\", \"Default\", \"Default\", \"Default\", \"Default\", \"Default\", \"Default\", \"Default\", \"Default\", \"Default\", \"Default\", \"Default\", \"Default\", \"Default\", \"Default\", \"Default\", \"Default\", \"Default\", \"Default\", \"Default\", \"Default\", \"Default\", \"Default\", \"Default\", \"Default\", \"Default\", \"Default\", \"Topic1\", \"Topic1\", \"Topic1\", \"Topic1\", \"Topic1\", \"Topic1\", \"Topic1\", \"Topic1\", \"Topic1\", \"Topic1\", \"Topic1\", \"Topic1\", \"Topic1\", \"Topic1\", \"Topic1\", \"Topic1\", \"Topic1\", \"Topic1\", \"Topic1\", \"Topic1\", \"Topic1\", \"Topic1\", \"Topic1\", \"Topic1\", \"Topic1\", \"Topic1\", \"Topic1\", \"Topic1\", \"Topic1\", \"Topic1\", \"Topic1\", \"Topic1\", \"Topic1\", \"Topic1\", \"Topic1\", \"Topic1\", \"Topic1\", \"Topic2\", \"Topic2\", \"Topic2\", \"Topic2\", \"Topic2\", \"Topic2\", \"Topic2\", \"Topic2\", \"Topic2\", \"Topic2\", \"Topic2\", \"Topic2\", \"Topic2\", \"Topic2\", \"Topic2\", \"Topic2\", \"Topic2\", \"Topic2\", \"Topic2\", \"Topic2\", \"Topic2\", \"Topic2\", \"Topic2\", \"Topic2\", \"Topic2\", \"Topic2\", \"Topic2\", \"Topic2\", \"Topic2\", \"Topic2\", \"Topic2\", \"Topic2\", \"Topic2\", \"Topic2\", \"Topic2\", \"Topic2\", \"Topic2\", \"Topic3\", \"Topic3\", \"Topic3\", \"Topic3\", \"Topic3\", \"Topic3\", \"Topic3\", \"Topic3\", \"Topic3\", \"Topic3\", \"Topic3\", \"Topic3\", \"Topic3\", \"Topic3\", \"Topic3\", \"Topic3\", \"Topic3\", \"Topic3\", \"Topic3\", \"Topic3\", \"Topic3\", \"Topic3\", \"Topic3\", \"Topic3\", \"Topic3\", \"Topic3\", \"Topic3\", \"Topic3\", \"Topic3\", \"Topic3\", \"Topic3\", \"Topic3\", \"Topic3\", \"Topic3\", \"Topic3\", \"Topic3\", \"Topic3\", \"Topic3\", \"Topic4\", \"Topic4\", \"Topic4\", \"Topic4\", \"Topic4\", \"Topic4\", \"Topic4\", \"Topic4\", \"Topic4\", \"Topic4\", \"Topic4\", \"Topic4\", \"Topic4\", \"Topic4\", \"Topic4\", \"Topic4\", \"Topic4\", \"Topic4\", \"Topic4\", \"Topic4\", \"Topic4\", \"Topic4\", \"Topic4\", \"Topic4\", \"Topic4\", \"Topic4\", \"Topic4\", \"Topic4\", \"Topic4\", \"Topic4\", \"Topic4\", \"Topic4\", \"Topic4\", \"Topic4\", \"Topic4\", \"Topic4\", \"Topic4\", \"Topic5\", \"Topic5\", \"Topic5\", \"Topic5\", \"Topic5\", \"Topic5\", \"Topic5\", \"Topic5\", \"Topic5\", \"Topic5\", \"Topic5\", \"Topic5\", \"Topic5\", \"Topic5\", \"Topic5\", \"Topic5\", \"Topic5\", \"Topic5\", \"Topic5\", \"Topic5\", \"Topic5\", \"Topic5\", \"Topic5\", \"Topic5\", \"Topic5\", \"Topic5\", \"Topic5\", \"Topic5\", \"Topic5\", \"Topic5\", \"Topic5\", \"Topic5\", \"Topic5\", \"Topic5\", \"Topic5\", \"Topic5\", \"Topic6\", \"Topic6\", \"Topic6\", \"Topic6\", \"Topic6\", \"Topic6\", \"Topic6\", \"Topic6\", \"Topic6\", \"Topic6\", \"Topic6\", \"Topic6\", \"Topic6\", \"Topic6\", \"Topic6\", \"Topic6\", \"Topic6\", \"Topic6\", \"Topic6\", \"Topic6\", \"Topic6\", \"Topic6\", \"Topic6\", \"Topic6\", \"Topic6\", \"Topic6\", \"Topic6\", \"Topic6\", \"Topic6\", \"Topic6\", \"Topic6\", \"Topic6\", \"Topic6\", \"Topic6\", \"Topic6\", \"Topic6\", \"Topic6\", \"Topic6\", \"Topic7\", \"Topic7\", \"Topic7\", \"Topic7\", \"Topic7\", \"Topic7\", \"Topic7\", \"Topic7\", \"Topic7\", \"Topic7\", \"Topic7\", \"Topic7\", \"Topic7\", \"Topic7\", \"Topic7\", \"Topic7\", \"Topic7\", \"Topic7\", \"Topic7\", \"Topic7\", \"Topic7\", \"Topic7\", \"Topic7\", \"Topic7\", \"Topic7\", \"Topic7\", \"Topic7\", \"Topic7\", \"Topic7\", \"Topic7\", \"Topic7\", \"Topic7\", \"Topic8\", \"Topic8\", \"Topic8\", \"Topic8\", \"Topic8\", \"Topic8\", \"Topic8\", \"Topic8\", \"Topic8\", \"Topic8\", \"Topic8\", \"Topic8\", \"Topic8\", \"Topic8\", \"Topic8\", \"Topic8\", \"Topic8\", \"Topic8\", \"Topic8\", \"Topic8\", \"Topic8\", \"Topic8\", \"Topic8\", \"Topic8\", \"Topic8\", \"Topic8\", \"Topic8\", \"Topic8\", \"Topic8\", \"Topic8\", \"Topic8\", \"Topic8\", \"Topic8\"], \"logprob\": [30.0, 29.0, 28.0, 27.0, 26.0, 25.0, 24.0, 23.0, 22.0, 21.0, 20.0, 19.0, 18.0, 17.0, 16.0, 15.0, 14.0, 13.0, 12.0, 11.0, 10.0, 9.0, 8.0, 7.0, 6.0, 5.0, 4.0, 3.0, 2.0, 1.0, -2.0542, -4.162, -4.4394, -4.5519, -4.5524, -4.5765, -4.7299, -4.8192, -4.9496, -4.9651, -4.9765, -5.0193, -5.0661, -2.1244, -5.169, -5.1795, -5.2209, -5.2764, -5.2984, -5.3127, -5.352, -5.3745, -5.3979, -5.4548, -5.4608, -5.463, -5.4758, -5.5154, -5.5195, -5.5416, -4.8257, -5.0641, -4.6318, -5.029, -5.329, -5.3575, -5.3888, -4.1799, -4.1827, -4.2728, -4.473, -4.6126, -4.6406, -4.6838, -4.6924, -4.706, -4.7327, -4.7377, -4.7713, -4.8066, -4.8959, -4.9759, -5.0154, -5.1345, -5.1346, -5.1505, -5.1735, -5.1878, -5.2408, -5.2626, -5.2728, -5.3118, -5.3133, -5.3574, -5.379, -5.3849, -5.4274, -3.9185, -4.1939, -4.5126, -4.5351, -5.1028, -4.8754, -5.2555, -3.3424, -3.9576, -3.985, -4.127, -4.2662, -4.4309, -4.576, -4.6361, -4.6574, -4.6664, -4.6726, -4.7178, -4.8089, -4.8535, -4.8585, -4.9061, -4.9316, -4.9451, -4.9706, -5.0493, -5.0894, -5.0949, -5.1516, -5.2451, -5.2506, -5.2538, -5.273, -5.3064, -5.3212, -5.3345, -4.1999, -5.2931, -4.7271, -4.6724, -4.7246, -5.2316, -5.1497, -5.2385, -3.3763, -4.1534, -4.278, -4.3565, -4.3932, -4.4798, -4.7926, -5.0147, -5.0779, -5.0953, -5.1981, -5.2199, -5.2738, -5.2801, -5.2992, -5.3613, -5.3907, -5.3906, -5.421, -5.4528, -5.4604, -5.5123, -5.5596, -5.5621, -5.5671, -5.583, -5.6722, -5.6916, -5.6938, -5.7314, -4.5849, -4.6602, -4.174, -4.7496, -4.1869, -4.8298, -4.9992, -2.8174, -2.8324, -2.8784, -2.9437, -3.2769, -3.4846, -3.7995, -3.9885, -4.3139, -4.4808, -4.5026, -4.5259, -4.5269, -4.5351, -4.5981, -4.6195, -4.6326, -4.6766, -4.7555, -4.7637, -4.885, -5.0296, -5.0492, -5.1498, -5.1759, -5.1854, -5.1886, -5.3617, -5.4988, -5.5778, -4.7227, -4.4315, -5.1544, -4.7956, -4.9486, -5.1529, -3.938, -4.1738, -4.3253, -4.3467, -4.4591, -4.4785, -4.5939, -4.5979, -4.6124, -4.6526, -4.7465, -4.7701, -4.7766, -4.7837, -4.7838, -4.7845, -4.7991, -4.8063, -4.8078, -4.8219, -4.859, -4.9304, -5.0129, -5.0166, -5.0705, -5.0803, -5.1359, -5.1779, -5.1863, -5.3353, -3.785, -4.3161, -4.8321, -4.7641, -4.7365, -4.6562, -4.7825, -4.8583, -1.6047, -2.0208, -2.1563, -2.9998, -4.0646, -4.1308, -4.2266, -4.4803, -4.6513, -4.674, -4.9665, -5.1356, -5.1662, -5.1858, -5.3321, -5.4887, -5.5128, -5.6484, -5.692, -5.7201, -5.7249, -5.7336, -5.7692, -5.7925, -5.8372, -5.8416, -5.8734, -5.8749, -5.8898, -5.9168, -4.6135, -5.82, -2.2803, -2.502, -3.7558, -3.7682, -3.8236, -3.8753, -3.9716, -4.1258, -4.3859, -4.4121, -4.4359, -4.4983, -4.5613, -4.6472, -4.7178, -4.756, -4.8002, -4.8457, -4.9241, -5.0333, -5.1669, -5.2367, -5.2534, -5.2973, -5.3551, -5.3562, -5.3585, -5.3633, -5.4055, -5.4139, -3.7779, -5.1269, -5.2205], \"loglift\": [30.0, 29.0, 28.0, 27.0, 26.0, 25.0, 24.0, 23.0, 22.0, 21.0, 20.0, 19.0, 18.0, 17.0, 16.0, 15.0, 14.0, 13.0, 12.0, 11.0, 10.0, 9.0, 8.0, 7.0, 6.0, 5.0, 4.0, 3.0, 2.0, 1.0, 1.0165, 1.0165, 1.0165, 1.0165, 1.0165, 1.0165, 1.0165, 1.0165, 1.0164, 1.0164, 1.0164, 1.0164, 1.0164, 1.0164, 1.0164, 1.0164, 1.0164, 1.0164, 1.0164, 1.0164, 1.0164, 1.0164, 1.0164, 1.0164, 1.0164, 1.0164, 1.0163, 1.0163, 1.0163, 1.0163, 1.001, 0.8789, 0.677, 0.8211, 0.9166, 0.8843, 0.9168, 1.6784, 1.6784, 1.6784, 1.6783, 1.6783, 1.6783, 1.6783, 1.6783, 1.6783, 1.6783, 1.6783, 1.6783, 1.6783, 1.6783, 1.6782, 1.6782, 1.6782, 1.6782, 1.6782, 1.6782, 1.6782, 1.6782, 1.6782, 1.6782, 1.6781, 1.6781, 1.6781, 1.6781, 1.6781, 1.6781, 1.6768, 1.6747, 1.2892, 1.0897, 1.2201, 0.4333, 1.4449, 2.1431, 2.1431, 2.1431, 2.143, 2.143, 2.143, 2.1429, 2.1429, 2.1429, 2.1429, 2.1429, 2.1429, 2.1429, 2.1429, 2.1429, 2.1428, 2.1428, 2.1428, 2.1428, 2.1428, 2.1428, 2.1428, 2.1427, 2.1427, 2.1427, 2.1427, 2.1427, 2.1427, 2.1426, 2.1426, 2.0626, 2.14, 2.0529, 1.9396, 1.9067, 2.0421, 1.5555, 0.8113, 2.3503, 2.3502, 2.3502, 2.3501, 2.3501, 2.3501, 2.35, 2.3499, 2.3499, 2.3499, 2.3498, 2.3498, 2.3497, 2.3497, 2.3497, 2.3497, 2.3497, 2.3497, 2.3496, 2.3496, 2.3496, 2.3496, 2.3495, 2.3495, 2.3495, 2.3495, 2.3494, 2.3494, 2.3494, 2.3494, 2.3459, 2.262, 2.1379, 2.1295, 1.9759, 1.9711, 1.6462, 2.378, 2.378, 2.378, 2.378, 2.3779, 2.3779, 2.3779, 2.3778, 2.3778, 2.3777, 2.3777, 2.3777, 2.3777, 2.3777, 2.3777, 2.3777, 2.3777, 2.3777, 2.3776, 2.3776, 2.3776, 2.3775, 2.3775, 2.3774, 2.3774, 2.3774, 2.3774, 2.3773, 2.3772, 2.3771, 2.3645, 2.3419, 2.3149, 1.9902, 1.2142, 1.6456, 2.5411, 2.5411, 2.541, 2.541, 2.541, 2.541, 2.5409, 2.5409, 2.5409, 2.5409, 2.5409, 2.5409, 2.5409, 2.5408, 2.5408, 2.5408, 2.5408, 2.5408, 2.5408, 2.5408, 2.5408, 2.5408, 2.5407, 2.5407, 2.5407, 2.5407, 2.5406, 2.5406, 2.5406, 2.5405, 2.5184, 2.3706, 2.2938, 2.1307, 1.9786, 1.6583, 1.5404, 1.6855, 3.1293, 3.1293, 3.1293, 3.1292, 3.1289, 3.1289, 3.1289, 3.1287, 3.1286, 3.1286, 3.1283, 3.1281, 3.1281, 3.128, 3.1278, 3.1276, 3.1275, 3.1272, 3.1271, 3.1271, 3.1271, 3.1271, 3.127, 3.1269, 3.1268, 3.1268, 3.1267, 3.1267, 3.1267, 3.1266, 2.2282, 1.1069, 3.7437, 3.7437, 3.7432, 3.7432, 3.7432, 3.7432, 3.7431, 3.743, 3.7427, 3.7427, 3.7427, 3.7426, 3.7425, 3.7424, 3.7423, 3.7422, 3.7422, 3.7421, 3.7419, 3.7417, 3.7414, 3.7413, 3.7412, 3.7411, 3.7409, 3.7409, 3.7409, 3.7409, 3.7408, 3.7408, 2.8527, 1.6715, 1.4441]}, \"token.table\": {\"Topic\": [1, 7, 1, 6, 3, 4, 4, 8, 5, 8, 3, 1, 3, 5, 8, 4, 8, 7, 3, 1, 5, 4, 4, 6, 1, 6, 4, 5, 8, 4, 7, 7, 7, 1, 1, 2, 6, 1, 6, 5, 5, 8, 1, 2, 5, 5, 5, 1, 5, 6, 8, 1, 3, 6, 4, 6, 7, 8, 8, 3, 8, 6, 5, 4, 5, 2, 1, 8, 1, 7, 4, 5, 2, 6, 1, 6, 8, 8, 3, 4, 3, 3, 2, 3, 7, 1, 6, 1, 5, 3, 6, 4, 7, 5, 5, 5, 6, 1, 4, 1, 3, 2, 3, 3, 2, 4, 8, 8, 1, 6, 3, 3, 1, 6, 4, 4, 4, 5, 4, 1, 3, 3, 5, 5, 6, 1, 2, 7, 7, 2, 1, 5, 8, 2, 1, 5, 5, 4, 6, 3, 4, 7, 7, 7, 7, 7, 8, 3, 1, 6, 3, 5, 3, 5, 4, 5, 6, 6, 6, 7, 6, 1, 1, 4, 5, 6, 2, 3, 4, 4, 4, 1, 2, 3, 1, 3, 1, 2, 3, 6, 2, 1, 2, 6, 2, 5, 5, 1, 2, 8, 1, 8, 8, 6, 8, 2, 2, 4, 4, 4, 5, 4, 4, 8, 2, 1, 1, 6, 3, 5, 1, 4, 7, 7, 2, 8, 7, 3, 4, 5, 1, 2, 8, 8, 8, 1, 7, 1, 2, 5, 5, 7, 4, 5, 6, 1, 4, 3, 5, 7, 7, 3, 5, 2, 6, 7, 4, 1, 6, 6, 3, 6, 4, 6, 1, 2, 5, 5, 5, 5, 7, 8, 5, 6, 3, 3, 1, 2, 3, 3, 6, 2, 2, 2, 8, 2, 3, 5, 6, 3, 6, 2, 8, 8, 5, 1, 2, 6, 3, 1, 4, 6, 2, 6, 3, 6, 1, 8, 2, 5, 8, 4, 5, 6, 2, 7, 2, 7, 7, 2, 2, 8, 3, 1, 2, 1, 4, 5, 7, 6, 2, 8, 1, 1, 3, 4, 5, 3, 1, 2, 7, 3, 1, 3, 4, 2, 7, 1, 1, 2, 2, 4], \"Freq\": [0.9998412914010275, 0.9992771306085293, 0.9997932755515158, 0.9994546305125991, 0.9992701252124064, 0.999423733709048, 0.9986014128089417, 0.9998840628753273, 0.9998128088253327, 0.9977927466316581, 0.9998585111683643, 0.8224295650747093, 0.09261830240647013, 0.08488919371908436, 0.9996544087874012, 0.9998090936094682, 0.9960849974805833, 0.9972284701838345, 0.9996456034362371, 0.9996734106716059, 0.9996295367360425, 0.999099841652418, 0.9995548652306697, 0.9994956323417529, 0.5748676227596902, 0.42492495052141255, 0.9991857155903179, 0.9998577820758057, 0.9993376025036709, 0.9995798747975565, 0.9969708527595033, 0.9995837850121663, 0.997556355321391, 0.9998674180734499, 0.9998416950840551, 0.00014828622740614122, 0.9996169330311786, 0.43002800609286246, 0.5697404335427143, 0.9997893468921376, 0.9995820571974203, 0.9980514915701786, 0.9999425734314279, 4.8794744834280015e-05, 0.999822444451213, 0.9994644223004274, 0.9997427558938461, 0.811131711955329, 0.05798023907485211, 0.030469207268927382, 0.10028214819579012, 0.5627503586820818, 0.2639391960845466, 0.17324009052094785, 0.9956315654214323, 0.00424658674665985, 0.9975602061987044, 0.9971477009633426, 0.9981308970171009, 0.9994660754133248, 0.9975505334207199, 0.99952808879255, 0.9995017564447254, 0.9995610288835892, 0.9997776504859137, 0.9998793708879514, 0.9999266319231778, 0.9960569406469745, 0.9997823376357498, 0.9988858780669155, 0.0608550633850403, 0.9386232059062194, 0.9997169480514472, 0.9993775856285957, 0.022469324507956752, 0.9773125458002107, 0.9984726704337068, 0.9990171715906379, 0.9998093122733002, 0.9997061140903744, 0.9996102557683189, 0.9996977729320782, 0.8671288559751881, 0.0003845360780377774, 0.13228041084499542, 0.5863508086339372, 0.4135513701847605, 0.8760943900975987, 0.12385493700716053, 0.9997988421797818, 0.9993543391254484, 0.9984472423563819, 0.9992329543105878, 0.9993789324127267, 0.9999207346651832, 0.9999208740537855, 0.9995779818206078, 0.9998962698845311, 0.9995400971854511, 0.002551655334878437, 0.9970593221037493, 0.9999163475907188, 0.9998390653918549, 0.9998078921750362, 0.9997274605972425, 0.9991419468483465, 0.9997241636269232, 0.9976316590396395, 0.999713711907756, 0.9992234483555882, 0.9997009164319615, 0.9995401215067695, 0.3366376535337408, 0.6632208638756554, 0.9997301981640371, 0.9996256984617449, 0.6875678114614959, 0.31235172263319844, 0.9995792428252475, 0.9845240180567741, 0.015357192534357585, 0.9992823659252944, 0.9999397986354114, 0.9995409261841257, 0.9991684019186722, 0.9997929356869186, 0.9999102585087349, 0.999973238724796, 0.9999328690394275, 0.9996289899180678, 0.3933163111245717, 0.48056962863973895, 0.1258071089753574, 0.9998806788506275, 0.9998001009405292, 0.9999650746696644, 0.9999068288899744, 0.9994126005041979, 0.9997214964355214, 0.19126950727930944, 0.8085294715317766, 0.9960250321867765, 0.99668594711843, 0.9999113227636488, 0.9989964033735274, 0.9984521409352883, 0.9982000446490507, 0.9999429903878535, 0.999890898352173, 0.9993377954147709, 0.7894904938717952, 0.2103209543297461, 0.90403494916744, 0.09573414624155802, 0.6844331430327713, 0.3156053770002526, 0.9993237492555704, 0.9996315161779165, 0.9996769024801894, 0.9983077846297431, 0.9995633631012372, 0.9998817908050025, 0.3398091443284993, 0.49447889149083074, 0.1656968585922913, 0.9993874527745203, 0.9999133160281518, 0.9995691872171184, 0.9998487762001659, 0.9992005380210458, 0.9993771544212071, 0.999783735441262, 0.07736864321625261, 0.9224875055605363, 0.18384726027892537, 0.815945016230284, 0.0037365792330554012, 0.9961987133842346, 0.9992479710524218, 0.9997145069577453, 0.9996853418408774, 0.03495270294194925, 0.791648061369412, 0.17323050142281865, 0.9997292807364019, 0.9997513693598852, 0.9986291834340989, 0.37913624657490624, 0.21044063158305504, 0.4103020466327228, 0.9999477845837091, 0.9997359181061644, 0.9990487216706471, 0.9992530821288391, 0.9983598306998493, 0.9996332032978863, 0.9995626207133749, 0.9985852917463395, 0.9989920755201168, 0.9154884236199803, 0.08420044029949653, 0.9995917418360418, 0.9995230668370978, 0.9987295177274326, 0.9997128401907204, 0.9997686931875466, 0.9997892396181717, 0.9998258231382159, 0.913655060282984, 0.08598715865308608, 0.9999559277259329, 0.9999405271844458, 0.9967060609029114, 0.9980993358132094, 0.9997426067570983, 0.9978920052028744, 0.9974302352758921, 0.999682196409947, 0.8017469892329356, 0.1979622195636878, 0.4448749715550877, 0.5549956450500354, 0.9974030538928872, 0.9998495811509218, 0.9990720535402863, 0.9997220160456406, 0.9991672072066276, 0.7120654872870783, 0.2878757259096368, 0.9995730625412699, 0.9994661658694487, 0.9965361665566075, 0.9989969354673814, 0.999331169489845, 0.9996344642516657, 0.9048321637288774, 0.0949383134594049, 0.03529232013358474, 0.9644368604729139, 0.9993500771303525, 0.9983344201848827, 0.9993937750333994, 0.9996861686954661, 0.6322979012875193, 0.3674390729556462, 0.998968368005274, 0.9995570908815028, 0.9999226925969832, 0.9995529430685804, 0.9997913363032668, 0.9995678002637884, 0.9993663664709516, 0.999769426391798, 0.9996857726280339, 0.9998497017064841, 0.9998924356337308, 0.999877708367289, 0.9994590443066879, 0.9996116535088844, 0.9998482254018165, 0.9980900913657315, 0.9973825552401849, 0.9996670087297025, 0.9996211242909486, 0.9998673717027851, 0.9997641276598942, 0.9997533185542443, 0.9994536579712254, 0.9992775666219303, 0.9998573539436978, 0.9995006979378245, 0.9998806395147846, 0.9997886904903498, 0.9995316184810494, 0.9955117701654205, 0.9997611495374277, 0.9997155277312596, 0.2191191888981473, 0.7807587373158825, 0.555761189075942, 0.4442392653256698, 0.9999096349754943, 0.9972802851077824, 0.9989570977200078, 0.9993896965470607, 0.9997734881661903, 0.9996651195436025, 0.9997694379509938, 0.9993229878410353, 0.8713367492503635, 0.0960324943902397, 0.03249003552723678, 0.999783276268253, 0.999252237950665, 0.9996260599640254, 0.9996879817637291, 0.9998346805785463, 0.9988326897498858, 0.9998022186696668, 0.9862860155750857, 0.01309029494355949, 0.9992297231849941, 0.15664601131914396, 0.8431063311926126, 0.5936534220635832, 0.40612815905599087, 0.9997660452049717, 0.9994867752205626, 0.9989892434975833, 0.9997053559657166, 0.9998507022924651, 0.9987142126862876, 0.9998545975280937, 0.3224346802531469, 0.6774498682670648, 0.9997857779201258, 0.9994228475015098, 0.999568226129814, 0.9988111233315163, 0.9995952229936932, 0.9997700957754632, 0.9978742249223016, 0.9999395172547917, 0.25879200952799436, 0.0490870005169228, 0.013690932116964864, 0.678535952723722, 0.9995427792733498, 0.9051663716511913, 0.09483482414697485, 0.9999448777703175, 0.9997638206489272, 0.9999355345427886, 0.9996569687634761, 0.9988007784560893, 0.99969974404822, 0.9975217078248576, 0.9998846539199934, 0.9999450219416076, 0.9998541743674819, 0.9982832660992552, 0.0016245455916993575], \"Term\": [\"action\", \"activity\", \"address\", \"administration\", \"affect\", \"agenda\", \"ago\", \"agreement\", \"air\", \"air_pollution\", \"already\", \"also\", \"also\", \"also\", \"ambitious\", \"american\", \"announcement\", \"anthropogenic\", \"area\", \"around\", \"atmosphere\", \"bill\", \"billion\", \"building\", \"business\", \"business\", \"campaign\", \"carbon\", \"carbon_dioxide\", \"care\", \"catholic\", \"caused\", \"caused_human\", \"challenge\", \"change\", \"change\", \"china\", \"city\", \"city\", \"clean\", \"clean_energy\", \"clean_power\", \"climate\", \"climate\", \"co2\", \"co2_emission\", \"coal\", \"commitment\", \"commitment\", \"commitment\", \"commitment\", \"community\", \"community\", \"community\", \"company\", \"company\", \"complex\", \"component\", \"concrete\", \"consequence\", \"contributes\", \"cop\", \"cop21\", \"copd\", \"cost\", \"could\", \"country\", \"credible\", \"crisis\", \"crop\", \"cut\", \"cut\", \"day\", \"decision\", \"development\", \"development\", \"diesel\", \"dioxide\", \"disaster\", \"disease\", \"drought\", \"due\", \"earth\", \"earth\", \"earth\", \"economic\", \"economic\", \"economy\", \"economy\", \"effect\", \"efficiency\", \"either\", \"el\", \"electricity\", \"emission\", \"energy\", \"ensure\", \"environment\", \"epa\", \"especially\", \"especially\", \"even\", \"event\", \"extreme\", \"fact\", \"family\", \"federal\", \"federal_government\", \"fight\", \"financial\", \"food\", \"forest\", \"forward\", \"forward\", \"fossil\", \"fossil_fuel\", \"fuel\", \"fuel\", \"fund\", \"future\", \"future\", \"future_generation\", \"gas\", \"gas_emission\", \"general\", \"generation\", \"get\", \"global\", \"global_warming\", \"go\", \"goal\", \"goal\", \"goal\", \"going\", \"government\", \"greenhouse\", \"greenhouse_gas\", \"group\", \"growth\", \"health\", \"health\", \"hillary\", \"hot\", \"human\", \"human_activity\", \"human_caused\", \"hunger\", \"impact\", \"important\", \"improve\", \"increase\", \"increase\", \"increasing\", \"increasing\", \"industry\", \"industry\", \"infrastructure\", \"initiative\", \"innovation\", \"intense\", \"investment\", \"issue\", \"job\", \"job\", \"job\", \"key\", \"know\", \"land\", \"last\", \"last_year\", \"law\", \"leader\", \"level\", \"level\", \"life\", \"life\", \"like\", \"like\", \"likely\", \"local\", \"long\", \"look\", \"look\", \"look\", \"lot\", \"low\", \"low_carbon\", \"made\", \"made\", \"made\", \"make\", \"man\", \"man_made\", \"market\", \"marriage\", \"may\", \"mean\", \"member\", \"message\", \"million\", \"million\", \"minister\", \"money\", \"move_forward\", \"much\", \"must\", \"nation\", \"national\", \"natural\", \"natural\", \"need\", \"new\", \"ni\", \"ntilde\", \"obama\", \"obligation\", \"occurring\", \"ocean\", \"oil\", \"oil\", \"one\", \"one\", \"oppose\", \"paris\", \"paris_agreement\", \"part\", \"pattern\", \"people\", \"people\", \"per\", \"percent\", \"phenomenon\", \"pipeline\", \"plant\", \"play\", \"policy\", \"policy\", \"pollution\", \"pollution\", \"pope\", \"pope_francis\", \"population\", \"power\", \"president\", \"president\", \"president_obama\", \"price\", \"problem\", \"program\", \"project\", \"protect\", \"provide\", \"public\", \"quality\", \"real\", \"really\", \"reduce\", \"reduce_greenhouse\", \"reducing\", \"reduction\", \"reject\", \"relation\", \"renewable\", \"renewable_energy\", \"resource\", \"result\", \"right\", \"rise\", \"rising\", \"risk\", \"role\", \"say\", \"science\", \"scientific\", \"scientific_evidence\", \"scientist\", \"sea\", \"sector\", \"sector\", \"security\", \"security\", \"see\", \"send\", \"signal\", \"solar\", \"solution\", \"something\", \"source\", \"specie\", \"state\", \"state\", \"state\", \"still\", \"strategy\", \"study\", \"support\", \"take\", \"take_action\", \"talk\", \"target\", \"target\", \"tax\", \"technology\", \"technology\", \"temperature\", \"temperature\", \"term\", \"terrorism\", \"theory\", \"thing\", \"think\", \"though\", \"threat\", \"time\", \"time\", \"today\", \"top\", \"transition\", \"trend\", \"trump\", \"two\", \"two_degree\", \"u\", \"use\", \"use\", \"use\", \"use\", \"vulnerable\", \"want\", \"want\", \"warming\", \"water\", \"way\", \"weather\", \"week\", \"whether\", \"winter\", \"work\", \"world\", \"would\", \"year\", \"year\"]}, \"R\": 30, \"lambda.step\": 0.01, \"plot.opts\": {\"xlab\": \"PC1\", \"ylab\": \"PC2\"}, \"topic.order\": [2, 5, 1, 4, 8, 6, 3, 7]};\n",
       "\n",
       "function LDAvis_load_lib(url, callback){\n",
       "  var s = document.createElement('script');\n",
       "  s.src = url;\n",
       "  s.async = true;\n",
       "  s.onreadystatechange = s.onload = callback;\n",
       "  s.onerror = function(){console.warn(\"failed to load library \" + url);};\n",
       "  document.getElementsByTagName(\"head\")[0].appendChild(s);\n",
       "}\n",
       "\n",
       "if(typeof(LDAvis) !== \"undefined\"){\n",
       "   // already loaded: just create the visualization\n",
       "   !function(LDAvis){\n",
       "       new LDAvis(\"#\" + \"ldavis_el389624699561938568447602835\", ldavis_el389624699561938568447602835_data);\n",
       "   }(LDAvis);\n",
       "}else if(typeof define === \"function\" && define.amd){\n",
       "   // require.js is available: use it to load d3/LDAvis\n",
       "   require.config({paths: {d3: \"https://d3js.org/d3.v5\"}});\n",
       "   require([\"d3\"], function(d3){\n",
       "      window.d3 = d3;\n",
       "      LDAvis_load_lib(\"https://cdn.jsdelivr.net/gh/bmabey/pyLDAvis@3.3.1/pyLDAvis/js/ldavis.v3.0.0.js\", function(){\n",
       "        new LDAvis(\"#\" + \"ldavis_el389624699561938568447602835\", ldavis_el389624699561938568447602835_data);\n",
       "      });\n",
       "    });\n",
       "}else{\n",
       "    // require.js not available: dynamically load d3 & LDAvis\n",
       "    LDAvis_load_lib(\"https://d3js.org/d3.v5.js\", function(){\n",
       "         LDAvis_load_lib(\"https://cdn.jsdelivr.net/gh/bmabey/pyLDAvis@3.3.1/pyLDAvis/js/ldavis.v3.0.0.js\", function(){\n",
       "                 new LDAvis(\"#\" + \"ldavis_el389624699561938568447602835\", ldavis_el389624699561938568447602835_data);\n",
       "            })\n",
       "         });\n",
       "}\n",
       "</script>"
      ],
      "text/plain": [
       "<IPython.core.display.HTML object>"
      ]
     },
     "execution_count": 78,
     "metadata": {},
     "output_type": "execute_result"
    }
   ],
   "source": [
    "pyLDAvis.display(viz_data)"
   ]
  },
  {
   "cell_type": "code",
   "execution_count": 79,
   "id": "7f155f76",
   "metadata": {},
   "outputs": [],
   "source": [
    "pyLDAvis.save_html(viz_data, 'LDAvis.html')"
   ]
  },
  {
   "cell_type": "code",
   "execution_count": 86,
   "id": "e1b60a39",
   "metadata": {},
   "outputs": [],
   "source": [
    "classes = []\n",
    "for i in range(len(df_LDA)):\n",
    "    classes.append(max(model.get_document_topics(corpus[i]), key=lambda t: t[1])[0])\n",
    "\n",
    "df_LDA['class'] = classes"
   ]
  },
  {
   "cell_type": "code",
   "execution_count": 87,
   "id": "440c448f",
   "metadata": {},
   "outputs": [
    {
     "data": {
      "text/html": [
       "<div>\n",
       "<style scoped>\n",
       "    .dataframe tbody tr th:only-of-type {\n",
       "        vertical-align: middle;\n",
       "    }\n",
       "\n",
       "    .dataframe tbody tr th {\n",
       "        vertical-align: top;\n",
       "    }\n",
       "\n",
       "    .dataframe thead th {\n",
       "        text-align: right;\n",
       "    }\n",
       "</style>\n",
       "<table border=\"1\" class=\"dataframe\">\n",
       "  <thead>\n",
       "    <tr style=\"text-align: right;\">\n",
       "      <th></th>\n",
       "      <th>quoteID</th>\n",
       "      <th>quotation</th>\n",
       "      <th>speaker</th>\n",
       "      <th>date</th>\n",
       "      <th>numOccurrences</th>\n",
       "      <th>class</th>\n",
       "    </tr>\n",
       "  </thead>\n",
       "  <tbody>\n",
       "    <tr>\n",
       "      <th>0</th>\n",
       "      <td>2020-01-29-062975</td>\n",
       "      <td>[many, make, the, link, today, between, their,...</td>\n",
       "      <td>Peter Maurer</td>\n",
       "      <td>2020-01-29 09:04:36</td>\n",
       "      <td>5</td>\n",
       "      <td>1</td>\n",
       "    </tr>\n",
       "    <tr>\n",
       "      <th>1</th>\n",
       "      <td>2020-02-10-076321</td>\n",
       "      <td>[the, national, energy, and, climate, plans, a...</td>\n",
       "      <td>Kadri Simson</td>\n",
       "      <td>2020-02-10 05:51:51</td>\n",
       "      <td>1</td>\n",
       "      <td>1</td>\n",
       "    </tr>\n",
       "    <tr>\n",
       "      <th>2</th>\n",
       "      <td>2020-01-06-069057</td>\n",
       "      <td>[this, budget, also, allows, us, to, earmark, ...</td>\n",
       "      <td>John Whitehead</td>\n",
       "      <td>2020-01-06 11:49:00</td>\n",
       "      <td>1</td>\n",
       "      <td>1</td>\n",
       "    </tr>\n",
       "    <tr>\n",
       "      <th>3</th>\n",
       "      <td>2020-03-10-005294</td>\n",
       "      <td>[as, a, state, we, will, pursue, every, option...</td>\n",
       "      <td>Kate Brown</td>\n",
       "      <td>2020-03-10 20:47:28</td>\n",
       "      <td>2</td>\n",
       "      <td>1</td>\n",
       "    </tr>\n",
       "    <tr>\n",
       "      <th>4</th>\n",
       "      <td>2020-02-11-027545</td>\n",
       "      <td>[how, will, you, inspire, americans, who, have...</td>\n",
       "      <td>Amy Klobuchar</td>\n",
       "      <td>2020-02-11 12:29:43</td>\n",
       "      <td>1</td>\n",
       "      <td>1</td>\n",
       "    </tr>\n",
       "  </tbody>\n",
       "</table>\n",
       "</div>"
      ],
      "text/plain": [
       "             quoteID                                          quotation  \\\n",
       "0  2020-01-29-062975  [many, make, the, link, today, between, their,...   \n",
       "1  2020-02-10-076321  [the, national, energy, and, climate, plans, a...   \n",
       "2  2020-01-06-069057  [this, budget, also, allows, us, to, earmark, ...   \n",
       "3  2020-03-10-005294  [as, a, state, we, will, pursue, every, option...   \n",
       "4  2020-02-11-027545  [how, will, you, inspire, americans, who, have...   \n",
       "\n",
       "          speaker                date  numOccurrences  class  \n",
       "0    Peter Maurer 2020-01-29 09:04:36               5      1  \n",
       "1    Kadri Simson 2020-02-10 05:51:51               1      1  \n",
       "2  John Whitehead 2020-01-06 11:49:00               1      1  \n",
       "3      Kate Brown 2020-03-10 20:47:28               2      1  \n",
       "4   Amy Klobuchar 2020-02-11 12:29:43               1      1  "
      ]
     },
     "execution_count": 87,
     "metadata": {},
     "output_type": "execute_result"
    }
   ],
   "source": [
    "df_LDA.head()"
   ]
  },
  {
   "cell_type": "code",
   "execution_count": 89,
   "id": "b9643cb2",
   "metadata": {},
   "outputs": [],
   "source": [
    "speakers_per_class = pd.DataFrame(df_LDA.groupby('class')['speaker'].value_counts())\n",
    "speakers_per_class = speakers_per_class.rename({'speaker':'count'}, axis='columns')"
   ]
  },
  {
   "cell_type": "code",
   "execution_count": 90,
   "id": "f34a100d",
   "metadata": {},
   "outputs": [
    {
     "data": {
      "text/html": [
       "<div>\n",
       "<style scoped>\n",
       "    .dataframe tbody tr th:only-of-type {\n",
       "        vertical-align: middle;\n",
       "    }\n",
       "\n",
       "    .dataframe tbody tr th {\n",
       "        vertical-align: top;\n",
       "    }\n",
       "\n",
       "    .dataframe thead th {\n",
       "        text-align: right;\n",
       "    }\n",
       "</style>\n",
       "<table border=\"1\" class=\"dataframe\">\n",
       "  <thead>\n",
       "    <tr style=\"text-align: right;\">\n",
       "      <th></th>\n",
       "      <th>class</th>\n",
       "      <th>speaker</th>\n",
       "      <th>count</th>\n",
       "    </tr>\n",
       "  </thead>\n",
       "  <tbody>\n",
       "    <tr>\n",
       "      <th>0</th>\n",
       "      <td>0</td>\n",
       "      <td>Michael Mann</td>\n",
       "      <td>54</td>\n",
       "    </tr>\n",
       "    <tr>\n",
       "      <th>1</th>\n",
       "      <td>0</td>\n",
       "      <td>Terry Hughes</td>\n",
       "      <td>27</td>\n",
       "    </tr>\n",
       "    <tr>\n",
       "      <th>2</th>\n",
       "      <td>0</td>\n",
       "      <td>Noah Diffenbaugh</td>\n",
       "      <td>25</td>\n",
       "    </tr>\n",
       "    <tr>\n",
       "      <th>3</th>\n",
       "      <td>0</td>\n",
       "      <td>Petteri Taalas</td>\n",
       "      <td>25</td>\n",
       "    </tr>\n",
       "    <tr>\n",
       "      <th>4</th>\n",
       "      <td>0</td>\n",
       "      <td>President Obama</td>\n",
       "      <td>21</td>\n",
       "    </tr>\n",
       "    <tr>\n",
       "      <th>...</th>\n",
       "      <td>...</td>\n",
       "      <td>...</td>\n",
       "      <td>...</td>\n",
       "    </tr>\n",
       "    <tr>\n",
       "      <th>38512</th>\n",
       "      <td>7</td>\n",
       "      <td>Zhu Liu</td>\n",
       "      <td>1</td>\n",
       "    </tr>\n",
       "    <tr>\n",
       "      <th>38513</th>\n",
       "      <td>7</td>\n",
       "      <td>Zou Ji</td>\n",
       "      <td>1</td>\n",
       "    </tr>\n",
       "    <tr>\n",
       "      <th>38514</th>\n",
       "      <td>7</td>\n",
       "      <td>ed king</td>\n",
       "      <td>1</td>\n",
       "    </tr>\n",
       "    <tr>\n",
       "      <th>38515</th>\n",
       "      <td>7</td>\n",
       "      <td>fund manager</td>\n",
       "      <td>1</td>\n",
       "    </tr>\n",
       "    <tr>\n",
       "      <th>38516</th>\n",
       "      <td>7</td>\n",
       "      <td>Élisabeth Borne</td>\n",
       "      <td>1</td>\n",
       "    </tr>\n",
       "  </tbody>\n",
       "</table>\n",
       "<p>38517 rows × 3 columns</p>\n",
       "</div>"
      ],
      "text/plain": [
       "       class           speaker  count\n",
       "0          0      Michael Mann     54\n",
       "1          0      Terry Hughes     27\n",
       "2          0  Noah Diffenbaugh     25\n",
       "3          0    Petteri Taalas     25\n",
       "4          0   President Obama     21\n",
       "...      ...               ...    ...\n",
       "38512      7           Zhu Liu      1\n",
       "38513      7            Zou Ji      1\n",
       "38514      7           ed king      1\n",
       "38515      7      fund manager      1\n",
       "38516      7   Élisabeth Borne      1\n",
       "\n",
       "[38517 rows x 3 columns]"
      ]
     },
     "execution_count": 90,
     "metadata": {},
     "output_type": "execute_result"
    }
   ],
   "source": [
    "speakers_per_class.reset_index()"
   ]
  },
  {
   "cell_type": "code",
   "execution_count": 91,
   "id": "22f64eae",
   "metadata": {},
   "outputs": [
    {
     "data": {
      "text/html": [
       "<div>\n",
       "<style scoped>\n",
       "    .dataframe tbody tr th:only-of-type {\n",
       "        vertical-align: middle;\n",
       "    }\n",
       "\n",
       "    .dataframe tbody tr th {\n",
       "        vertical-align: top;\n",
       "    }\n",
       "\n",
       "    .dataframe thead th {\n",
       "        text-align: right;\n",
       "    }\n",
       "</style>\n",
       "<table border=\"1\" class=\"dataframe\">\n",
       "  <thead>\n",
       "    <tr style=\"text-align: right;\">\n",
       "      <th></th>\n",
       "      <th></th>\n",
       "      <th>count</th>\n",
       "    </tr>\n",
       "    <tr>\n",
       "      <th>class</th>\n",
       "      <th>speaker</th>\n",
       "      <th></th>\n",
       "    </tr>\n",
       "  </thead>\n",
       "  <tbody>\n",
       "    <tr>\n",
       "      <th rowspan=\"5\" valign=\"top\">0</th>\n",
       "      <th>Michael Mann</th>\n",
       "      <td>54</td>\n",
       "    </tr>\n",
       "    <tr>\n",
       "      <th>Terry Hughes</th>\n",
       "      <td>27</td>\n",
       "    </tr>\n",
       "    <tr>\n",
       "      <th>Noah Diffenbaugh</th>\n",
       "      <td>25</td>\n",
       "    </tr>\n",
       "    <tr>\n",
       "      <th>Petteri Taalas</th>\n",
       "      <td>25</td>\n",
       "    </tr>\n",
       "    <tr>\n",
       "      <th>President Obama</th>\n",
       "      <td>21</td>\n",
       "    </tr>\n",
       "    <tr>\n",
       "      <th rowspan=\"5\" valign=\"top\">1</th>\n",
       "      <th>Bernie Sanders</th>\n",
       "      <td>1119</td>\n",
       "    </tr>\n",
       "    <tr>\n",
       "      <th>President Barack Obama</th>\n",
       "      <td>824</td>\n",
       "    </tr>\n",
       "    <tr>\n",
       "      <th>Narendra Modi</th>\n",
       "      <td>749</td>\n",
       "    </tr>\n",
       "    <tr>\n",
       "      <th>Justin Trudeau</th>\n",
       "      <td>671</td>\n",
       "    </tr>\n",
       "    <tr>\n",
       "      <th>Jay Inslee</th>\n",
       "      <td>648</td>\n",
       "    </tr>\n",
       "    <tr>\n",
       "      <th rowspan=\"5\" valign=\"top\">2</th>\n",
       "      <th>Scott Pruitt</th>\n",
       "      <td>25</td>\n",
       "    </tr>\n",
       "    <tr>\n",
       "      <th>John Cook</th>\n",
       "      <td>10</td>\n",
       "    </tr>\n",
       "    <tr>\n",
       "      <th>Donald Trump</th>\n",
       "      <td>9</td>\n",
       "    </tr>\n",
       "    <tr>\n",
       "      <th>Michael Mann</th>\n",
       "      <td>9</td>\n",
       "    </tr>\n",
       "    <tr>\n",
       "      <th>Noah Diffenbaugh</th>\n",
       "      <td>9</td>\n",
       "    </tr>\n",
       "    <tr>\n",
       "      <th rowspan=\"5\" valign=\"top\">3</th>\n",
       "      <th>Bernie Sanders</th>\n",
       "      <td>83</td>\n",
       "    </tr>\n",
       "    <tr>\n",
       "      <th>Bill McKibben</th>\n",
       "      <td>17</td>\n",
       "    </tr>\n",
       "    <tr>\n",
       "      <th>Bill de Blasio</th>\n",
       "      <td>14</td>\n",
       "    </tr>\n",
       "    <tr>\n",
       "      <th>Joaquin Phoenix</th>\n",
       "      <td>13</td>\n",
       "    </tr>\n",
       "    <tr>\n",
       "      <th>Michael Mann</th>\n",
       "      <td>10</td>\n",
       "    </tr>\n",
       "    <tr>\n",
       "      <th rowspan=\"5\" valign=\"top\">4</th>\n",
       "      <th>Scott Pruitt</th>\n",
       "      <td>115</td>\n",
       "    </tr>\n",
       "    <tr>\n",
       "      <th>Michael Mann</th>\n",
       "      <td>109</td>\n",
       "    </tr>\n",
       "    <tr>\n",
       "      <th>Donald Trump</th>\n",
       "      <td>102</td>\n",
       "    </tr>\n",
       "    <tr>\n",
       "      <th>Ted Cruz</th>\n",
       "      <td>80</td>\n",
       "    </tr>\n",
       "    <tr>\n",
       "      <th>Bernie Sanders</th>\n",
       "      <td>66</td>\n",
       "    </tr>\n",
       "    <tr>\n",
       "      <th rowspan=\"5\" valign=\"top\">5</th>\n",
       "      <th>Scott Pruitt</th>\n",
       "      <td>16</td>\n",
       "    </tr>\n",
       "    <tr>\n",
       "      <th>Andrew Wheeler</th>\n",
       "      <td>9</td>\n",
       "    </tr>\n",
       "    <tr>\n",
       "      <th>Gavin Newsom</th>\n",
       "      <td>4</td>\n",
       "    </tr>\n",
       "    <tr>\n",
       "      <th>Mark Carney</th>\n",
       "      <td>4</td>\n",
       "    </tr>\n",
       "    <tr>\n",
       "      <th>Michael Bloomberg</th>\n",
       "      <td>4</td>\n",
       "    </tr>\n",
       "    <tr>\n",
       "      <th rowspan=\"2\" valign=\"top\">6</th>\n",
       "      <th>Laurent Fabius</th>\n",
       "      <td>2</td>\n",
       "    </tr>\n",
       "    <tr>\n",
       "      <th>James Kenney</th>\n",
       "      <td>1</td>\n",
       "    </tr>\n",
       "    <tr>\n",
       "      <th rowspan=\"5\" valign=\"top\">7</th>\n",
       "      <th>Gina McCarthy</th>\n",
       "      <td>54</td>\n",
       "    </tr>\n",
       "    <tr>\n",
       "      <th>Charlie Baker</th>\n",
       "      <td>36</td>\n",
       "    </tr>\n",
       "    <tr>\n",
       "      <th>Andrew Wheeler</th>\n",
       "      <td>34</td>\n",
       "    </tr>\n",
       "    <tr>\n",
       "      <th>Dustin Duncan</th>\n",
       "      <td>32</td>\n",
       "    </tr>\n",
       "    <tr>\n",
       "      <th>Jerry Brown</th>\n",
       "      <td>31</td>\n",
       "    </tr>\n",
       "  </tbody>\n",
       "</table>\n",
       "</div>"
      ],
      "text/plain": [
       "                              count\n",
       "class speaker                      \n",
       "0     Michael Mann               54\n",
       "      Terry Hughes               27\n",
       "      Noah Diffenbaugh           25\n",
       "      Petteri Taalas             25\n",
       "      President Obama            21\n",
       "1     Bernie Sanders           1119\n",
       "      President Barack Obama    824\n",
       "      Narendra Modi             749\n",
       "      Justin Trudeau            671\n",
       "      Jay Inslee                648\n",
       "2     Scott Pruitt               25\n",
       "      John Cook                  10\n",
       "      Donald Trump                9\n",
       "      Michael Mann                9\n",
       "      Noah Diffenbaugh            9\n",
       "3     Bernie Sanders             83\n",
       "      Bill McKibben              17\n",
       "      Bill de Blasio             14\n",
       "      Joaquin Phoenix            13\n",
       "      Michael Mann               10\n",
       "4     Scott Pruitt              115\n",
       "      Michael Mann              109\n",
       "      Donald Trump              102\n",
       "      Ted Cruz                   80\n",
       "      Bernie Sanders             66\n",
       "5     Scott Pruitt               16\n",
       "      Andrew Wheeler              9\n",
       "      Gavin Newsom                4\n",
       "      Mark Carney                 4\n",
       "      Michael Bloomberg           4\n",
       "6     Laurent Fabius              2\n",
       "      James Kenney                1\n",
       "7     Gina McCarthy              54\n",
       "      Charlie Baker              36\n",
       "      Andrew Wheeler             34\n",
       "      Dustin Duncan              32\n",
       "      Jerry Brown                31"
      ]
     },
     "execution_count": 91,
     "metadata": {},
     "output_type": "execute_result"
    }
   ],
   "source": [
    "speakers_per_class.groupby('class').head()"
   ]
  },
  {
   "cell_type": "code",
   "execution_count": 92,
   "id": "412e45b1",
   "metadata": {},
   "outputs": [],
   "source": [
    "speakers_to_save = speakers_per_class.groupby('class')"
   ]
  },
  {
   "cell_type": "code",
   "execution_count": 93,
   "id": "af7abf86",
   "metadata": {},
   "outputs": [],
   "source": [
    "speakers_per_class.to_pickle(\"speaker_per_class.pkl\")"
   ]
  },
  {
   "cell_type": "code",
   "execution_count": 94,
   "id": "8d7e4e4c",
   "metadata": {},
   "outputs": [],
   "source": [
    "df_LDA.to_pickle(\"quotes_topic_associated.pkl\")"
   ]
  },
  {
   "cell_type": "markdown",
   "id": "13deb95a",
   "metadata": {},
   "source": [
    "#### Conclusion of LDA:\n"
   ]
  },
  {
   "cell_type": "markdown",
   "id": "fe1d42f7",
   "metadata": {},
   "source": [
    "<a id = word_cloud></a>\n",
    "##### 3.2 Word Cloud"
   ]
  },
  {
   "cell_type": "code",
   "execution_count": 98,
   "id": "e321d7b8",
   "metadata": {},
   "outputs": [],
   "source": [
    "from wordcloud import WordCloud, ImageColorGenerator"
   ]
  },
  {
   "cell_type": "code",
   "execution_count": 99,
   "id": "ffd66528",
   "metadata": {},
   "outputs": [],
   "source": [
    "vocab =['climate','change','people','crisis','need','issue','action','one','like','time','way','make','going','think','take','would','want','know','thing'\n",
    "       'impact','year','effect','human','water','level','already','weather','fire','future','extreme','event','next','increase','last','may','area','also','generation', 'decade'\n",
    "       'world','country','challenge','threat','state','around','work','face','today','together','leader','australia','nation','forward','first','facing','agreement','international','leadership','start'\n",
    "       'global','warming','global_warming','president','trump','zero','everything','administration','net_zero','degree','net','house','made','limit','man','called','customer','person','bit','donald'\n",
    "       'emergency','fuel','fossil','fossil_fuel','line','energy','kid','front','news','story','burning','prime', 'minister','middle','remain','class','changed','type','transform','front_line'\n",
    "       'development','sustainable','resource','security','natural']"
   ]
  },
  {
   "cell_type": "code",
   "execution_count": 100,
   "id": "cbb0fc10",
   "metadata": {},
   "outputs": [],
   "source": [
    "#Give our USA corpus a variable name\n",
    "usa_corpus = \" \".join(vocab)"
   ]
  },
  {
   "cell_type": "code",
   "execution_count": 111,
   "id": "1fd39acf",
   "metadata": {},
   "outputs": [],
   "source": [
    "from PIL import Image"
   ]
  },
  {
   "cell_type": "code",
   "execution_count": 112,
   "id": "4c204c21",
   "metadata": {},
   "outputs": [],
   "source": [
    "usa_mask = np.array(Image.open('usa.jpg'))"
   ]
  },
  {
   "cell_type": "code",
   "execution_count": 113,
   "id": "fdbb307f",
   "metadata": {},
   "outputs": [
    {
     "data": {
      "image/png": "[encoded data removed]",
      "text/plain": [
       "<Figure size 720x576 with 1 Axes>"
      ]
     },
     "metadata": {
      "needs_background": "light"
     },
     "output_type": "display_data"
    },
    {
     "data": {
      "text/plain": [
       "<Figure size 432x288 with 0 Axes>"
      ]
     },
     "metadata": {},
     "output_type": "display_data"
    }
   ],
   "source": [
    "def generate_better_wordcloud(data, title, mask=None):\n",
    "    cloud = WordCloud(scale=3,\n",
    "                      max_words=250,\n",
    "                      colormap='viridis',\n",
    "                      mask=mask,\n",
    "                      background_color='white',\n",
    "                      collocations=True).generate_from_text(data)\n",
    "    plt.figure(figsize=(10,8))\n",
    "    plt.imshow(cloud)\n",
    "    plt.axis('off')\n",
    "    plt.title(title)\n",
    "    plt.show()\n",
    "    plt.savefig('usa_map.png')\n",
    "    \n",
    "# Use the function with the rome_corpus and our mask to create word cloud     \n",
    "generate_better_wordcloud(usa_corpus, '', mask=usa_mask)"
   ]
  },
  {
   "cell_type": "markdown",
   "id": "dc80bf9d",
   "metadata": {},
   "source": [
    "<a id = quotes_party_topic></a>\n",
    "##### 3.3 Distribution of quotes by party in each topic"
   ]
  },
  {
   "cell_type": "code",
   "execution_count": 117,
   "id": "53ebe2fe",
   "metadata": {},
   "outputs": [],
   "source": [
    "#Copying data\n",
    "df_dist = data"
   ]
  },
  {
   "cell_type": "code",
   "execution_count": 163,
   "id": "6ef4eeb1",
   "metadata": {},
   "outputs": [],
   "source": [
    "# We open the dataframe with each quote associated to a topic from the end of the LDA file\n",
    "df_dist = pd.read_pickle('quotes_topic_associated.pkl')"
   ]
  },
  {
   "cell_type": "code",
   "execution_count": 164,
   "id": "841caa63",
   "metadata": {},
   "outputs": [],
   "source": [
    "# rename in order to make next merge on speaker attribute\n",
    "df_dist = df_dist.rename(columns={'speaker': 'label'})"
   ]
  },
  {
   "cell_type": "code",
   "execution_count": 165,
   "id": "77302b7a",
   "metadata": {},
   "outputs": [
    {
     "data": {
      "text/html": [
       "<div>\n",
       "<style scoped>\n",
       "    .dataframe tbody tr th:only-of-type {\n",
       "        vertical-align: middle;\n",
       "    }\n",
       "\n",
       "    .dataframe tbody tr th {\n",
       "        vertical-align: top;\n",
       "    }\n",
       "\n",
       "    .dataframe thead th {\n",
       "        text-align: right;\n",
       "    }\n",
       "</style>\n",
       "<table border=\"1\" class=\"dataframe\">\n",
       "  <thead>\n",
       "    <tr style=\"text-align: right;\">\n",
       "      <th></th>\n",
       "      <th>quoteID</th>\n",
       "      <th>quotation</th>\n",
       "      <th>label</th>\n",
       "      <th>date</th>\n",
       "      <th>numOccurrences</th>\n",
       "      <th>class</th>\n",
       "    </tr>\n",
       "  </thead>\n",
       "  <tbody>\n",
       "    <tr>\n",
       "      <th>5265</th>\n",
       "      <td>2015-08-19-056730</td>\n",
       "      <td>[it, s, very, important, to, understand, how, ...</td>\n",
       "      <td>Helen McGregor</td>\n",
       "      <td>2015-08-19 11:46:00</td>\n",
       "      <td>2</td>\n",
       "      <td>2</td>\n",
       "    </tr>\n",
       "    <tr>\n",
       "      <th>5891</th>\n",
       "      <td>2015-09-28-067347</td>\n",
       "      <td>[man, made, emissions, are, an, insignificant,...</td>\n",
       "      <td>John Abraham</td>\n",
       "      <td>2015-09-28 23:16:52</td>\n",
       "      <td>1</td>\n",
       "      <td>7</td>\n",
       "    </tr>\n",
       "    <tr>\n",
       "      <th>7868</th>\n",
       "      <td>2015-09-29-052783</td>\n",
       "      <td>[in, the, final, months, before, crucial, clim...</td>\n",
       "      <td>Bill de Blasio</td>\n",
       "      <td>2015-09-29 16:10:01</td>\n",
       "      <td>1</td>\n",
       "      <td>7</td>\n",
       "    </tr>\n",
       "    <tr>\n",
       "      <th>9207</th>\n",
       "      <td>2015-10-29-104475</td>\n",
       "      <td>[the, baker, polito, administration, is, fully...</td>\n",
       "      <td>Peter Lorenz</td>\n",
       "      <td>2015-10-29 10:49:41</td>\n",
       "      <td>3</td>\n",
       "      <td>3</td>\n",
       "    </tr>\n",
       "    <tr>\n",
       "      <th>9709</th>\n",
       "      <td>2015-05-07-042445</td>\n",
       "      <td>[the, general, narrative, is, addressing, clim...</td>\n",
       "      <td>Dallas Burtraw</td>\n",
       "      <td>2015-05-07 17:55:43</td>\n",
       "      <td>2</td>\n",
       "      <td>7</td>\n",
       "    </tr>\n",
       "  </tbody>\n",
       "</table>\n",
       "</div>"
      ],
      "text/plain": [
       "                quoteID                                          quotation  \\\n",
       "5265  2015-08-19-056730  [it, s, very, important, to, understand, how, ...   \n",
       "5891  2015-09-28-067347  [man, made, emissions, are, an, insignificant,...   \n",
       "7868  2015-09-29-052783  [in, the, final, months, before, crucial, clim...   \n",
       "9207  2015-10-29-104475  [the, baker, polito, administration, is, fully...   \n",
       "9709  2015-05-07-042445  [the, general, narrative, is, addressing, clim...   \n",
       "\n",
       "               label                date  numOccurrences  class  \n",
       "5265  Helen McGregor 2015-08-19 11:46:00               2      2  \n",
       "5891    John Abraham 2015-09-28 23:16:52               1      7  \n",
       "7868  Bill de Blasio 2015-09-29 16:10:01               1      7  \n",
       "9207    Peter Lorenz 2015-10-29 10:49:41               3      3  \n",
       "9709  Dallas Burtraw 2015-05-07 17:55:43               2      7  "
      ]
     },
     "execution_count": 165,
     "metadata": {},
     "output_type": "execute_result"
    }
   ],
   "source": [
    "df_dist.head()"
   ]
  },
  {
   "cell_type": "code",
   "execution_count": 167,
   "id": "dfee9495",
   "metadata": {},
   "outputs": [],
   "source": [
    "# We merge our dataframe on the speaker with the speaker dataframe in order to retrive speaker's Political party\n",
    "df_merged = pd.merge(df_dist, speaker_df, how='left', on='label')"
   ]
  },
  {
   "cell_type": "code",
   "execution_count": 168,
   "id": "9a371397",
   "metadata": {},
   "outputs": [],
   "source": [
    "# Some speakers are associated to multiple parties, we expand them in order to have a single party per quote\n",
    "df_merged = df_merged.dropna(subset=['party']).explode(column='party')"
   ]
  },
  {
   "cell_type": "code",
   "execution_count": 169,
   "id": "6caeb0ac",
   "metadata": {},
   "outputs": [],
   "source": [
    "# We remove useless attributes\n",
    "df_merged = df_merged.drop(['nationality', 'aliases', 'date_of_birth', 'gender', 'lastrevid', 'ethnic_group','US_congress_bio_ID', 'academic_degree', 'religion', 'date','type', 'candidacy' ], axis=1)"
   ]
  },
  {
   "cell_type": "code",
   "execution_count": 170,
   "id": "d0a45477",
   "metadata": {},
   "outputs": [],
   "source": [
    "# Rename in order to merge with QID dataset\n",
    "df_merged = df_merged.rename(columns={'party': 'QID'})"
   ]
  },
  {
   "cell_type": "code",
   "execution_count": 171,
   "id": "8aad38b2",
   "metadata": {},
   "outputs": [],
   "source": [
    "df_new = pd.merge(df_merged, QID, on='QID')"
   ]
  },
  {
   "cell_type": "code",
   "execution_count": 172,
   "id": "6a97a5eb",
   "metadata": {},
   "outputs": [],
   "source": [
    "df_new.dropna(inplace=True)"
   ]
  },
  {
   "cell_type": "code",
   "execution_count": 173,
   "id": "af4f3c82",
   "metadata": {},
   "outputs": [],
   "source": [
    "# We keep only american parties\n",
    "df_new = df_new[df_new['Description'].str.contains('United States')]"
   ]
  },
  {
   "cell_type": "code",
   "execution_count": 174,
   "id": "ee2d539b",
   "metadata": {},
   "outputs": [],
   "source": [
    "# Main Instruction : \n",
    "# Counting for each class (i.e 'Topic') the frequency (normalize=True) of quotes per political party\n",
    "# and we store it in 'Frequency of quotes'\n",
    "df_frequencies = df_new.groupby('class')['Label'].value_counts(normalize=True, sort=True, ascending=False).to_frame('Frequency of Quotes')"
   ]
  },
  {
   "cell_type": "code",
   "execution_count": 175,
   "id": "55130551",
   "metadata": {},
   "outputs": [],
   "source": [
    "df_frequencies = df_frequencies.reset_index()\n",
    "\n",
    "# Remove marginal parties : less than 1.5% \n",
    "df_frequencies = df_frequencies[df_frequencies.reset_index()['Frequency of Quotes']>0.015]\n",
    "\n",
    "# Give meaningful names to attributes\n",
    "df_frequencies = df_frequencies.rename(columns={'class': 'Topic','Label':'Party' })\n",
    "\n",
    "# To recover the topic's numbers\n",
    "df_frequencies['Topic'] = df_frequencies['Topic'] + 1"
   ]
  },
  {
   "cell_type": "code",
   "execution_count": 176,
   "id": "b4a3fe77",
   "metadata": {},
   "outputs": [
    {
     "data": {
      "text/html": [
       "<div>\n",
       "<style scoped>\n",
       "    .dataframe tbody tr th:only-of-type {\n",
       "        vertical-align: middle;\n",
       "    }\n",
       "\n",
       "    .dataframe tbody tr th {\n",
       "        vertical-align: top;\n",
       "    }\n",
       "\n",
       "    .dataframe thead th {\n",
       "        text-align: right;\n",
       "    }\n",
       "</style>\n",
       "<table border=\"1\" class=\"dataframe\">\n",
       "  <thead>\n",
       "    <tr style=\"text-align: right;\">\n",
       "      <th></th>\n",
       "      <th>Topic</th>\n",
       "      <th>Party</th>\n",
       "      <th>Frequency of Quotes</th>\n",
       "    </tr>\n",
       "  </thead>\n",
       "  <tbody>\n",
       "    <tr>\n",
       "      <th>0</th>\n",
       "      <td>1</td>\n",
       "      <td>Democratic Party</td>\n",
       "      <td>0.666667</td>\n",
       "    </tr>\n",
       "    <tr>\n",
       "      <th>1</th>\n",
       "      <td>1</td>\n",
       "      <td>Republican Party</td>\n",
       "      <td>0.333333</td>\n",
       "    </tr>\n",
       "    <tr>\n",
       "      <th>2</th>\n",
       "      <td>2</td>\n",
       "      <td>Republican Party</td>\n",
       "      <td>0.777778</td>\n",
       "    </tr>\n",
       "    <tr>\n",
       "      <th>3</th>\n",
       "      <td>2</td>\n",
       "      <td>Democratic Party</td>\n",
       "      <td>0.222222</td>\n",
       "    </tr>\n",
       "    <tr>\n",
       "      <th>4</th>\n",
       "      <td>3</td>\n",
       "      <td>Republican Party</td>\n",
       "      <td>0.809211</td>\n",
       "    </tr>\n",
       "    <tr>\n",
       "      <th>5</th>\n",
       "      <td>3</td>\n",
       "      <td>Democratic Party</td>\n",
       "      <td>0.184211</td>\n",
       "    </tr>\n",
       "    <tr>\n",
       "      <th>7</th>\n",
       "      <td>4</td>\n",
       "      <td>Democratic Party</td>\n",
       "      <td>0.827149</td>\n",
       "    </tr>\n",
       "    <tr>\n",
       "      <th>8</th>\n",
       "      <td>4</td>\n",
       "      <td>Republican Party</td>\n",
       "      <td>0.159276</td>\n",
       "    </tr>\n",
       "    <tr>\n",
       "      <th>11</th>\n",
       "      <td>5</td>\n",
       "      <td>Democratic Party</td>\n",
       "      <td>0.640000</td>\n",
       "    </tr>\n",
       "    <tr>\n",
       "      <th>12</th>\n",
       "      <td>5</td>\n",
       "      <td>Republican Party</td>\n",
       "      <td>0.360000</td>\n",
       "    </tr>\n",
       "    <tr>\n",
       "      <th>13</th>\n",
       "      <td>6</td>\n",
       "      <td>Democratic Party</td>\n",
       "      <td>0.543278</td>\n",
       "    </tr>\n",
       "    <tr>\n",
       "      <th>14</th>\n",
       "      <td>6</td>\n",
       "      <td>Republican Party</td>\n",
       "      <td>0.447514</td>\n",
       "    </tr>\n",
       "    <tr>\n",
       "      <th>19</th>\n",
       "      <td>7</td>\n",
       "      <td>Democratic Party</td>\n",
       "      <td>0.643799</td>\n",
       "    </tr>\n",
       "    <tr>\n",
       "      <th>20</th>\n",
       "      <td>7</td>\n",
       "      <td>Republican Party</td>\n",
       "      <td>0.343008</td>\n",
       "    </tr>\n",
       "    <tr>\n",
       "      <th>22</th>\n",
       "      <td>8</td>\n",
       "      <td>Democratic Party</td>\n",
       "      <td>0.705942</td>\n",
       "    </tr>\n",
       "    <tr>\n",
       "      <th>23</th>\n",
       "      <td>8</td>\n",
       "      <td>Republican Party</td>\n",
       "      <td>0.278669</td>\n",
       "    </tr>\n",
       "  </tbody>\n",
       "</table>\n",
       "</div>"
      ],
      "text/plain": [
       "    Topic             Party  Frequency of Quotes\n",
       "0       1  Democratic Party             0.666667\n",
       "1       1  Republican Party             0.333333\n",
       "2       2  Republican Party             0.777778\n",
       "3       2  Democratic Party             0.222222\n",
       "4       3  Republican Party             0.809211\n",
       "5       3  Democratic Party             0.184211\n",
       "7       4  Democratic Party             0.827149\n",
       "8       4  Republican Party             0.159276\n",
       "11      5  Democratic Party             0.640000\n",
       "12      5  Republican Party             0.360000\n",
       "13      6  Democratic Party             0.543278\n",
       "14      6  Republican Party             0.447514\n",
       "19      7  Democratic Party             0.643799\n",
       "20      7  Republican Party             0.343008\n",
       "22      8  Democratic Party             0.705942\n",
       "23      8  Republican Party             0.278669"
      ]
     },
     "execution_count": 176,
     "metadata": {},
     "output_type": "execute_result"
    }
   ],
   "source": [
    "df_frequencies"
   ]
  },
  {
   "cell_type": "code",
   "execution_count": 177,
   "id": "f52c0b57",
   "metadata": {},
   "outputs": [
    {
     "data": {
      "application/vnd.plotly.v1+json": {
       "config": {
        "plotlyServerURL": "https://plot.ly"
       },
       "data": [
        {
         "alignmentgroup": "True",
         "hovertemplate": "Party=%{x}<br>Topic=1<br>Frequency of Quotes=%{y}<extra></extra>",
         "legendgroup": "Democratic Party",
         "marker": {
          "color": "#636efa",
          "pattern": {
           "shape": ""
          }
         },
         "name": "Democratic Party",
         "offsetgroup": "Democratic Party",
         "orientation": "v",
         "showlegend": true,
         "textposition": "auto",
         "type": "bar",
         "x": [
          "Democratic Party"
         ],
         "xaxis": "x",
         "y": [
          0.6666666666666666
         ],
         "yaxis": "y"
        },
        {
         "alignmentgroup": "True",
         "hovertemplate": "Party=%{x}<br>Topic=2<br>Frequency of Quotes=%{y}<extra></extra>",
         "legendgroup": "Democratic Party",
         "marker": {
          "color": "#636efa",
          "pattern": {
           "shape": ""
          }
         },
         "name": "Democratic Party",
         "offsetgroup": "Democratic Party",
         "orientation": "v",
         "showlegend": false,
         "textposition": "auto",
         "type": "bar",
         "x": [
          "Democratic Party"
         ],
         "xaxis": "x2",
         "y": [
          0.2222222222222222
         ],
         "yaxis": "y2"
        },
        {
         "alignmentgroup": "True",
         "hovertemplate": "Party=%{x}<br>Topic=3<br>Frequency of Quotes=%{y}<extra></extra>",
         "legendgroup": "Democratic Party",
         "marker": {
          "color": "#636efa",
          "pattern": {
           "shape": ""
          }
         },
         "name": "Democratic Party",
         "offsetgroup": "Democratic Party",
         "orientation": "v",
         "showlegend": false,
         "textposition": "auto",
         "type": "bar",
         "x": [
          "Democratic Party"
         ],
         "xaxis": "x3",
         "y": [
          0.18421052631578946
         ],
         "yaxis": "y3"
        },
        {
         "alignmentgroup": "True",
         "hovertemplate": "Party=%{x}<br>Topic=4<br>Frequency of Quotes=%{y}<extra></extra>",
         "legendgroup": "Democratic Party",
         "marker": {
          "color": "#636efa",
          "pattern": {
           "shape": ""
          }
         },
         "name": "Democratic Party",
         "offsetgroup": "Democratic Party",
         "orientation": "v",
         "showlegend": false,
         "textposition": "auto",
         "type": "bar",
         "x": [
          "Democratic Party"
         ],
         "xaxis": "x4",
         "y": [
          0.8271493212669683
         ],
         "yaxis": "y4"
        },
        {
         "alignmentgroup": "True",
         "hovertemplate": "Party=%{x}<br>Topic=5<br>Frequency of Quotes=%{y}<extra></extra>",
         "legendgroup": "Democratic Party",
         "marker": {
          "color": "#636efa",
          "pattern": {
           "shape": ""
          }
         },
         "name": "Democratic Party",
         "offsetgroup": "Democratic Party",
         "orientation": "v",
         "showlegend": false,
         "textposition": "auto",
         "type": "bar",
         "x": [
          "Democratic Party"
         ],
         "xaxis": "x5",
         "y": [
          0.64
         ],
         "yaxis": "y5"
        },
        {
         "alignmentgroup": "True",
         "hovertemplate": "Party=%{x}<br>Topic=6<br>Frequency of Quotes=%{y}<extra></extra>",
         "legendgroup": "Democratic Party",
         "marker": {
          "color": "#636efa",
          "pattern": {
           "shape": ""
          }
         },
         "name": "Democratic Party",
         "offsetgroup": "Democratic Party",
         "orientation": "v",
         "showlegend": false,
         "textposition": "auto",
         "type": "bar",
         "x": [
          "Democratic Party"
         ],
         "xaxis": "x6",
         "y": [
          0.5432780847145487
         ],
         "yaxis": "y6"
        },
        {
         "alignmentgroup": "True",
         "hovertemplate": "Party=%{x}<br>Topic=7<br>Frequency of Quotes=%{y}<extra></extra>",
         "legendgroup": "Democratic Party",
         "marker": {
          "color": "#636efa",
          "pattern": {
           "shape": ""
          }
         },
         "name": "Democratic Party",
         "offsetgroup": "Democratic Party",
         "orientation": "v",
         "showlegend": false,
         "textposition": "auto",
         "type": "bar",
         "x": [
          "Democratic Party"
         ],
         "xaxis": "x7",
         "y": [
          0.6437994722955145
         ],
         "yaxis": "y7"
        },
        {
         "alignmentgroup": "True",
         "hovertemplate": "Party=%{x}<br>Topic=8<br>Frequency of Quotes=%{y}<extra></extra>",
         "legendgroup": "Democratic Party",
         "marker": {
          "color": "#636efa",
          "pattern": {
           "shape": ""
          }
         },
         "name": "Democratic Party",
         "offsetgroup": "Democratic Party",
         "orientation": "v",
         "showlegend": false,
         "textposition": "auto",
         "type": "bar",
         "x": [
          "Democratic Party"
         ],
         "xaxis": "x8",
         "y": [
          0.7059417538473967
         ],
         "yaxis": "y8"
        },
        {
         "alignmentgroup": "True",
         "hovertemplate": "Party=%{x}<br>Topic=1<br>Frequency of Quotes=%{y}<extra></extra>",
         "legendgroup": "Republican Party",
         "marker": {
          "color": "#EF553B",
          "pattern": {
           "shape": ""
          }
         },
         "name": "Republican Party",
         "offsetgroup": "Republican Party",
         "orientation": "v",
         "showlegend": true,
         "textposition": "auto",
         "type": "bar",
         "x": [
          "Republican Party"
         ],
         "xaxis": "x",
         "y": [
          0.3333333333333333
         ],
         "yaxis": "y"
        },
        {
         "alignmentgroup": "True",
         "hovertemplate": "Party=%{x}<br>Topic=2<br>Frequency of Quotes=%{y}<extra></extra>",
         "legendgroup": "Republican Party",
         "marker": {
          "color": "#EF553B",
          "pattern": {
           "shape": ""
          }
         },
         "name": "Republican Party",
         "offsetgroup": "Republican Party",
         "orientation": "v",
         "showlegend": false,
         "textposition": "auto",
         "type": "bar",
         "x": [
          "Republican Party"
         ],
         "xaxis": "x2",
         "y": [
          0.7777777777777778
         ],
         "yaxis": "y2"
        },
        {
         "alignmentgroup": "True",
         "hovertemplate": "Party=%{x}<br>Topic=3<br>Frequency of Quotes=%{y}<extra></extra>",
         "legendgroup": "Republican Party",
         "marker": {
          "color": "#EF553B",
          "pattern": {
           "shape": ""
          }
         },
         "name": "Republican Party",
         "offsetgroup": "Republican Party",
         "orientation": "v",
         "showlegend": false,
         "textposition": "auto",
         "type": "bar",
         "x": [
          "Republican Party"
         ],
         "xaxis": "x3",
         "y": [
          0.8092105263157895
         ],
         "yaxis": "y3"
        },
        {
         "alignmentgroup": "True",
         "hovertemplate": "Party=%{x}<br>Topic=4<br>Frequency of Quotes=%{y}<extra></extra>",
         "legendgroup": "Republican Party",
         "marker": {
          "color": "#EF553B",
          "pattern": {
           "shape": ""
          }
         },
         "name": "Republican Party",
         "offsetgroup": "Republican Party",
         "orientation": "v",
         "showlegend": false,
         "textposition": "auto",
         "type": "bar",
         "x": [
          "Republican Party"
         ],
         "xaxis": "x4",
         "y": [
          0.1592760180995475
         ],
         "yaxis": "y4"
        },
        {
         "alignmentgroup": "True",
         "hovertemplate": "Party=%{x}<br>Topic=5<br>Frequency of Quotes=%{y}<extra></extra>",
         "legendgroup": "Republican Party",
         "marker": {
          "color": "#EF553B",
          "pattern": {
           "shape": ""
          }
         },
         "name": "Republican Party",
         "offsetgroup": "Republican Party",
         "orientation": "v",
         "showlegend": false,
         "textposition": "auto",
         "type": "bar",
         "x": [
          "Republican Party"
         ],
         "xaxis": "x5",
         "y": [
          0.36
         ],
         "yaxis": "y5"
        },
        {
         "alignmentgroup": "True",
         "hovertemplate": "Party=%{x}<br>Topic=6<br>Frequency of Quotes=%{y}<extra></extra>",
         "legendgroup": "Republican Party",
         "marker": {
          "color": "#EF553B",
          "pattern": {
           "shape": ""
          }
         },
         "name": "Republican Party",
         "offsetgroup": "Republican Party",
         "orientation": "v",
         "showlegend": false,
         "textposition": "auto",
         "type": "bar",
         "x": [
          "Republican Party"
         ],
         "xaxis": "x6",
         "y": [
          0.44751381215469616
         ],
         "yaxis": "y6"
        },
        {
         "alignmentgroup": "True",
         "hovertemplate": "Party=%{x}<br>Topic=7<br>Frequency of Quotes=%{y}<extra></extra>",
         "legendgroup": "Republican Party",
         "marker": {
          "color": "#EF553B",
          "pattern": {
           "shape": ""
          }
         },
         "name": "Republican Party",
         "offsetgroup": "Republican Party",
         "orientation": "v",
         "showlegend": false,
         "textposition": "auto",
         "type": "bar",
         "x": [
          "Republican Party"
         ],
         "xaxis": "x7",
         "y": [
          0.34300791556728233
         ],
         "yaxis": "y7"
        },
        {
         "alignmentgroup": "True",
         "hovertemplate": "Party=%{x}<br>Topic=8<br>Frequency of Quotes=%{y}<extra></extra>",
         "legendgroup": "Republican Party",
         "marker": {
          "color": "#EF553B",
          "pattern": {
           "shape": ""
          }
         },
         "name": "Republican Party",
         "offsetgroup": "Republican Party",
         "orientation": "v",
         "showlegend": false,
         "textposition": "auto",
         "type": "bar",
         "x": [
          "Republican Party"
         ],
         "xaxis": "x8",
         "y": [
          0.2786686593690673
         ],
         "yaxis": "y8"
        }
       ],
       "layout": {
        "annotations": [
         {
          "font": {},
          "showarrow": false,
          "text": "Topic=1",
          "x": 0.05375,
          "xanchor": "center",
          "xref": "paper",
          "y": 1,
          "yanchor": "bottom",
          "yref": "paper"
         },
         {
          "font": {},
          "showarrow": false,
          "text": "Topic=2",
          "x": 0.18125,
          "xanchor": "center",
          "xref": "paper",
          "y": 1,
          "yanchor": "bottom",
          "yref": "paper"
         },
         {
          "font": {},
          "showarrow": false,
          "text": "Topic=3",
          "x": 0.30874999999999997,
          "xanchor": "center",
          "xref": "paper",
          "y": 1,
          "yanchor": "bottom",
          "yref": "paper"
         },
         {
          "font": {},
          "showarrow": false,
          "text": "Topic=4",
          "x": 0.43625,
          "xanchor": "center",
          "xref": "paper",
          "y": 1,
          "yanchor": "bottom",
          "yref": "paper"
         },
         {
          "font": {},
          "showarrow": false,
          "text": "Topic=5",
          "x": 0.56375,
          "xanchor": "center",
          "xref": "paper",
          "y": 1,
          "yanchor": "bottom",
          "yref": "paper"
         },
         {
          "font": {},
          "showarrow": false,
          "text": "Topic=6",
          "x": 0.6912499999999999,
          "xanchor": "center",
          "xref": "paper",
          "y": 1,
          "yanchor": "bottom",
          "yref": "paper"
         },
         {
          "font": {},
          "showarrow": false,
          "text": "Topic=7",
          "x": 0.8187500000000001,
          "xanchor": "center",
          "xref": "paper",
          "y": 1,
          "yanchor": "bottom",
          "yref": "paper"
         },
         {
          "font": {},
          "showarrow": false,
          "text": "Topic=8",
          "x": 0.94625,
          "xanchor": "center",
          "xref": "paper",
          "y": 1,
          "yanchor": "bottom",
          "yref": "paper"
         }
        ],
        "barmode": "group",
        "height": 500,
        "legend": {
         "title": {
          "text": "Party"
         },
         "tracegroupgap": 0
        },
        "template": {
         "data": {
          "bar": [
           {
            "error_x": {
             "color": "#2a3f5f"
            },
            "error_y": {
             "color": "#2a3f5f"
            },
            "marker": {
             "line": {
              "color": "#E5ECF6",
              "width": 0.5
             },
             "pattern": {
              "fillmode": "overlay",
              "size": 10,
              "solidity": 0.2
             }
            },
            "type": "bar"
           }
          ],
          "barpolar": [
           {
            "marker": {
             "line": {
              "color": "#E5ECF6",
              "width": 0.5
             },
             "pattern": {
              "fillmode": "overlay",
              "size": 10,
              "solidity": 0.2
             }
            },
            "type": "barpolar"
           }
          ],
          "carpet": [
           {
            "aaxis": {
             "endlinecolor": "#2a3f5f",
             "gridcolor": "white",
             "linecolor": "white",
             "minorgridcolor": "white",
             "startlinecolor": "#2a3f5f"
            },
            "baxis": {
             "endlinecolor": "#2a3f5f",
             "gridcolor": "white",
             "linecolor": "white",
             "minorgridcolor": "white",
             "startlinecolor": "#2a3f5f"
            },
            "type": "carpet"
           }
          ],
          "choropleth": [
           {
            "colorbar": {
             "outlinewidth": 0,
             "ticks": ""
            },
            "type": "choropleth"
           }
          ],
          "contour": [
           {
            "colorbar": {
             "outlinewidth": 0,
             "ticks": ""
            },
            "colorscale": [
             [
              0,
              "#0d0887"
             ],
             [
              0.1111111111111111,
              "#46039f"
             ],
             [
              0.2222222222222222,
              "#7201a8"
             ],
             [
              0.3333333333333333,
              "#9c179e"
             ],
             [
              0.4444444444444444,
              "#bd3786"
             ],
             [
              0.5555555555555556,
              "#d8576b"
             ],
             [
              0.6666666666666666,
              "#ed7953"
             ],
             [
              0.7777777777777778,
              "#fb9f3a"
             ],
             [
              0.8888888888888888,
              "#fdca26"
             ],
             [
              1,
              "#f0f921"
             ]
            ],
            "type": "contour"
           }
          ],
          "contourcarpet": [
           {
            "colorbar": {
             "outlinewidth": 0,
             "ticks": ""
            },
            "type": "contourcarpet"
           }
          ],
          "heatmap": [
           {
            "colorbar": {
             "outlinewidth": 0,
             "ticks": ""
            },
            "colorscale": [
             [
              0,
              "#0d0887"
             ],
             [
              0.1111111111111111,
              "#46039f"
             ],
             [
              0.2222222222222222,
              "#7201a8"
             ],
             [
              0.3333333333333333,
              "#9c179e"
             ],
             [
              0.4444444444444444,
              "#bd3786"
             ],
             [
              0.5555555555555556,
              "#d8576b"
             ],
             [
              0.6666666666666666,
              "#ed7953"
             ],
             [
              0.7777777777777778,
              "#fb9f3a"
             ],
             [
              0.8888888888888888,
              "#fdca26"
             ],
             [
              1,
              "#f0f921"
             ]
            ],
            "type": "heatmap"
           }
          ],
          "heatmapgl": [
           {
            "colorbar": {
             "outlinewidth": 0,
             "ticks": ""
            },
            "colorscale": [
             [
              0,
              "#0d0887"
             ],
             [
              0.1111111111111111,
              "#46039f"
             ],
             [
              0.2222222222222222,
              "#7201a8"
             ],
             [
              0.3333333333333333,
              "#9c179e"
             ],
             [
              0.4444444444444444,
              "#bd3786"
             ],
             [
              0.5555555555555556,
              "#d8576b"
             ],
             [
              0.6666666666666666,
              "#ed7953"
             ],
             [
              0.7777777777777778,
              "#fb9f3a"
             ],
             [
              0.8888888888888888,
              "#fdca26"
             ],
             [
              1,
              "#f0f921"
             ]
            ],
            "type": "heatmapgl"
           }
          ],
          "histogram": [
           {
            "marker": {
             "pattern": {
              "fillmode": "overlay",
              "size": 10,
              "solidity": 0.2
             }
            },
            "type": "histogram"
           }
          ],
          "histogram2d": [
           {
            "colorbar": {
             "outlinewidth": 0,
             "ticks": ""
            },
            "colorscale": [
             [
              0,
              "#0d0887"
             ],
             [
              0.1111111111111111,
              "#46039f"
             ],
             [
              0.2222222222222222,
              "#7201a8"
             ],
             [
              0.3333333333333333,
              "#9c179e"
             ],
             [
              0.4444444444444444,
              "#bd3786"
             ],
             [
              0.5555555555555556,
              "#d8576b"
             ],
             [
              0.6666666666666666,
              "#ed7953"
             ],
             [
              0.7777777777777778,
              "#fb9f3a"
             ],
             [
              0.8888888888888888,
              "#fdca26"
             ],
             [
              1,
              "#f0f921"
             ]
            ],
            "type": "histogram2d"
           }
          ],
          "histogram2dcontour": [
           {
            "colorbar": {
             "outlinewidth": 0,
             "ticks": ""
            },
            "colorscale": [
             [
              0,
              "#0d0887"
             ],
             [
              0.1111111111111111,
              "#46039f"
             ],
             [
              0.2222222222222222,
              "#7201a8"
             ],
             [
              0.3333333333333333,
              "#9c179e"
             ],
             [
              0.4444444444444444,
              "#bd3786"
             ],
             [
              0.5555555555555556,
              "#d8576b"
             ],
             [
              0.6666666666666666,
              "#ed7953"
             ],
             [
              0.7777777777777778,
              "#fb9f3a"
             ],
             [
              0.8888888888888888,
              "#fdca26"
             ],
             [
              1,
              "#f0f921"
             ]
            ],
            "type": "histogram2dcontour"
           }
          ],
          "mesh3d": [
           {
            "colorbar": {
             "outlinewidth": 0,
             "ticks": ""
            },
            "type": "mesh3d"
           }
          ],
          "parcoords": [
           {
            "line": {
             "colorbar": {
              "outlinewidth": 0,
              "ticks": ""
             }
            },
            "type": "parcoords"
           }
          ],
          "pie": [
           {
            "automargin": true,
            "type": "pie"
           }
          ],
          "scatter": [
           {
            "marker": {
             "colorbar": {
              "outlinewidth": 0,
              "ticks": ""
             }
            },
            "type": "scatter"
           }
          ],
          "scatter3d": [
           {
            "line": {
             "colorbar": {
              "outlinewidth": 0,
              "ticks": ""
             }
            },
            "marker": {
             "colorbar": {
              "outlinewidth": 0,
              "ticks": ""
             }
            },
            "type": "scatter3d"
           }
          ],
          "scattercarpet": [
           {
            "marker": {
             "colorbar": {
              "outlinewidth": 0,
              "ticks": ""
             }
            },
            "type": "scattercarpet"
           }
          ],
          "scattergeo": [
           {
            "marker": {
             "colorbar": {
              "outlinewidth": 0,
              "ticks": ""
             }
            },
            "type": "scattergeo"
           }
          ],
          "scattergl": [
           {
            "marker": {
             "colorbar": {
              "outlinewidth": 0,
              "ticks": ""
             }
            },
            "type": "scattergl"
           }
          ],
          "scattermapbox": [
           {
            "marker": {
             "colorbar": {
              "outlinewidth": 0,
              "ticks": ""
             }
            },
            "type": "scattermapbox"
           }
          ],
          "scatterpolar": [
           {
            "marker": {
             "colorbar": {
              "outlinewidth": 0,
              "ticks": ""
             }
            },
            "type": "scatterpolar"
           }
          ],
          "scatterpolargl": [
           {
            "marker": {
             "colorbar": {
              "outlinewidth": 0,
              "ticks": ""
             }
            },
            "type": "scatterpolargl"
           }
          ],
          "scatterternary": [
           {
            "marker": {
             "colorbar": {
              "outlinewidth": 0,
              "ticks": ""
             }
            },
            "type": "scatterternary"
           }
          ],
          "surface": [
           {
            "colorbar": {
             "outlinewidth": 0,
             "ticks": ""
            },
            "colorscale": [
             [
              0,
              "#0d0887"
             ],
             [
              0.1111111111111111,
              "#46039f"
             ],
             [
              0.2222222222222222,
              "#7201a8"
             ],
             [
              0.3333333333333333,
              "#9c179e"
             ],
             [
              0.4444444444444444,
              "#bd3786"
             ],
             [
              0.5555555555555556,
              "#d8576b"
             ],
             [
              0.6666666666666666,
              "#ed7953"
             ],
             [
              0.7777777777777778,
              "#fb9f3a"
             ],
             [
              0.8888888888888888,
              "#fdca26"
             ],
             [
              1,
              "#f0f921"
             ]
            ],
            "type": "surface"
           }
          ],
          "table": [
           {
            "cells": {
             "fill": {
              "color": "#EBF0F8"
             },
             "line": {
              "color": "white"
             }
            },
            "header": {
             "fill": {
              "color": "#C8D4E3"
             },
             "line": {
              "color": "white"
             }
            },
            "type": "table"
           }
          ]
         },
         "layout": {
          "annotationdefaults": {
           "arrowcolor": "#2a3f5f",
           "arrowhead": 0,
           "arrowwidth": 1
          },
          "autotypenumbers": "strict",
          "coloraxis": {
           "colorbar": {
            "outlinewidth": 0,
            "ticks": ""
           }
          },
          "colorscale": {
           "diverging": [
            [
             0,
             "#8e0152"
            ],
            [
             0.1,
             "#c51b7d"
            ],
            [
             0.2,
             "#de77ae"
            ],
            [
             0.3,
             "#f1b6da"
            ],
            [
             0.4,
             "#fde0ef"
            ],
            [
             0.5,
             "#f7f7f7"
            ],
            [
             0.6,
             "#e6f5d0"
            ],
            [
             0.7,
             "#b8e186"
            ],
            [
             0.8,
             "#7fbc41"
            ],
            [
             0.9,
             "#4d9221"
            ],
            [
             1,
             "#276419"
            ]
           ],
           "sequential": [
            [
             0,
             "#0d0887"
            ],
            [
             0.1111111111111111,
             "#46039f"
            ],
            [
             0.2222222222222222,
             "#7201a8"
            ],
            [
             0.3333333333333333,
             "#9c179e"
            ],
            [
             0.4444444444444444,
             "#bd3786"
            ],
            [
             0.5555555555555556,
             "#d8576b"
            ],
            [
             0.6666666666666666,
             "#ed7953"
            ],
            [
             0.7777777777777778,
             "#fb9f3a"
            ],
            [
             0.8888888888888888,
             "#fdca26"
            ],
            [
             1,
             "#f0f921"
            ]
           ],
           "sequentialminus": [
            [
             0,
             "#0d0887"
            ],
            [
             0.1111111111111111,
             "#46039f"
            ],
            [
             0.2222222222222222,
             "#7201a8"
            ],
            [
             0.3333333333333333,
             "#9c179e"
            ],
            [
             0.4444444444444444,
             "#bd3786"
            ],
            [
             0.5555555555555556,
             "#d8576b"
            ],
            [
             0.6666666666666666,
             "#ed7953"
            ],
            [
             0.7777777777777778,
             "#fb9f3a"
            ],
            [
             0.8888888888888888,
             "#fdca26"
            ],
            [
             1,
             "#f0f921"
            ]
           ]
          },
          "colorway": [
           "#636efa",
           "#EF553B",
           "#00cc96",
           "#ab63fa",
           "#FFA15A",
           "#19d3f3",
           "#FF6692",
           "#B6E880",
           "#FF97FF",
           "#FECB52"
          ],
          "font": {
           "color": "#2a3f5f"
          },
          "geo": {
           "bgcolor": "white",
           "lakecolor": "white",
           "landcolor": "#E5ECF6",
           "showlakes": true,
           "showland": true,
           "subunitcolor": "white"
          },
          "hoverlabel": {
           "align": "left"
          },
          "hovermode": "closest",
          "mapbox": {
           "style": "light"
          },
          "paper_bgcolor": "white",
          "plot_bgcolor": "#E5ECF6",
          "polar": {
           "angularaxis": {
            "gridcolor": "white",
            "linecolor": "white",
            "ticks": ""
           },
           "bgcolor": "#E5ECF6",
           "radialaxis": {
            "gridcolor": "white",
            "linecolor": "white",
            "ticks": ""
           }
          },
          "scene": {
           "xaxis": {
            "backgroundcolor": "#E5ECF6",
            "gridcolor": "white",
            "gridwidth": 2,
            "linecolor": "white",
            "showbackground": true,
            "ticks": "",
            "zerolinecolor": "white"
           },
           "yaxis": {
            "backgroundcolor": "#E5ECF6",
            "gridcolor": "white",
            "gridwidth": 2,
            "linecolor": "white",
            "showbackground": true,
            "ticks": "",
            "zerolinecolor": "white"
           },
           "zaxis": {
            "backgroundcolor": "#E5ECF6",
            "gridcolor": "white",
            "gridwidth": 2,
            "linecolor": "white",
            "showbackground": true,
            "ticks": "",
            "zerolinecolor": "white"
           }
          },
          "shapedefaults": {
           "line": {
            "color": "#2a3f5f"
           }
          },
          "ternary": {
           "aaxis": {
            "gridcolor": "white",
            "linecolor": "white",
            "ticks": ""
           },
           "baxis": {
            "gridcolor": "white",
            "linecolor": "white",
            "ticks": ""
           },
           "bgcolor": "#E5ECF6",
           "caxis": {
            "gridcolor": "white",
            "linecolor": "white",
            "ticks": ""
           }
          },
          "title": {
           "x": 0.05
          },
          "xaxis": {
           "automargin": true,
           "gridcolor": "white",
           "linecolor": "white",
           "ticks": "",
           "title": {
            "standoff": 15
           },
           "zerolinecolor": "white",
           "zerolinewidth": 2
          },
          "yaxis": {
           "automargin": true,
           "gridcolor": "white",
           "linecolor": "white",
           "ticks": "",
           "title": {
            "standoff": 15
           },
           "zerolinecolor": "white",
           "zerolinewidth": 2
          }
         }
        },
        "title": {
         "text": "Distribution of quotes by Party in each Topic",
         "x": 0.45,
         "xanchor": "center",
         "y": 0.9,
         "yanchor": "top"
        },
        "width": 900,
        "xaxis": {
         "anchor": "y",
         "categoryarray": [
          "Democratic Party",
          "Republican Party"
         ],
         "categoryorder": "array",
         "domain": [
          0,
          0.1075
         ],
         "title": {
          "text": "Party"
         }
        },
        "xaxis2": {
         "anchor": "y2",
         "categoryarray": [
          "Democratic Party",
          "Republican Party"
         ],
         "categoryorder": "array",
         "domain": [
          0.1275,
          0.235
         ],
         "matches": "x",
         "title": {
          "text": "Party"
         }
        },
        "xaxis3": {
         "anchor": "y3",
         "categoryarray": [
          "Democratic Party",
          "Republican Party"
         ],
         "categoryorder": "array",
         "domain": [
          0.255,
          0.3625
         ],
         "matches": "x",
         "title": {
          "text": "Party"
         }
        },
        "xaxis4": {
         "anchor": "y4",
         "categoryarray": [
          "Democratic Party",
          "Republican Party"
         ],
         "categoryorder": "array",
         "domain": [
          0.3825,
          0.49
         ],
         "matches": "x",
         "title": {
          "text": "Party"
         }
        },
        "xaxis5": {
         "anchor": "y5",
         "categoryarray": [
          "Democratic Party",
          "Republican Party"
         ],
         "categoryorder": "array",
         "domain": [
          0.51,
          0.6175
         ],
         "matches": "x",
         "title": {
          "text": "Party"
         }
        },
        "xaxis6": {
         "anchor": "y6",
         "categoryarray": [
          "Democratic Party",
          "Republican Party"
         ],
         "categoryorder": "array",
         "domain": [
          0.6375,
          0.745
         ],
         "matches": "x",
         "title": {
          "text": "Party"
         }
        },
        "xaxis7": {
         "anchor": "y7",
         "categoryarray": [
          "Democratic Party",
          "Republican Party"
         ],
         "categoryorder": "array",
         "domain": [
          0.765,
          0.8725
         ],
         "matches": "x",
         "title": {
          "text": "Party"
         }
        },
        "xaxis8": {
         "anchor": "y8",
         "categoryarray": [
          "Democratic Party",
          "Republican Party"
         ],
         "categoryorder": "array",
         "domain": [
          0.8925000000000001,
          1
         ],
         "matches": "x",
         "title": {
          "text": "Party"
         }
        },
        "yaxis": {
         "anchor": "x",
         "domain": [
          0,
          1
         ],
         "title": {
          "text": "Frequency of Quotes"
         }
        },
        "yaxis2": {
         "anchor": "x2",
         "domain": [
          0,
          1
         ],
         "matches": "y",
         "showticklabels": false
        },
        "yaxis3": {
         "anchor": "x3",
         "domain": [
          0,
          1
         ],
         "matches": "y",
         "showticklabels": false
        },
        "yaxis4": {
         "anchor": "x4",
         "domain": [
          0,
          1
         ],
         "matches": "y",
         "showticklabels": false
        },
        "yaxis5": {
         "anchor": "x5",
         "domain": [
          0,
          1
         ],
         "matches": "y",
         "showticklabels": false
        },
        "yaxis6": {
         "anchor": "x6",
         "domain": [
          0,
          1
         ],
         "matches": "y",
         "showticklabels": false
        },
        "yaxis7": {
         "anchor": "x7",
         "domain": [
          0,
          1
         ],
         "matches": "y",
         "showticklabels": false
        },
        "yaxis8": {
         "anchor": "x8",
         "domain": [
          0,
          1
         ],
         "matches": "y",
         "showticklabels": false
        }
       }
      },
      "text/html": [
       "<div>                            <div id=\"cec757dc-5fd7-4908-b246-aeda42c1cf96\" class=\"plotly-graph-div\" style=\"height:500px; width:900px;\"></div>            <script type=\"text/javascript\">                require([\"plotly\"], function(Plotly) {                    window.PLOTLYENV=window.PLOTLYENV || {};                                    if (document.getElementById(\"cec757dc-5fd7-4908-b246-aeda42c1cf96\")) {                    Plotly.newPlot(                        \"cec757dc-5fd7-4908-b246-aeda42c1cf96\",                        [{\"alignmentgroup\":\"True\",\"hovertemplate\":\"Party=%{x}<br>Topic=1<br>Frequency of Quotes=%{y}<extra></extra>\",\"legendgroup\":\"Democratic Party\",\"marker\":{\"color\":\"#636efa\",\"pattern\":{\"shape\":\"\"}},\"name\":\"Democratic Party\",\"offsetgroup\":\"Democratic Party\",\"orientation\":\"v\",\"showlegend\":true,\"textposition\":\"auto\",\"x\":[\"Democratic Party\"],\"xaxis\":\"x\",\"y\":[0.6666666666666666],\"yaxis\":\"y\",\"type\":\"bar\"},{\"alignmentgroup\":\"True\",\"hovertemplate\":\"Party=%{x}<br>Topic=2<br>Frequency of Quotes=%{y}<extra></extra>\",\"legendgroup\":\"Democratic Party\",\"marker\":{\"color\":\"#636efa\",\"pattern\":{\"shape\":\"\"}},\"name\":\"Democratic Party\",\"offsetgroup\":\"Democratic Party\",\"orientation\":\"v\",\"showlegend\":false,\"textposition\":\"auto\",\"x\":[\"Democratic Party\"],\"xaxis\":\"x2\",\"y\":[0.2222222222222222],\"yaxis\":\"y2\",\"type\":\"bar\"},{\"alignmentgroup\":\"True\",\"hovertemplate\":\"Party=%{x}<br>Topic=3<br>Frequency of Quotes=%{y}<extra></extra>\",\"legendgroup\":\"Democratic Party\",\"marker\":{\"color\":\"#636efa\",\"pattern\":{\"shape\":\"\"}},\"name\":\"Democratic Party\",\"offsetgroup\":\"Democratic Party\",\"orientation\":\"v\",\"showlegend\":false,\"textposition\":\"auto\",\"x\":[\"Democratic Party\"],\"xaxis\":\"x3\",\"y\":[0.18421052631578946],\"yaxis\":\"y3\",\"type\":\"bar\"},{\"alignmentgroup\":\"True\",\"hovertemplate\":\"Party=%{x}<br>Topic=4<br>Frequency of Quotes=%{y}<extra></extra>\",\"legendgroup\":\"Democratic Party\",\"marker\":{\"color\":\"#636efa\",\"pattern\":{\"shape\":\"\"}},\"name\":\"Democratic Party\",\"offsetgroup\":\"Democratic Party\",\"orientation\":\"v\",\"showlegend\":false,\"textposition\":\"auto\",\"x\":[\"Democratic Party\"],\"xaxis\":\"x4\",\"y\":[0.8271493212669683],\"yaxis\":\"y4\",\"type\":\"bar\"},{\"alignmentgroup\":\"True\",\"hovertemplate\":\"Party=%{x}<br>Topic=5<br>Frequency of Quotes=%{y}<extra></extra>\",\"legendgroup\":\"Democratic Party\",\"marker\":{\"color\":\"#636efa\",\"pattern\":{\"shape\":\"\"}},\"name\":\"Democratic Party\",\"offsetgroup\":\"Democratic Party\",\"orientation\":\"v\",\"showlegend\":false,\"textposition\":\"auto\",\"x\":[\"Democratic Party\"],\"xaxis\":\"x5\",\"y\":[0.64],\"yaxis\":\"y5\",\"type\":\"bar\"},{\"alignmentgroup\":\"True\",\"hovertemplate\":\"Party=%{x}<br>Topic=6<br>Frequency of Quotes=%{y}<extra></extra>\",\"legendgroup\":\"Democratic Party\",\"marker\":{\"color\":\"#636efa\",\"pattern\":{\"shape\":\"\"}},\"name\":\"Democratic Party\",\"offsetgroup\":\"Democratic Party\",\"orientation\":\"v\",\"showlegend\":false,\"textposition\":\"auto\",\"x\":[\"Democratic Party\"],\"xaxis\":\"x6\",\"y\":[0.5432780847145487],\"yaxis\":\"y6\",\"type\":\"bar\"},{\"alignmentgroup\":\"True\",\"hovertemplate\":\"Party=%{x}<br>Topic=7<br>Frequency of Quotes=%{y}<extra></extra>\",\"legendgroup\":\"Democratic Party\",\"marker\":{\"color\":\"#636efa\",\"pattern\":{\"shape\":\"\"}},\"name\":\"Democratic Party\",\"offsetgroup\":\"Democratic Party\",\"orientation\":\"v\",\"showlegend\":false,\"textposition\":\"auto\",\"x\":[\"Democratic Party\"],\"xaxis\":\"x7\",\"y\":[0.6437994722955145],\"yaxis\":\"y7\",\"type\":\"bar\"},{\"alignmentgroup\":\"True\",\"hovertemplate\":\"Party=%{x}<br>Topic=8<br>Frequency of Quotes=%{y}<extra></extra>\",\"legendgroup\":\"Democratic Party\",\"marker\":{\"color\":\"#636efa\",\"pattern\":{\"shape\":\"\"}},\"name\":\"Democratic Party\",\"offsetgroup\":\"Democratic Party\",\"orientation\":\"v\",\"showlegend\":false,\"textposition\":\"auto\",\"x\":[\"Democratic Party\"],\"xaxis\":\"x8\",\"y\":[0.7059417538473967],\"yaxis\":\"y8\",\"type\":\"bar\"},{\"alignmentgroup\":\"True\",\"hovertemplate\":\"Party=%{x}<br>Topic=1<br>Frequency of Quotes=%{y}<extra></extra>\",\"legendgroup\":\"Republican Party\",\"marker\":{\"color\":\"#EF553B\",\"pattern\":{\"shape\":\"\"}},\"name\":\"Republican Party\",\"offsetgroup\":\"Republican Party\",\"orientation\":\"v\",\"showlegend\":true,\"textposition\":\"auto\",\"x\":[\"Republican Party\"],\"xaxis\":\"x\",\"y\":[0.3333333333333333],\"yaxis\":\"y\",\"type\":\"bar\"},{\"alignmentgroup\":\"True\",\"hovertemplate\":\"Party=%{x}<br>Topic=2<br>Frequency of Quotes=%{y}<extra></extra>\",\"legendgroup\":\"Republican Party\",\"marker\":{\"color\":\"#EF553B\",\"pattern\":{\"shape\":\"\"}},\"name\":\"Republican Party\",\"offsetgroup\":\"Republican Party\",\"orientation\":\"v\",\"showlegend\":false,\"textposition\":\"auto\",\"x\":[\"Republican Party\"],\"xaxis\":\"x2\",\"y\":[0.7777777777777778],\"yaxis\":\"y2\",\"type\":\"bar\"},{\"alignmentgroup\":\"True\",\"hovertemplate\":\"Party=%{x}<br>Topic=3<br>Frequency of Quotes=%{y}<extra></extra>\",\"legendgroup\":\"Republican Party\",\"marker\":{\"color\":\"#EF553B\",\"pattern\":{\"shape\":\"\"}},\"name\":\"Republican Party\",\"offsetgroup\":\"Republican Party\",\"orientation\":\"v\",\"showlegend\":false,\"textposition\":\"auto\",\"x\":[\"Republican Party\"],\"xaxis\":\"x3\",\"y\":[0.8092105263157895],\"yaxis\":\"y3\",\"type\":\"bar\"},{\"alignmentgroup\":\"True\",\"hovertemplate\":\"Party=%{x}<br>Topic=4<br>Frequency of Quotes=%{y}<extra></extra>\",\"legendgroup\":\"Republican Party\",\"marker\":{\"color\":\"#EF553B\",\"pattern\":{\"shape\":\"\"}},\"name\":\"Republican Party\",\"offsetgroup\":\"Republican Party\",\"orientation\":\"v\",\"showlegend\":false,\"textposition\":\"auto\",\"x\":[\"Republican Party\"],\"xaxis\":\"x4\",\"y\":[0.1592760180995475],\"yaxis\":\"y4\",\"type\":\"bar\"},{\"alignmentgroup\":\"True\",\"hovertemplate\":\"Party=%{x}<br>Topic=5<br>Frequency of Quotes=%{y}<extra></extra>\",\"legendgroup\":\"Republican Party\",\"marker\":{\"color\":\"#EF553B\",\"pattern\":{\"shape\":\"\"}},\"name\":\"Republican Party\",\"offsetgroup\":\"Republican Party\",\"orientation\":\"v\",\"showlegend\":false,\"textposition\":\"auto\",\"x\":[\"Republican Party\"],\"xaxis\":\"x5\",\"y\":[0.36],\"yaxis\":\"y5\",\"type\":\"bar\"},{\"alignmentgroup\":\"True\",\"hovertemplate\":\"Party=%{x}<br>Topic=6<br>Frequency of Quotes=%{y}<extra></extra>\",\"legendgroup\":\"Republican Party\",\"marker\":{\"color\":\"#EF553B\",\"pattern\":{\"shape\":\"\"}},\"name\":\"Republican Party\",\"offsetgroup\":\"Republican Party\",\"orientation\":\"v\",\"showlegend\":false,\"textposition\":\"auto\",\"x\":[\"Republican Party\"],\"xaxis\":\"x6\",\"y\":[0.44751381215469616],\"yaxis\":\"y6\",\"type\":\"bar\"},{\"alignmentgroup\":\"True\",\"hovertemplate\":\"Party=%{x}<br>Topic=7<br>Frequency of Quotes=%{y}<extra></extra>\",\"legendgroup\":\"Republican Party\",\"marker\":{\"color\":\"#EF553B\",\"pattern\":{\"shape\":\"\"}},\"name\":\"Republican Party\",\"offsetgroup\":\"Republican Party\",\"orientation\":\"v\",\"showlegend\":false,\"textposition\":\"auto\",\"x\":[\"Republican Party\"],\"xaxis\":\"x7\",\"y\":[0.34300791556728233],\"yaxis\":\"y7\",\"type\":\"bar\"},{\"alignmentgroup\":\"True\",\"hovertemplate\":\"Party=%{x}<br>Topic=8<br>Frequency of Quotes=%{y}<extra></extra>\",\"legendgroup\":\"Republican Party\",\"marker\":{\"color\":\"#EF553B\",\"pattern\":{\"shape\":\"\"}},\"name\":\"Republican Party\",\"offsetgroup\":\"Republican Party\",\"orientation\":\"v\",\"showlegend\":false,\"textposition\":\"auto\",\"x\":[\"Republican Party\"],\"xaxis\":\"x8\",\"y\":[0.2786686593690673],\"yaxis\":\"y8\",\"type\":\"bar\"}],                        {\"template\":{\"data\":{\"bar\":[{\"error_x\":{\"color\":\"#2a3f5f\"},\"error_y\":{\"color\":\"#2a3f5f\"},\"marker\":{\"line\":{\"color\":\"#E5ECF6\",\"width\":0.5},\"pattern\":{\"fillmode\":\"overlay\",\"size\":10,\"solidity\":0.2}},\"type\":\"bar\"}],\"barpolar\":[{\"marker\":{\"line\":{\"color\":\"#E5ECF6\",\"width\":0.5},\"pattern\":{\"fillmode\":\"overlay\",\"size\":10,\"solidity\":0.2}},\"type\":\"barpolar\"}],\"carpet\":[{\"aaxis\":{\"endlinecolor\":\"#2a3f5f\",\"gridcolor\":\"white\",\"linecolor\":\"white\",\"minorgridcolor\":\"white\",\"startlinecolor\":\"#2a3f5f\"},\"baxis\":{\"endlinecolor\":\"#2a3f5f\",\"gridcolor\":\"white\",\"linecolor\":\"white\",\"minorgridcolor\":\"white\",\"startlinecolor\":\"#2a3f5f\"},\"type\":\"carpet\"}],\"choropleth\":[{\"colorbar\":{\"outlinewidth\":0,\"ticks\":\"\"},\"type\":\"choropleth\"}],\"contour\":[{\"colorbar\":{\"outlinewidth\":0,\"ticks\":\"\"},\"colorscale\":[[0.0,\"#0d0887\"],[0.1111111111111111,\"#46039f\"],[0.2222222222222222,\"#7201a8\"],[0.3333333333333333,\"#9c179e\"],[0.4444444444444444,\"#bd3786\"],[0.5555555555555556,\"#d8576b\"],[0.6666666666666666,\"#ed7953\"],[0.7777777777777778,\"#fb9f3a\"],[0.8888888888888888,\"#fdca26\"],[1.0,\"#f0f921\"]],\"type\":\"contour\"}],\"contourcarpet\":[{\"colorbar\":{\"outlinewidth\":0,\"ticks\":\"\"},\"type\":\"contourcarpet\"}],\"heatmap\":[{\"colorbar\":{\"outlinewidth\":0,\"ticks\":\"\"},\"colorscale\":[[0.0,\"#0d0887\"],[0.1111111111111111,\"#46039f\"],[0.2222222222222222,\"#7201a8\"],[0.3333333333333333,\"#9c179e\"],[0.4444444444444444,\"#bd3786\"],[0.5555555555555556,\"#d8576b\"],[0.6666666666666666,\"#ed7953\"],[0.7777777777777778,\"#fb9f3a\"],[0.8888888888888888,\"#fdca26\"],[1.0,\"#f0f921\"]],\"type\":\"heatmap\"}],\"heatmapgl\":[{\"colorbar\":{\"outlinewidth\":0,\"ticks\":\"\"},\"colorscale\":[[0.0,\"#0d0887\"],[0.1111111111111111,\"#46039f\"],[0.2222222222222222,\"#7201a8\"],[0.3333333333333333,\"#9c179e\"],[0.4444444444444444,\"#bd3786\"],[0.5555555555555556,\"#d8576b\"],[0.6666666666666666,\"#ed7953\"],[0.7777777777777778,\"#fb9f3a\"],[0.8888888888888888,\"#fdca26\"],[1.0,\"#f0f921\"]],\"type\":\"heatmapgl\"}],\"histogram\":[{\"marker\":{\"pattern\":{\"fillmode\":\"overlay\",\"size\":10,\"solidity\":0.2}},\"type\":\"histogram\"}],\"histogram2d\":[{\"colorbar\":{\"outlinewidth\":0,\"ticks\":\"\"},\"colorscale\":[[0.0,\"#0d0887\"],[0.1111111111111111,\"#46039f\"],[0.2222222222222222,\"#7201a8\"],[0.3333333333333333,\"#9c179e\"],[0.4444444444444444,\"#bd3786\"],[0.5555555555555556,\"#d8576b\"],[0.6666666666666666,\"#ed7953\"],[0.7777777777777778,\"#fb9f3a\"],[0.8888888888888888,\"#fdca26\"],[1.0,\"#f0f921\"]],\"type\":\"histogram2d\"}],\"histogram2dcontour\":[{\"colorbar\":{\"outlinewidth\":0,\"ticks\":\"\"},\"colorscale\":[[0.0,\"#0d0887\"],[0.1111111111111111,\"#46039f\"],[0.2222222222222222,\"#7201a8\"],[0.3333333333333333,\"#9c179e\"],[0.4444444444444444,\"#bd3786\"],[0.5555555555555556,\"#d8576b\"],[0.6666666666666666,\"#ed7953\"],[0.7777777777777778,\"#fb9f3a\"],[0.8888888888888888,\"#fdca26\"],[1.0,\"#f0f921\"]],\"type\":\"histogram2dcontour\"}],\"mesh3d\":[{\"colorbar\":{\"outlinewidth\":0,\"ticks\":\"\"},\"type\":\"mesh3d\"}],\"parcoords\":[{\"line\":{\"colorbar\":{\"outlinewidth\":0,\"ticks\":\"\"}},\"type\":\"parcoords\"}],\"pie\":[{\"automargin\":true,\"type\":\"pie\"}],\"scatter\":[{\"marker\":{\"colorbar\":{\"outlinewidth\":0,\"ticks\":\"\"}},\"type\":\"scatter\"}],\"scatter3d\":[{\"line\":{\"colorbar\":{\"outlinewidth\":0,\"ticks\":\"\"}},\"marker\":{\"colorbar\":{\"outlinewidth\":0,\"ticks\":\"\"}},\"type\":\"scatter3d\"}],\"scattercarpet\":[{\"marker\":{\"colorbar\":{\"outlinewidth\":0,\"ticks\":\"\"}},\"type\":\"scattercarpet\"}],\"scattergeo\":[{\"marker\":{\"colorbar\":{\"outlinewidth\":0,\"ticks\":\"\"}},\"type\":\"scattergeo\"}],\"scattergl\":[{\"marker\":{\"colorbar\":{\"outlinewidth\":0,\"ticks\":\"\"}},\"type\":\"scattergl\"}],\"scattermapbox\":[{\"marker\":{\"colorbar\":{\"outlinewidth\":0,\"ticks\":\"\"}},\"type\":\"scattermapbox\"}],\"scatterpolar\":[{\"marker\":{\"colorbar\":{\"outlinewidth\":0,\"ticks\":\"\"}},\"type\":\"scatterpolar\"}],\"scatterpolargl\":[{\"marker\":{\"colorbar\":{\"outlinewidth\":0,\"ticks\":\"\"}},\"type\":\"scatterpolargl\"}],\"scatterternary\":[{\"marker\":{\"colorbar\":{\"outlinewidth\":0,\"ticks\":\"\"}},\"type\":\"scatterternary\"}],\"surface\":[{\"colorbar\":{\"outlinewidth\":0,\"ticks\":\"\"},\"colorscale\":[[0.0,\"#0d0887\"],[0.1111111111111111,\"#46039f\"],[0.2222222222222222,\"#7201a8\"],[0.3333333333333333,\"#9c179e\"],[0.4444444444444444,\"#bd3786\"],[0.5555555555555556,\"#d8576b\"],[0.6666666666666666,\"#ed7953\"],[0.7777777777777778,\"#fb9f3a\"],[0.8888888888888888,\"#fdca26\"],[1.0,\"#f0f921\"]],\"type\":\"surface\"}],\"table\":[{\"cells\":{\"fill\":{\"color\":\"#EBF0F8\"},\"line\":{\"color\":\"white\"}},\"header\":{\"fill\":{\"color\":\"#C8D4E3\"},\"line\":{\"color\":\"white\"}},\"type\":\"table\"}]},\"layout\":{\"annotationdefaults\":{\"arrowcolor\":\"#2a3f5f\",\"arrowhead\":0,\"arrowwidth\":1},\"autotypenumbers\":\"strict\",\"coloraxis\":{\"colorbar\":{\"outlinewidth\":0,\"ticks\":\"\"}},\"colorscale\":{\"diverging\":[[0,\"#8e0152\"],[0.1,\"#c51b7d\"],[0.2,\"#de77ae\"],[0.3,\"#f1b6da\"],[0.4,\"#fde0ef\"],[0.5,\"#f7f7f7\"],[0.6,\"#e6f5d0\"],[0.7,\"#b8e186\"],[0.8,\"#7fbc41\"],[0.9,\"#4d9221\"],[1,\"#276419\"]],\"sequential\":[[0.0,\"#0d0887\"],[0.1111111111111111,\"#46039f\"],[0.2222222222222222,\"#7201a8\"],[0.3333333333333333,\"#9c179e\"],[0.4444444444444444,\"#bd3786\"],[0.5555555555555556,\"#d8576b\"],[0.6666666666666666,\"#ed7953\"],[0.7777777777777778,\"#fb9f3a\"],[0.8888888888888888,\"#fdca26\"],[1.0,\"#f0f921\"]],\"sequentialminus\":[[0.0,\"#0d0887\"],[0.1111111111111111,\"#46039f\"],[0.2222222222222222,\"#7201a8\"],[0.3333333333333333,\"#9c179e\"],[0.4444444444444444,\"#bd3786\"],[0.5555555555555556,\"#d8576b\"],[0.6666666666666666,\"#ed7953\"],[0.7777777777777778,\"#fb9f3a\"],[0.8888888888888888,\"#fdca26\"],[1.0,\"#f0f921\"]]},\"colorway\":[\"#636efa\",\"#EF553B\",\"#00cc96\",\"#ab63fa\",\"#FFA15A\",\"#19d3f3\",\"#FF6692\",\"#B6E880\",\"#FF97FF\",\"#FECB52\"],\"font\":{\"color\":\"#2a3f5f\"},\"geo\":{\"bgcolor\":\"white\",\"lakecolor\":\"white\",\"landcolor\":\"#E5ECF6\",\"showlakes\":true,\"showland\":true,\"subunitcolor\":\"white\"},\"hoverlabel\":{\"align\":\"left\"},\"hovermode\":\"closest\",\"mapbox\":{\"style\":\"light\"},\"paper_bgcolor\":\"white\",\"plot_bgcolor\":\"#E5ECF6\",\"polar\":{\"angularaxis\":{\"gridcolor\":\"white\",\"linecolor\":\"white\",\"ticks\":\"\"},\"bgcolor\":\"#E5ECF6\",\"radialaxis\":{\"gridcolor\":\"white\",\"linecolor\":\"white\",\"ticks\":\"\"}},\"scene\":{\"xaxis\":{\"backgroundcolor\":\"#E5ECF6\",\"gridcolor\":\"white\",\"gridwidth\":2,\"linecolor\":\"white\",\"showbackground\":true,\"ticks\":\"\",\"zerolinecolor\":\"white\"},\"yaxis\":{\"backgroundcolor\":\"#E5ECF6\",\"gridcolor\":\"white\",\"gridwidth\":2,\"linecolor\":\"white\",\"showbackground\":true,\"ticks\":\"\",\"zerolinecolor\":\"white\"},\"zaxis\":{\"backgroundcolor\":\"#E5ECF6\",\"gridcolor\":\"white\",\"gridwidth\":2,\"linecolor\":\"white\",\"showbackground\":true,\"ticks\":\"\",\"zerolinecolor\":\"white\"}},\"shapedefaults\":{\"line\":{\"color\":\"#2a3f5f\"}},\"ternary\":{\"aaxis\":{\"gridcolor\":\"white\",\"linecolor\":\"white\",\"ticks\":\"\"},\"baxis\":{\"gridcolor\":\"white\",\"linecolor\":\"white\",\"ticks\":\"\"},\"bgcolor\":\"#E5ECF6\",\"caxis\":{\"gridcolor\":\"white\",\"linecolor\":\"white\",\"ticks\":\"\"}},\"title\":{\"x\":0.05},\"xaxis\":{\"automargin\":true,\"gridcolor\":\"white\",\"linecolor\":\"white\",\"ticks\":\"\",\"title\":{\"standoff\":15},\"zerolinecolor\":\"white\",\"zerolinewidth\":2},\"yaxis\":{\"automargin\":true,\"gridcolor\":\"white\",\"linecolor\":\"white\",\"ticks\":\"\",\"title\":{\"standoff\":15},\"zerolinecolor\":\"white\",\"zerolinewidth\":2}}},\"xaxis\":{\"anchor\":\"y\",\"domain\":[0.0,0.1075],\"title\":{\"text\":\"Party\"},\"categoryorder\":\"array\",\"categoryarray\":[\"Democratic Party\",\"Republican Party\"]},\"yaxis\":{\"anchor\":\"x\",\"domain\":[0.0,1.0],\"title\":{\"text\":\"Frequency of Quotes\"}},\"xaxis2\":{\"anchor\":\"y2\",\"domain\":[0.1275,0.235],\"matches\":\"x\",\"title\":{\"text\":\"Party\"},\"categoryorder\":\"array\",\"categoryarray\":[\"Democratic Party\",\"Republican Party\"]},\"yaxis2\":{\"anchor\":\"x2\",\"domain\":[0.0,1.0],\"matches\":\"y\",\"showticklabels\":false},\"xaxis3\":{\"anchor\":\"y3\",\"domain\":[0.255,0.3625],\"matches\":\"x\",\"title\":{\"text\":\"Party\"},\"categoryorder\":\"array\",\"categoryarray\":[\"Democratic Party\",\"Republican Party\"]},\"yaxis3\":{\"anchor\":\"x3\",\"domain\":[0.0,1.0],\"matches\":\"y\",\"showticklabels\":false},\"xaxis4\":{\"anchor\":\"y4\",\"domain\":[0.3825,0.49],\"matches\":\"x\",\"title\":{\"text\":\"Party\"},\"categoryorder\":\"array\",\"categoryarray\":[\"Democratic Party\",\"Republican Party\"]},\"yaxis4\":{\"anchor\":\"x4\",\"domain\":[0.0,1.0],\"matches\":\"y\",\"showticklabels\":false},\"xaxis5\":{\"anchor\":\"y5\",\"domain\":[0.51,0.6175],\"matches\":\"x\",\"title\":{\"text\":\"Party\"},\"categoryorder\":\"array\",\"categoryarray\":[\"Democratic Party\",\"Republican Party\"]},\"yaxis5\":{\"anchor\":\"x5\",\"domain\":[0.0,1.0],\"matches\":\"y\",\"showticklabels\":false},\"xaxis6\":{\"anchor\":\"y6\",\"domain\":[0.6375,0.745],\"matches\":\"x\",\"title\":{\"text\":\"Party\"},\"categoryorder\":\"array\",\"categoryarray\":[\"Democratic Party\",\"Republican Party\"]},\"yaxis6\":{\"anchor\":\"x6\",\"domain\":[0.0,1.0],\"matches\":\"y\",\"showticklabels\":false},\"xaxis7\":{\"anchor\":\"y7\",\"domain\":[0.765,0.8725],\"matches\":\"x\",\"title\":{\"text\":\"Party\"},\"categoryorder\":\"array\",\"categoryarray\":[\"Democratic Party\",\"Republican Party\"]},\"yaxis7\":{\"anchor\":\"x7\",\"domain\":[0.0,1.0],\"matches\":\"y\",\"showticklabels\":false},\"xaxis8\":{\"anchor\":\"y8\",\"domain\":[0.8925000000000001,1.0],\"matches\":\"x\",\"title\":{\"text\":\"Party\"},\"categoryorder\":\"array\",\"categoryarray\":[\"Democratic Party\",\"Republican Party\"]},\"yaxis8\":{\"anchor\":\"x8\",\"domain\":[0.0,1.0],\"matches\":\"y\",\"showticklabels\":false},\"annotations\":[{\"font\":{},\"showarrow\":false,\"text\":\"Topic=1\",\"x\":0.05375,\"xanchor\":\"center\",\"xref\":\"paper\",\"y\":1.0,\"yanchor\":\"bottom\",\"yref\":\"paper\"},{\"font\":{},\"showarrow\":false,\"text\":\"Topic=2\",\"x\":0.18125,\"xanchor\":\"center\",\"xref\":\"paper\",\"y\":1.0,\"yanchor\":\"bottom\",\"yref\":\"paper\"},{\"font\":{},\"showarrow\":false,\"text\":\"Topic=3\",\"x\":0.30874999999999997,\"xanchor\":\"center\",\"xref\":\"paper\",\"y\":1.0,\"yanchor\":\"bottom\",\"yref\":\"paper\"},{\"font\":{},\"showarrow\":false,\"text\":\"Topic=4\",\"x\":0.43625,\"xanchor\":\"center\",\"xref\":\"paper\",\"y\":1.0,\"yanchor\":\"bottom\",\"yref\":\"paper\"},{\"font\":{},\"showarrow\":false,\"text\":\"Topic=5\",\"x\":0.56375,\"xanchor\":\"center\",\"xref\":\"paper\",\"y\":1.0,\"yanchor\":\"bottom\",\"yref\":\"paper\"},{\"font\":{},\"showarrow\":false,\"text\":\"Topic=6\",\"x\":0.6912499999999999,\"xanchor\":\"center\",\"xref\":\"paper\",\"y\":1.0,\"yanchor\":\"bottom\",\"yref\":\"paper\"},{\"font\":{},\"showarrow\":false,\"text\":\"Topic=7\",\"x\":0.8187500000000001,\"xanchor\":\"center\",\"xref\":\"paper\",\"y\":1.0,\"yanchor\":\"bottom\",\"yref\":\"paper\"},{\"font\":{},\"showarrow\":false,\"text\":\"Topic=8\",\"x\":0.94625,\"xanchor\":\"center\",\"xref\":\"paper\",\"y\":1.0,\"yanchor\":\"bottom\",\"yref\":\"paper\"}],\"legend\":{\"title\":{\"text\":\"Party\"},\"tracegroupgap\":0},\"title\":{\"text\":\"Distribution of quotes by Party in each Topic\",\"y\":0.9,\"x\":0.45,\"xanchor\":\"center\",\"yanchor\":\"top\"},\"barmode\":\"group\",\"height\":500,\"width\":900},                        {\"responsive\": true}                    ).then(function(){\n",
       "                            \n",
       "var gd = document.getElementById('cec757dc-5fd7-4908-b246-aeda42c1cf96');\n",
       "var x = new MutationObserver(function (mutations, observer) {{\n",
       "        var display = window.getComputedStyle(gd).display;\n",
       "        if (!display || display === 'none') {{\n",
       "            console.log([gd, 'removed!']);\n",
       "            Plotly.purge(gd);\n",
       "            observer.disconnect();\n",
       "        }}\n",
       "}});\n",
       "\n",
       "// Listen for the removal of the full notebook cells\n",
       "var notebookContainer = gd.closest('#notebook-container');\n",
       "if (notebookContainer) {{\n",
       "    x.observe(notebookContainer, {childList: true});\n",
       "}}\n",
       "\n",
       "// Listen for the clearing of the current output cell\n",
       "var outputEl = gd.closest('.output');\n",
       "if (outputEl) {{\n",
       "    x.observe(outputEl, {childList: true});\n",
       "}}\n",
       "\n",
       "                        })                };                });            </script>        </div>"
      ]
     },
     "metadata": {},
     "output_type": "display_data"
    }
   ],
   "source": [
    "import plotly.express as px\n",
    "fig = px.bar(df_frequencies, x=\"Party\", y=\"Frequency of Quotes\", color=\"Party\", barmode=\"group\",\n",
    "             facet_col=\"Topic\", width=900, height=500, title=\"Distribution of quotes by Party in each Topic\")\n",
    "fig.update_layout(\n",
    "    title={\n",
    "        'text': \"Distribution of quotes by Party in each Topic\",\n",
    "        'y':0.9,\n",
    "        'x':0.45,\n",
    "        'xanchor': 'center',\n",
    "        'yanchor': 'top'})\n",
    "fig.show()\n",
    "#fig.write_html(\"frequencies_per_topic.html\")"
   ]
  },
  {
   "cell_type": "markdown",
   "id": "17f4d303",
   "metadata": {},
   "source": [
    "## 4. Political Analysis\n",
    "<a id = political_analysis></a>"
   ]
  },
  {
   "cell_type": "code",
   "execution_count": 136,
   "id": "bdda7fda",
   "metadata": {},
   "outputs": [],
   "source": [
    "# Copying de data\n",
    "data_climate = data"
   ]
  },
  {
   "cell_type": "code",
   "execution_count": 137,
   "id": "dc17fbab",
   "metadata": {},
   "outputs": [],
   "source": [
    "## Subset of the climate quotes containing specific meaningful words\n",
    "data_crisis = data_climate[data_climate['quotation'].str.contains('Crisis|crisis')]\n",
    "\n",
    "data_economic = data_climate[data_climate['quotation'].str.contains('economic|economy|Economy|Economic|business')]"
   ]
  },
  {
   "cell_type": "markdown",
   "id": "b0c3f1cc",
   "metadata": {},
   "source": [
    "<a id = political_talking> </a>\n",
    "### 4.1 How political parties talk about climate change?\n",
    "    1. How are the parties represented in this climate quotes dataset?"
   ]
  },
  {
   "cell_type": "code",
   "execution_count": 138,
   "id": "fad422c7",
   "metadata": {},
   "outputs": [],
   "source": [
    "#sort speakers from the one with the most quotes to the least\n",
    "sorted_speakers = data_climate['speaker'].value_counts().to_frame('counts').reset_index()\n",
    "sorted_speakers = sorted_speakers.rename(columns = {'index': 'label'})"
   ]
  },
  {
   "cell_type": "code",
   "execution_count": 139,
   "id": "e494a664",
   "metadata": {},
   "outputs": [],
   "source": [
    "#merge classement above and the parquet file\n",
    "top_speakers_inorder = pd.merge(sorted_speakers, speaker_df, how='left', on='label')"
   ]
  },
  {
   "cell_type": "code",
   "execution_count": 140,
   "id": "a4b0de9c",
   "metadata": {},
   "outputs": [],
   "source": [
    "#Get the infos in the QID file\n",
    "party = top_speakers_inorder[['party','counts']]\n",
    "party = party.explode(column='party')\n",
    "party = party.rename(columns={'party': 'QID'})\n",
    "party = party.dropna()\n",
    "\n",
    "#counts number of occurence of each QID label for the party\n",
    "party = party.groupby(['QID'])['counts'].sum().to_frame()\n",
    "party = party.sort_values(by='counts',ascending=False)"
   ]
  },
  {
   "cell_type": "code",
   "execution_count": 141,
   "id": "9cbe48be",
   "metadata": {},
   "outputs": [
    {
     "data": {
      "text/html": [
       "<div>\n",
       "<style scoped>\n",
       "    .dataframe tbody tr th:only-of-type {\n",
       "        vertical-align: middle;\n",
       "    }\n",
       "\n",
       "    .dataframe tbody tr th {\n",
       "        vertical-align: top;\n",
       "    }\n",
       "\n",
       "    .dataframe thead th {\n",
       "        text-align: right;\n",
       "    }\n",
       "</style>\n",
       "<table border=\"1\" class=\"dataframe\">\n",
       "  <thead>\n",
       "    <tr style=\"text-align: right;\">\n",
       "      <th></th>\n",
       "      <th>counts</th>\n",
       "      <th>Label</th>\n",
       "      <th>Description</th>\n",
       "    </tr>\n",
       "  </thead>\n",
       "  <tbody>\n",
       "    <tr>\n",
       "      <th>0</th>\n",
       "      <td>19494</td>\n",
       "      <td>Democratic Party</td>\n",
       "      <td>political party in the United States</td>\n",
       "    </tr>\n",
       "    <tr>\n",
       "      <th>1</th>\n",
       "      <td>7767</td>\n",
       "      <td>Republican Party</td>\n",
       "      <td>major political party in the United States</td>\n",
       "    </tr>\n",
       "    <tr>\n",
       "      <th>2</th>\n",
       "      <td>420</td>\n",
       "      <td>Others</td>\n",
       "      <td>political party in Minnesota, United Statesnat...</td>\n",
       "    </tr>\n",
       "  </tbody>\n",
       "</table>\n",
       "</div>"
      ],
      "text/plain": [
       "   counts             Label                                        Description\n",
       "0   19494  Democratic Party               political party in the United States\n",
       "1    7767  Republican Party         major political party in the United States\n",
       "2     420            Others  political party in Minnesota, United Statesnat..."
      ]
     },
     "execution_count": 141,
     "metadata": {},
     "output_type": "execute_result"
    }
   ],
   "source": [
    "final = pd.merge(party, QID, on='QID')\n",
    "final = final.sort_values(by='counts',ascending=False)\n",
    "\n",
    "## take only parties from the USA\n",
    "final = final.dropna()\n",
    "final = final[final['Description'].str.contains('United States')]\n",
    "\n",
    "## group minorities in categorie 'others'\n",
    "other = final.loc[final['counts']<300].sum()\n",
    "final = final[final['counts'] > 300]\n",
    "final = final.append(other, ignore_index=True)\n",
    "final.at[2,'Label']='Others'\n",
    "final"
   ]
  },
  {
   "cell_type": "code",
   "execution_count": 142,
   "id": "44e2f2fb",
   "metadata": {},
   "outputs": [
    {
     "data": {
      "application/vnd.plotly.v1+json": {
       "config": {
        "plotlyServerURL": "https://plot.ly"
       },
       "data": [
        {
         "labels": [
          "Democratic Party",
          "Republican Party",
          "Others"
         ],
         "type": "pie",
         "values": [
          19494,
          7767,
          420
         ]
        }
       ],
       "layout": {
        "height": 450,
        "template": {
         "data": {
          "bar": [
           {
            "error_x": {
             "color": "#2a3f5f"
            },
            "error_y": {
             "color": "#2a3f5f"
            },
            "marker": {
             "line": {
              "color": "#E5ECF6",
              "width": 0.5
             },
             "pattern": {
              "fillmode": "overlay",
              "size": 10,
              "solidity": 0.2
             }
            },
            "type": "bar"
           }
          ],
          "barpolar": [
           {
            "marker": {
             "line": {
              "color": "#E5ECF6",
              "width": 0.5
             },
             "pattern": {
              "fillmode": "overlay",
              "size": 10,
              "solidity": 0.2
             }
            },
            "type": "barpolar"
           }
          ],
          "carpet": [
           {
            "aaxis": {
             "endlinecolor": "#2a3f5f",
             "gridcolor": "white",
             "linecolor": "white",
             "minorgridcolor": "white",
             "startlinecolor": "#2a3f5f"
            },
            "baxis": {
             "endlinecolor": "#2a3f5f",
             "gridcolor": "white",
             "linecolor": "white",
             "minorgridcolor": "white",
             "startlinecolor": "#2a3f5f"
            },
            "type": "carpet"
           }
          ],
          "choropleth": [
           {
            "colorbar": {
             "outlinewidth": 0,
             "ticks": ""
            },
            "type": "choropleth"
           }
          ],
          "contour": [
           {
            "colorbar": {
             "outlinewidth": 0,
             "ticks": ""
            },
            "colorscale": [
             [
              0,
              "#0d0887"
             ],
             [
              0.1111111111111111,
              "#46039f"
             ],
             [
              0.2222222222222222,
              "#7201a8"
             ],
             [
              0.3333333333333333,
              "#9c179e"
             ],
             [
              0.4444444444444444,
              "#bd3786"
             ],
             [
              0.5555555555555556,
              "#d8576b"
             ],
             [
              0.6666666666666666,
              "#ed7953"
             ],
             [
              0.7777777777777778,
              "#fb9f3a"
             ],
             [
              0.8888888888888888,
              "#fdca26"
             ],
             [
              1,
              "#f0f921"
             ]
            ],
            "type": "contour"
           }
          ],
          "contourcarpet": [
           {
            "colorbar": {
             "outlinewidth": 0,
             "ticks": ""
            },
            "type": "contourcarpet"
           }
          ],
          "heatmap": [
           {
            "colorbar": {
             "outlinewidth": 0,
             "ticks": ""
            },
            "colorscale": [
             [
              0,
              "#0d0887"
             ],
             [
              0.1111111111111111,
              "#46039f"
             ],
             [
              0.2222222222222222,
              "#7201a8"
             ],
             [
              0.3333333333333333,
              "#9c179e"
             ],
             [
              0.4444444444444444,
              "#bd3786"
             ],
             [
              0.5555555555555556,
              "#d8576b"
             ],
             [
              0.6666666666666666,
              "#ed7953"
             ],
             [
              0.7777777777777778,
              "#fb9f3a"
             ],
             [
              0.8888888888888888,
              "#fdca26"
             ],
             [
              1,
              "#f0f921"
             ]
            ],
            "type": "heatmap"
           }
          ],
          "heatmapgl": [
           {
            "colorbar": {
             "outlinewidth": 0,
             "ticks": ""
            },
            "colorscale": [
             [
              0,
              "#0d0887"
             ],
             [
              0.1111111111111111,
              "#46039f"
             ],
             [
              0.2222222222222222,
              "#7201a8"
             ],
             [
              0.3333333333333333,
              "#9c179e"
             ],
             [
              0.4444444444444444,
              "#bd3786"
             ],
             [
              0.5555555555555556,
              "#d8576b"
             ],
             [
              0.6666666666666666,
              "#ed7953"
             ],
             [
              0.7777777777777778,
              "#fb9f3a"
             ],
             [
              0.8888888888888888,
              "#fdca26"
             ],
             [
              1,
              "#f0f921"
             ]
            ],
            "type": "heatmapgl"
           }
          ],
          "histogram": [
           {
            "marker": {
             "pattern": {
              "fillmode": "overlay",
              "size": 10,
              "solidity": 0.2
             }
            },
            "type": "histogram"
           }
          ],
          "histogram2d": [
           {
            "colorbar": {
             "outlinewidth": 0,
             "ticks": ""
            },
            "colorscale": [
             [
              0,
              "#0d0887"
             ],
             [
              0.1111111111111111,
              "#46039f"
             ],
             [
              0.2222222222222222,
              "#7201a8"
             ],
             [
              0.3333333333333333,
              "#9c179e"
             ],
             [
              0.4444444444444444,
              "#bd3786"
             ],
             [
              0.5555555555555556,
              "#d8576b"
             ],
             [
              0.6666666666666666,
              "#ed7953"
             ],
             [
              0.7777777777777778,
              "#fb9f3a"
             ],
             [
              0.8888888888888888,
              "#fdca26"
             ],
             [
              1,
              "#f0f921"
             ]
            ],
            "type": "histogram2d"
           }
          ],
          "histogram2dcontour": [
           {
            "colorbar": {
             "outlinewidth": 0,
             "ticks": ""
            },
            "colorscale": [
             [
              0,
              "#0d0887"
             ],
             [
              0.1111111111111111,
              "#46039f"
             ],
             [
              0.2222222222222222,
              "#7201a8"
             ],
             [
              0.3333333333333333,
              "#9c179e"
             ],
             [
              0.4444444444444444,
              "#bd3786"
             ],
             [
              0.5555555555555556,
              "#d8576b"
             ],
             [
              0.6666666666666666,
              "#ed7953"
             ],
             [
              0.7777777777777778,
              "#fb9f3a"
             ],
             [
              0.8888888888888888,
              "#fdca26"
             ],
             [
              1,
              "#f0f921"
             ]
            ],
            "type": "histogram2dcontour"
           }
          ],
          "mesh3d": [
           {
            "colorbar": {
             "outlinewidth": 0,
             "ticks": ""
            },
            "type": "mesh3d"
           }
          ],
          "parcoords": [
           {
            "line": {
             "colorbar": {
              "outlinewidth": 0,
              "ticks": ""
             }
            },
            "type": "parcoords"
           }
          ],
          "pie": [
           {
            "automargin": true,
            "type": "pie"
           }
          ],
          "scatter": [
           {
            "marker": {
             "colorbar": {
              "outlinewidth": 0,
              "ticks": ""
             }
            },
            "type": "scatter"
           }
          ],
          "scatter3d": [
           {
            "line": {
             "colorbar": {
              "outlinewidth": 0,
              "ticks": ""
             }
            },
            "marker": {
             "colorbar": {
              "outlinewidth": 0,
              "ticks": ""
             }
            },
            "type": "scatter3d"
           }
          ],
          "scattercarpet": [
           {
            "marker": {
             "colorbar": {
              "outlinewidth": 0,
              "ticks": ""
             }
            },
            "type": "scattercarpet"
           }
          ],
          "scattergeo": [
           {
            "marker": {
             "colorbar": {
              "outlinewidth": 0,
              "ticks": ""
             }
            },
            "type": "scattergeo"
           }
          ],
          "scattergl": [
           {
            "marker": {
             "colorbar": {
              "outlinewidth": 0,
              "ticks": ""
             }
            },
            "type": "scattergl"
           }
          ],
          "scattermapbox": [
           {
            "marker": {
             "colorbar": {
              "outlinewidth": 0,
              "ticks": ""
             }
            },
            "type": "scattermapbox"
           }
          ],
          "scatterpolar": [
           {
            "marker": {
             "colorbar": {
              "outlinewidth": 0,
              "ticks": ""
             }
            },
            "type": "scatterpolar"
           }
          ],
          "scatterpolargl": [
           {
            "marker": {
             "colorbar": {
              "outlinewidth": 0,
              "ticks": ""
             }
            },
            "type": "scatterpolargl"
           }
          ],
          "scatterternary": [
           {
            "marker": {
             "colorbar": {
              "outlinewidth": 0,
              "ticks": ""
             }
            },
            "type": "scatterternary"
           }
          ],
          "surface": [
           {
            "colorbar": {
             "outlinewidth": 0,
             "ticks": ""
            },
            "colorscale": [
             [
              0,
              "#0d0887"
             ],
             [
              0.1111111111111111,
              "#46039f"
             ],
             [
              0.2222222222222222,
              "#7201a8"
             ],
             [
              0.3333333333333333,
              "#9c179e"
             ],
             [
              0.4444444444444444,
              "#bd3786"
             ],
             [
              0.5555555555555556,
              "#d8576b"
             ],
             [
              0.6666666666666666,
              "#ed7953"
             ],
             [
              0.7777777777777778,
              "#fb9f3a"
             ],
             [
              0.8888888888888888,
              "#fdca26"
             ],
             [
              1,
              "#f0f921"
             ]
            ],
            "type": "surface"
           }
          ],
          "table": [
           {
            "cells": {
             "fill": {
              "color": "#EBF0F8"
             },
             "line": {
              "color": "white"
             }
            },
            "header": {
             "fill": {
              "color": "#C8D4E3"
             },
             "line": {
              "color": "white"
             }
            },
            "type": "table"
           }
          ]
         },
         "layout": {
          "annotationdefaults": {
           "arrowcolor": "#2a3f5f",
           "arrowhead": 0,
           "arrowwidth": 1
          },
          "autotypenumbers": "strict",
          "coloraxis": {
           "colorbar": {
            "outlinewidth": 0,
            "ticks": ""
           }
          },
          "colorscale": {
           "diverging": [
            [
             0,
             "#8e0152"
            ],
            [
             0.1,
             "#c51b7d"
            ],
            [
             0.2,
             "#de77ae"
            ],
            [
             0.3,
             "#f1b6da"
            ],
            [
             0.4,
             "#fde0ef"
            ],
            [
             0.5,
             "#f7f7f7"
            ],
            [
             0.6,
             "#e6f5d0"
            ],
            [
             0.7,
             "#b8e186"
            ],
            [
             0.8,
             "#7fbc41"
            ],
            [
             0.9,
             "#4d9221"
            ],
            [
             1,
             "#276419"
            ]
           ],
           "sequential": [
            [
             0,
             "#0d0887"
            ],
            [
             0.1111111111111111,
             "#46039f"
            ],
            [
             0.2222222222222222,
             "#7201a8"
            ],
            [
             0.3333333333333333,
             "#9c179e"
            ],
            [
             0.4444444444444444,
             "#bd3786"
            ],
            [
             0.5555555555555556,
             "#d8576b"
            ],
            [
             0.6666666666666666,
             "#ed7953"
            ],
            [
             0.7777777777777778,
             "#fb9f3a"
            ],
            [
             0.8888888888888888,
             "#fdca26"
            ],
            [
             1,
             "#f0f921"
            ]
           ],
           "sequentialminus": [
            [
             0,
             "#0d0887"
            ],
            [
             0.1111111111111111,
             "#46039f"
            ],
            [
             0.2222222222222222,
             "#7201a8"
            ],
            [
             0.3333333333333333,
             "#9c179e"
            ],
            [
             0.4444444444444444,
             "#bd3786"
            ],
            [
             0.5555555555555556,
             "#d8576b"
            ],
            [
             0.6666666666666666,
             "#ed7953"
            ],
            [
             0.7777777777777778,
             "#fb9f3a"
            ],
            [
             0.8888888888888888,
             "#fdca26"
            ],
            [
             1,
             "#f0f921"
            ]
           ]
          },
          "colorway": [
           "#636efa",
           "#EF553B",
           "#00cc96",
           "#ab63fa",
           "#FFA15A",
           "#19d3f3",
           "#FF6692",
           "#B6E880",
           "#FF97FF",
           "#FECB52"
          ],
          "font": {
           "color": "#2a3f5f"
          },
          "geo": {
           "bgcolor": "white",
           "lakecolor": "white",
           "landcolor": "#E5ECF6",
           "showlakes": true,
           "showland": true,
           "subunitcolor": "white"
          },
          "hoverlabel": {
           "align": "left"
          },
          "hovermode": "closest",
          "mapbox": {
           "style": "light"
          },
          "paper_bgcolor": "white",
          "plot_bgcolor": "#E5ECF6",
          "polar": {
           "angularaxis": {
            "gridcolor": "white",
            "linecolor": "white",
            "ticks": ""
           },
           "bgcolor": "#E5ECF6",
           "radialaxis": {
            "gridcolor": "white",
            "linecolor": "white",
            "ticks": ""
           }
          },
          "scene": {
           "xaxis": {
            "backgroundcolor": "#E5ECF6",
            "gridcolor": "white",
            "gridwidth": 2,
            "linecolor": "white",
            "showbackground": true,
            "ticks": "",
            "zerolinecolor": "white"
           },
           "yaxis": {
            "backgroundcolor": "#E5ECF6",
            "gridcolor": "white",
            "gridwidth": 2,
            "linecolor": "white",
            "showbackground": true,
            "ticks": "",
            "zerolinecolor": "white"
           },
           "zaxis": {
            "backgroundcolor": "#E5ECF6",
            "gridcolor": "white",
            "gridwidth": 2,
            "linecolor": "white",
            "showbackground": true,
            "ticks": "",
            "zerolinecolor": "white"
           }
          },
          "shapedefaults": {
           "line": {
            "color": "#2a3f5f"
           }
          },
          "ternary": {
           "aaxis": {
            "gridcolor": "white",
            "linecolor": "white",
            "ticks": ""
           },
           "baxis": {
            "gridcolor": "white",
            "linecolor": "white",
            "ticks": ""
           },
           "bgcolor": "#E5ECF6",
           "caxis": {
            "gridcolor": "white",
            "linecolor": "white",
            "ticks": ""
           }
          },
          "title": {
           "x": 0.05
          },
          "xaxis": {
           "automargin": true,
           "gridcolor": "white",
           "linecolor": "white",
           "ticks": "",
           "title": {
            "standoff": 15
           },
           "zerolinecolor": "white",
           "zerolinewidth": 2
          },
          "yaxis": {
           "automargin": true,
           "gridcolor": "white",
           "linecolor": "white",
           "ticks": "",
           "title": {
            "standoff": 15
           },
           "zerolinecolor": "white",
           "zerolinewidth": 2
          }
         }
        },
        "title": {
         "text": "Repartition of the quotes about climate change"
        },
        "width": 450
       }
      },
      "text/html": [
       "<div>                            <div id=\"2fe79055-5122-409b-a581-77ab59c6f814\" class=\"plotly-graph-div\" style=\"height:450px; width:450px;\"></div>            <script type=\"text/javascript\">                require([\"plotly\"], function(Plotly) {                    window.PLOTLYENV=window.PLOTLYENV || {};                                    if (document.getElementById(\"2fe79055-5122-409b-a581-77ab59c6f814\")) {                    Plotly.newPlot(                        \"2fe79055-5122-409b-a581-77ab59c6f814\",                        [{\"labels\":[\"Democratic Party\",\"Republican Party\",\"Others\"],\"values\":[19494,7767,420],\"type\":\"pie\"}],                        {\"template\":{\"data\":{\"bar\":[{\"error_x\":{\"color\":\"#2a3f5f\"},\"error_y\":{\"color\":\"#2a3f5f\"},\"marker\":{\"line\":{\"color\":\"#E5ECF6\",\"width\":0.5},\"pattern\":{\"fillmode\":\"overlay\",\"size\":10,\"solidity\":0.2}},\"type\":\"bar\"}],\"barpolar\":[{\"marker\":{\"line\":{\"color\":\"#E5ECF6\",\"width\":0.5},\"pattern\":{\"fillmode\":\"overlay\",\"size\":10,\"solidity\":0.2}},\"type\":\"barpolar\"}],\"carpet\":[{\"aaxis\":{\"endlinecolor\":\"#2a3f5f\",\"gridcolor\":\"white\",\"linecolor\":\"white\",\"minorgridcolor\":\"white\",\"startlinecolor\":\"#2a3f5f\"},\"baxis\":{\"endlinecolor\":\"#2a3f5f\",\"gridcolor\":\"white\",\"linecolor\":\"white\",\"minorgridcolor\":\"white\",\"startlinecolor\":\"#2a3f5f\"},\"type\":\"carpet\"}],\"choropleth\":[{\"colorbar\":{\"outlinewidth\":0,\"ticks\":\"\"},\"type\":\"choropleth\"}],\"contour\":[{\"colorbar\":{\"outlinewidth\":0,\"ticks\":\"\"},\"colorscale\":[[0.0,\"#0d0887\"],[0.1111111111111111,\"#46039f\"],[0.2222222222222222,\"#7201a8\"],[0.3333333333333333,\"#9c179e\"],[0.4444444444444444,\"#bd3786\"],[0.5555555555555556,\"#d8576b\"],[0.6666666666666666,\"#ed7953\"],[0.7777777777777778,\"#fb9f3a\"],[0.8888888888888888,\"#fdca26\"],[1.0,\"#f0f921\"]],\"type\":\"contour\"}],\"contourcarpet\":[{\"colorbar\":{\"outlinewidth\":0,\"ticks\":\"\"},\"type\":\"contourcarpet\"}],\"heatmap\":[{\"colorbar\":{\"outlinewidth\":0,\"ticks\":\"\"},\"colorscale\":[[0.0,\"#0d0887\"],[0.1111111111111111,\"#46039f\"],[0.2222222222222222,\"#7201a8\"],[0.3333333333333333,\"#9c179e\"],[0.4444444444444444,\"#bd3786\"],[0.5555555555555556,\"#d8576b\"],[0.6666666666666666,\"#ed7953\"],[0.7777777777777778,\"#fb9f3a\"],[0.8888888888888888,\"#fdca26\"],[1.0,\"#f0f921\"]],\"type\":\"heatmap\"}],\"heatmapgl\":[{\"colorbar\":{\"outlinewidth\":0,\"ticks\":\"\"},\"colorscale\":[[0.0,\"#0d0887\"],[0.1111111111111111,\"#46039f\"],[0.2222222222222222,\"#7201a8\"],[0.3333333333333333,\"#9c179e\"],[0.4444444444444444,\"#bd3786\"],[0.5555555555555556,\"#d8576b\"],[0.6666666666666666,\"#ed7953\"],[0.7777777777777778,\"#fb9f3a\"],[0.8888888888888888,\"#fdca26\"],[1.0,\"#f0f921\"]],\"type\":\"heatmapgl\"}],\"histogram\":[{\"marker\":{\"pattern\":{\"fillmode\":\"overlay\",\"size\":10,\"solidity\":0.2}},\"type\":\"histogram\"}],\"histogram2d\":[{\"colorbar\":{\"outlinewidth\":0,\"ticks\":\"\"},\"colorscale\":[[0.0,\"#0d0887\"],[0.1111111111111111,\"#46039f\"],[0.2222222222222222,\"#7201a8\"],[0.3333333333333333,\"#9c179e\"],[0.4444444444444444,\"#bd3786\"],[0.5555555555555556,\"#d8576b\"],[0.6666666666666666,\"#ed7953\"],[0.7777777777777778,\"#fb9f3a\"],[0.8888888888888888,\"#fdca26\"],[1.0,\"#f0f921\"]],\"type\":\"histogram2d\"}],\"histogram2dcontour\":[{\"colorbar\":{\"outlinewidth\":0,\"ticks\":\"\"},\"colorscale\":[[0.0,\"#0d0887\"],[0.1111111111111111,\"#46039f\"],[0.2222222222222222,\"#7201a8\"],[0.3333333333333333,\"#9c179e\"],[0.4444444444444444,\"#bd3786\"],[0.5555555555555556,\"#d8576b\"],[0.6666666666666666,\"#ed7953\"],[0.7777777777777778,\"#fb9f3a\"],[0.8888888888888888,\"#fdca26\"],[1.0,\"#f0f921\"]],\"type\":\"histogram2dcontour\"}],\"mesh3d\":[{\"colorbar\":{\"outlinewidth\":0,\"ticks\":\"\"},\"type\":\"mesh3d\"}],\"parcoords\":[{\"line\":{\"colorbar\":{\"outlinewidth\":0,\"ticks\":\"\"}},\"type\":\"parcoords\"}],\"pie\":[{\"automargin\":true,\"type\":\"pie\"}],\"scatter\":[{\"marker\":{\"colorbar\":{\"outlinewidth\":0,\"ticks\":\"\"}},\"type\":\"scatter\"}],\"scatter3d\":[{\"line\":{\"colorbar\":{\"outlinewidth\":0,\"ticks\":\"\"}},\"marker\":{\"colorbar\":{\"outlinewidth\":0,\"ticks\":\"\"}},\"type\":\"scatter3d\"}],\"scattercarpet\":[{\"marker\":{\"colorbar\":{\"outlinewidth\":0,\"ticks\":\"\"}},\"type\":\"scattercarpet\"}],\"scattergeo\":[{\"marker\":{\"colorbar\":{\"outlinewidth\":0,\"ticks\":\"\"}},\"type\":\"scattergeo\"}],\"scattergl\":[{\"marker\":{\"colorbar\":{\"outlinewidth\":0,\"ticks\":\"\"}},\"type\":\"scattergl\"}],\"scattermapbox\":[{\"marker\":{\"colorbar\":{\"outlinewidth\":0,\"ticks\":\"\"}},\"type\":\"scattermapbox\"}],\"scatterpolar\":[{\"marker\":{\"colorbar\":{\"outlinewidth\":0,\"ticks\":\"\"}},\"type\":\"scatterpolar\"}],\"scatterpolargl\":[{\"marker\":{\"colorbar\":{\"outlinewidth\":0,\"ticks\":\"\"}},\"type\":\"scatterpolargl\"}],\"scatterternary\":[{\"marker\":{\"colorbar\":{\"outlinewidth\":0,\"ticks\":\"\"}},\"type\":\"scatterternary\"}],\"surface\":[{\"colorbar\":{\"outlinewidth\":0,\"ticks\":\"\"},\"colorscale\":[[0.0,\"#0d0887\"],[0.1111111111111111,\"#46039f\"],[0.2222222222222222,\"#7201a8\"],[0.3333333333333333,\"#9c179e\"],[0.4444444444444444,\"#bd3786\"],[0.5555555555555556,\"#d8576b\"],[0.6666666666666666,\"#ed7953\"],[0.7777777777777778,\"#fb9f3a\"],[0.8888888888888888,\"#fdca26\"],[1.0,\"#f0f921\"]],\"type\":\"surface\"}],\"table\":[{\"cells\":{\"fill\":{\"color\":\"#EBF0F8\"},\"line\":{\"color\":\"white\"}},\"header\":{\"fill\":{\"color\":\"#C8D4E3\"},\"line\":{\"color\":\"white\"}},\"type\":\"table\"}]},\"layout\":{\"annotationdefaults\":{\"arrowcolor\":\"#2a3f5f\",\"arrowhead\":0,\"arrowwidth\":1},\"autotypenumbers\":\"strict\",\"coloraxis\":{\"colorbar\":{\"outlinewidth\":0,\"ticks\":\"\"}},\"colorscale\":{\"diverging\":[[0,\"#8e0152\"],[0.1,\"#c51b7d\"],[0.2,\"#de77ae\"],[0.3,\"#f1b6da\"],[0.4,\"#fde0ef\"],[0.5,\"#f7f7f7\"],[0.6,\"#e6f5d0\"],[0.7,\"#b8e186\"],[0.8,\"#7fbc41\"],[0.9,\"#4d9221\"],[1,\"#276419\"]],\"sequential\":[[0.0,\"#0d0887\"],[0.1111111111111111,\"#46039f\"],[0.2222222222222222,\"#7201a8\"],[0.3333333333333333,\"#9c179e\"],[0.4444444444444444,\"#bd3786\"],[0.5555555555555556,\"#d8576b\"],[0.6666666666666666,\"#ed7953\"],[0.7777777777777778,\"#fb9f3a\"],[0.8888888888888888,\"#fdca26\"],[1.0,\"#f0f921\"]],\"sequentialminus\":[[0.0,\"#0d0887\"],[0.1111111111111111,\"#46039f\"],[0.2222222222222222,\"#7201a8\"],[0.3333333333333333,\"#9c179e\"],[0.4444444444444444,\"#bd3786\"],[0.5555555555555556,\"#d8576b\"],[0.6666666666666666,\"#ed7953\"],[0.7777777777777778,\"#fb9f3a\"],[0.8888888888888888,\"#fdca26\"],[1.0,\"#f0f921\"]]},\"colorway\":[\"#636efa\",\"#EF553B\",\"#00cc96\",\"#ab63fa\",\"#FFA15A\",\"#19d3f3\",\"#FF6692\",\"#B6E880\",\"#FF97FF\",\"#FECB52\"],\"font\":{\"color\":\"#2a3f5f\"},\"geo\":{\"bgcolor\":\"white\",\"lakecolor\":\"white\",\"landcolor\":\"#E5ECF6\",\"showlakes\":true,\"showland\":true,\"subunitcolor\":\"white\"},\"hoverlabel\":{\"align\":\"left\"},\"hovermode\":\"closest\",\"mapbox\":{\"style\":\"light\"},\"paper_bgcolor\":\"white\",\"plot_bgcolor\":\"#E5ECF6\",\"polar\":{\"angularaxis\":{\"gridcolor\":\"white\",\"linecolor\":\"white\",\"ticks\":\"\"},\"bgcolor\":\"#E5ECF6\",\"radialaxis\":{\"gridcolor\":\"white\",\"linecolor\":\"white\",\"ticks\":\"\"}},\"scene\":{\"xaxis\":{\"backgroundcolor\":\"#E5ECF6\",\"gridcolor\":\"white\",\"gridwidth\":2,\"linecolor\":\"white\",\"showbackground\":true,\"ticks\":\"\",\"zerolinecolor\":\"white\"},\"yaxis\":{\"backgroundcolor\":\"#E5ECF6\",\"gridcolor\":\"white\",\"gridwidth\":2,\"linecolor\":\"white\",\"showbackground\":true,\"ticks\":\"\",\"zerolinecolor\":\"white\"},\"zaxis\":{\"backgroundcolor\":\"#E5ECF6\",\"gridcolor\":\"white\",\"gridwidth\":2,\"linecolor\":\"white\",\"showbackground\":true,\"ticks\":\"\",\"zerolinecolor\":\"white\"}},\"shapedefaults\":{\"line\":{\"color\":\"#2a3f5f\"}},\"ternary\":{\"aaxis\":{\"gridcolor\":\"white\",\"linecolor\":\"white\",\"ticks\":\"\"},\"baxis\":{\"gridcolor\":\"white\",\"linecolor\":\"white\",\"ticks\":\"\"},\"bgcolor\":\"#E5ECF6\",\"caxis\":{\"gridcolor\":\"white\",\"linecolor\":\"white\",\"ticks\":\"\"}},\"title\":{\"x\":0.05},\"xaxis\":{\"automargin\":true,\"gridcolor\":\"white\",\"linecolor\":\"white\",\"ticks\":\"\",\"title\":{\"standoff\":15},\"zerolinecolor\":\"white\",\"zerolinewidth\":2},\"yaxis\":{\"automargin\":true,\"gridcolor\":\"white\",\"linecolor\":\"white\",\"ticks\":\"\",\"title\":{\"standoff\":15},\"zerolinecolor\":\"white\",\"zerolinewidth\":2}}},\"title\":{\"text\":\"Repartition of the quotes about climate change\"},\"width\":450,\"height\":450},                        {\"responsive\": true}                    ).then(function(){\n",
       "                            \n",
       "var gd = document.getElementById('2fe79055-5122-409b-a581-77ab59c6f814');\n",
       "var x = new MutationObserver(function (mutations, observer) {{\n",
       "        var display = window.getComputedStyle(gd).display;\n",
       "        if (!display || display === 'none') {{\n",
       "            console.log([gd, 'removed!']);\n",
       "            Plotly.purge(gd);\n",
       "            observer.disconnect();\n",
       "        }}\n",
       "}});\n",
       "\n",
       "// Listen for the removal of the full notebook cells\n",
       "var notebookContainer = gd.closest('#notebook-container');\n",
       "if (notebookContainer) {{\n",
       "    x.observe(notebookContainer, {childList: true});\n",
       "}}\n",
       "\n",
       "// Listen for the clearing of the current output cell\n",
       "var outputEl = gd.closest('.output');\n",
       "if (outputEl) {{\n",
       "    x.observe(outputEl, {childList: true});\n",
       "}}\n",
       "\n",
       "                        })                };                });            </script>        </div>"
      ]
     },
     "metadata": {},
     "output_type": "display_data"
    }
   ],
   "source": [
    "import plotly.graph_objects as go\n",
    "\n",
    "labels = final['Label']\n",
    "values = final['counts']\n",
    "\n",
    "fig = go.Figure(data=[go.Pie(labels=labels, values=values)])\n",
    "fig.update_layout(title='Repartition of the quotes about climate change',width=450, height=450)\n",
    "fig.show()\n",
    "fig.write_html(\"pie_chart.html\")"
   ]
  },
  {
   "cell_type": "markdown",
   "id": "1f76862e",
   "metadata": {},
   "source": [
    "    2. Which proportion of democrates/republican quotes contains specific meaningful words?\n",
    "\n",
    "The goal here is to see which proportion some words from the LDA topics founds above take in the climate dataset. We choose to tackle the first 2 topics. From the first one, we use the word 'crisis' and for the second one 'business'."
   ]
  },
  {
   "cell_type": "code",
   "execution_count": 143,
   "id": "d1d68408",
   "metadata": {},
   "outputs": [],
   "source": [
    "#crisis\n",
    "sorted_speakers_crisis = data_crisis['speaker'].value_counts().to_frame('counts').reset_index()\n",
    "sorted_speakers_crisis = sorted_speakers_crisis.rename(columns={'index': 'label'})\n",
    "\n",
    "top_speakers_crisis = pd.merge(sorted_speakers_crisis, speaker_df, how='left', on='label')"
   ]
  },
  {
   "cell_type": "code",
   "execution_count": 144,
   "id": "193f51c1",
   "metadata": {},
   "outputs": [],
   "source": [
    "#business\n",
    "sorted_business = data_economic['speaker'].value_counts().to_frame('counts').reset_index()\n",
    "sorted_business = sorted_business.rename(columns={'index': 'label'})\n",
    "\n",
    "top_speakers_business = pd.merge(sorted_business, speaker_df, how='left', on='label')"
   ]
  },
  {
   "cell_type": "code",
   "execution_count": 145,
   "id": "1be65a8f",
   "metadata": {},
   "outputs": [],
   "source": [
    "party_crisis = top_speakers_crisis[['party','counts']]\n",
    "party_crisis = party_crisis.explode(column='party')\n",
    "party_crisis = party_crisis.rename(columns={'party': 'QID'})\n",
    "party_crisis = party_crisis.dropna()\n",
    "\n",
    "party_crisis = party_crisis.groupby(['QID'])['counts'].sum().to_frame()\n",
    "party_crisis = party_crisis.sort_values(by='counts',ascending=False)"
   ]
  },
  {
   "cell_type": "code",
   "execution_count": 146,
   "id": "04b0e566",
   "metadata": {},
   "outputs": [],
   "source": [
    "party_business = top_speakers_business[['party','counts']]\n",
    "party_business = party_business.explode(column='party')\n",
    "party_business = party_business.rename(columns={'party': 'QID'})\n",
    "party_business = party_business.dropna()\n",
    "\n",
    "party_business = party_business.groupby(['QID'])['counts'].sum().to_frame()\n",
    "party_business = party_business.sort_values(by='counts',ascending=False)"
   ]
  },
  {
   "cell_type": "code",
   "execution_count": 147,
   "id": "5d9a84ee",
   "metadata": {},
   "outputs": [],
   "source": [
    "final_crisis = pd.merge(party_crisis, QID, on='QID')\n",
    "final_crisis = final_crisis.sort_values(by='counts',ascending=False)"
   ]
  },
  {
   "cell_type": "code",
   "execution_count": 148,
   "id": "b690a46e",
   "metadata": {},
   "outputs": [],
   "source": [
    "final_business = pd.merge(party_business, QID, on='QID')\n",
    "final_business = final_business.sort_values(by='counts',ascending=False)"
   ]
  },
  {
   "cell_type": "code",
   "execution_count": 149,
   "id": "f2f5eed3",
   "metadata": {},
   "outputs": [],
   "source": [
    "business_crisis = pd.merge(final_crisis, final_business, on='Description')"
   ]
  },
  {
   "cell_type": "code",
   "execution_count": 150,
   "id": "5c845685",
   "metadata": {},
   "outputs": [],
   "source": [
    "bar = pd.merge(business_crisis, final, on='Description')"
   ]
  },
  {
   "cell_type": "code",
   "execution_count": 151,
   "id": "a1a19f94",
   "metadata": {},
   "outputs": [],
   "source": [
    "bar['percentage_crisis'] = bar['counts_x']/bar['counts']\n",
    "bar['percentage_business'] = bar['counts_y']/bar['counts']"
   ]
  },
  {
   "cell_type": "code",
   "execution_count": 152,
   "id": "9a99618e",
   "metadata": {},
   "outputs": [
    {
     "data": {
      "application/vnd.plotly.v1+json": {
       "config": {
        "plotlyServerURL": "https://plot.ly"
       },
       "data": [
        {
         "name": "Use of word \"crisis\"",
         "type": "bar",
         "x": [
          "Democratic Party",
          "Republican Party"
         ],
         "y": [
          0.10418590335487843,
          0.015192481009398738
         ]
        },
        {
         "name": "Use of word \"business\"",
         "type": "bar",
         "x": [
          "Democratic Party",
          "Republican Party"
         ],
         "y": [
          0.09105365753565199,
          0.0665636667954165
         ]
        }
       ],
       "layout": {
        "barmode": "group",
        "height": 450,
        "template": {
         "data": {
          "bar": [
           {
            "error_x": {
             "color": "#2a3f5f"
            },
            "error_y": {
             "color": "#2a3f5f"
            },
            "marker": {
             "line": {
              "color": "#E5ECF6",
              "width": 0.5
             },
             "pattern": {
              "fillmode": "overlay",
              "size": 10,
              "solidity": 0.2
             }
            },
            "type": "bar"
           }
          ],
          "barpolar": [
           {
            "marker": {
             "line": {
              "color": "#E5ECF6",
              "width": 0.5
             },
             "pattern": {
              "fillmode": "overlay",
              "size": 10,
              "solidity": 0.2
             }
            },
            "type": "barpolar"
           }
          ],
          "carpet": [
           {
            "aaxis": {
             "endlinecolor": "#2a3f5f",
             "gridcolor": "white",
             "linecolor": "white",
             "minorgridcolor": "white",
             "startlinecolor": "#2a3f5f"
            },
            "baxis": {
             "endlinecolor": "#2a3f5f",
             "gridcolor": "white",
             "linecolor": "white",
             "minorgridcolor": "white",
             "startlinecolor": "#2a3f5f"
            },
            "type": "carpet"
           }
          ],
          "choropleth": [
           {
            "colorbar": {
             "outlinewidth": 0,
             "ticks": ""
            },
            "type": "choropleth"
           }
          ],
          "contour": [
           {
            "colorbar": {
             "outlinewidth": 0,
             "ticks": ""
            },
            "colorscale": [
             [
              0,
              "#0d0887"
             ],
             [
              0.1111111111111111,
              "#46039f"
             ],
             [
              0.2222222222222222,
              "#7201a8"
             ],
             [
              0.3333333333333333,
              "#9c179e"
             ],
             [
              0.4444444444444444,
              "#bd3786"
             ],
             [
              0.5555555555555556,
              "#d8576b"
             ],
             [
              0.6666666666666666,
              "#ed7953"
             ],
             [
              0.7777777777777778,
              "#fb9f3a"
             ],
             [
              0.8888888888888888,
              "#fdca26"
             ],
             [
              1,
              "#f0f921"
             ]
            ],
            "type": "contour"
           }
          ],
          "contourcarpet": [
           {
            "colorbar": {
             "outlinewidth": 0,
             "ticks": ""
            },
            "type": "contourcarpet"
           }
          ],
          "heatmap": [
           {
            "colorbar": {
             "outlinewidth": 0,
             "ticks": ""
            },
            "colorscale": [
             [
              0,
              "#0d0887"
             ],
             [
              0.1111111111111111,
              "#46039f"
             ],
             [
              0.2222222222222222,
              "#7201a8"
             ],
             [
              0.3333333333333333,
              "#9c179e"
             ],
             [
              0.4444444444444444,
              "#bd3786"
             ],
             [
              0.5555555555555556,
              "#d8576b"
             ],
             [
              0.6666666666666666,
              "#ed7953"
             ],
             [
              0.7777777777777778,
              "#fb9f3a"
             ],
             [
              0.8888888888888888,
              "#fdca26"
             ],
             [
              1,
              "#f0f921"
             ]
            ],
            "type": "heatmap"
           }
          ],
          "heatmapgl": [
           {
            "colorbar": {
             "outlinewidth": 0,
             "ticks": ""
            },
            "colorscale": [
             [
              0,
              "#0d0887"
             ],
             [
              0.1111111111111111,
              "#46039f"
             ],
             [
              0.2222222222222222,
              "#7201a8"
             ],
             [
              0.3333333333333333,
              "#9c179e"
             ],
             [
              0.4444444444444444,
              "#bd3786"
             ],
             [
              0.5555555555555556,
              "#d8576b"
             ],
             [
              0.6666666666666666,
              "#ed7953"
             ],
             [
              0.7777777777777778,
              "#fb9f3a"
             ],
             [
              0.8888888888888888,
              "#fdca26"
             ],
             [
              1,
              "#f0f921"
             ]
            ],
            "type": "heatmapgl"
           }
          ],
          "histogram": [
           {
            "marker": {
             "pattern": {
              "fillmode": "overlay",
              "size": 10,
              "solidity": 0.2
             }
            },
            "type": "histogram"
           }
          ],
          "histogram2d": [
           {
            "colorbar": {
             "outlinewidth": 0,
             "ticks": ""
            },
            "colorscale": [
             [
              0,
              "#0d0887"
             ],
             [
              0.1111111111111111,
              "#46039f"
             ],
             [
              0.2222222222222222,
              "#7201a8"
             ],
             [
              0.3333333333333333,
              "#9c179e"
             ],
             [
              0.4444444444444444,
              "#bd3786"
             ],
             [
              0.5555555555555556,
              "#d8576b"
             ],
             [
              0.6666666666666666,
              "#ed7953"
             ],
             [
              0.7777777777777778,
              "#fb9f3a"
             ],
             [
              0.8888888888888888,
              "#fdca26"
             ],
             [
              1,
              "#f0f921"
             ]
            ],
            "type": "histogram2d"
           }
          ],
          "histogram2dcontour": [
           {
            "colorbar": {
             "outlinewidth": 0,
             "ticks": ""
            },
            "colorscale": [
             [
              0,
              "#0d0887"
             ],
             [
              0.1111111111111111,
              "#46039f"
             ],
             [
              0.2222222222222222,
              "#7201a8"
             ],
             [
              0.3333333333333333,
              "#9c179e"
             ],
             [
              0.4444444444444444,
              "#bd3786"
             ],
             [
              0.5555555555555556,
              "#d8576b"
             ],
             [
              0.6666666666666666,
              "#ed7953"
             ],
             [
              0.7777777777777778,
              "#fb9f3a"
             ],
             [
              0.8888888888888888,
              "#fdca26"
             ],
             [
              1,
              "#f0f921"
             ]
            ],
            "type": "histogram2dcontour"
           }
          ],
          "mesh3d": [
           {
            "colorbar": {
             "outlinewidth": 0,
             "ticks": ""
            },
            "type": "mesh3d"
           }
          ],
          "parcoords": [
           {
            "line": {
             "colorbar": {
              "outlinewidth": 0,
              "ticks": ""
             }
            },
            "type": "parcoords"
           }
          ],
          "pie": [
           {
            "automargin": true,
            "type": "pie"
           }
          ],
          "scatter": [
           {
            "marker": {
             "colorbar": {
              "outlinewidth": 0,
              "ticks": ""
             }
            },
            "type": "scatter"
           }
          ],
          "scatter3d": [
           {
            "line": {
             "colorbar": {
              "outlinewidth": 0,
              "ticks": ""
             }
            },
            "marker": {
             "colorbar": {
              "outlinewidth": 0,
              "ticks": ""
             }
            },
            "type": "scatter3d"
           }
          ],
          "scattercarpet": [
           {
            "marker": {
             "colorbar": {
              "outlinewidth": 0,
              "ticks": ""
             }
            },
            "type": "scattercarpet"
           }
          ],
          "scattergeo": [
           {
            "marker": {
             "colorbar": {
              "outlinewidth": 0,
              "ticks": ""
             }
            },
            "type": "scattergeo"
           }
          ],
          "scattergl": [
           {
            "marker": {
             "colorbar": {
              "outlinewidth": 0,
              "ticks": ""
             }
            },
            "type": "scattergl"
           }
          ],
          "scattermapbox": [
           {
            "marker": {
             "colorbar": {
              "outlinewidth": 0,
              "ticks": ""
             }
            },
            "type": "scattermapbox"
           }
          ],
          "scatterpolar": [
           {
            "marker": {
             "colorbar": {
              "outlinewidth": 0,
              "ticks": ""
             }
            },
            "type": "scatterpolar"
           }
          ],
          "scatterpolargl": [
           {
            "marker": {
             "colorbar": {
              "outlinewidth": 0,
              "ticks": ""
             }
            },
            "type": "scatterpolargl"
           }
          ],
          "scatterternary": [
           {
            "marker": {
             "colorbar": {
              "outlinewidth": 0,
              "ticks": ""
             }
            },
            "type": "scatterternary"
           }
          ],
          "surface": [
           {
            "colorbar": {
             "outlinewidth": 0,
             "ticks": ""
            },
            "colorscale": [
             [
              0,
              "#0d0887"
             ],
             [
              0.1111111111111111,
              "#46039f"
             ],
             [
              0.2222222222222222,
              "#7201a8"
             ],
             [
              0.3333333333333333,
              "#9c179e"
             ],
             [
              0.4444444444444444,
              "#bd3786"
             ],
             [
              0.5555555555555556,
              "#d8576b"
             ],
             [
              0.6666666666666666,
              "#ed7953"
             ],
             [
              0.7777777777777778,
              "#fb9f3a"
             ],
             [
              0.8888888888888888,
              "#fdca26"
             ],
             [
              1,
              "#f0f921"
             ]
            ],
            "type": "surface"
           }
          ],
          "table": [
           {
            "cells": {
             "fill": {
              "color": "#EBF0F8"
             },
             "line": {
              "color": "white"
             }
            },
            "header": {
             "fill": {
              "color": "#C8D4E3"
             },
             "line": {
              "color": "white"
             }
            },
            "type": "table"
           }
          ]
         },
         "layout": {
          "annotationdefaults": {
           "arrowcolor": "#2a3f5f",
           "arrowhead": 0,
           "arrowwidth": 1
          },
          "autotypenumbers": "strict",
          "coloraxis": {
           "colorbar": {
            "outlinewidth": 0,
            "ticks": ""
           }
          },
          "colorscale": {
           "diverging": [
            [
             0,
             "#8e0152"
            ],
            [
             0.1,
             "#c51b7d"
            ],
            [
             0.2,
             "#de77ae"
            ],
            [
             0.3,
             "#f1b6da"
            ],
            [
             0.4,
             "#fde0ef"
            ],
            [
             0.5,
             "#f7f7f7"
            ],
            [
             0.6,
             "#e6f5d0"
            ],
            [
             0.7,
             "#b8e186"
            ],
            [
             0.8,
             "#7fbc41"
            ],
            [
             0.9,
             "#4d9221"
            ],
            [
             1,
             "#276419"
            ]
           ],
           "sequential": [
            [
             0,
             "#0d0887"
            ],
            [
             0.1111111111111111,
             "#46039f"
            ],
            [
             0.2222222222222222,
             "#7201a8"
            ],
            [
             0.3333333333333333,
             "#9c179e"
            ],
            [
             0.4444444444444444,
             "#bd3786"
            ],
            [
             0.5555555555555556,
             "#d8576b"
            ],
            [
             0.6666666666666666,
             "#ed7953"
            ],
            [
             0.7777777777777778,
             "#fb9f3a"
            ],
            [
             0.8888888888888888,
             "#fdca26"
            ],
            [
             1,
             "#f0f921"
            ]
           ],
           "sequentialminus": [
            [
             0,
             "#0d0887"
            ],
            [
             0.1111111111111111,
             "#46039f"
            ],
            [
             0.2222222222222222,
             "#7201a8"
            ],
            [
             0.3333333333333333,
             "#9c179e"
            ],
            [
             0.4444444444444444,
             "#bd3786"
            ],
            [
             0.5555555555555556,
             "#d8576b"
            ],
            [
             0.6666666666666666,
             "#ed7953"
            ],
            [
             0.7777777777777778,
             "#fb9f3a"
            ],
            [
             0.8888888888888888,
             "#fdca26"
            ],
            [
             1,
             "#f0f921"
            ]
           ]
          },
          "colorway": [
           "#636efa",
           "#EF553B",
           "#00cc96",
           "#ab63fa",
           "#FFA15A",
           "#19d3f3",
           "#FF6692",
           "#B6E880",
           "#FF97FF",
           "#FECB52"
          ],
          "font": {
           "color": "#2a3f5f"
          },
          "geo": {
           "bgcolor": "white",
           "lakecolor": "white",
           "landcolor": "#E5ECF6",
           "showlakes": true,
           "showland": true,
           "subunitcolor": "white"
          },
          "hoverlabel": {
           "align": "left"
          },
          "hovermode": "closest",
          "mapbox": {
           "style": "light"
          },
          "paper_bgcolor": "white",
          "plot_bgcolor": "#E5ECF6",
          "polar": {
           "angularaxis": {
            "gridcolor": "white",
            "linecolor": "white",
            "ticks": ""
           },
           "bgcolor": "#E5ECF6",
           "radialaxis": {
            "gridcolor": "white",
            "linecolor": "white",
            "ticks": ""
           }
          },
          "scene": {
           "xaxis": {
            "backgroundcolor": "#E5ECF6",
            "gridcolor": "white",
            "gridwidth": 2,
            "linecolor": "white",
            "showbackground": true,
            "ticks": "",
            "zerolinecolor": "white"
           },
           "yaxis": {
            "backgroundcolor": "#E5ECF6",
            "gridcolor": "white",
            "gridwidth": 2,
            "linecolor": "white",
            "showbackground": true,
            "ticks": "",
            "zerolinecolor": "white"
           },
           "zaxis": {
            "backgroundcolor": "#E5ECF6",
            "gridcolor": "white",
            "gridwidth": 2,
            "linecolor": "white",
            "showbackground": true,
            "ticks": "",
            "zerolinecolor": "white"
           }
          },
          "shapedefaults": {
           "line": {
            "color": "#2a3f5f"
           }
          },
          "ternary": {
           "aaxis": {
            "gridcolor": "white",
            "linecolor": "white",
            "ticks": ""
           },
           "baxis": {
            "gridcolor": "white",
            "linecolor": "white",
            "ticks": ""
           },
           "bgcolor": "#E5ECF6",
           "caxis": {
            "gridcolor": "white",
            "linecolor": "white",
            "ticks": ""
           }
          },
          "title": {
           "x": 0.05
          },
          "xaxis": {
           "automargin": true,
           "gridcolor": "white",
           "linecolor": "white",
           "ticks": "",
           "title": {
            "standoff": 15
           },
           "zerolinecolor": "white",
           "zerolinewidth": 2
          },
          "yaxis": {
           "automargin": true,
           "gridcolor": "white",
           "linecolor": "white",
           "ticks": "",
           "title": {
            "standoff": 15
           },
           "zerolinecolor": "white",
           "zerolinewidth": 2
          }
         }
        },
        "title": {
         "text": "Proportion of quotes containing meaningful words"
        },
        "width": 520
       }
      },
      "text/html": [
       "<div>                            <div id=\"c4d96a83-1b0e-4325-9452-2ff068bfdd52\" class=\"plotly-graph-div\" style=\"height:450px; width:520px;\"></div>            <script type=\"text/javascript\">                require([\"plotly\"], function(Plotly) {                    window.PLOTLYENV=window.PLOTLYENV || {};                                    if (document.getElementById(\"c4d96a83-1b0e-4325-9452-2ff068bfdd52\")) {                    Plotly.newPlot(                        \"c4d96a83-1b0e-4325-9452-2ff068bfdd52\",                        [{\"name\":\"Use of word \\\"crisis\\\"\",\"x\":[\"Democratic Party\",\"Republican Party\"],\"y\":[0.10418590335487843,0.015192481009398738],\"type\":\"bar\"},{\"name\":\"Use of word \\\"business\\\"\",\"x\":[\"Democratic Party\",\"Republican Party\"],\"y\":[0.09105365753565199,0.0665636667954165],\"type\":\"bar\"}],                        {\"template\":{\"data\":{\"bar\":[{\"error_x\":{\"color\":\"#2a3f5f\"},\"error_y\":{\"color\":\"#2a3f5f\"},\"marker\":{\"line\":{\"color\":\"#E5ECF6\",\"width\":0.5},\"pattern\":{\"fillmode\":\"overlay\",\"size\":10,\"solidity\":0.2}},\"type\":\"bar\"}],\"barpolar\":[{\"marker\":{\"line\":{\"color\":\"#E5ECF6\",\"width\":0.5},\"pattern\":{\"fillmode\":\"overlay\",\"size\":10,\"solidity\":0.2}},\"type\":\"barpolar\"}],\"carpet\":[{\"aaxis\":{\"endlinecolor\":\"#2a3f5f\",\"gridcolor\":\"white\",\"linecolor\":\"white\",\"minorgridcolor\":\"white\",\"startlinecolor\":\"#2a3f5f\"},\"baxis\":{\"endlinecolor\":\"#2a3f5f\",\"gridcolor\":\"white\",\"linecolor\":\"white\",\"minorgridcolor\":\"white\",\"startlinecolor\":\"#2a3f5f\"},\"type\":\"carpet\"}],\"choropleth\":[{\"colorbar\":{\"outlinewidth\":0,\"ticks\":\"\"},\"type\":\"choropleth\"}],\"contour\":[{\"colorbar\":{\"outlinewidth\":0,\"ticks\":\"\"},\"colorscale\":[[0.0,\"#0d0887\"],[0.1111111111111111,\"#46039f\"],[0.2222222222222222,\"#7201a8\"],[0.3333333333333333,\"#9c179e\"],[0.4444444444444444,\"#bd3786\"],[0.5555555555555556,\"#d8576b\"],[0.6666666666666666,\"#ed7953\"],[0.7777777777777778,\"#fb9f3a\"],[0.8888888888888888,\"#fdca26\"],[1.0,\"#f0f921\"]],\"type\":\"contour\"}],\"contourcarpet\":[{\"colorbar\":{\"outlinewidth\":0,\"ticks\":\"\"},\"type\":\"contourcarpet\"}],\"heatmap\":[{\"colorbar\":{\"outlinewidth\":0,\"ticks\":\"\"},\"colorscale\":[[0.0,\"#0d0887\"],[0.1111111111111111,\"#46039f\"],[0.2222222222222222,\"#7201a8\"],[0.3333333333333333,\"#9c179e\"],[0.4444444444444444,\"#bd3786\"],[0.5555555555555556,\"#d8576b\"],[0.6666666666666666,\"#ed7953\"],[0.7777777777777778,\"#fb9f3a\"],[0.8888888888888888,\"#fdca26\"],[1.0,\"#f0f921\"]],\"type\":\"heatmap\"}],\"heatmapgl\":[{\"colorbar\":{\"outlinewidth\":0,\"ticks\":\"\"},\"colorscale\":[[0.0,\"#0d0887\"],[0.1111111111111111,\"#46039f\"],[0.2222222222222222,\"#7201a8\"],[0.3333333333333333,\"#9c179e\"],[0.4444444444444444,\"#bd3786\"],[0.5555555555555556,\"#d8576b\"],[0.6666666666666666,\"#ed7953\"],[0.7777777777777778,\"#fb9f3a\"],[0.8888888888888888,\"#fdca26\"],[1.0,\"#f0f921\"]],\"type\":\"heatmapgl\"}],\"histogram\":[{\"marker\":{\"pattern\":{\"fillmode\":\"overlay\",\"size\":10,\"solidity\":0.2}},\"type\":\"histogram\"}],\"histogram2d\":[{\"colorbar\":{\"outlinewidth\":0,\"ticks\":\"\"},\"colorscale\":[[0.0,\"#0d0887\"],[0.1111111111111111,\"#46039f\"],[0.2222222222222222,\"#7201a8\"],[0.3333333333333333,\"#9c179e\"],[0.4444444444444444,\"#bd3786\"],[0.5555555555555556,\"#d8576b\"],[0.6666666666666666,\"#ed7953\"],[0.7777777777777778,\"#fb9f3a\"],[0.8888888888888888,\"#fdca26\"],[1.0,\"#f0f921\"]],\"type\":\"histogram2d\"}],\"histogram2dcontour\":[{\"colorbar\":{\"outlinewidth\":0,\"ticks\":\"\"},\"colorscale\":[[0.0,\"#0d0887\"],[0.1111111111111111,\"#46039f\"],[0.2222222222222222,\"#7201a8\"],[0.3333333333333333,\"#9c179e\"],[0.4444444444444444,\"#bd3786\"],[0.5555555555555556,\"#d8576b\"],[0.6666666666666666,\"#ed7953\"],[0.7777777777777778,\"#fb9f3a\"],[0.8888888888888888,\"#fdca26\"],[1.0,\"#f0f921\"]],\"type\":\"histogram2dcontour\"}],\"mesh3d\":[{\"colorbar\":{\"outlinewidth\":0,\"ticks\":\"\"},\"type\":\"mesh3d\"}],\"parcoords\":[{\"line\":{\"colorbar\":{\"outlinewidth\":0,\"ticks\":\"\"}},\"type\":\"parcoords\"}],\"pie\":[{\"automargin\":true,\"type\":\"pie\"}],\"scatter\":[{\"marker\":{\"colorbar\":{\"outlinewidth\":0,\"ticks\":\"\"}},\"type\":\"scatter\"}],\"scatter3d\":[{\"line\":{\"colorbar\":{\"outlinewidth\":0,\"ticks\":\"\"}},\"marker\":{\"colorbar\":{\"outlinewidth\":0,\"ticks\":\"\"}},\"type\":\"scatter3d\"}],\"scattercarpet\":[{\"marker\":{\"colorbar\":{\"outlinewidth\":0,\"ticks\":\"\"}},\"type\":\"scattercarpet\"}],\"scattergeo\":[{\"marker\":{\"colorbar\":{\"outlinewidth\":0,\"ticks\":\"\"}},\"type\":\"scattergeo\"}],\"scattergl\":[{\"marker\":{\"colorbar\":{\"outlinewidth\":0,\"ticks\":\"\"}},\"type\":\"scattergl\"}],\"scattermapbox\":[{\"marker\":{\"colorbar\":{\"outlinewidth\":0,\"ticks\":\"\"}},\"type\":\"scattermapbox\"}],\"scatterpolar\":[{\"marker\":{\"colorbar\":{\"outlinewidth\":0,\"ticks\":\"\"}},\"type\":\"scatterpolar\"}],\"scatterpolargl\":[{\"marker\":{\"colorbar\":{\"outlinewidth\":0,\"ticks\":\"\"}},\"type\":\"scatterpolargl\"}],\"scatterternary\":[{\"marker\":{\"colorbar\":{\"outlinewidth\":0,\"ticks\":\"\"}},\"type\":\"scatterternary\"}],\"surface\":[{\"colorbar\":{\"outlinewidth\":0,\"ticks\":\"\"},\"colorscale\":[[0.0,\"#0d0887\"],[0.1111111111111111,\"#46039f\"],[0.2222222222222222,\"#7201a8\"],[0.3333333333333333,\"#9c179e\"],[0.4444444444444444,\"#bd3786\"],[0.5555555555555556,\"#d8576b\"],[0.6666666666666666,\"#ed7953\"],[0.7777777777777778,\"#fb9f3a\"],[0.8888888888888888,\"#fdca26\"],[1.0,\"#f0f921\"]],\"type\":\"surface\"}],\"table\":[{\"cells\":{\"fill\":{\"color\":\"#EBF0F8\"},\"line\":{\"color\":\"white\"}},\"header\":{\"fill\":{\"color\":\"#C8D4E3\"},\"line\":{\"color\":\"white\"}},\"type\":\"table\"}]},\"layout\":{\"annotationdefaults\":{\"arrowcolor\":\"#2a3f5f\",\"arrowhead\":0,\"arrowwidth\":1},\"autotypenumbers\":\"strict\",\"coloraxis\":{\"colorbar\":{\"outlinewidth\":0,\"ticks\":\"\"}},\"colorscale\":{\"diverging\":[[0,\"#8e0152\"],[0.1,\"#c51b7d\"],[0.2,\"#de77ae\"],[0.3,\"#f1b6da\"],[0.4,\"#fde0ef\"],[0.5,\"#f7f7f7\"],[0.6,\"#e6f5d0\"],[0.7,\"#b8e186\"],[0.8,\"#7fbc41\"],[0.9,\"#4d9221\"],[1,\"#276419\"]],\"sequential\":[[0.0,\"#0d0887\"],[0.1111111111111111,\"#46039f\"],[0.2222222222222222,\"#7201a8\"],[0.3333333333333333,\"#9c179e\"],[0.4444444444444444,\"#bd3786\"],[0.5555555555555556,\"#d8576b\"],[0.6666666666666666,\"#ed7953\"],[0.7777777777777778,\"#fb9f3a\"],[0.8888888888888888,\"#fdca26\"],[1.0,\"#f0f921\"]],\"sequentialminus\":[[0.0,\"#0d0887\"],[0.1111111111111111,\"#46039f\"],[0.2222222222222222,\"#7201a8\"],[0.3333333333333333,\"#9c179e\"],[0.4444444444444444,\"#bd3786\"],[0.5555555555555556,\"#d8576b\"],[0.6666666666666666,\"#ed7953\"],[0.7777777777777778,\"#fb9f3a\"],[0.8888888888888888,\"#fdca26\"],[1.0,\"#f0f921\"]]},\"colorway\":[\"#636efa\",\"#EF553B\",\"#00cc96\",\"#ab63fa\",\"#FFA15A\",\"#19d3f3\",\"#FF6692\",\"#B6E880\",\"#FF97FF\",\"#FECB52\"],\"font\":{\"color\":\"#2a3f5f\"},\"geo\":{\"bgcolor\":\"white\",\"lakecolor\":\"white\",\"landcolor\":\"#E5ECF6\",\"showlakes\":true,\"showland\":true,\"subunitcolor\":\"white\"},\"hoverlabel\":{\"align\":\"left\"},\"hovermode\":\"closest\",\"mapbox\":{\"style\":\"light\"},\"paper_bgcolor\":\"white\",\"plot_bgcolor\":\"#E5ECF6\",\"polar\":{\"angularaxis\":{\"gridcolor\":\"white\",\"linecolor\":\"white\",\"ticks\":\"\"},\"bgcolor\":\"#E5ECF6\",\"radialaxis\":{\"gridcolor\":\"white\",\"linecolor\":\"white\",\"ticks\":\"\"}},\"scene\":{\"xaxis\":{\"backgroundcolor\":\"#E5ECF6\",\"gridcolor\":\"white\",\"gridwidth\":2,\"linecolor\":\"white\",\"showbackground\":true,\"ticks\":\"\",\"zerolinecolor\":\"white\"},\"yaxis\":{\"backgroundcolor\":\"#E5ECF6\",\"gridcolor\":\"white\",\"gridwidth\":2,\"linecolor\":\"white\",\"showbackground\":true,\"ticks\":\"\",\"zerolinecolor\":\"white\"},\"zaxis\":{\"backgroundcolor\":\"#E5ECF6\",\"gridcolor\":\"white\",\"gridwidth\":2,\"linecolor\":\"white\",\"showbackground\":true,\"ticks\":\"\",\"zerolinecolor\":\"white\"}},\"shapedefaults\":{\"line\":{\"color\":\"#2a3f5f\"}},\"ternary\":{\"aaxis\":{\"gridcolor\":\"white\",\"linecolor\":\"white\",\"ticks\":\"\"},\"baxis\":{\"gridcolor\":\"white\",\"linecolor\":\"white\",\"ticks\":\"\"},\"bgcolor\":\"#E5ECF6\",\"caxis\":{\"gridcolor\":\"white\",\"linecolor\":\"white\",\"ticks\":\"\"}},\"title\":{\"x\":0.05},\"xaxis\":{\"automargin\":true,\"gridcolor\":\"white\",\"linecolor\":\"white\",\"ticks\":\"\",\"title\":{\"standoff\":15},\"zerolinecolor\":\"white\",\"zerolinewidth\":2},\"yaxis\":{\"automargin\":true,\"gridcolor\":\"white\",\"linecolor\":\"white\",\"ticks\":\"\",\"title\":{\"standoff\":15},\"zerolinecolor\":\"white\",\"zerolinewidth\":2}}},\"barmode\":\"group\",\"width\":520,\"height\":450,\"title\":{\"text\":\"Proportion of quotes containing meaningful words\"}},                        {\"responsive\": true}                    ).then(function(){\n",
       "                            \n",
       "var gd = document.getElementById('c4d96a83-1b0e-4325-9452-2ff068bfdd52');\n",
       "var x = new MutationObserver(function (mutations, observer) {{\n",
       "        var display = window.getComputedStyle(gd).display;\n",
       "        if (!display || display === 'none') {{\n",
       "            console.log([gd, 'removed!']);\n",
       "            Plotly.purge(gd);\n",
       "            observer.disconnect();\n",
       "        }}\n",
       "}});\n",
       "\n",
       "// Listen for the removal of the full notebook cells\n",
       "var notebookContainer = gd.closest('#notebook-container');\n",
       "if (notebookContainer) {{\n",
       "    x.observe(notebookContainer, {childList: true});\n",
       "}}\n",
       "\n",
       "// Listen for the clearing of the current output cell\n",
       "var outputEl = gd.closest('.output');\n",
       "if (outputEl) {{\n",
       "    x.observe(outputEl, {childList: true});\n",
       "}}\n",
       "\n",
       "                        })                };                });            </script>        </div>"
      ]
     },
     "metadata": {},
     "output_type": "display_data"
    }
   ],
   "source": [
    "import plotly.graph_objects as go\n",
    "\n",
    "fig = go.Figure()\n",
    "fig.add_trace(go.Bar(\n",
    "    y = bar['percentage_crisis'],\n",
    "    x = bar['Label_x'],\n",
    "    name ='Use of word \"crisis\"',\n",
    "   \n",
    "    )\n",
    ")\n",
    "fig.add_trace(go.Bar(\n",
    "   y = bar['percentage_business'],\n",
    "   x = bar['Label_x'],\n",
    "   name ='Use of word \"business\"',\n",
    "    \n",
    ")\n",
    "             )\n",
    "  \n",
    "\n",
    "\n",
    "fig.update_layout(barmode='group', width=520, height=450, title='Proportion of quotes containing meaningful words')\n",
    "fig.show()\n",
    "fig.write_html(\"bar_chart_words.html\")"
   ]
  },
  {
   "cell_type": "markdown",
   "id": "5a34d297",
   "metadata": {},
   "source": [
    "<a id=score_durability></a>\n",
    "### 4.2 Score of durability of each state\n",
    "\n",
    "We aim to get an idea of the actions taken agains global warming for each state in the US. We use here dataset containing an environmental index for each state. This is a report from WalletHub from 2021 that gives an environmental score to each state based on three criterias: environmental quality, eco-friendly behavior and climate-change contributions.\n"
   ]
  },
  {
   "cell_type": "code",
   "execution_count": 154,
   "id": "ca3ea24f",
   "metadata": {},
   "outputs": [],
   "source": [
    "#read file containing durability score\n",
    "scores = pd.read_csv('states_scores.csv', delimiter=';')\n",
    "\n",
    "#normalize values too be able to compare with other datas later\n",
    "max_value = scores['score'].max()\n",
    "min_value = scores['score'].min()\n",
    "scores['score'] = (scores['score'] - min_value) / (max_value - min_value)"
   ]
  },
  {
   "cell_type": "code",
   "execution_count": 155,
   "id": "c6293aa7",
   "metadata": {},
   "outputs": [
    {
     "ename": "NameError",
     "evalue": "name 'geopandas' is not defined",
     "output_type": "error",
     "traceback": [
      "\u001b[1;31m---------------------------------------------------------------------------\u001b[0m",
      "\u001b[1;31mNameError\u001b[0m                                 Traceback (most recent call last)",
      "\u001b[1;32m<ipython-input-155-78d5f2accfc6>\u001b[0m in \u001b[0;36m<module>\u001b[1;34m\u001b[0m\n\u001b[0;32m      1\u001b[0m \u001b[1;31m#creating the map using geopandas and a shapefile of the US\u001b[0m\u001b[1;33m\u001b[0m\u001b[1;33m\u001b[0m\u001b[1;33m\u001b[0m\u001b[0m\n\u001b[1;32m----> 2\u001b[1;33m \u001b[0mstates\u001b[0m \u001b[1;33m=\u001b[0m \u001b[0mgeopandas\u001b[0m\u001b[1;33m.\u001b[0m\u001b[0mread_file\u001b[0m\u001b[1;33m(\u001b[0m\u001b[1;34m'data/usa-states-census-2014.shp'\u001b[0m\u001b[1;33m)\u001b[0m\u001b[1;33m\u001b[0m\u001b[1;33m\u001b[0m\u001b[0m\n\u001b[0m\u001b[0;32m      3\u001b[0m \u001b[0mstates\u001b[0m \u001b[1;33m=\u001b[0m \u001b[0mstates\u001b[0m\u001b[1;33m.\u001b[0m\u001b[0mrename\u001b[0m\u001b[1;33m(\u001b[0m\u001b[0mcolumns\u001b[0m\u001b[1;33m=\u001b[0m\u001b[1;33m{\u001b[0m\u001b[1;34m'NAME'\u001b[0m\u001b[1;33m:\u001b[0m \u001b[1;34m'state'\u001b[0m\u001b[1;33m}\u001b[0m\u001b[1;33m)\u001b[0m\u001b[1;33m\u001b[0m\u001b[1;33m\u001b[0m\u001b[0m\n\u001b[0;32m      4\u001b[0m \u001b[0mstates\u001b[0m \u001b[1;33m=\u001b[0m \u001b[0mstates\u001b[0m\u001b[1;33m.\u001b[0m\u001b[0mto_crs\u001b[0m\u001b[1;33m(\u001b[0m\u001b[0mepsg\u001b[0m\u001b[1;33m=\u001b[0m\u001b[1;36m3395\u001b[0m\u001b[1;33m)\u001b[0m\u001b[1;33m\u001b[0m\u001b[1;33m\u001b[0m\u001b[0m\n\u001b[0;32m      5\u001b[0m \u001b[1;33m\u001b[0m\u001b[0m\n",
      "\u001b[1;31mNameError\u001b[0m: name 'geopandas' is not defined"
     ]
    }
   ],
   "source": [
    "#creating the map using geopandas and a shapefile of the US\n",
    "states = geopandas.read_file('data/usa-states-census-2014.shp')\n",
    "states = states.rename(columns={'NAME': 'state'})\n",
    "states = states.to_crs(epsg=3395)\n",
    "\n",
    "#merge with states_scores\n",
    "geo_scores = pd.merge(states, scores, how='left', on='state')"
   ]
  },
  {
   "cell_type": "code",
   "execution_count": null,
   "id": "9ff6f496",
   "metadata": {},
   "outputs": [],
   "source": [
    "#plot map with geopandas\n",
    "fig, ax = plt.subplots(1, figsize=(10,6))\n",
    "geo_scores.plot(column='score', cmap='Reds', linewidth=1, ax=ax, edgecolor='0.9', legend = True)\n",
    "ax.axis('off')\n",
    "plt.show()"
   ]
  },
  {
   "cell_type": "markdown",
   "id": "57194c46",
   "metadata": {},
   "source": [
    "<a id= CO2_emissions> </a>\n",
    "### 4.3 CO2 emissions of each state\n",
    "\n",
    "Co2 emissions are another indicator of the state actions against global warming. We use there the CO2 per capita (in metric tons) for each state. The data comes from The World ressource institute, and the most recent values we could find are from 2018.\n"
   ]
  },
  {
   "cell_type": "code",
   "execution_count": null,
   "id": "7e81bf52",
   "metadata": {},
   "outputs": [],
   "source": [
    "emissions = pd.read_csv('emissions.csv', delimiter=',')\n",
    "emissions = emissions.rename(columns={'Climate Watch - U.S States Greenhouse Gas Emissions':'date', 'Unnamed: 1':'total','Unnamed: 20':'Population'}) \n",
    "emissions.drop(emissions.index[:3], inplace=True)"
   ]
  },
  {
   "cell_type": "code",
   "execution_count": null,
   "id": "34f1c1d4",
   "metadata": {},
   "outputs": [],
   "source": [
    "#emissions per capita\n",
    "emissions['Co2_cap'] = emissions['total'].astype(float)/emissions['Population'].astype(float)\n",
    "emissions.reset_index(inplace=True)\n",
    "emissions = emissions.rename(columns={'index':'state'})"
   ]
  },
  {
   "cell_type": "code",
   "execution_count": null,
   "id": "0b5e86ef",
   "metadata": {},
   "outputs": [],
   "source": [
    "emissions_2018 = emissions[emissions['date']=='2018']"
   ]
  },
  {
   "cell_type": "code",
   "execution_count": null,
   "id": "b64b4a69",
   "metadata": {},
   "outputs": [],
   "source": [
    "#visualisation of the distribution\n",
    "bar = emissions_2018.sort_values(by='Co2_cap',ascending=False).reset_index()\n",
    "\n",
    "\n",
    "\n",
    "plt.bar(bar.index, bar['Co2_cap'])\n",
    "plt.xticks([])\n",
    "plt.show()"
   ]
  },
  {
   "cell_type": "code",
   "execution_count": null,
   "id": "d39a14ab",
   "metadata": {},
   "outputs": [],
   "source": [
    "#visualisation of the distribution in log-scale\n",
    "\n",
    "\n",
    "plt.bar(bar.index, bar['Co2_cap'], log=True)\n",
    "plt.xticks([])\n",
    "plt.show("
   ]
  },
  {
   "cell_type": "code",
   "execution_count": null,
   "id": "f364128a",
   "metadata": {},
   "outputs": [],
   "source": [
    "#Use log-value\n",
    "emissions_2018['log_co2'] = np.log(emissions_2018['Co2_cap'].replace(0, np.nan))"
   ]
  },
  {
   "cell_type": "code",
   "execution_count": null,
   "id": "af3de70d",
   "metadata": {},
   "outputs": [],
   "source": [
    "max_value = emissions_2018['log_co2'].max()\n",
    "min_value = emissions_2018['log_co2'].min()\n",
    "emissions_2018['log_co2_norm'] = (emissions_2018['log_co2'] - min_value) / (max_value - min_value)"
   ]
  },
  {
   "cell_type": "code",
   "execution_count": null,
   "id": "b50e69b0",
   "metadata": {},
   "outputs": [],
   "source": [
    "#merge with states_scores\n",
    "geo_co2 = pd.merge(states, emissions_2018, how='left', on='state')"
   ]
  },
  {
   "cell_type": "code",
   "execution_count": null,
   "id": "41baab86",
   "metadata": {},
   "outputs": [],
   "source": [
    "#plot map with geopandas\n",
    "fig, ax = plt.subplots(1, figsize=(10,6))\n",
    "geo_co2.plot(column='log_co2_norm', cmap='Reds', linewidth=1, ax=ax, edgecolor='0.9', legend = True)\n",
    "ax.axis('off')\n",
    "ax.set_title('Emissions of Co2 per capita')\n",
    "plt.show()"
   ]
  },
  {
   "cell_type": "markdown",
   "id": "bd2001f8",
   "metadata": {},
   "source": [
    "<a id = talking_action></a>\n",
    "### 4.4 Talking and actions"
   ]
  },
  {
   "cell_type": "markdown",
   "id": "19ec9b16",
   "metadata": {},
   "source": [
    "\n",
    "Representing the absolute number of quotes about global warming of each state using the governors of each state as reference"
   ]
  },
  {
   "cell_type": "code",
   "execution_count": null,
   "id": "fd88a23e",
   "metadata": {},
   "outputs": [],
   "source": [
    "#read file containing governors' names\n",
    "governors = pd.read_csv('governors.csv', delimiter=';')\n",
    "\n",
    "\n",
    "governors = governors.dropna(how='all')\n",
    "governors = governors.rename(columns={'name': 'label', 'party':'political_party', 'state_name':'state'})\n",
    "governors = governors[['state', 'label', 'political_party']]"
   ]
  },
  {
   "cell_type": "code",
   "execution_count": null,
   "id": "e926487f",
   "metadata": {},
   "outputs": [],
   "source": [
    "#sort the governors from the one with the most quotes to the less\n",
    "governors_quotes = pd.merge(governors, sorted_speakers, how='left', on='label')"
   ]
  },
  {
   "cell_type": "code",
   "execution_count": null,
   "id": "ce791a75",
   "metadata": {},
   "outputs": [],
   "source": [
    "governors_quotes.isna().sum()"
   ]
  },
  {
   "cell_type": "markdown",
   "id": "b56ab8b2",
   "metadata": {},
   "source": [
    "\n",
    "Number of quotes of each state but using senators as reference"
   ]
  },
  {
   "cell_type": "code",
   "execution_count": null,
   "id": "b01462c7",
   "metadata": {},
   "outputs": [],
   "source": [
    "#read file containing senators names\n",
    "senators = pd.read_csv('senators.csv', delimiter=';')\n",
    "\n",
    "senators = senators.rename(columns={'Name': 'label', 'State':'state'})\n",
    "senators = senators[['label','state']]"
   ]
  },
  {
   "cell_type": "code",
   "execution_count": null,
   "id": "29ee6cac",
   "metadata": {},
   "outputs": [],
   "source": [
    "#sort senators from the one with the most quotes to the least\n",
    "senators_quotes = pd.merge(senators, sorted_speakers, how='left', on='label')\n",
    "# group them by state\n",
    "senators_quotes_grouped = senators_quotes.groupby(['state'])['counts'].sum().to_frame()"
   ]
  },
  {
   "cell_type": "code",
   "execution_count": null,
   "id": "bfc55889",
   "metadata": {},
   "outputs": [],
   "source": [
    "##checking if all states are represented\n",
    "senators_quotes_grouped.isna().sum()"
   ]
  },
  {
   "cell_type": "markdown",
   "id": "eb28ebd4",
   "metadata": {},
   "source": [
    "We have now a better representation of the states\n",
    "\n",
    "Combining senators and governors"
   ]
  },
  {
   "cell_type": "code",
   "execution_count": null,
   "id": "64674003",
   "metadata": {},
   "outputs": [],
   "source": [
    "total = senators_quotes.append(governors_quotes)\n",
    "total = total.groupby(['state'])['counts'].sum().to_frame()"
   ]
  },
  {
   "cell_type": "code",
   "execution_count": null,
   "id": "677598c5",
   "metadata": {},
   "outputs": [],
   "source": [
    "#visualisation of the distribution\n",
    "bar = total.sort_values(by='counts',ascending=False)\n",
    "\n",
    "\n",
    "plt.bar(bar.index, bar['counts'])\n",
    "plt.xticks([])\n",
    "plt.show()"
   ]
  },
  {
   "cell_type": "markdown",
   "id": "bfceaf3c",
   "metadata": {},
   "source": [
    "We have a heavy tail distribution so it would be nice see the result with a log-scale"
   ]
  },
  {
   "cell_type": "code",
   "execution_count": null,
   "id": "1889402e",
   "metadata": {},
   "outputs": [],
   "source": [
    "#visualisation of the distribution using a log-scale\n",
    "bar = total.sort_values(by='counts',ascending=False)\n",
    "\n",
    "plt.bar(bar.index, bar['counts'], log=True)\n",
    "plt.xticks([])\n",
    "plt.show()"
   ]
  },
  {
   "cell_type": "code",
   "execution_count": null,
   "id": "89f56eb8",
   "metadata": {},
   "outputs": [],
   "source": [
    "\n",
    "\n",
    "## use a logarithm value to represent data\n",
    "total['log_abs'] = np.log(total['counts'].replace(0, np.nan))\n",
    "\n",
    "#normalize between 0 and 1\n",
    "max_value = total['log_abs'].max()\n",
    "min_value = total['log_abs'].min()\n",
    "total['log_abs_norm'] = (total['log_abs'] - min_value) / (max_value - min_value)\n",
    "\n"
   ]
  },
  {
   "cell_type": "code",
   "execution_count": null,
   "id": "a8541688",
   "metadata": {},
   "outputs": [],
   "source": [
    "geo_quotes = pd.merge(states, total, how='left', on='state')"
   ]
  },
  {
   "cell_type": "code",
   "execution_count": null,
   "id": "47fc0af0",
   "metadata": {},
   "outputs": [],
   "source": [
    "fig, ax = plt.subplots(1, figsize=(10,6))\n",
    "geo_quotes.plot(column='log_abs_norm', cmap='Reds', linewidth=1, ax=ax, edgecolor='0.9', legend = True)\n",
    "ax.axis('off')\n",
    "ax.set_title('Number of quotes of each state')\n",
    "plt.show()"
   ]
  },
  {
   "cell_type": "markdown",
   "id": "7e7e95d8",
   "metadata": {},
   "source": [
    "\n",
    "Relative number of quotes about global warming of each states\n",
    "\n",
    "To get the relative number of quotes of each states, we use the number of quotes about global warming found above and divide it by total the number of quotes (all quotes).\n"
   ]
  },
  {
   "cell_type": "code",
   "execution_count": null,
   "id": "7a2ee385",
   "metadata": {},
   "outputs": [],
   "source": [
    "#read pickle\n",
    "data = pd.read_pickle(\"total_quotes.pkl\", compression='infer')"
   ]
  },
  {
   "cell_type": "code",
   "execution_count": null,
   "id": "43ef5145",
   "metadata": {},
   "outputs": [],
   "source": [
    "# senators + governors\n",
    "all_speakers = senators_quotes.append(governors_quotes)"
   ]
  },
  {
   "cell_type": "code",
   "execution_count": null,
   "id": "4e6f0247",
   "metadata": {},
   "outputs": [],
   "source": [
    "# count total quotes and group them by speaker\n",
    "tot_by_speaker = data['speaker'].value_counts().to_frame('counts').reset_index()\n",
    "tot_by_speaker = tot_by_speaker.rename(columns={'index':'label'})"
   ]
  },
  {
   "cell_type": "code",
   "execution_count": null,
   "id": "0520dc08",
   "metadata": {},
   "outputs": [],
   "source": [
    "relative = pd.merge(all_speakers, tot_by_speaker, how='left', on='label')\n",
    "\n",
    "relative = relative.groupby(['state'])[['counts_x','counts_y']].sum()\n",
    "relative['rel'] = relative['counts_x']/relative['counts_y']\n",
    "# we now have the relative quotes about global warming with respect to the total quotes"
   ]
  },
  {
   "cell_type": "code",
   "execution_count": null,
   "id": "777ec74d",
   "metadata": {},
   "outputs": [],
   "source": [
    "#take the log-value\n",
    "relative['log_rel'] = np.log(relative['rel'].replace(0, np.nan))\n",
    "\n",
    "#normalize between 0 and 1\n",
    "max_value = relative['log_rel'].max()\n",
    "min_value = relative['log_rel'].min()\n",
    "relative['log_rel_norm'] = (relative['log_rel'] - min_value) / (max_value - min_value)"
   ]
  },
  {
   "cell_type": "code",
   "execution_count": null,
   "id": "b8bb47dd",
   "metadata": {},
   "outputs": [],
   "source": [
    "geo_rel = pd.merge(states, relative, how='left', on='state')"
   ]
  },
  {
   "cell_type": "code",
   "execution_count": null,
   "id": "43e62d00",
   "metadata": {},
   "outputs": [],
   "source": [
    "fig, ax = plt.subplots(1, figsize=(10,6))\n",
    "geo_rel.plot(column='log_rel_norm', cmap='Reds', linewidth=1, ax=ax, edgecolor='0.9', legend = True)\n",
    "ax.axis('off')\n",
    "plt.show()"
   ]
  },
  {
   "cell_type": "markdown",
   "id": "43ee3b5b",
   "metadata": {},
   "source": [
    "<a id = interactive_map></a>\n",
    "### 4.5 Interactive map grouping all the infos"
   ]
  },
  {
   "cell_type": "code",
   "execution_count": null,
   "id": "272ad38b",
   "metadata": {},
   "outputs": [],
   "source": [
    "import chart_studio.plotly as py\n",
    "import plotly.offline as po\n",
    "import plotly.graph_objs as pg\n",
    "po.offline.init_notebook_mode(connected=True)\n",
    "\n",
    "import plotly.express as px\n",
    "import plotly.graph_objects as go"
   ]
  },
  {
   "cell_type": "code",
   "execution_count": null,
   "id": "0c7987bb",
   "metadata": {},
   "outputs": [],
   "source": [
    "map_data = pd.merge(total, relative[['rel','log_rel','log_rel_norm']], how='left', on='state')"
   ]
  },
  {
   "cell_type": "code",
   "execution_count": null,
   "id": "ef10b863",
   "metadata": {},
   "outputs": [],
   "source": [
    "map_data = pd.merge(map_data, scores, on='state')\n",
    "map_data = pd.merge(map_data, states[['STUSPS','state']], on='state')"
   ]
  },
  {
   "cell_type": "code",
   "execution_count": null,
   "id": "fb013bf8",
   "metadata": {},
   "outputs": [],
   "source": [
    "map_data = pd.merge(map_data, emissions_2018[['log_co2_norm','state','Co2_cap']], on='state')"
   ]
  },
  {
   "cell_type": "code",
   "execution_count": null,
   "id": "3607248b",
   "metadata": {},
   "outputs": [],
   "source": [
    "map_data['party'].replace('Republican Party', 0, inplace=True)\n",
    "map_data['party'].replace('Democratic Party', 1, inplace=True)"
   ]
  },
  {
   "cell_type": "code",
   "execution_count": null,
   "id": "39712ba2",
   "metadata": {},
   "outputs": [],
   "source": [
    "##  After reading this post: https://stackoverflow.com/questions/61750811/dropdown-menu-for-plotly-choropleth-map-plots\n",
    "\n",
    "map_data = map_data.rename(columns={'log_rel_norm':\"climate quotes\", 'score':'environmental score', 'log_co2_norm':'CO2 emissions'})\n",
    "cols_dd = [ \"climate quotes\", 'environmental score','CO2 emissions']\n",
    "visible = np.array(cols_dd)\n",
    "\n",
    "# define traces and buttons\n",
    "traces = []\n",
    "buttons = []\n",
    "\n",
    "for value in cols_dd:\n",
    "    traces.append(go.Choropleth(\n",
    "        locations=map_data['STUSPS'], # Spatial coordinates\n",
    "        z=map_data[value], # Data to be color-coded\n",
    "        locationmode = 'USA-states',\n",
    "        colorscale = 'Greens', \n",
    "        text = map_data['state'],\n",
    "        hovertemplate = \" %{text} <br> %{z} <extra></extra>\",\n",
    "        colorbar_title=value,\n",
    "        visible= True if value==cols_dd[0] else False))\n",
    "    \n",
    "    buttons.append(dict(label=value,\n",
    "                        method=\"update\",\n",
    "                        args=[{\"visible\":list(visible==value)},\n",
    "                              {\"title\":f\"<b>{value}</b>\"}]))\n",
    "\n",
    "updatemenus = [{\"active\":0,\n",
    "                \"buttons\":buttons,\n",
    "               }]\n",
    "\n",
    "layout = dict(geo = dict(scope='usa'), updatemenus=updatemenus)\n",
    "# Show figure\n",
    "fig = go.Figure(data=traces,\n",
    "                layout=layout)\n",
    "\n",
    "first_title = cols_dd[0]\n",
    "fig.update_layout(title=f\"<b>{first_title}</b>\",title_x=0.5, width=1000,\n",
    "    height=600)\n",
    "fig.show()"
   ]
  },
  {
   "cell_type": "code",
   "execution_count": null,
   "id": "f7e79c2d",
   "metadata": {},
   "outputs": [],
   "source": []
  },
  {
   "cell_type": "code",
   "execution_count": null,
   "id": "29d7e1a2",
   "metadata": {},
   "outputs": [],
   "source": []
  },
  {
   "cell_type": "code",
   "execution_count": null,
   "id": "1fb60867",
   "metadata": {},
   "outputs": [],
   "source": []
  },
  {
   "cell_type": "code",
   "execution_count": null,
   "id": "d3c5b2ef",
   "metadata": {},
   "outputs": [],
   "source": []
  },
  {
   "cell_type": "code",
   "execution_count": null,
   "id": "04b6bc73",
   "metadata": {},
   "outputs": [],
   "source": []
  },
  {
   "cell_type": "code",
   "execution_count": null,
   "id": "13bd9e04",
   "metadata": {},
   "outputs": [],
   "source": []
  },
  {
   "cell_type": "code",
   "execution_count": null,
   "id": "481ff47c",
   "metadata": {},
   "outputs": [],
   "source": []
  },
  {
   "cell_type": "markdown",
   "id": "73b3944d",
   "metadata": {},
   "source": [
    "<a id = conclusion> </a>\n",
    "# 5 Conclusion\n"
   ]
  },
  {
   "cell_type": "code",
   "execution_count": null,
   "id": "ca965bce",
   "metadata": {},
   "outputs": [],
   "source": []
  }
 ],
 "metadata": {
  "kernelspec": {
   "display_name": "Python 3",
   "language": "python",
   "name": "python3"
  },
  "language_info": {
   "codemirror_mode": {
    "name": "ipython",
    "version": 3
   },
   "file_extension": ".py",
   "mimetype": "text/x-python",
   "name": "python",
   "nbconvert_exporter": "python",
   "pygments_lexer": "ipython3",
   "version": "3.8.8"
  }
 },
 "nbformat": 4,
 "nbformat_minor": 5
}
