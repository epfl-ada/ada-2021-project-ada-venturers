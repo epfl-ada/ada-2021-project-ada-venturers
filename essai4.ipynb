{
 "cells": [
  {
   "cell_type": "code",
   "execution_count": 2,
   "id": "b34a05c9",
   "metadata": {},
   "outputs": [],
   "source": [
    "import numpy as np\n",
    "import pandas as pd\n",
    "import gensim\n",
    "from nltk.tokenize import word_tokenize\n",
    "from gensim.models.doc2vec import Doc2Vec, TaggedDocument"
   ]
  },
  {
   "cell_type": "code",
   "execution_count": null,
   "id": "54fad5ff",
   "metadata": {
    "scrolled": true
   },
   "outputs": [],
   "source": [
    "column_names = [\"ID\", \"quote\", \"speaker\", \"date\"]\n",
    "\n",
    "data = pd.DataFrame(columns = column_names)\n",
    "\n",
    "found = []\n",
    "\n",
    "def process_chunk(chunk):\n",
    "        print(f'Processing chunk with {len(chunk)} rows')\n",
    "        \n",
    "        for i in range(chunk.index[0], chunk.index[len(chunk)-1]+1):\n",
    "            if 'limate change' in chunk.quotation[i] or 'lobal warming' in chunk.quotation[i]:\n",
    "                if 'None' not in chunk.speaker[i]:\n",
    "                    row = pd.DataFrame([chunk.quoteID[i], chunk.quotation[i], chunk.speaker[i], chunk.date[i]])\n",
    "                    print(row)\n",
    "                    print(data.append(row))\n",
    "                                        \n",
    "\n",
    "with pd.read_json('quotes-2020.json.bz2', lines=True, compression='bz2', chunksize=1000) as df_reader:\n",
    "    for chunk in df_reader:\n",
    "        process_chunk(chunk)"
   ]
  },
  {
   "cell_type": "code",
   "execution_count": 86,
   "id": "6f5b0499",
   "metadata": {},
   "outputs": [
    {
     "data": {
      "text/plain": [
       "0"
      ]
     },
     "execution_count": 86,
     "metadata": {},
     "output_type": "execute_result"
    }
   ],
   "source": [
    "len(found)"
   ]
  },
  {
   "cell_type": "code",
   "execution_count": 87,
   "id": "cfbc28d2",
   "metadata": {},
   "outputs": [
    {
     "name": "stdout",
     "output_type": "stream",
     "text": [
      "Empty DataFrame\n",
      "Columns: [ID, quote, speaker, date]\n",
      "Index: []\n"
     ]
    }
   ],
   "source": [
    "print(data)"
   ]
  },
  {
   "cell_type": "code",
   "execution_count": null,
   "id": "b52dce7c",
   "metadata": {},
   "outputs": [],
   "source": [
    "            \n",
    "        for quote in chunk.quotation:\n",
    "            if 'limate change' in quote or 'lobal warming' in quote:\n",
    "                found.append(quote)\n",
    "        "
   ]
  }
 ],
 "metadata": {
  "kernelspec": {
   "display_name": "Python 3",
   "language": "python",
   "name": "python3"
  },
  "language_info": {
   "codemirror_mode": {
    "name": "ipython",
    "version": 3
   },
   "file_extension": ".py",
   "mimetype": "text/x-python",
   "name": "python",
   "nbconvert_exporter": "python",
   "pygments_lexer": "ipython3",
   "version": "3.8.8"
  }
 },
 "nbformat": 4,
 "nbformat_minor": 5
}
