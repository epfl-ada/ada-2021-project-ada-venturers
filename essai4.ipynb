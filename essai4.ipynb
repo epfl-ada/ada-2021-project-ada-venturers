{
 "cells": [
  {
   "cell_type": "code",
   "execution_count": 33,
   "id": "b34a05c9",
   "metadata": {},
   "outputs": [],
   "source": [
    "import numpy as np\n",
    "import pandas as pd\n",
    "import gensim\n",
    "import matplotlib.pyplot as plt\n",
    "import seaborn as sns\n",
    "from nltk.tokenize import word_tokenize\n",
    "from gensim.models.doc2vec import Doc2Vec, TaggedDocument"
   ]
  },
  {
   "cell_type": "code",
   "execution_count": 10,
   "id": "54fad5ff",
   "metadata": {
    "scrolled": true
   },
   "outputs": [
    {
     "name": "stdout",
     "output_type": "stream",
     "text": [
      "Processing chunk with 1000000 rows\n",
      "Processing chunk with 1000000 rows\n",
      "Processing chunk with 1000000 rows\n",
      "Processing chunk with 1000000 rows\n",
      "Processing chunk with 1000000 rows\n",
      "Processing chunk with 244449 rows\n"
     ]
    }
   ],
   "source": [
    "data = pd.DataFrame()\n",
    "\n",
    "count = 0\n",
    "found = []\n",
    "\n",
    "def process_chunk(chunk):\n",
    "        print(f'Processing chunk with {len(chunk)} rows')\n",
    "        data = pd.DataFrame()\n",
    "        count = 0\n",
    "        for i, row in chunk.iterrows():\n",
    "            if 'limate change' in row.quotation or 'lobal warming' in row.quotation:\n",
    "                if 'None' not in row.speaker:            \n",
    "                    data = data.append(row, ignore_index=True)\n",
    "                    count += 1\n",
    "\n",
    "        del data[\"probas\"]\n",
    "        del data[\"phase\"]\n",
    "        del data[\"qids\"]\n",
    "        del data[\"urls\"]\n",
    "        \n",
    "        return data\n",
    "    \n",
    "\n",
    "with pd.read_json('quotes-2020.json.bz2', lines=True, compression='bz2', chunksize=1000000) as df_reader:\n",
    "    for chunk in df_reader:\n",
    "        \n",
    "        \n",
    "        data = data.append(process_chunk(chunk))\n",
    "        \n"
   ]
  },
  {
   "cell_type": "code",
   "execution_count": 47,
   "id": "6f5b0499",
   "metadata": {},
   "outputs": [
    {
     "name": "stdout",
     "output_type": "stream",
     "text": [
      "6428\n"
     ]
    },
    {
     "data": {
      "text/html": [
       "<div>\n",
       "<style scoped>\n",
       "    .dataframe tbody tr th:only-of-type {\n",
       "        vertical-align: middle;\n",
       "    }\n",
       "\n",
       "    .dataframe tbody tr th {\n",
       "        vertical-align: top;\n",
       "    }\n",
       "\n",
       "    .dataframe thead th {\n",
       "        text-align: right;\n",
       "    }\n",
       "</style>\n",
       "<table border=\"1\" class=\"dataframe\">\n",
       "  <thead>\n",
       "    <tr style=\"text-align: right;\">\n",
       "      <th></th>\n",
       "      <th>date</th>\n",
       "      <th>numOccurrences</th>\n",
       "      <th>quotation</th>\n",
       "      <th>quoteID</th>\n",
       "      <th>speaker</th>\n",
       "    </tr>\n",
       "  </thead>\n",
       "  <tbody>\n",
       "    <tr>\n",
       "      <th>0</th>\n",
       "      <td>2020-01-29 09:04:36</td>\n",
       "      <td>5.0</td>\n",
       "      <td>Many make the link today between their experie...</td>\n",
       "      <td>2020-01-29-062975</td>\n",
       "      <td>Peter Maurer</td>\n",
       "    </tr>\n",
       "    <tr>\n",
       "      <th>1</th>\n",
       "      <td>2020-02-10 05:51:51</td>\n",
       "      <td>1.0</td>\n",
       "      <td>the National Energy and Climate Plans are how ...</td>\n",
       "      <td>2020-02-10-076321</td>\n",
       "      <td>Kadri Simson</td>\n",
       "    </tr>\n",
       "    <tr>\n",
       "      <th>2</th>\n",
       "      <td>2020-01-06 11:49:00</td>\n",
       "      <td>1.0</td>\n",
       "      <td>This budget also allows us to earmark £ 500,00...</td>\n",
       "      <td>2020-01-06-069057</td>\n",
       "      <td>John Whitehead</td>\n",
       "    </tr>\n",
       "    <tr>\n",
       "      <th>3</th>\n",
       "      <td>2020-03-10 20:47:28</td>\n",
       "      <td>2.0</td>\n",
       "      <td>As a state, we will pursue every option availa...</td>\n",
       "      <td>2020-03-10-005294</td>\n",
       "      <td>Kate Brown</td>\n",
       "    </tr>\n",
       "    <tr>\n",
       "      <th>4</th>\n",
       "      <td>2020-01-04 04:07:00</td>\n",
       "      <td>1.0</td>\n",
       "      <td>tracks directly back to the issues of climate ...</td>\n",
       "      <td>2020-01-04-039724</td>\n",
       "      <td>David Caldicott</td>\n",
       "    </tr>\n",
       "  </tbody>\n",
       "</table>\n",
       "</div>"
      ],
      "text/plain": [
       "                 date  numOccurrences  \\\n",
       "0 2020-01-29 09:04:36             5.0   \n",
       "1 2020-02-10 05:51:51             1.0   \n",
       "2 2020-01-06 11:49:00             1.0   \n",
       "3 2020-03-10 20:47:28             2.0   \n",
       "4 2020-01-04 04:07:00             1.0   \n",
       "\n",
       "                                           quotation            quoteID  \\\n",
       "0  Many make the link today between their experie...  2020-01-29-062975   \n",
       "1  the National Energy and Climate Plans are how ...  2020-02-10-076321   \n",
       "2  This budget also allows us to earmark £ 500,00...  2020-01-06-069057   \n",
       "3  As a state, we will pursue every option availa...  2020-03-10-005294   \n",
       "4  tracks directly back to the issues of climate ...  2020-01-04-039724   \n",
       "\n",
       "           speaker  \n",
       "0     Peter Maurer  \n",
       "1     Kadri Simson  \n",
       "2   John Whitehead  \n",
       "3       Kate Brown  \n",
       "4  David Caldicott  "
      ]
     },
     "execution_count": 47,
     "metadata": {},
     "output_type": "execute_result"
    }
   ],
   "source": [
    "print(len(data))\n",
    "data.head()"
   ]
  },
  {
   "cell_type": "code",
   "execution_count": 48,
   "id": "1d856f13",
   "metadata": {},
   "outputs": [
    {
     "name": "stdout",
     "output_type": "stream",
     "text": [
      "32140\n"
     ]
    },
    {
     "data": {
      "text/html": [
       "<div>\n",
       "<style scoped>\n",
       "    .dataframe tbody tr th:only-of-type {\n",
       "        vertical-align: middle;\n",
       "    }\n",
       "\n",
       "    .dataframe tbody tr th {\n",
       "        vertical-align: top;\n",
       "    }\n",
       "\n",
       "    .dataframe thead th {\n",
       "        text-align: right;\n",
       "    }\n",
       "</style>\n",
       "<table border=\"1\" class=\"dataframe\">\n",
       "  <thead>\n",
       "    <tr style=\"text-align: right;\">\n",
       "      <th></th>\n",
       "      <th>date</th>\n",
       "      <th>numOccurrences</th>\n",
       "      <th>quotation</th>\n",
       "      <th>quoteID</th>\n",
       "      <th>speaker</th>\n",
       "    </tr>\n",
       "  </thead>\n",
       "  <tbody>\n",
       "    <tr>\n",
       "      <th>273</th>\n",
       "      <td>2020-01-09 00:00:00</td>\n",
       "      <td>2.0</td>\n",
       "      <td>The courts are increasingly saying that you ha...</td>\n",
       "      <td>2020-01-09-077992</td>\n",
       "      <td>Rob Bishop</td>\n",
       "    </tr>\n",
       "    <tr>\n",
       "      <th>274</th>\n",
       "      <td>2020-02-06 22:38:10</td>\n",
       "      <td>1.0</td>\n",
       "      <td>The expected increase in severe weather due to...</td>\n",
       "      <td>2020-02-06-089077</td>\n",
       "      <td>Deb Gardner</td>\n",
       "    </tr>\n",
       "    <tr>\n",
       "      <th>275</th>\n",
       "      <td>2020-02-05 16:30:31</td>\n",
       "      <td>2.0</td>\n",
       "      <td>We will be an energetic champion of free trade...</td>\n",
       "      <td>2020-02-05-114487</td>\n",
       "      <td>Dominic Raab</td>\n",
       "    </tr>\n",
       "    <tr>\n",
       "      <th>276</th>\n",
       "      <td>2020-02-10 11:00:08</td>\n",
       "      <td>1.0</td>\n",
       "      <td>Obama got health care, Trump got his tax cut, ...</td>\n",
       "      <td>2020-02-10-057505</td>\n",
       "      <td>Tom Steyer</td>\n",
       "    </tr>\n",
       "    <tr>\n",
       "      <th>277</th>\n",
       "      <td>2020-02-23 22:38:42</td>\n",
       "      <td>2.0</td>\n",
       "      <td>We've been writing about climate change being ...</td>\n",
       "      <td>2020-02-23-041538</td>\n",
       "      <td>Lesley Hughes</td>\n",
       "    </tr>\n",
       "  </tbody>\n",
       "</table>\n",
       "</div>"
      ],
      "text/plain": [
       "                   date  numOccurrences  \\\n",
       "273 2020-01-09 00:00:00             2.0   \n",
       "274 2020-02-06 22:38:10             1.0   \n",
       "275 2020-02-05 16:30:31             2.0   \n",
       "276 2020-02-10 11:00:08             1.0   \n",
       "277 2020-02-23 22:38:42             2.0   \n",
       "\n",
       "                                             quotation            quoteID  \\\n",
       "273  The courts are increasingly saying that you ha...  2020-01-09-077992   \n",
       "274  The expected increase in severe weather due to...  2020-02-06-089077   \n",
       "275  We will be an energetic champion of free trade...  2020-02-05-114487   \n",
       "276  Obama got health care, Trump got his tax cut, ...  2020-02-10-057505   \n",
       "277  We've been writing about climate change being ...  2020-02-23-041538   \n",
       "\n",
       "           speaker  \n",
       "273     Rob Bishop  \n",
       "274    Deb Gardner  \n",
       "275   Dominic Raab  \n",
       "276     Tom Steyer  \n",
       "277  Lesley Hughes  "
      ]
     },
     "execution_count": 48,
     "metadata": {},
     "output_type": "execute_result"
    }
   ],
   "source": [
    "print(data.size)\n",
    "data.tail()"
   ]
  },
  {
   "cell_type": "markdown",
   "id": "bb8d66c7",
   "metadata": {},
   "source": [
    "I do not undestand why the length is 6428 but then we only have 277 lines in the dataframe."
   ]
  },
  {
   "cell_type": "code",
   "execution_count": 42,
   "id": "cfbc28d2",
   "metadata": {},
   "outputs": [
    {
     "data": {
      "image/png": "[encoded data removed]",
      "text/plain": [
       "<Figure size 720x432 with 1 Axes>"
      ]
     },
     "metadata": {
      "needs_background": "light"
     },
     "output_type": "display_data"
    },
    {
     "name": "stdout",
     "output_type": "stream",
     "text": [
      "2020-01-01 00:00:00\n",
      "2020-04-16 20:46:52\n"
     ]
    }
   ],
   "source": [
    "data['date'].hist(bins=24, figsize=(10, 6))\n",
    "plt.xlabel('Date')\n",
    "plt.ylabel('Number of quotes')\n",
    "plt.title('Quotes in 2020')\n",
    "plt.show()\n",
    "\n",
    "print(min(data['date']))\n",
    "print(max(data['date']))"
   ]
  },
  {
   "cell_type": "code",
   "execution_count": 38,
   "id": "b52dce7c",
   "metadata": {},
   "outputs": [
    {
     "data": {
      "text/plain": [
       "0    Bernie Sanders\n",
       "dtype: object"
      ]
     },
     "execution_count": 38,
     "metadata": {},
     "output_type": "execute_result"
    }
   ],
   "source": [
    "data.speaker.mode()"
   ]
  },
  {
   "cell_type": "code",
   "execution_count": 40,
   "id": "24a4c589",
   "metadata": {},
   "outputs": [
    {
     "data": {
      "text/plain": [
       "['Bernie Sanders',\n",
       " 'Scott Morrison',\n",
       " 'Joaquin Phoenix',\n",
       " 'Larry Fink',\n",
       " 'Joe Biden',\n",
       " 'Boris Johnson',\n",
       " 'Greta Thunberg',\n",
       " 'Malcolm Turnbull',\n",
       " 'Antonio Guterres',\n",
       " 'Jeff Bezos']"
      ]
     },
     "execution_count": 40,
     "metadata": {},
     "output_type": "execute_result"
    }
   ],
   "source": [
    "n = 10\n",
    "data['speaker'].value_counts()[:n].index.tolist()"
   ]
  },
  {
   "cell_type": "code",
   "execution_count": null,
   "id": "99206bd6",
   "metadata": {},
   "outputs": [],
   "source": []
  }
 ],
 "metadata": {
  "kernelspec": {
   "display_name": "Python 3",
   "language": "python",
   "name": "python3"
  },
  "language_info": {
   "codemirror_mode": {
    "name": "ipython",
    "version": 3
   },
   "file_extension": ".py",
   "mimetype": "text/x-python",
   "name": "python",
   "nbconvert_exporter": "python",
   "pygments_lexer": "ipython3",
   "version": "3.8.8"
  }
 },
 "nbformat": 4,
 "nbformat_minor": 5
}
