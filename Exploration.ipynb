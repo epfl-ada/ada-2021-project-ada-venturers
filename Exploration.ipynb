{
 "cells": [
  {
   "cell_type": "markdown",
   "id": "e8caf97d",
   "metadata": {
    "scrolled": true
   },
   "source": [
    "#### Exécuter si vous n'avez pas déjà installer ces deux packages"
   ]
  },
  {
   "cell_type": "code",
   "execution_count": null,
   "id": "98ca383d",
   "metadata": {},
   "outputs": [],
   "source": [
    "#!pip install gensim\n",
    "#!pip install python-Levenshtein"
   ]
  },
  {
   "cell_type": "markdown",
   "id": "c89fd46b",
   "metadata": {},
   "source": [
    "#### Import des librairies"
   ]
  },
  {
   "cell_type": "code",
   "execution_count": 8,
   "id": "7417279e",
   "metadata": {},
   "outputs": [],
   "source": [
    "import numpy as np\n",
    "import pandas as pd\n",
    "import gensim\n",
    "from nltk.tokenize import word_tokenize\n",
    "from gensim.models.doc2vec import Doc2Vec, TaggedDocument"
   ]
  },
  {
   "cell_type": "markdown",
   "id": "579bb0b3",
   "metadata": {},
   "source": [
    "#### Import des données"
   ]
  },
  {
   "cell_type": "code",
   "execution_count": 2,
   "id": "f726c1db",
   "metadata": {},
   "outputs": [],
   "source": [
    "df = pd.read_json('quotes-2020.json.bz2', compression='bz2', nrows=100000, lines=True)"
   ]
  },
  {
   "cell_type": "code",
   "execution_count": 4,
   "id": "2d45890e",
   "metadata": {
    "scrolled": true
   },
   "outputs": [
    {
     "data": {
      "text/html": [
       "<div>\n",
       "<style scoped>\n",
       "    .dataframe tbody tr th:only-of-type {\n",
       "        vertical-align: middle;\n",
       "    }\n",
       "\n",
       "    .dataframe tbody tr th {\n",
       "        vertical-align: top;\n",
       "    }\n",
       "\n",
       "    .dataframe thead th {\n",
       "        text-align: right;\n",
       "    }\n",
       "</style>\n",
       "<table border=\"1\" class=\"dataframe\">\n",
       "  <thead>\n",
       "    <tr style=\"text-align: right;\">\n",
       "      <th></th>\n",
       "      <th>quoteID</th>\n",
       "      <th>quotation</th>\n",
       "      <th>speaker</th>\n",
       "      <th>qids</th>\n",
       "      <th>date</th>\n",
       "      <th>numOccurrences</th>\n",
       "      <th>probas</th>\n",
       "      <th>urls</th>\n",
       "      <th>phase</th>\n",
       "    </tr>\n",
       "  </thead>\n",
       "  <tbody>\n",
       "    <tr>\n",
       "      <th>0</th>\n",
       "      <td>2020-01-28-000082</td>\n",
       "      <td>[ D ] espite the efforts of the partners to cr...</td>\n",
       "      <td>None</td>\n",
       "      <td>[]</td>\n",
       "      <td>2020-01-28 08:04:05</td>\n",
       "      <td>1</td>\n",
       "      <td>[[None, 0.7272], [Prime Minister Netanyahu, 0....</td>\n",
       "      <td>[http://israelnationalnews.com/News/News.aspx/...</td>\n",
       "      <td>E</td>\n",
       "    </tr>\n",
       "  </tbody>\n",
       "</table>\n",
       "</div>"
      ],
      "text/plain": [
       "             quoteID                                          quotation  \\\n",
       "0  2020-01-28-000082  [ D ] espite the efforts of the partners to cr...   \n",
       "\n",
       "  speaker qids                date  numOccurrences  \\\n",
       "0    None   [] 2020-01-28 08:04:05               1   \n",
       "\n",
       "                                              probas  \\\n",
       "0  [[None, 0.7272], [Prime Minister Netanyahu, 0....   \n",
       "\n",
       "                                                urls phase  \n",
       "0  [http://israelnationalnews.com/News/News.aspx/...     E  "
      ]
     },
     "execution_count": 4,
     "metadata": {},
     "output_type": "execute_result"
    }
   ],
   "source": [
    "df.head(1)"
   ]
  },
  {
   "cell_type": "markdown",
   "id": "0c389045",
   "metadata": {},
   "source": [
    "#### 1. Doc2Vec"
   ]
  },
  {
   "cell_type": "markdown",
   "id": "75edafbf",
   "metadata": {},
   "source": [
    "#### On va créer une liste de TaggedDocument. Chaque TaggedDocument contient un Document, et un Tag (identifiant unique)."
   ]
  },
  {
   "cell_type": "markdown",
   "id": "a7e89f26",
   "metadata": {},
   "source": [
    "Deux manières de créer les Tagged-Data, on voit que la deuxieme est mieux car elle permet de mieux nettoyer les quotations : "
   ]
  },
  {
   "cell_type": "code",
   "execution_count": 7,
   "id": "fbc1a0dd",
   "metadata": {},
   "outputs": [],
   "source": [
    "tagged_data = [TaggedDocument(words=word_tokenize(_d.lower()), tags=[str(i)]) for i, _d in enumerate(df['quotation'])]"
   ]
  },
  {
   "cell_type": "code",
   "execution_count": 28,
   "id": "757ffb18",
   "metadata": {},
   "outputs": [
    {
     "data": {
      "text/plain": [
       "TaggedDocument(words=['[', 'd', ']', 'espite', 'the', 'efforts', 'of', 'the', 'partners', 'to', 'create', 'a', 'non-political', 'award', 'that', 'unites', 'the', 'jewish', 'people', ',', 'some', 'have', 'incorrectly', 'interpreted', 'the', 'participation', 'of', 'the', 'office', 'of', 'the', 'prime', 'minister', 'in', 'the', 'genesis', 'prize', 'as', 'bringing', 'a', 'political', 'dimension', 'to', 'this', 'important', 'initiative', ','], tags=['0'])"
      ]
     },
     "execution_count": 28,
     "metadata": {},
     "output_type": "execute_result"
    }
   ],
   "source": [
    "tagged_data[0]"
   ]
  },
  {
   "cell_type": "code",
   "execution_count": 52,
   "id": "1b5a479e",
   "metadata": {},
   "outputs": [],
   "source": [
    "vocab_quotes = df.quotation.apply(gensim.utils.simple_preprocess)\n",
    "tagged_data_2 = [TaggedDocument(words=doc, tags=[i]) for i, doc in enumerate(vocab_quotes)]"
   ]
  },
  {
   "cell_type": "code",
   "execution_count": 53,
   "id": "04892ca4",
   "metadata": {},
   "outputs": [
    {
     "data": {
      "text/plain": [
       "TaggedDocument(words=['espite', 'the', 'efforts', 'of', 'the', 'partners', 'to', 'create', 'non', 'political', 'award', 'that', 'unites', 'the', 'jewish', 'people', 'some', 'have', 'incorrectly', 'interpreted', 'the', 'participation', 'of', 'the', 'office', 'of', 'the', 'prime', 'minister', 'in', 'the', 'genesis', 'prize', 'as', 'bringing', 'political', 'dimension', 'to', 'this', 'important', 'initiative'], tags=[0])"
      ]
     },
     "execution_count": 53,
     "metadata": {},
     "output_type": "execute_result"
    }
   ],
   "source": [
    "tagged_data_2[0]"
   ]
  },
  {
   "cell_type": "code",
   "execution_count": 67,
   "id": "e2987256",
   "metadata": {},
   "outputs": [],
   "source": [
    "# On définit le modèle, il y a beaucoup de paramètres à étudier pour optimiser\n",
    "#model = gensim.models.Doc2Vec(vector_size=300, window=10, min_count=5, workers=4, epochs=20)\n",
    "model = gensim.models.Doc2Vec(vector_size=100, dbow_words= 1, dm=0,  window=5, seed=1337, min_count=5, workers=4,alpha=0.025, min_alpha=0.025)"
   ]
  },
  {
   "cell_type": "code",
   "execution_count": 68,
   "id": "596ddaad",
   "metadata": {},
   "outputs": [],
   "source": [
    "# On construit le vocab nécessaire au training \n",
    "model.build_vocab(tagged_data_2)"
   ]
  },
  {
   "cell_type": "code",
   "execution_count": 69,
   "id": "c78a50f9",
   "metadata": {},
   "outputs": [],
   "source": [
    "# On entraine le modèle\n",
    "model.train(tagged_data_2, total_examples=model.corpus_count, epochs=10)"
   ]
  },
  {
   "cell_type": "code",
   "execution_count": 75,
   "id": "29f143fd",
   "metadata": {},
   "outputs": [],
   "source": [
    "# On cherche les 10 documents les plus similaires à celui-ci. \n",
    "\n",
    "tokens = \"The climate crisis has already been solved.\".split()\n",
    "new_vector = model.infer_vector(tokens)\n",
    "sims = model.dv.most_similar([new_vector])"
   ]
  },
  {
   "cell_type": "code",
   "execution_count": 76,
   "id": "8d84ac79",
   "metadata": {},
   "outputs": [
    {
     "data": {
      "text/plain": [
       "[(572, 0.7996737360954285),\n",
       " (10474, 0.7693420052528381),\n",
       " (58040, 0.7656100392341614),\n",
       " (410, 0.7579727172851562),\n",
       " (99586, 0.7566854953765869),\n",
       " (52299, 0.7529284358024597),\n",
       " (86798, 0.7456504702568054),\n",
       " (47475, 0.7411602735519409),\n",
       " (16440, 0.7354569435119629),\n",
       " (23771, 0.7274510860443115)]"
      ]
     },
     "execution_count": 76,
     "metadata": {},
     "output_type": "execute_result"
    }
   ],
   "source": [
    "sims"
   ]
  },
  {
   "cell_type": "code",
   "execution_count": 81,
   "id": "70f0539b",
   "metadata": {},
   "outputs": [
    {
     "name": "stdout",
     "output_type": "stream",
     "text": [
      "23771    in response to the climate changing,\n",
      "Name: quotation, dtype: object\n"
     ]
    }
   ],
   "source": [
    "print(str(df.iloc[[23771]]['quotation']))"
   ]
  },
  {
   "cell_type": "code",
   "execution_count": null,
   "id": "777c0a19",
   "metadata": {},
   "outputs": [],
   "source": [
    "# Bon ben apparement ca marche assez bien, comment faire mieux désormais ? "
   ]
  },
  {
   "cell_type": "markdown",
   "id": "11ff556b",
   "metadata": {},
   "source": [
    "#### 2. Word2Vec"
   ]
  },
  {
   "cell_type": "code",
   "execution_count": 16,
   "id": "76932c0f",
   "metadata": {},
   "outputs": [],
   "source": [
    "vocab_quotes = df.quotation.apply(gensim.utils.simple_preprocess)"
   ]
  },
  {
   "cell_type": "code",
   "execution_count": 29,
   "id": "26969019",
   "metadata": {},
   "outputs": [
    {
     "data": {
      "text/plain": [
       "['espite',\n",
       " 'the',\n",
       " 'efforts',\n",
       " 'of',\n",
       " 'the',\n",
       " 'partners',\n",
       " 'to',\n",
       " 'create',\n",
       " 'non',\n",
       " 'political',\n",
       " 'award',\n",
       " 'that',\n",
       " 'unites',\n",
       " 'the',\n",
       " 'jewish',\n",
       " 'people',\n",
       " 'some',\n",
       " 'have',\n",
       " 'incorrectly',\n",
       " 'interpreted',\n",
       " 'the',\n",
       " 'participation',\n",
       " 'of',\n",
       " 'the',\n",
       " 'office',\n",
       " 'of',\n",
       " 'the',\n",
       " 'prime',\n",
       " 'minister',\n",
       " 'in',\n",
       " 'the',\n",
       " 'genesis',\n",
       " 'prize',\n",
       " 'as',\n",
       " 'bringing',\n",
       " 'political',\n",
       " 'dimension',\n",
       " 'to',\n",
       " 'this',\n",
       " 'important',\n",
       " 'initiative']"
      ]
     },
     "execution_count": 29,
     "metadata": {},
     "output_type": "execute_result"
    }
   ],
   "source": [
    "vocab_quotes[0]"
   ]
  },
  {
   "cell_type": "code",
   "execution_count": 20,
   "id": "1f4b96ee",
   "metadata": {},
   "outputs": [],
   "source": [
    "model = gensim.models.Word2Vec(\n",
    "    window=10,\n",
    "    min_count=2,\n",
    "    workers=4,\n",
    ")"
   ]
  },
  {
   "cell_type": "code",
   "execution_count": 21,
   "id": "3df2c428",
   "metadata": {},
   "outputs": [],
   "source": [
    "model.build_vocab(vocab_quotes, progress_per=1000)"
   ]
  },
  {
   "cell_type": "code",
   "execution_count": 22,
   "id": "fcbb90b1",
   "metadata": {},
   "outputs": [
    {
     "data": {
      "text/plain": [
       "(8831377, 11833700)"
      ]
     },
     "execution_count": 22,
     "metadata": {},
     "output_type": "execute_result"
    }
   ],
   "source": [
    "model.train(vocab_quotes, total_examples=model.corpus_count, epochs=model.epochs)"
   ]
  },
  {
   "cell_type": "code",
   "execution_count": 27,
   "id": "480c31ad",
   "metadata": {},
   "outputs": [
    {
     "data": {
      "text/plain": [
       "[('economic', 0.7644410133361816),\n",
       " ('structural', 0.7232383489608765),\n",
       " ('environmental', 0.7198588252067566),\n",
       " ('science', 0.7084198594093323),\n",
       " ('urgency', 0.7079110145568848),\n",
       " ('policy', 0.705802321434021),\n",
       " ('risks', 0.7036910653114319),\n",
       " ('impacts', 0.7033190131187439),\n",
       " ('global', 0.7024703025817871),\n",
       " ('reforming', 0.6982715725898743)]"
      ]
     },
     "execution_count": 27,
     "metadata": {},
     "output_type": "execute_result"
    }
   ],
   "source": [
    "model.wv.most_similar(\"climate\")"
   ]
  },
  {
   "cell_type": "code",
   "execution_count": null,
   "id": "d128f575",
   "metadata": {},
   "outputs": [],
   "source": [
    "# Ca marche aussi, mais y a des mots qui ne sont pas reliés QUE au changement climatique comme 'policy' et qui\n",
    "# ne peuvent pas servir de clé pour déterminer à eux tout seul qu'une quote est sur le changement climatique."
   ]
  },
  {
   "cell_type": "markdown",
   "id": "a4284dfc",
   "metadata": {},
   "source": [
    "### Conclusion :  Se concentrer sur la première approche Doc2Vec à mon avis, en mettant plus de données dans l'algorithme, chercher à trouver les paramètres optimaux de train, améliorer le pré-processing en dégageant les mots tronqués, et en réajustant continuellement pour avoir la meilleure accuracy possible. \n",
    "\n",
    "#### Trouver comment importer toute la donnée en même temps ? Ou une maniere d'utiliser toute la donnée pour entrainer le modèle en tout cas. \n",
    "\n",
    "#### Aussi pourquoi quand on print kes"
   ]
  },
  {
   "cell_type": "code",
   "execution_count": null,
   "id": "3819b246",
   "metadata": {},
   "outputs": [],
   "source": []
  }
 ],
 "metadata": {
  "kernelspec": {
   "display_name": "Python 3",
   "language": "python",
   "name": "python3"
  },
  "language_info": {
   "codemirror_mode": {
    "name": "ipython",
    "version": 3
   },
   "file_extension": ".py",
   "mimetype": "text/x-python",
   "name": "python",
   "nbconvert_exporter": "python",
   "pygments_lexer": "ipython3",
   "version": "3.8.8"
  }
 },
 "nbformat": 4,
 "nbformat_minor": 5
}
