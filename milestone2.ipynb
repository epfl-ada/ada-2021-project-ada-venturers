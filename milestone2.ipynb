{
 "cells": [
  {
   "cell_type": "code",
   "execution_count": 1,
   "id": "b34a05c9",
   "metadata": {},
   "outputs": [],
   "source": [
    "import numpy as np\n",
    "import pandas as pd\n",
    "import gensim\n",
    "import matplotlib.pyplot as plt\n",
    "import seaborn as sns\n",
    "from nltk.tokenize import word_tokenize\n",
    "from gensim.models.doc2vec import Doc2Vec, TaggedDocument\n",
    "import pyarrow.parquet as pq"
   ]
  },
  {
   "cell_type": "markdown",
   "id": "f870f394",
   "metadata": {},
   "source": [
    "## Load and filter the data"
   ]
  },
  {
   "cell_type": "code",
   "execution_count": 4,
   "id": "54fad5ff",
   "metadata": {
    "scrolled": true
   },
   "outputs": [
    {
     "name": "stdout",
     "output_type": "stream",
     "text": [
      "Processing chunk with 1000000 rows\n",
      "Number of filtered quotes 2065 out of 1000000\n",
      "648 quotes are removed\n",
      "Processing chunk with 1000000 rows\n",
      "Number of filtered quotes 2043 out of 1000000\n",
      "680 quotes are removed\n",
      "Processing chunk with 1000000 rows\n",
      "Number of filtered quotes 1990 out of 1000000\n",
      "611 quotes are removed\n",
      "Processing chunk with 1000000 rows\n",
      "Number of filtered quotes 2074 out of 1000000\n",
      "630 quotes are removed\n",
      "Processing chunk with 1000000 rows\n",
      "Number of filtered quotes 2133 out of 1000000\n",
      "680 quotes are removed\n",
      "Processing chunk with 244449 rows\n",
      "Number of filtered quotes 494 out of 244449\n",
      "174 quotes are removed\n"
     ]
    }
   ],
   "source": [
    "data2020 = pd.DataFrame()\n",
    "\n",
    "def process_chunk(chunk):\n",
    "        print(f'Processing chunk with {len(chunk)} rows')\n",
    "        data = pd.DataFrame()\n",
    "        \n",
    "        # Take only the quotes about climate change\n",
    "        keywords = [\"limate change\", \"lobal warming\", \"COP\", \"limate variation\", \"limate crisis\"]\n",
    "        mask = chunk.quotation.apply(lambda x: any(word in x for word in keywords))\n",
    "        data = chunk[mask]\n",
    "\n",
    "        print(\"Number of filtered quotes {} out of {}\".format(len(data), len(chunk)))\n",
    "        data[['quotation', 'speaker']].head()\n",
    "        \n",
    "        # Drop quotes without speaker\n",
    "        no_speaker = data[data.speaker == \"None\"].index\n",
    "        data = data.drop(no_speaker)\n",
    "        print(\"{} quotes are removed\".format(len(no_speaker)))\n",
    "        \n",
    "        #Drop useless informations\n",
    "        del data[\"probas\"]\n",
    "        del data[\"phase\"]\n",
    "        del data[\"qids\"]\n",
    "        del data[\"urls\"]\n",
    "\n",
    "        return data\n",
    "    \n",
    "\n",
    "with pd.read_json('quotes-2020.json.bz2', lines=True, compression='bz2', chunksize=1000000) as df_reader:\n",
    "    for chunk in df_reader:\n",
    "        \n",
    "        data2020 = data2020.append(process_chunk(chunk))\n",
    "        \n"
   ]
  },
  {
   "cell_type": "code",
   "execution_count": 9,
   "id": "9a55b477",
   "metadata": {
    "scrolled": true
   },
   "outputs": [
    {
     "name": "stdout",
     "output_type": "stream",
     "text": [
      "Processing chunk with 1000000 rows\n",
      "Number of filtered quotes 2142 out of 1000000\n",
      "674 quotes are removed\n",
      "Processing chunk with 1000000 rows\n",
      "Number of filtered quotes 2205 out of 1000000\n",
      "708 quotes are removed\n",
      "Processing chunk with 1000000 rows\n",
      "Number of filtered quotes 2181 out of 1000000\n",
      "700 quotes are removed\n",
      "Processing chunk with 1000000 rows\n",
      "Number of filtered quotes 2183 out of 1000000\n",
      "689 quotes are removed\n",
      "Processing chunk with 1000000 rows\n",
      "Number of filtered quotes 2143 out of 1000000\n",
      "673 quotes are removed\n",
      "Processing chunk with 1000000 rows\n",
      "Number of filtered quotes 2068 out of 1000000\n",
      "672 quotes are removed\n",
      "Processing chunk with 1000000 rows\n",
      "Number of filtered quotes 2126 out of 1000000\n",
      "659 quotes are removed\n",
      "Processing chunk with 1000000 rows\n",
      "Number of filtered quotes 2067 out of 1000000\n",
      "652 quotes are removed\n",
      "Processing chunk with 1000000 rows\n",
      "Number of filtered quotes 2249 out of 1000000\n",
      "688 quotes are removed\n",
      "Processing chunk with 1000000 rows\n",
      "Number of filtered quotes 2161 out of 1000000\n",
      "680 quotes are removed\n",
      "Processing chunk with 1000000 rows\n",
      "Number of filtered quotes 2288 out of 1000000\n",
      "699 quotes are removed\n",
      "Processing chunk with 1000000 rows\n",
      "Number of filtered quotes 2186 out of 1000000\n",
      "692 quotes are removed\n",
      "Processing chunk with 1000000 rows\n",
      "Number of filtered quotes 2231 out of 1000000\n",
      "690 quotes are removed\n",
      "Processing chunk with 1000000 rows\n",
      "Number of filtered quotes 2136 out of 1000000\n",
      "665 quotes are removed\n",
      "Processing chunk with 1000000 rows\n",
      "Number of filtered quotes 2205 out of 1000000\n",
      "709 quotes are removed\n",
      "Processing chunk with 1000000 rows\n",
      "Number of filtered quotes 2214 out of 1000000\n",
      "685 quotes are removed\n",
      "Processing chunk with 1000000 rows\n",
      "Number of filtered quotes 2185 out of 1000000\n",
      "694 quotes are removed\n",
      "Processing chunk with 1000000 rows\n",
      "Number of filtered quotes 2249 out of 1000000\n",
      "692 quotes are removed\n",
      "Processing chunk with 1000000 rows\n",
      "Number of filtered quotes 2215 out of 1000000\n",
      "710 quotes are removed\n",
      "Processing chunk with 1000000 rows\n",
      "Number of filtered quotes 2281 out of 1000000\n",
      "714 quotes are removed\n",
      "Processing chunk with 1000000 rows\n",
      "Number of filtered quotes 2281 out of 1000000\n",
      "738 quotes are removed\n",
      "Processing chunk with 763302 rows\n",
      "Number of filtered quotes 1659 out of 763302\n",
      "521 quotes are removed\n"
     ]
    }
   ],
   "source": [
    "data2019 = pd.DataFrame()\n",
    "data2018 = pd.DataFrame()\n",
    "data2017 = pd.DataFrame()\n",
    "data2016 = pd.DataFrame()\n",
    "data2015 = pd.DataFrame()\n",
    "\n",
    "def process_chunk(chunk):\n",
    "        print(f'Processing chunk with {len(chunk)} rows')\n",
    "        data = pd.DataFrame()\n",
    "        \n",
    "        # Take only the quotes about climate change\n",
    "        keywords = [\"limate change\", \"lobal warming\", \"COP\", \"limate variation\", \"limate crisis\"]\n",
    "        mask = chunk.quotation.apply(lambda x: any(word in x for word in keywords))\n",
    "        data = chunk[mask]\n",
    "\n",
    "        print(\"Number of filtered quotes {} out of {}\".format(len(data), len(chunk)))\n",
    "        data[['quotation', 'speaker']].head()\n",
    "        \n",
    "        # Drop quotes without speaker\n",
    "        no_speaker = data[data.speaker == \"None\"].index\n",
    "        data = data.drop(no_speaker)\n",
    "        print(\"{} quotes are removed\".format(len(no_speaker)))\n",
    "        \n",
    "        # Drop useless informations\n",
    "        del data[\"probas\"]\n",
    "        del data[\"phase\"]\n",
    "        del data[\"qids\"]\n",
    "        del data[\"urls\"]\n",
    "\n",
    "\n",
    "        return data\n",
    "    \n",
    "\n",
    "with pd.read_json('quotes-2019.json.bz2', lines=True, compression='bz2', chunksize=1000000) as df_reader:\n",
    "    for chunk in df_reader:\n",
    "            \n",
    "        data2019 = data2019.append(process_chunk(chunk))"
   ]
  },
  {
   "cell_type": "code",
   "execution_count": 10,
   "id": "d93a3e0e",
   "metadata": {},
   "outputs": [],
   "source": [
    "data2019.to_pickle(\"./data2019.pkl\")"
   ]
  },
  {
   "cell_type": "markdown",
   "id": "8af1163d",
   "metadata": {},
   "source": [
    "Saving the filtered data as pickle will save a lot of time later. "
   ]
  },
  {
   "cell_type": "code",
   "execution_count": null,
   "id": "5650aaef",
   "metadata": {},
   "outputs": [],
   "source": [
    "print(len(data2020))\n",
    "data2020.head()"
   ]
  },
  {
   "cell_type": "code",
   "execution_count": 19,
   "id": "776cbeba",
   "metadata": {},
   "outputs": [
    {
     "name": "stdout",
     "output_type": "stream",
     "text": [
      "32651\n"
     ]
    },
    {
     "data": {
      "text/html": [
       "<div>\n",
       "<style scoped>\n",
       "    .dataframe tbody tr th:only-of-type {\n",
       "        vertical-align: middle;\n",
       "    }\n",
       "\n",
       "    .dataframe tbody tr th {\n",
       "        vertical-align: top;\n",
       "    }\n",
       "\n",
       "    .dataframe thead th {\n",
       "        text-align: right;\n",
       "    }\n",
       "</style>\n",
       "<table border=\"1\" class=\"dataframe\">\n",
       "  <thead>\n",
       "    <tr style=\"text-align: right;\">\n",
       "      <th></th>\n",
       "      <th>quoteID</th>\n",
       "      <th>quotation</th>\n",
       "      <th>speaker</th>\n",
       "      <th>date</th>\n",
       "      <th>numOccurrences</th>\n",
       "    </tr>\n",
       "  </thead>\n",
       "  <tbody>\n",
       "    <tr>\n",
       "      <th>1015</th>\n",
       "      <td>2019-09-26-057277</td>\n",
       "      <td>It's managing those zillions of microbial cell...</td>\n",
       "      <td>Thomas Crowther</td>\n",
       "      <td>2019-09-26 11:00:45</td>\n",
       "      <td>1</td>\n",
       "    </tr>\n",
       "    <tr>\n",
       "      <th>2314</th>\n",
       "      <td>2019-03-28-015294</td>\n",
       "      <td>Climate change is the single most important is...</td>\n",
       "      <td>Nicola Sturgeon</td>\n",
       "      <td>2019-03-28 14:55:43</td>\n",
       "      <td>1</td>\n",
       "    </tr>\n",
       "    <tr>\n",
       "      <th>2316</th>\n",
       "      <td>2019-06-28-012580</td>\n",
       "      <td>Climate change represents an existential threa...</td>\n",
       "      <td>Kamala Harris</td>\n",
       "      <td>2019-06-28 04:10:00</td>\n",
       "      <td>1</td>\n",
       "    </tr>\n",
       "    <tr>\n",
       "      <th>3028</th>\n",
       "      <td>2019-05-08-019902</td>\n",
       "      <td>Even for Australians who can afford to pay, ge...</td>\n",
       "      <td>Dr Karl</td>\n",
       "      <td>2019-05-08 22:36:00</td>\n",
       "      <td>5</td>\n",
       "    </tr>\n",
       "    <tr>\n",
       "      <th>5577</th>\n",
       "      <td>2019-01-20-042295</td>\n",
       "      <td>The challenges this year will include global t...</td>\n",
       "      <td>Nguyen Xuan Phuc</td>\n",
       "      <td>2019-01-20 03:40:26</td>\n",
       "      <td>7</td>\n",
       "    </tr>\n",
       "  </tbody>\n",
       "</table>\n",
       "</div>"
      ],
      "text/plain": [
       "                quoteID                                          quotation  \\\n",
       "1015  2019-09-26-057277  It's managing those zillions of microbial cell...   \n",
       "2314  2019-03-28-015294  Climate change is the single most important is...   \n",
       "2316  2019-06-28-012580  Climate change represents an existential threa...   \n",
       "3028  2019-05-08-019902  Even for Australians who can afford to pay, ge...   \n",
       "5577  2019-01-20-042295  The challenges this year will include global t...   \n",
       "\n",
       "               speaker                date  numOccurrences  \n",
       "1015   Thomas Crowther 2019-09-26 11:00:45               1  \n",
       "2314   Nicola Sturgeon 2019-03-28 14:55:43               1  \n",
       "2316     Kamala Harris 2019-06-28 04:10:00               1  \n",
       "3028           Dr Karl 2019-05-08 22:36:00               5  \n",
       "5577  Nguyen Xuan Phuc 2019-01-20 03:40:26               7  "
      ]
     },
     "execution_count": 19,
     "metadata": {},
     "output_type": "execute_result"
    }
   ],
   "source": [
    "print(len(data2019))\n",
    "data2019.head()"
   ]
  },
  {
   "cell_type": "markdown",
   "id": "b2c2e2a3",
   "metadata": {},
   "source": [
    "We will do the same for all the years but, since it takes some time, we want to enrich our filter before loading all the data. For now, we just have 2019 and 2020."
   ]
  },
  {
   "cell_type": "markdown",
   "id": "c78d8dab",
   "metadata": {},
   "source": [
    "## Load speaker data"
   ]
  },
  {
   "cell_type": "code",
   "execution_count": 60,
   "id": "258e02a4",
   "metadata": {},
   "outputs": [
    {
     "data": {
      "text/html": [
       "<div>\n",
       "<style scoped>\n",
       "    .dataframe tbody tr th:only-of-type {\n",
       "        vertical-align: middle;\n",
       "    }\n",
       "\n",
       "    .dataframe tbody tr th {\n",
       "        vertical-align: top;\n",
       "    }\n",
       "\n",
       "    .dataframe thead th {\n",
       "        text-align: right;\n",
       "    }\n",
       "</style>\n",
       "<table border=\"1\" class=\"dataframe\">\n",
       "  <thead>\n",
       "    <tr style=\"text-align: right;\">\n",
       "      <th></th>\n",
       "      <th>Label</th>\n",
       "      <th>Description</th>\n",
       "    </tr>\n",
       "    <tr>\n",
       "      <th>QID</th>\n",
       "      <th></th>\n",
       "      <th></th>\n",
       "    </tr>\n",
       "  </thead>\n",
       "  <tbody>\n",
       "    <tr>\n",
       "      <th>Q31</th>\n",
       "      <td>Belgium</td>\n",
       "      <td>country in western Europe</td>\n",
       "    </tr>\n",
       "    <tr>\n",
       "      <th>Q45</th>\n",
       "      <td>Portugal</td>\n",
       "      <td>country in southwestern Europe</td>\n",
       "    </tr>\n",
       "    <tr>\n",
       "      <th>Q75</th>\n",
       "      <td>Internet</td>\n",
       "      <td>global system of connected computer networks</td>\n",
       "    </tr>\n",
       "    <tr>\n",
       "      <th>Q148</th>\n",
       "      <td>People's Republic of China</td>\n",
       "      <td>sovereign state in East Asia</td>\n",
       "    </tr>\n",
       "    <tr>\n",
       "      <th>Q155</th>\n",
       "      <td>Brazil</td>\n",
       "      <td>country in South America</td>\n",
       "    </tr>\n",
       "  </tbody>\n",
       "</table>\n",
       "</div>"
      ],
      "text/plain": [
       "                           Label                                   Description\n",
       "QID                                                                           \n",
       "Q31                      Belgium                     country in western Europe\n",
       "Q45                     Portugal                country in southwestern Europe\n",
       "Q75                     Internet  global system of connected computer networks\n",
       "Q148  People's Republic of China                  sovereign state in East Asia\n",
       "Q155                      Brazil                      country in South America"
      ]
     },
     "execution_count": 60,
     "metadata": {},
     "output_type": "execute_result"
    }
   ],
   "source": [
    "df_speaker_country = pd.read_csv('wikidata_labels_descriptions_quotebank.csv.bz2', compression='bz2', index_col='QID')\n",
    "df_speaker_country.head()"
   ]
  },
  {
   "cell_type": "code",
   "execution_count": 2,
   "id": "6f5b0499",
   "metadata": {
    "scrolled": true
   },
   "outputs": [
    {
     "data": {
      "text/html": [
       "<div>\n",
       "<style scoped>\n",
       "    .dataframe tbody tr th:only-of-type {\n",
       "        vertical-align: middle;\n",
       "    }\n",
       "\n",
       "    .dataframe tbody tr th {\n",
       "        vertical-align: top;\n",
       "    }\n",
       "\n",
       "    .dataframe thead th {\n",
       "        text-align: right;\n",
       "    }\n",
       "</style>\n",
       "<table border=\"1\" class=\"dataframe\">\n",
       "  <thead>\n",
       "    <tr style=\"text-align: right;\">\n",
       "      <th></th>\n",
       "      <th>aliases</th>\n",
       "      <th>date_of_birth</th>\n",
       "      <th>nationality</th>\n",
       "      <th>gender</th>\n",
       "      <th>lastrevid</th>\n",
       "      <th>ethnic_group</th>\n",
       "      <th>US_congress_bio_ID</th>\n",
       "      <th>occupation</th>\n",
       "      <th>party</th>\n",
       "      <th>academic_degree</th>\n",
       "      <th>id</th>\n",
       "      <th>label</th>\n",
       "      <th>candidacy</th>\n",
       "      <th>type</th>\n",
       "      <th>religion</th>\n",
       "    </tr>\n",
       "  </thead>\n",
       "  <tbody>\n",
       "    <tr>\n",
       "      <th>0</th>\n",
       "      <td>[Washington, President Washington, G. Washingt...</td>\n",
       "      <td>[+1732-02-22T00:00:00Z]</td>\n",
       "      <td>[Q161885, Q30]</td>\n",
       "      <td>[Q6581097]</td>\n",
       "      <td>1395141751</td>\n",
       "      <td>None</td>\n",
       "      <td>W000178</td>\n",
       "      <td>[Q82955, Q189290, Q131512, Q1734662, Q294126, ...</td>\n",
       "      <td>[Q327591]</td>\n",
       "      <td>None</td>\n",
       "      <td>Q23</td>\n",
       "      <td>George Washington</td>\n",
       "      <td>[Q698073, Q697949]</td>\n",
       "      <td>item</td>\n",
       "      <td>[Q682443]</td>\n",
       "    </tr>\n",
       "    <tr>\n",
       "      <th>1</th>\n",
       "      <td>[Douglas Noel Adams, Douglas Noël Adams, Dougl...</td>\n",
       "      <td>[+1952-03-11T00:00:00Z]</td>\n",
       "      <td>[Q145]</td>\n",
       "      <td>[Q6581097]</td>\n",
       "      <td>1395737157</td>\n",
       "      <td>[Q7994501]</td>\n",
       "      <td>None</td>\n",
       "      <td>[Q214917, Q28389, Q6625963, Q4853732, Q1884422...</td>\n",
       "      <td>None</td>\n",
       "      <td>None</td>\n",
       "      <td>Q42</td>\n",
       "      <td>Douglas Adams</td>\n",
       "      <td>None</td>\n",
       "      <td>item</td>\n",
       "      <td>None</td>\n",
       "    </tr>\n",
       "    <tr>\n",
       "      <th>2</th>\n",
       "      <td>[Paul Marie Ghislain Otlet, Paul Marie Otlet]</td>\n",
       "      <td>[+1868-08-23T00:00:00Z]</td>\n",
       "      <td>[Q31]</td>\n",
       "      <td>[Q6581097]</td>\n",
       "      <td>1380367296</td>\n",
       "      <td>None</td>\n",
       "      <td>None</td>\n",
       "      <td>[Q36180, Q40348, Q182436, Q1265807, Q205375, Q...</td>\n",
       "      <td>None</td>\n",
       "      <td>None</td>\n",
       "      <td>Q1868</td>\n",
       "      <td>Paul Otlet</td>\n",
       "      <td>None</td>\n",
       "      <td>item</td>\n",
       "      <td>None</td>\n",
       "    </tr>\n",
       "    <tr>\n",
       "      <th>3</th>\n",
       "      <td>[George Walker Bush, Bush Jr., Dubya, GWB, Bus...</td>\n",
       "      <td>[+1946-07-06T00:00:00Z]</td>\n",
       "      <td>[Q30]</td>\n",
       "      <td>[Q6581097]</td>\n",
       "      <td>1395142029</td>\n",
       "      <td>None</td>\n",
       "      <td>None</td>\n",
       "      <td>[Q82955, Q15982858, Q18814623, Q1028181, Q1408...</td>\n",
       "      <td>[Q29468]</td>\n",
       "      <td>None</td>\n",
       "      <td>Q207</td>\n",
       "      <td>George W. Bush</td>\n",
       "      <td>[Q327959, Q464075, Q3586276, Q4450587]</td>\n",
       "      <td>item</td>\n",
       "      <td>[Q329646, Q682443, Q33203]</td>\n",
       "    </tr>\n",
       "    <tr>\n",
       "      <th>4</th>\n",
       "      <td>[Velázquez, Diego Rodríguez de Silva y Velázqu...</td>\n",
       "      <td>[+1599-06-06T00:00:00Z]</td>\n",
       "      <td>[Q29]</td>\n",
       "      <td>[Q6581097]</td>\n",
       "      <td>1391704596</td>\n",
       "      <td>None</td>\n",
       "      <td>None</td>\n",
       "      <td>[Q1028181]</td>\n",
       "      <td>None</td>\n",
       "      <td>None</td>\n",
       "      <td>Q297</td>\n",
       "      <td>Diego Velázquez</td>\n",
       "      <td>None</td>\n",
       "      <td>item</td>\n",
       "      <td>None</td>\n",
       "    </tr>\n",
       "  </tbody>\n",
       "</table>\n",
       "</div>"
      ],
      "text/plain": [
       "                                             aliases            date_of_birth  \\\n",
       "0  [Washington, President Washington, G. Washingt...  [+1732-02-22T00:00:00Z]   \n",
       "1  [Douglas Noel Adams, Douglas Noël Adams, Dougl...  [+1952-03-11T00:00:00Z]   \n",
       "2      [Paul Marie Ghislain Otlet, Paul Marie Otlet]  [+1868-08-23T00:00:00Z]   \n",
       "3  [George Walker Bush, Bush Jr., Dubya, GWB, Bus...  [+1946-07-06T00:00:00Z]   \n",
       "4  [Velázquez, Diego Rodríguez de Silva y Velázqu...  [+1599-06-06T00:00:00Z]   \n",
       "\n",
       "      nationality      gender   lastrevid ethnic_group US_congress_bio_ID  \\\n",
       "0  [Q161885, Q30]  [Q6581097]  1395141751         None            W000178   \n",
       "1          [Q145]  [Q6581097]  1395737157   [Q7994501]               None   \n",
       "2           [Q31]  [Q6581097]  1380367296         None               None   \n",
       "3           [Q30]  [Q6581097]  1395142029         None               None   \n",
       "4           [Q29]  [Q6581097]  1391704596         None               None   \n",
       "\n",
       "                                          occupation      party  \\\n",
       "0  [Q82955, Q189290, Q131512, Q1734662, Q294126, ...  [Q327591]   \n",
       "1  [Q214917, Q28389, Q6625963, Q4853732, Q1884422...       None   \n",
       "2  [Q36180, Q40348, Q182436, Q1265807, Q205375, Q...       None   \n",
       "3  [Q82955, Q15982858, Q18814623, Q1028181, Q1408...   [Q29468]   \n",
       "4                                         [Q1028181]       None   \n",
       "\n",
       "  academic_degree     id              label  \\\n",
       "0            None    Q23  George Washington   \n",
       "1            None    Q42      Douglas Adams   \n",
       "2            None  Q1868         Paul Otlet   \n",
       "3            None   Q207     George W. Bush   \n",
       "4            None   Q297    Diego Velázquez   \n",
       "\n",
       "                                candidacy  type                    religion  \n",
       "0                      [Q698073, Q697949]  item                   [Q682443]  \n",
       "1                                    None  item                        None  \n",
       "2                                    None  item                        None  \n",
       "3  [Q327959, Q464075, Q3586276, Q4450587]  item  [Q329646, Q682443, Q33203]  \n",
       "4                                    None  item                        None  "
      ]
     },
     "execution_count": 2,
     "metadata": {},
     "output_type": "execute_result"
    }
   ],
   "source": [
    "speaker_df = pd.read_parquet(\"speaker_attributes.parquet\", engine='pyarrow')\n",
    "speaker_df.head()"
   ]
  },
  {
   "cell_type": "markdown",
   "id": "715e011d",
   "metadata": {},
   "source": [
    "# First visualization of the data"
   ]
  },
  {
   "cell_type": "markdown",
   "id": "529adb18",
   "metadata": {},
   "source": [
    "### Number of words per quote"
   ]
  },
  {
   "cell_type": "code",
   "execution_count": 51,
   "id": "7a755559",
   "metadata": {},
   "outputs": [],
   "source": [
    "word_per_quote = data2019[\"quotation\"].apply(lambda x : len(x.split()))"
   ]
  },
  {
   "cell_type": "code",
   "execution_count": 59,
   "id": "8555dc07",
   "metadata": {},
   "outputs": [
    {
     "data": {
      "image/png": "[encoded data removed]",
      "text/plain": [
       "<Figure size 720x432 with 1 Axes>"
      ]
     },
     "metadata": {
      "needs_background": "light"
     },
     "output_type": "display_data"
    }
   ],
   "source": [
    "word_per_quote.hist(bins=100,  figsize=(10, 6))\n",
    "plt.yscale('log')\n",
    "\n",
    "plt.title('Number of words per quote')\n",
    "plt.xlabel('Number of words')\n",
    "plt.ylabel('Number of quotes [log]')\n",
    "\n",
    "plt.show()"
   ]
  },
  {
   "cell_type": "markdown",
   "id": "63229310",
   "metadata": {},
   "source": [
    "Words embeding models are sensible to the difference in the length of the quotes, thus it can be helpful to be aware that we might have issues because of this inbalance.\n",
    "Not forget here that dots and commas are also counted as words. "
   ]
  },
  {
   "cell_type": "markdown",
   "id": "f50c303e",
   "metadata": {},
   "source": [
    "### Repartition over the year"
   ]
  },
  {
   "cell_type": "code",
   "execution_count": 12,
   "id": "cfbc28d2",
   "metadata": {},
   "outputs": [
    {
     "data": {
      "image/png": "[encoded data removed]",
      "text/plain": [
       "<Figure size 720x432 with 1 Axes>"
      ]
     },
     "metadata": {
      "needs_background": "light"
     },
     "output_type": "display_data"
    },
    {
     "name": "stdout",
     "output_type": "stream",
     "text": [
      "2020-01-01 00:00:00\n",
      "2020-04-16 20:46:52\n"
     ]
    }
   ],
   "source": [
    "data2020['date'].hist(bins=24, figsize=(10, 6))\n",
    "plt.xlabel('Date')\n",
    "plt.ylabel('Number of quotes')\n",
    "plt.title('Quotes in 2020')\n",
    "plt.show()\n",
    "\n",
    "print(min(data2020['date']))\n",
    "print(max(data2020['date']))"
   ]
  },
  {
   "cell_type": "markdown",
   "id": "16d70d82",
   "metadata": {},
   "source": [
    "#### Comments\n",
    "* Much less apparition of the climate change in the newspapper from in March and April 2020. The decrease coincides with the explosion of the pandemic of Covid-19 in the world. "
   ]
  },
  {
   "cell_type": "code",
   "execution_count": 25,
   "id": "20416993",
   "metadata": {},
   "outputs": [
    {
     "data": {
      "image/png": "[encoded data removed]",
      "text/plain": [
       "<Figure size 720x432 with 1 Axes>"
      ]
     },
     "metadata": {
      "needs_background": "light"
     },
     "output_type": "display_data"
    },
    {
     "name": "stdout",
     "output_type": "stream",
     "text": [
      "2019-01-01 02:18:32\n",
      "2019-12-31 23:29:13\n"
     ]
    }
   ],
   "source": [
    "data2019['date'].hist(bins=24, figsize=(10, 6))\n",
    "plt.xlabel('Date')\n",
    "plt.ylabel('Number of quotes')\n",
    "plt.title('Quotes in 2019')\n",
    "plt.show()\n",
    "\n",
    "print(min(data2019['date']))\n",
    "print(max(data2019['date']))"
   ]
  },
  {
   "cell_type": "markdown",
   "id": "2c22c717",
   "metadata": {},
   "source": [
    "#### Comments\n",
    "* Peak in end of september. By looking on the internet the first result shows that the month of september 2019 was the hottest ever seen since the beginning of the regostration of the temperature.\n",
    "* The second peak, beginning of December, coicides with the date of the COP25."
   ]
  },
  {
   "cell_type": "markdown",
   "id": "3ae3712d",
   "metadata": {},
   "source": [
    "### Speakers that come up the more often"
   ]
  },
  {
   "cell_type": "code",
   "execution_count": 26,
   "id": "46247654",
   "metadata": {},
   "outputs": [
    {
     "data": {
      "text/plain": [
       "['Bernie Sanders',\n",
       " 'Scott Morrison',\n",
       " 'Joaquin Phoenix',\n",
       " 'Greta Thunberg',\n",
       " 'Larry Fink',\n",
       " 'Boris Johnson',\n",
       " 'Joe Biden',\n",
       " 'Jane Fonda',\n",
       " 'Elizabeth Warren',\n",
       " 'Antonio Guterres',\n",
       " 'Malcolm Turnbull',\n",
       " 'Tom Steyer',\n",
       " 'Jeff Bezos',\n",
       " 'Michael Mann',\n",
       " 'Alok Sharma',\n",
       " 'Anthony Albanese',\n",
       " 'Pete Buttigieg',\n",
       " 'Greg Mullins',\n",
       " 'Noah Diffenbaugh',\n",
       " 'Peter Soroye']"
      ]
     },
     "execution_count": 26,
     "metadata": {},
     "output_type": "execute_result"
    }
   ],
   "source": [
    "n = 20\n",
    "data2020['speaker'].value_counts()[:n].index.tolist()"
   ]
  },
  {
   "cell_type": "code",
   "execution_count": 27,
   "id": "e54c4bc5",
   "metadata": {},
   "outputs": [
    {
     "data": {
      "text/plain": [
       "['Jay Inslee',\n",
       " 'Bernie Sanders',\n",
       " 'Greta Thunberg',\n",
       " 'Alexandria Ocasio-Cortez',\n",
       " 'Elizabeth Warren',\n",
       " 'Justin Trudeau',\n",
       " 'Antonio Guterres',\n",
       " 'Scott Morrison',\n",
       " 'Catherine McKenna',\n",
       " 'Gavin Newsom',\n",
       " 'António Guterres',\n",
       " 'Narendra Modi',\n",
       " 'James Shaw',\n",
       " 'Nancy Pelosi',\n",
       " 'Bill Shorten',\n",
       " 'Michael Mann',\n",
       " 'Pete Buttigieg',\n",
       " 'President Donald Trump',\n",
       " 'Ed Markey',\n",
       " 'Michael Bloomberg']"
      ]
     },
     "execution_count": 27,
     "metadata": {},
     "output_type": "execute_result"
    }
   ],
   "source": [
    "data2019['speaker'].value_counts()[:n].index.tolist()"
   ]
  },
  {
   "cell_type": "markdown",
   "id": "09e1d2ba",
   "metadata": {},
   "source": [
    "At first sight, we can see that there is mostly politicians.  \n",
    "If we look at the american politicians, most of them are democrate: Bernie Sanders, Alexandria Ocasio-Cortez, Elizabeth Warren, Michael Bloomberg, Nancy Pelosi.\n",
    "For further analysis, we will use the speaker data. "
   ]
  },
  {
   "cell_type": "markdown",
   "id": "6ebf0944",
   "metadata": {},
   "source": [
    "## First attempts of quotations retrieval\n",
    "\n",
    "We tried to apply an alorithm to pick up all the quotes related to cliamte change but it is not ready now. With the coming lecture we will be able to fix it.  \n",
    "We focused on the 100 000 first lines of the 2020 dataset.\n"
   ]
  },
  {
   "cell_type": "code",
   "execution_count": 14,
   "id": "9e761341",
   "metadata": {},
   "outputs": [],
   "source": [
    "df = pd.read_json('quotes-2020.json.bz2', compression='bz2', nrows=100000, lines=True)"
   ]
  },
  {
   "cell_type": "markdown",
   "id": "e2eb84eb",
   "metadata": {},
   "source": [
    "### 1. Word2Vec"
   ]
  },
  {
   "cell_type": "code",
   "execution_count": 15,
   "id": "d52c7703",
   "metadata": {},
   "outputs": [],
   "source": [
    "# Preprocessing of the data to remove stop-words and tokenize the quotes\n",
    "vocab_quotes = df.quotation.apply(gensim.utils.simple_preprocess)"
   ]
  },
  {
   "cell_type": "code",
   "execution_count": 16,
   "id": "29a90327",
   "metadata": {},
   "outputs": [],
   "source": [
    "# Define the model and the parameters\n",
    "model = gensim.models.Word2Vec(\n",
    "    window=10,\n",
    "    min_count=2,\n",
    "    workers=4)"
   ]
  },
  {
   "cell_type": "code",
   "execution_count": 17,
   "id": "c96eec42",
   "metadata": {},
   "outputs": [],
   "source": [
    "model.build_vocab(vocab_quotes, progress_per=1000)"
   ]
  },
  {
   "cell_type": "code",
   "execution_count": 18,
   "id": "ccaf4ffb",
   "metadata": {},
   "outputs": [
    {
     "data": {
      "text/plain": [
       "(8829356, 11833700)"
      ]
     },
     "execution_count": 18,
     "metadata": {},
     "output_type": "execute_result"
    }
   ],
   "source": [
    "model.train(vocab_quotes, total_examples=model.corpus_count, epochs=model.epochs)"
   ]
  },
  {
   "cell_type": "code",
   "execution_count": 21,
   "id": "11adbd81",
   "metadata": {},
   "outputs": [
    {
     "data": {
      "text/plain": [
       "[('economic', 0.7479218244552612),\n",
       " ('global', 0.7118955850601196),\n",
       " ('current', 0.701635479927063),\n",
       " ('data', 0.701321005821228),\n",
       " ('policy', 0.6959260106086731),\n",
       " ('environmental', 0.6941445469856262),\n",
       " ('science', 0.6937196850776672),\n",
       " ('economy', 0.6861879229545593),\n",
       " ('structural', 0.6811080574989319),\n",
       " ('risks', 0.6744256615638733),\n",
       " ('policies', 0.6719207763671875),\n",
       " ('carbon', 0.6714789867401123),\n",
       " ('financial', 0.670987069606781),\n",
       " ('transparency', 0.6707075238227844),\n",
       " ('significant', 0.6703941822052002),\n",
       " ('awareness', 0.6698325872421265),\n",
       " ('accurate', 0.6639865040779114),\n",
       " ('scope', 0.6620934009552002),\n",
       " ('urgency', 0.6592832207679749),\n",
       " ('sustainable', 0.659204363822937),\n",
       " ('investors', 0.6591705679893494),\n",
       " ('disruption', 0.6580424904823303),\n",
       " ('emissions', 0.6571123600006104),\n",
       " ('minimizes', 0.6541130542755127),\n",
       " ('sustainability', 0.6524901390075684),\n",
       " ('economies', 0.6507850885391235),\n",
       " ('consumer', 0.6506547331809998),\n",
       " ('comprehensive', 0.6459457874298096),\n",
       " ('coal', 0.6424870491027832),\n",
       " ('trillion', 0.642428457736969)]"
      ]
     },
     "execution_count": 21,
     "metadata": {},
     "output_type": "execute_result"
    }
   ],
   "source": [
    "model.wv.most_similar(\"climate\", topn=30)"
   ]
  },
  {
   "cell_type": "markdown",
   "id": "55068406",
   "metadata": {},
   "source": [
    "A lot of words are not directly related to climamate change. We can use maybe this list to imporve ours but we can not use directly."
   ]
  },
  {
   "cell_type": "markdown",
   "id": "1f11f4e7",
   "metadata": {},
   "source": [
    "### 2. Doc2Vec"
   ]
  },
  {
   "cell_type": "code",
   "execution_count": 22,
   "id": "fd84c835",
   "metadata": {},
   "outputs": [],
   "source": [
    "# We need to convert data into format supported by the Doc2Vec librairy\n",
    "tagged_data = [TaggedDocument(words=doc, tags=[i]) for i, doc in enumerate(vocab_quotes)]"
   ]
  },
  {
   "cell_type": "code",
   "execution_count": 23,
   "id": "4736dd1f",
   "metadata": {},
   "outputs": [],
   "source": [
    "model = gensim.models.Doc2Vec(vector_size=100, dbow_words= 1, dm=0,  window=5, seed=1337, min_count=5, workers=4,alpha=0.025, min_alpha=0.025)"
   ]
  },
  {
   "cell_type": "code",
   "execution_count": 24,
   "id": "40a0c280",
   "metadata": {},
   "outputs": [],
   "source": [
    "model.build_vocab(tagged_data)"
   ]
  },
  {
   "cell_type": "code",
   "execution_count": 25,
   "id": "49ee0b1e",
   "metadata": {},
   "outputs": [],
   "source": [
    "model.train(tagged_data, total_examples=model.corpus_count, epochs=10)"
   ]
  },
  {
   "cell_type": "code",
   "execution_count": 26,
   "id": "42209e44",
   "metadata": {},
   "outputs": [],
   "source": [
    "tokens = \"climate warming environment\".split()\n",
    "new_vector = model.infer_vector(tokens)\n",
    "sims = model.dv.most_similar([new_vector], topn=30)"
   ]
  },
  {
   "cell_type": "code",
   "execution_count": 27,
   "id": "1f03cb00",
   "metadata": {},
   "outputs": [
    {
     "name": "stdout",
     "output_type": "stream",
     "text": [
      "6518    Risky Business: Climate and the Macroeconomy,\n",
      "Name: quotation, dtype: object\n",
      "23771    in response to the climate changing,\n",
      "Name: quotation, dtype: object\n",
      "47475    Responses to Climate Change,\n",
      "Name: quotation, dtype: object\n",
      "91030    launches a movement to change the system\n",
      "Name: quotation, dtype: object\n",
      "19102    overrun [ ning ] the planet,\n",
      "Name: quotation, dtype: object\n",
      "52652    Rise Against Militarism, Racism and the Climat...\n",
      "Name: quotation, dtype: object\n",
      "21455    life ‐ sustaining climate system.\n",
      "Name: quotation, dtype: object\n",
      "10474    epically outmatched by a global pandemic.\n",
      "Name: quotation, dtype: object\n",
      "19419    the global elite's panic room.\n",
      "Name: quotation, dtype: object\n",
      "85019    Climate World War III.\n",
      "Name: quotation, dtype: object\n",
      "68263    The drivers in the community are for decarboni...\n",
      "Name: quotation, dtype: object\n",
      "40763    Adapting to climate change isn't enough.\n",
      "Name: quotation, dtype: object\n",
      "95234    clear climate change fuelled the ferocity of t...\n",
      "Name: quotation, dtype: object\n",
      "46136    Australia, your country is burning -- dangerou...\n",
      "Name: quotation, dtype: object\n",
      "18774    it's about building a movement for change.\n",
      "Name: quotation, dtype: object\n",
      "5304    Canada's Global Role in the Climate Emergency.\n",
      "Name: quotation, dtype: object\n",
      "60897    This... is telling us that anthropogenic clima...\n",
      "Name: quotation, dtype: object\n",
      "37885    We think the overuse of pesticides and climate...\n",
      "Name: quotation, dtype: object\n",
      "64469    global `misinfo-demic' is spreading\n",
      "Name: quotation, dtype: object\n",
      "79853    Clearly the new factor is climate change,\n",
      "Name: quotation, dtype: object\n",
      "86798    vastly underprepared for this pandemic.\n",
      "Name: quotation, dtype: object\n",
      "29448    promoting false scepticism about climate chang...\n",
      "Name: quotation, dtype: object\n",
      "65002    Investors are increasingly... recognising that...\n",
      "Name: quotation, dtype: object\n",
      "65040    It is modern antisemitism on a global scale,\n",
      "Name: quotation, dtype: object\n",
      "21770    So here we are. Global pandemic,\n",
      "Name: quotation, dtype: object\n",
      "86148    part of the solution to climate change.\n",
      "Name: quotation, dtype: object\n",
      "87628    firmly entrenched in a gang environment\n",
      "Name: quotation, dtype: object\n",
      "99586    This is a problem that is global,\n",
      "Name: quotation, dtype: object\n",
      "56131    We're going to change bundling,\n",
      "Name: quotation, dtype: object\n",
      "58040    The coronavirus is a global crisis,\n",
      "Name: quotation, dtype: object\n"
     ]
    }
   ],
   "source": [
    "for elt in sims :\n",
    "    print(str(df.iloc[[elt[0]]]['quotation']))"
   ]
  },
  {
   "cell_type": "markdown",
   "id": "4b0b538c",
   "metadata": {},
   "source": [
    "#### Conclusion:\n",
    "We get results that seem more conclusive but we still get some incoherent quotes in the results. Furthermore, we didn't find a way to scale it for our very large data set. When chunking the data, we had to train it for every chunk which takes too long. For now, we chose to stick with the naive retrieval method."
   ]
  }
 ],
 "metadata": {
  "kernelspec": {
   "display_name": "Python 3",
   "language": "python",
   "name": "python3"
  },
  "language_info": {
   "codemirror_mode": {
    "name": "ipython",
    "version": 3
   },
   "file_extension": ".py",
   "mimetype": "text/x-python",
   "name": "python",
   "nbconvert_exporter": "python",
   "pygments_lexer": "ipython3",
   "version": "3.8.8"
  }
 },
 "nbformat": 4,
 "nbformat_minor": 5
}
