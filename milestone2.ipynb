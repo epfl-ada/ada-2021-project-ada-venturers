{
 "cells": [
  {
   "cell_type": "code",
   "execution_count": 1,
   "id": "b34a05c9",
   "metadata": {},
   "outputs": [],
   "source": [
    "import numpy as np\n",
    "import pandas as pd\n",
    "import gensim\n",
    "import matplotlib.pyplot as plt\n",
    "import seaborn as sns\n",
    "from nltk.tokenize import word_tokenize\n",
    "from gensim.models.doc2vec import Doc2Vec, TaggedDocument\n",
    "import pyarrow.parquet as pq"
   ]
  },
  {
   "cell_type": "markdown",
   "id": "f870f394",
   "metadata": {},
   "source": [
    "## Load and filter the data"
   ]
  },
  {
   "cell_type": "code",
   "execution_count": 375,
   "id": "9a55b477",
   "metadata": {
    "scrolled": true
   },
   "outputs": [
    {
     "name": "stdout",
     "output_type": "stream",
     "text": [
      "Processing chunk with 1000000 rows\n",
      "Number of filtered quotes 2360 out of 1000000\n",
      "727 quotes are removed\n",
      "Processing chunk with 1000000 rows\n",
      "Number of filtered quotes 2336 out of 1000000\n",
      "771 quotes are removed\n",
      "Processing chunk with 1000000 rows\n",
      "Number of filtered quotes 2289 out of 1000000\n",
      "686 quotes are removed\n",
      "Processing chunk with 1000000 rows\n",
      "Number of filtered quotes 2371 out of 1000000\n",
      "714 quotes are removed\n",
      "Processing chunk with 1000000 rows\n",
      "Number of filtered quotes 2444 out of 1000000\n",
      "763 quotes are removed\n",
      "Processing chunk with 244449 rows\n",
      "Number of filtered quotes 555 out of 244449\n",
      "195 quotes are removed\n"
     ]
    }
   ],
   "source": [
    "data2020 = pd.DataFrame()\n",
    "data2019 = pd.DataFrame()\n",
    "data2018 = pd.DataFrame()\n",
    "data2017 = pd.DataFrame()\n",
    "data2016 = pd.DataFrame()\n",
    "data2015 = pd.DataFrame()\n",
    "\n",
    "def process_chunk(chunk):\n",
    "        print(f'Processing chunk with {len(chunk)} rows')\n",
    "        data = pd.DataFrame()\n",
    "        \n",
    "        # Take only the quotes about climate change\n",
    "        keywords = [\"limate change\", \"lobal warming\", \"COP\", \"limate variation\", \"limate crisis\", \"CO2 emissions\", \n",
    "                    \"reenhouse effect\", \"reenhouse gas\", \"limate emergency\", \"nvironmental crisis\"]\n",
    "        mask = chunk.quotation.apply(lambda x: any(word in x for word in keywords))\n",
    "        data = chunk[mask]\n",
    "\n",
    "        print(\"Number of filtered quotes {} out of {}\".format(len(data), len(chunk)))\n",
    "        data[['quotation', 'speaker']].head()\n",
    "        \n",
    "        # Drop quotes without speaker\n",
    "        no_speaker = data[data.speaker == \"None\"].index\n",
    "        data = data.drop(no_speaker)\n",
    "        print(\"{} quotes are removed\".format(len(no_speaker)))\n",
    "        \n",
    "        # Drop useless informations\n",
    "        del data[\"probas\"]\n",
    "        del data[\"phase\"]\n",
    "        del data[\"qids\"]\n",
    "        del data[\"urls\"]\n",
    "\n",
    "\n",
    "        return data\n",
    "    \n",
    "\n",
    "with pd.read_json('quotes-2020.json.bz2', lines=True, compression='bz2', chunksize=1000000) as df_reader:\n",
    "    for chunk in df_reader:    \n",
    "        data2020 = data2020.append(process_chunk(chunk))\n",
    "           \n",
    "data2020.to_pickle(\"./data2020.pkl\")"
   ]
  },
  {
   "cell_type": "code",
   "execution_count": 376,
   "id": "3819ab65",
   "metadata": {
    "scrolled": true
   },
   "outputs": [
    {
     "name": "stdout",
     "output_type": "stream",
     "text": [
      "Processing chunk with 1000000 rows\n",
      "Number of filtered quotes 2469 out of 1000000\n",
      "774 quotes are removed\n",
      "Processing chunk with 1000000 rows\n",
      "Number of filtered quotes 2546 out of 1000000\n",
      "811 quotes are removed\n",
      "Processing chunk with 1000000 rows\n",
      "Number of filtered quotes 2497 out of 1000000\n",
      "799 quotes are removed\n",
      "Processing chunk with 1000000 rows\n",
      "Number of filtered quotes 2493 out of 1000000\n",
      "799 quotes are removed\n",
      "Processing chunk with 1000000 rows\n",
      "Number of filtered quotes 2444 out of 1000000\n",
      "762 quotes are removed\n",
      "Processing chunk with 1000000 rows\n",
      "Number of filtered quotes 2371 out of 1000000\n",
      "763 quotes are removed\n",
      "Processing chunk with 1000000 rows\n",
      "Number of filtered quotes 2419 out of 1000000\n",
      "765 quotes are removed\n",
      "Processing chunk with 1000000 rows\n",
      "Number of filtered quotes 2373 out of 1000000\n",
      "754 quotes are removed\n",
      "Processing chunk with 1000000 rows\n",
      "Number of filtered quotes 2564 out of 1000000\n",
      "779 quotes are removed\n",
      "Processing chunk with 1000000 rows\n",
      "Number of filtered quotes 2430 out of 1000000\n",
      "758 quotes are removed\n",
      "Processing chunk with 1000000 rows\n",
      "Number of filtered quotes 2631 out of 1000000\n",
      "809 quotes are removed\n",
      "Processing chunk with 1000000 rows\n",
      "Number of filtered quotes 2518 out of 1000000\n",
      "810 quotes are removed\n",
      "Processing chunk with 1000000 rows\n",
      "Number of filtered quotes 2546 out of 1000000\n",
      "788 quotes are removed\n",
      "Processing chunk with 1000000 rows\n",
      "Number of filtered quotes 2473 out of 1000000\n",
      "768 quotes are removed\n",
      "Processing chunk with 1000000 rows\n",
      "Number of filtered quotes 2532 out of 1000000\n",
      "821 quotes are removed\n",
      "Processing chunk with 1000000 rows\n",
      "Number of filtered quotes 2533 out of 1000000\n",
      "782 quotes are removed\n",
      "Processing chunk with 1000000 rows\n",
      "Number of filtered quotes 2518 out of 1000000\n",
      "787 quotes are removed\n",
      "Processing chunk with 1000000 rows\n",
      "Number of filtered quotes 2550 out of 1000000\n",
      "787 quotes are removed\n",
      "Processing chunk with 1000000 rows\n",
      "Number of filtered quotes 2550 out of 1000000\n",
      "808 quotes are removed\n",
      "Processing chunk with 1000000 rows\n",
      "Number of filtered quotes 2591 out of 1000000\n",
      "800 quotes are removed\n",
      "Processing chunk with 1000000 rows\n",
      "Number of filtered quotes 2597 out of 1000000\n",
      "830 quotes are removed\n",
      "Processing chunk with 763302 rows\n",
      "Number of filtered quotes 1892 out of 763302\n",
      "592 quotes are removed\n"
     ]
    }
   ],
   "source": [
    "with pd.read_json('quotes-2019.json.bz2', lines=True, compression='bz2', chunksize=1000000) as df_reader:\n",
    "    for chunk in df_reader:    \n",
    "        data2019 = data2019.append(process_chunk(chunk))\n",
    "        \n",
    "data2019.to_pickle(\"./data2019.pkl\")"
   ]
  },
  {
   "cell_type": "code",
   "execution_count": 378,
   "id": "9b1e4bac",
   "metadata": {
    "scrolled": true
   },
   "outputs": [
    {
     "name": "stdout",
     "output_type": "stream",
     "text": [
      "Processing chunk with 1000000 rows\n",
      "Number of filtered quotes 1179 out of 1000000\n",
      "355 quotes are removed\n",
      "Processing chunk with 1000000 rows\n",
      "Number of filtered quotes 1206 out of 1000000\n",
      "353 quotes are removed\n",
      "Processing chunk with 1000000 rows\n",
      "Number of filtered quotes 1209 out of 1000000\n",
      "388 quotes are removed\n",
      "Processing chunk with 1000000 rows\n",
      "Number of filtered quotes 1241 out of 1000000\n",
      "360 quotes are removed\n",
      "Processing chunk with 1000000 rows\n",
      "Number of filtered quotes 1176 out of 1000000\n",
      "354 quotes are removed\n",
      "Processing chunk with 1000000 rows\n",
      "Number of filtered quotes 1215 out of 1000000\n",
      "357 quotes are removed\n",
      "Processing chunk with 1000000 rows\n",
      "Number of filtered quotes 1218 out of 1000000\n",
      "372 quotes are removed\n",
      "Processing chunk with 1000000 rows\n",
      "Number of filtered quotes 1240 out of 1000000\n",
      "375 quotes are removed\n",
      "Processing chunk with 1000000 rows\n",
      "Number of filtered quotes 1259 out of 1000000\n",
      "381 quotes are removed\n",
      "Processing chunk with 1000000 rows\n",
      "Number of filtered quotes 1231 out of 1000000\n",
      "387 quotes are removed\n",
      "Processing chunk with 1000000 rows\n",
      "Number of filtered quotes 1200 out of 1000000\n",
      "355 quotes are removed\n",
      "Processing chunk with 1000000 rows\n",
      "Number of filtered quotes 1156 out of 1000000\n",
      "362 quotes are removed\n",
      "Processing chunk with 1000000 rows\n",
      "Number of filtered quotes 1190 out of 1000000\n",
      "361 quotes are removed\n",
      "Processing chunk with 1000000 rows\n",
      "Number of filtered quotes 1198 out of 1000000\n",
      "343 quotes are removed\n",
      "Processing chunk with 1000000 rows\n",
      "Number of filtered quotes 1223 out of 1000000\n",
      "401 quotes are removed\n",
      "Processing chunk with 1000000 rows\n",
      "Number of filtered quotes 1187 out of 1000000\n",
      "382 quotes are removed\n",
      "Processing chunk with 1000000 rows\n",
      "Number of filtered quotes 1228 out of 1000000\n",
      "385 quotes are removed\n",
      "Processing chunk with 1000000 rows\n",
      "Number of filtered quotes 1230 out of 1000000\n",
      "391 quotes are removed\n",
      "Processing chunk with 1000000 rows\n",
      "Number of filtered quotes 1163 out of 1000000\n",
      "374 quotes are removed\n",
      "Processing chunk with 1000000 rows\n",
      "Number of filtered quotes 1234 out of 1000000\n",
      "372 quotes are removed\n",
      "Processing chunk with 1000000 rows\n",
      "Number of filtered quotes 1222 out of 1000000\n",
      "363 quotes are removed\n",
      "Processing chunk with 1000000 rows\n",
      "Number of filtered quotes 1224 out of 1000000\n",
      "383 quotes are removed\n",
      "Processing chunk with 1000000 rows\n",
      "Number of filtered quotes 1228 out of 1000000\n",
      "339 quotes are removed\n",
      "Processing chunk with 1000000 rows\n",
      "Number of filtered quotes 1215 out of 1000000\n",
      "367 quotes are removed\n",
      "Processing chunk with 1000000 rows\n",
      "Number of filtered quotes 1224 out of 1000000\n",
      "371 quotes are removed\n",
      "Processing chunk with 1000000 rows\n",
      "Number of filtered quotes 1211 out of 1000000\n",
      "378 quotes are removed\n",
      "Processing chunk with 1000000 rows\n",
      "Number of filtered quotes 1219 out of 1000000\n",
      "384 quotes are removed\n",
      "Processing chunk with 228451 rows\n",
      "Number of filtered quotes 300 out of 228451\n",
      "101 quotes are removed\n"
     ]
    }
   ],
   "source": [
    "with pd.read_json('quotes-2018.json.bz2', lines=True, compression='bz2', chunksize=1000000) as df_reader:\n",
    "    for chunk in df_reader:    \n",
    "        data2018 = data2018.append(process_chunk(chunk))\n",
    "        \n",
    "data2018.to_pickle(\"./data2018.pkl\")"
   ]
  },
  {
   "cell_type": "code",
   "execution_count": 379,
   "id": "3f08a7e9",
   "metadata": {
    "scrolled": true
   },
   "outputs": [
    {
     "name": "stdout",
     "output_type": "stream",
     "text": [
      "Processing chunk with 1000000 rows\n",
      "Number of filtered quotes 1308 out of 1000000\n",
      "420 quotes are removed\n",
      "Processing chunk with 1000000 rows\n",
      "Number of filtered quotes 1236 out of 1000000\n",
      "411 quotes are removed\n",
      "Processing chunk with 1000000 rows\n",
      "Number of filtered quotes 1265 out of 1000000\n",
      "407 quotes are removed\n",
      "Processing chunk with 1000000 rows\n",
      "Number of filtered quotes 1272 out of 1000000\n",
      "415 quotes are removed\n",
      "Processing chunk with 1000000 rows\n",
      "Number of filtered quotes 1279 out of 1000000\n",
      "411 quotes are removed\n",
      "Processing chunk with 1000000 rows\n",
      "Number of filtered quotes 1285 out of 1000000\n",
      "420 quotes are removed\n",
      "Processing chunk with 1000000 rows\n",
      "Number of filtered quotes 1304 out of 1000000\n",
      "442 quotes are removed\n",
      "Processing chunk with 1000000 rows\n",
      "Number of filtered quotes 1221 out of 1000000\n",
      "422 quotes are removed\n",
      "Processing chunk with 1000000 rows\n",
      "Number of filtered quotes 1268 out of 1000000\n",
      "393 quotes are removed\n",
      "Processing chunk with 1000000 rows\n",
      "Number of filtered quotes 1298 out of 1000000\n",
      "414 quotes are removed\n",
      "Processing chunk with 1000000 rows\n",
      "Number of filtered quotes 1273 out of 1000000\n",
      "446 quotes are removed\n",
      "Processing chunk with 1000000 rows\n",
      "Number of filtered quotes 1225 out of 1000000\n",
      "416 quotes are removed\n",
      "Processing chunk with 1000000 rows\n",
      "Number of filtered quotes 1308 out of 1000000\n",
      "405 quotes are removed\n",
      "Processing chunk with 1000000 rows\n",
      "Number of filtered quotes 1267 out of 1000000\n",
      "387 quotes are removed\n",
      "Processing chunk with 1000000 rows\n",
      "Number of filtered quotes 1255 out of 1000000\n",
      "407 quotes are removed\n",
      "Processing chunk with 1000000 rows\n",
      "Number of filtered quotes 1294 out of 1000000\n",
      "438 quotes are removed\n",
      "Processing chunk with 1000000 rows\n",
      "Number of filtered quotes 1334 out of 1000000\n",
      "478 quotes are removed\n",
      "Processing chunk with 1000000 rows\n",
      "Number of filtered quotes 1281 out of 1000000\n",
      "413 quotes are removed\n",
      "Processing chunk with 1000000 rows\n",
      "Number of filtered quotes 1314 out of 1000000\n",
      "429 quotes are removed\n",
      "Processing chunk with 1000000 rows\n",
      "Number of filtered quotes 1194 out of 1000000\n",
      "382 quotes are removed\n",
      "Processing chunk with 1000000 rows\n",
      "Number of filtered quotes 1305 out of 1000000\n",
      "414 quotes are removed\n",
      "Processing chunk with 1000000 rows\n",
      "Number of filtered quotes 1329 out of 1000000\n",
      "409 quotes are removed\n",
      "Processing chunk with 1000000 rows\n",
      "Number of filtered quotes 1349 out of 1000000\n",
      "452 quotes are removed\n",
      "Processing chunk with 1000000 rows\n",
      "Number of filtered quotes 1309 out of 1000000\n",
      "446 quotes are removed\n",
      "Processing chunk with 1000000 rows\n",
      "Number of filtered quotes 1285 out of 1000000\n",
      "444 quotes are removed\n",
      "Processing chunk with 1000000 rows\n",
      "Number of filtered quotes 1321 out of 1000000\n",
      "447 quotes are removed\n",
      "Processing chunk with 611588 rows\n",
      "Number of filtered quotes 743 out of 611588\n",
      "259 quotes are removed\n"
     ]
    }
   ],
   "source": [
    "with pd.read_json('quotes-2017.json.bz2', lines=True, compression='bz2', chunksize=1000000) as df_reader:\n",
    "    for chunk in df_reader:    \n",
    "        data2017 = data2017.append(process_chunk(chunk))\n",
    "        \n",
    "data2017.to_pickle(\"./data2017.pkl\")"
   ]
  },
  {
   "cell_type": "code",
   "execution_count": 380,
   "id": "10ec9562",
   "metadata": {
    "scrolled": true
   },
   "outputs": [
    {
     "name": "stdout",
     "output_type": "stream",
     "text": [
      "Processing chunk with 1000000 rows\n",
      "Number of filtered quotes 1137 out of 1000000\n",
      "330 quotes are removed\n",
      "Processing chunk with 1000000 rows\n",
      "Number of filtered quotes 1235 out of 1000000\n",
      "363 quotes are removed\n",
      "Processing chunk with 1000000 rows\n",
      "Number of filtered quotes 1245 out of 1000000\n",
      "422 quotes are removed\n",
      "Processing chunk with 1000000 rows\n",
      "Number of filtered quotes 1239 out of 1000000\n",
      "390 quotes are removed\n",
      "Processing chunk with 1000000 rows\n",
      "Number of filtered quotes 1267 out of 1000000\n",
      "389 quotes are removed\n",
      "Processing chunk with 1000000 rows\n",
      "Number of filtered quotes 1182 out of 1000000\n",
      "368 quotes are removed\n",
      "Processing chunk with 1000000 rows\n",
      "Number of filtered quotes 1253 out of 1000000\n",
      "361 quotes are removed\n",
      "Processing chunk with 1000000 rows\n",
      "Number of filtered quotes 1243 out of 1000000\n",
      "390 quotes are removed\n",
      "Processing chunk with 1000000 rows\n",
      "Number of filtered quotes 1160 out of 1000000\n",
      "353 quotes are removed\n",
      "Processing chunk with 1000000 rows\n",
      "Number of filtered quotes 1231 out of 1000000\n",
      "333 quotes are removed\n",
      "Processing chunk with 1000000 rows\n",
      "Number of filtered quotes 1183 out of 1000000\n",
      "389 quotes are removed\n",
      "Processing chunk with 1000000 rows\n",
      "Number of filtered quotes 1177 out of 1000000\n",
      "354 quotes are removed\n",
      "Processing chunk with 1000000 rows\n",
      "Number of filtered quotes 1207 out of 1000000\n",
      "385 quotes are removed\n",
      "Processing chunk with 862129 rows\n",
      "Number of filtered quotes 1019 out of 862129\n",
      "322 quotes are removed\n"
     ]
    }
   ],
   "source": [
    "with pd.read_json('quotes-2016.json.bz2', lines=True, compression='bz2', chunksize=1000000) as df_reader:\n",
    "    for chunk in df_reader:    \n",
    "        data2016 = data2016.append(process_chunk(chunk))\n",
    "        \n",
    "data2016.to_pickle(\"./data2016.pkl\")"
   ]
  },
  {
   "cell_type": "code",
   "execution_count": 381,
   "id": "42f6a571",
   "metadata": {
    "scrolled": true
   },
   "outputs": [
    {
     "name": "stdout",
     "output_type": "stream",
     "text": [
      "Processing chunk with 1000000 rows\n",
      "Number of filtered quotes 1589 out of 1000000\n",
      "464 quotes are removed\n",
      "Processing chunk with 1000000 rows\n",
      "Number of filtered quotes 1571 out of 1000000\n",
      "475 quotes are removed\n",
      "Processing chunk with 1000000 rows\n",
      "Number of filtered quotes 1645 out of 1000000\n",
      "448 quotes are removed\n",
      "Processing chunk with 1000000 rows\n",
      "Number of filtered quotes 1605 out of 1000000\n",
      "426 quotes are removed\n",
      "Processing chunk with 1000000 rows\n",
      "Number of filtered quotes 1540 out of 1000000\n",
      "434 quotes are removed\n",
      "Processing chunk with 1000000 rows\n",
      "Number of filtered quotes 1565 out of 1000000\n",
      "478 quotes are removed\n",
      "Processing chunk with 1000000 rows\n",
      "Number of filtered quotes 1553 out of 1000000\n",
      "452 quotes are removed\n",
      "Processing chunk with 1000000 rows\n",
      "Number of filtered quotes 1617 out of 1000000\n",
      "477 quotes are removed\n",
      "Processing chunk with 1000000 rows\n",
      "Number of filtered quotes 1590 out of 1000000\n",
      "438 quotes are removed\n",
      "Processing chunk with 1000000 rows\n",
      "Number of filtered quotes 1633 out of 1000000\n",
      "482 quotes are removed\n",
      "Processing chunk with 1000000 rows\n",
      "Number of filtered quotes 1556 out of 1000000\n",
      "465 quotes are removed\n",
      "Processing chunk with 1000000 rows\n",
      "Number of filtered quotes 1579 out of 1000000\n",
      "449 quotes are removed\n",
      "Processing chunk with 1000000 rows\n",
      "Number of filtered quotes 1543 out of 1000000\n",
      "422 quotes are removed\n",
      "Processing chunk with 1000000 rows\n",
      "Number of filtered quotes 1690 out of 1000000\n",
      "499 quotes are removed\n",
      "Processing chunk with 1000000 rows\n",
      "Number of filtered quotes 1548 out of 1000000\n",
      "450 quotes are removed\n",
      "Processing chunk with 1000000 rows\n",
      "Number of filtered quotes 1559 out of 1000000\n",
      "455 quotes are removed\n",
      "Processing chunk with 1000000 rows\n",
      "Number of filtered quotes 1655 out of 1000000\n",
      "482 quotes are removed\n",
      "Processing chunk with 1000000 rows\n",
      "Number of filtered quotes 1662 out of 1000000\n",
      "483 quotes are removed\n",
      "Processing chunk with 1000000 rows\n",
      "Number of filtered quotes 1605 out of 1000000\n",
      "460 quotes are removed\n",
      "Processing chunk with 1000000 rows\n",
      "Number of filtered quotes 1597 out of 1000000\n",
      "495 quotes are removed\n",
      "Processing chunk with 874338 rows\n",
      "Number of filtered quotes 1380 out of 874338\n",
      "394 quotes are removed\n"
     ]
    }
   ],
   "source": [
    "with pd.read_json('quotes-2015.json.bz2', lines=True, compression='bz2', chunksize=1000000) as df_reader:\n",
    "    for chunk in df_reader:    \n",
    "        data2015 = data2015.append(process_chunk(chunk))\n",
    "        \n",
    "data2015.to_pickle(\"./data2015.pkl\")"
   ]
  },
  {
   "cell_type": "code",
   "execution_count": 3,
   "id": "5650aaef",
   "metadata": {},
   "outputs": [
    {
     "name": "stdout",
     "output_type": "stream",
     "text": [
      "8499\n"
     ]
    },
    {
     "data": {
      "text/html": [
       "<div>\n",
       "<style scoped>\n",
       "    .dataframe tbody tr th:only-of-type {\n",
       "        vertical-align: middle;\n",
       "    }\n",
       "\n",
       "    .dataframe tbody tr th {\n",
       "        vertical-align: top;\n",
       "    }\n",
       "\n",
       "    .dataframe thead th {\n",
       "        text-align: right;\n",
       "    }\n",
       "</style>\n",
       "<table border=\"1\" class=\"dataframe\">\n",
       "  <thead>\n",
       "    <tr style=\"text-align: right;\">\n",
       "      <th></th>\n",
       "      <th>quoteID</th>\n",
       "      <th>quotation</th>\n",
       "      <th>speaker</th>\n",
       "      <th>date</th>\n",
       "      <th>numOccurrences</th>\n",
       "    </tr>\n",
       "  </thead>\n",
       "  <tbody>\n",
       "    <tr>\n",
       "      <th>1223</th>\n",
       "      <td>2020-01-29-062975</td>\n",
       "      <td>Many make the link today between their experie...</td>\n",
       "      <td>Peter Maurer</td>\n",
       "      <td>2020-01-29 09:04:36</td>\n",
       "      <td>5</td>\n",
       "    </tr>\n",
       "    <tr>\n",
       "      <th>1755</th>\n",
       "      <td>2020-02-10-076321</td>\n",
       "      <td>the National Energy and Climate Plans are how ...</td>\n",
       "      <td>Kadri Simson</td>\n",
       "      <td>2020-02-10 05:51:51</td>\n",
       "      <td>1</td>\n",
       "    </tr>\n",
       "    <tr>\n",
       "      <th>1959</th>\n",
       "      <td>2020-01-06-069057</td>\n",
       "      <td>This budget also allows us to earmark £ 500,00...</td>\n",
       "      <td>John Whitehead</td>\n",
       "      <td>2020-01-06 11:49:00</td>\n",
       "      <td>1</td>\n",
       "    </tr>\n",
       "    <tr>\n",
       "      <th>2691</th>\n",
       "      <td>2020-03-10-005294</td>\n",
       "      <td>As a state, we will pursue every option availa...</td>\n",
       "      <td>Kate Brown</td>\n",
       "      <td>2020-03-10 20:47:28</td>\n",
       "      <td>2</td>\n",
       "    </tr>\n",
       "    <tr>\n",
       "      <th>3120</th>\n",
       "      <td>2020-02-11-027545</td>\n",
       "      <td>how will you inspire Americans who have given ...</td>\n",
       "      <td>Amy Klobuchar</td>\n",
       "      <td>2020-02-11 12:29:43</td>\n",
       "      <td>1</td>\n",
       "    </tr>\n",
       "  </tbody>\n",
       "</table>\n",
       "</div>"
      ],
      "text/plain": [
       "                quoteID                                          quotation  \\\n",
       "1223  2020-01-29-062975  Many make the link today between their experie...   \n",
       "1755  2020-02-10-076321  the National Energy and Climate Plans are how ...   \n",
       "1959  2020-01-06-069057  This budget also allows us to earmark £ 500,00...   \n",
       "2691  2020-03-10-005294  As a state, we will pursue every option availa...   \n",
       "3120  2020-02-11-027545  how will you inspire Americans who have given ...   \n",
       "\n",
       "             speaker                date  numOccurrences  \n",
       "1223    Peter Maurer 2020-01-29 09:04:36               5  \n",
       "1755    Kadri Simson 2020-02-10 05:51:51               1  \n",
       "1959  John Whitehead 2020-01-06 11:49:00               1  \n",
       "2691      Kate Brown 2020-03-10 20:47:28               2  \n",
       "3120   Amy Klobuchar 2020-02-11 12:29:43               1  "
      ]
     },
     "execution_count": 3,
     "metadata": {},
     "output_type": "execute_result"
    }
   ],
   "source": [
    "print(len(data2020))\n",
    "data2020.head()"
   ]
  },
  {
   "cell_type": "code",
   "execution_count": 4,
   "id": "e287d0cd",
   "metadata": {},
   "outputs": [
    {
     "name": "stdout",
     "output_type": "stream",
     "text": [
      "37391\n"
     ]
    },
    {
     "data": {
      "text/html": [
       "<div>\n",
       "<style scoped>\n",
       "    .dataframe tbody tr th:only-of-type {\n",
       "        vertical-align: middle;\n",
       "    }\n",
       "\n",
       "    .dataframe tbody tr th {\n",
       "        vertical-align: top;\n",
       "    }\n",
       "\n",
       "    .dataframe thead th {\n",
       "        text-align: right;\n",
       "    }\n",
       "</style>\n",
       "<table border=\"1\" class=\"dataframe\">\n",
       "  <thead>\n",
       "    <tr style=\"text-align: right;\">\n",
       "      <th></th>\n",
       "      <th>quoteID</th>\n",
       "      <th>quotation</th>\n",
       "      <th>speaker</th>\n",
       "      <th>date</th>\n",
       "      <th>numOccurrences</th>\n",
       "    </tr>\n",
       "  </thead>\n",
       "  <tbody>\n",
       "    <tr>\n",
       "      <th>470</th>\n",
       "      <td>2019-09-13-002852</td>\n",
       "      <td>acutely aware we are in the midst of a climate...</td>\n",
       "      <td>Michael Thomson</td>\n",
       "      <td>2019-09-13 00:00:00</td>\n",
       "      <td>1</td>\n",
       "    </tr>\n",
       "    <tr>\n",
       "      <th>1015</th>\n",
       "      <td>2019-09-26-057277</td>\n",
       "      <td>It's managing those zillions of microbial cell...</td>\n",
       "      <td>Thomas Crowther</td>\n",
       "      <td>2019-09-26 11:00:45</td>\n",
       "      <td>1</td>\n",
       "    </tr>\n",
       "    <tr>\n",
       "      <th>2314</th>\n",
       "      <td>2019-03-28-015294</td>\n",
       "      <td>Climate change is the single most important is...</td>\n",
       "      <td>Nicola Sturgeon</td>\n",
       "      <td>2019-03-28 14:55:43</td>\n",
       "      <td>1</td>\n",
       "    </tr>\n",
       "    <tr>\n",
       "      <th>2316</th>\n",
       "      <td>2019-06-28-012580</td>\n",
       "      <td>Climate change represents an existential threa...</td>\n",
       "      <td>Kamala Harris</td>\n",
       "      <td>2019-06-28 04:10:00</td>\n",
       "      <td>1</td>\n",
       "    </tr>\n",
       "    <tr>\n",
       "      <th>2511</th>\n",
       "      <td>2019-06-19-067938</td>\n",
       "      <td>Near-zero emission CNG vehicles, paired with r...</td>\n",
       "      <td>Andrew West</td>\n",
       "      <td>2019-06-19 19:33:00</td>\n",
       "      <td>1</td>\n",
       "    </tr>\n",
       "  </tbody>\n",
       "</table>\n",
       "</div>"
      ],
      "text/plain": [
       "                quoteID                                          quotation  \\\n",
       "470   2019-09-13-002852  acutely aware we are in the midst of a climate...   \n",
       "1015  2019-09-26-057277  It's managing those zillions of microbial cell...   \n",
       "2314  2019-03-28-015294  Climate change is the single most important is...   \n",
       "2316  2019-06-28-012580  Climate change represents an existential threa...   \n",
       "2511  2019-06-19-067938  Near-zero emission CNG vehicles, paired with r...   \n",
       "\n",
       "              speaker                date  numOccurrences  \n",
       "470   Michael Thomson 2019-09-13 00:00:00               1  \n",
       "1015  Thomas Crowther 2019-09-26 11:00:45               1  \n",
       "2314  Nicola Sturgeon 2019-03-28 14:55:43               1  \n",
       "2316    Kamala Harris 2019-06-28 04:10:00               1  \n",
       "2511      Andrew West 2019-06-19 19:33:00               1  "
      ]
     },
     "execution_count": 4,
     "metadata": {},
     "output_type": "execute_result"
    }
   ],
   "source": [
    "print(len(data2019))\n",
    "data2019.head()"
   ]
  },
  {
   "cell_type": "code",
   "execution_count": 5,
   "id": "9294935b",
   "metadata": {},
   "outputs": [
    {
     "name": "stdout",
     "output_type": "stream",
     "text": [
      "31424\n"
     ]
    },
    {
     "data": {
      "text/html": [
       "<div>\n",
       "<style scoped>\n",
       "    .dataframe tbody tr th:only-of-type {\n",
       "        vertical-align: middle;\n",
       "    }\n",
       "\n",
       "    .dataframe tbody tr th {\n",
       "        vertical-align: top;\n",
       "    }\n",
       "\n",
       "    .dataframe thead th {\n",
       "        text-align: right;\n",
       "    }\n",
       "</style>\n",
       "<table border=\"1\" class=\"dataframe\">\n",
       "  <thead>\n",
       "    <tr style=\"text-align: right;\">\n",
       "      <th></th>\n",
       "      <th>quoteID</th>\n",
       "      <th>quotation</th>\n",
       "      <th>speaker</th>\n",
       "      <th>date</th>\n",
       "      <th>numOccurrences</th>\n",
       "    </tr>\n",
       "  </thead>\n",
       "  <tbody>\n",
       "    <tr>\n",
       "      <th>839</th>\n",
       "      <td>2018-11-14-010036</td>\n",
       "      <td>At 3AM when I stare at the ceiling and worry a...</td>\n",
       "      <td>PETER THOMSON</td>\n",
       "      <td>2018-11-14 19:28:55</td>\n",
       "      <td>3</td>\n",
       "    </tr>\n",
       "    <tr>\n",
       "      <th>1434</th>\n",
       "      <td>2018-11-28-015410</td>\n",
       "      <td>Climate change is directly impacting our healt...</td>\n",
       "      <td>Howard Frumkin</td>\n",
       "      <td>2018-11-28 23:41:00</td>\n",
       "      <td>6</td>\n",
       "    </tr>\n",
       "    <tr>\n",
       "      <th>2855</th>\n",
       "      <td>2018-05-01-035048</td>\n",
       "      <td>His job is to give the 1,000-foot view of clim...</td>\n",
       "      <td>John Byrne</td>\n",
       "      <td>2018-05-01 18:02:18</td>\n",
       "      <td>1</td>\n",
       "    </tr>\n",
       "    <tr>\n",
       "      <th>4849</th>\n",
       "      <td>2018-10-25-056957</td>\n",
       "      <td>I'm delighted to see how many more businesses ...</td>\n",
       "      <td>Claire Perry</td>\n",
       "      <td>2018-10-25 09:37:07</td>\n",
       "      <td>1</td>\n",
       "    </tr>\n",
       "    <tr>\n",
       "      <th>5489</th>\n",
       "      <td>2018-05-03-069151</td>\n",
       "      <td>It is our response as a company to climate cha...</td>\n",
       "      <td>Sinead Lynch</td>\n",
       "      <td>2018-05-03 05:00:58</td>\n",
       "      <td>1</td>\n",
       "    </tr>\n",
       "  </tbody>\n",
       "</table>\n",
       "</div>"
      ],
      "text/plain": [
       "                quoteID                                          quotation  \\\n",
       "839   2018-11-14-010036  At 3AM when I stare at the ceiling and worry a...   \n",
       "1434  2018-11-28-015410  Climate change is directly impacting our healt...   \n",
       "2855  2018-05-01-035048  His job is to give the 1,000-foot view of clim...   \n",
       "4849  2018-10-25-056957  I'm delighted to see how many more businesses ...   \n",
       "5489  2018-05-03-069151  It is our response as a company to climate cha...   \n",
       "\n",
       "             speaker                date  numOccurrences  \n",
       "839    PETER THOMSON 2018-11-14 19:28:55               3  \n",
       "1434  Howard Frumkin 2018-11-28 23:41:00               6  \n",
       "2855      John Byrne 2018-05-01 18:02:18               1  \n",
       "4849    Claire Perry 2018-10-25 09:37:07               1  \n",
       "5489    Sinead Lynch 2018-05-03 05:00:58               1  "
      ]
     },
     "execution_count": 5,
     "metadata": {},
     "output_type": "execute_result"
    }
   ],
   "source": [
    "print(len(data2018))\n",
    "data2018.head()"
   ]
  },
  {
   "cell_type": "code",
   "execution_count": 6,
   "id": "5104cb84",
   "metadata": {},
   "outputs": [
    {
     "name": "stdout",
     "output_type": "stream",
     "text": [
      "22895\n"
     ]
    },
    {
     "data": {
      "text/html": [
       "<div>\n",
       "<style scoped>\n",
       "    .dataframe tbody tr th:only-of-type {\n",
       "        vertical-align: middle;\n",
       "    }\n",
       "\n",
       "    .dataframe tbody tr th {\n",
       "        vertical-align: top;\n",
       "    }\n",
       "\n",
       "    .dataframe thead th {\n",
       "        text-align: right;\n",
       "    }\n",
       "</style>\n",
       "<table border=\"1\" class=\"dataframe\">\n",
       "  <thead>\n",
       "    <tr style=\"text-align: right;\">\n",
       "      <th></th>\n",
       "      <th>quoteID</th>\n",
       "      <th>quotation</th>\n",
       "      <th>speaker</th>\n",
       "      <th>date</th>\n",
       "      <th>numOccurrences</th>\n",
       "    </tr>\n",
       "  </thead>\n",
       "  <tbody>\n",
       "    <tr>\n",
       "      <th>441</th>\n",
       "      <td>2017-10-10-083023</td>\n",
       "      <td>left the realm of the merely destructive and e...</td>\n",
       "      <td>Tanya Plibersek</td>\n",
       "      <td>2017-10-10 05:07:05</td>\n",
       "      <td>86</td>\n",
       "    </tr>\n",
       "    <tr>\n",
       "      <th>572</th>\n",
       "      <td>2017-09-06-003914</td>\n",
       "      <td>advance this climate change agenda.</td>\n",
       "      <td>Rush Limbaugh</td>\n",
       "      <td>2017-09-06 23:12:48</td>\n",
       "      <td>73</td>\n",
       "    </tr>\n",
       "    <tr>\n",
       "      <th>805</th>\n",
       "      <td>2017-07-06-075459</td>\n",
       "      <td>may find some allies on climate change</td>\n",
       "      <td>Donald Trump</td>\n",
       "      <td>2017-07-06 09:04:06</td>\n",
       "      <td>1</td>\n",
       "    </tr>\n",
       "    <tr>\n",
       "      <th>845</th>\n",
       "      <td>2017-12-20-072848</td>\n",
       "      <td>Mayor Lee's commitment to environmental policy...</td>\n",
       "      <td>Gina McCarthy</td>\n",
       "      <td>2017-12-20 09:00:35</td>\n",
       "      <td>1</td>\n",
       "    </tr>\n",
       "    <tr>\n",
       "      <th>1777</th>\n",
       "      <td>2017-06-06-081706</td>\n",
       "      <td>now under threat as never before: pollution, o...</td>\n",
       "      <td>António Guterres</td>\n",
       "      <td>2017-06-06 11:44:00</td>\n",
       "      <td>1</td>\n",
       "    </tr>\n",
       "  </tbody>\n",
       "</table>\n",
       "</div>"
      ],
      "text/plain": [
       "                quoteID                                          quotation  \\\n",
       "441   2017-10-10-083023  left the realm of the merely destructive and e...   \n",
       "572   2017-09-06-003914                advance this climate change agenda.   \n",
       "805   2017-07-06-075459             may find some allies on climate change   \n",
       "845   2017-12-20-072848  Mayor Lee's commitment to environmental policy...   \n",
       "1777  2017-06-06-081706  now under threat as never before: pollution, o...   \n",
       "\n",
       "               speaker                date  numOccurrences  \n",
       "441    Tanya Plibersek 2017-10-10 05:07:05              86  \n",
       "572      Rush Limbaugh 2017-09-06 23:12:48              73  \n",
       "805       Donald Trump 2017-07-06 09:04:06               1  \n",
       "845      Gina McCarthy 2017-12-20 09:00:35               1  \n",
       "1777  António Guterres 2017-06-06 11:44:00               1  "
      ]
     },
     "execution_count": 6,
     "metadata": {},
     "output_type": "execute_result"
    }
   ],
   "source": [
    "print(len(data2017))\n",
    "data2017.head()"
   ]
  },
  {
   "cell_type": "code",
   "execution_count": 7,
   "id": "c5d95e44",
   "metadata": {},
   "outputs": [
    {
     "name": "stdout",
     "output_type": "stream",
     "text": [
      "11629\n"
     ]
    },
    {
     "data": {
      "text/html": [
       "<div>\n",
       "<style scoped>\n",
       "    .dataframe tbody tr th:only-of-type {\n",
       "        vertical-align: middle;\n",
       "    }\n",
       "\n",
       "    .dataframe tbody tr th {\n",
       "        vertical-align: top;\n",
       "    }\n",
       "\n",
       "    .dataframe thead th {\n",
       "        text-align: right;\n",
       "    }\n",
       "</style>\n",
       "<table border=\"1\" class=\"dataframe\">\n",
       "  <thead>\n",
       "    <tr style=\"text-align: right;\">\n",
       "      <th></th>\n",
       "      <th>quoteID</th>\n",
       "      <th>quotation</th>\n",
       "      <th>speaker</th>\n",
       "      <th>date</th>\n",
       "      <th>numOccurrences</th>\n",
       "    </tr>\n",
       "  </thead>\n",
       "  <tbody>\n",
       "    <tr>\n",
       "      <th>1205</th>\n",
       "      <td>2016-07-19-025193</td>\n",
       "      <td>HAARP is an advanced model of a super powerful...</td>\n",
       "      <td>Anil Madhav Dave</td>\n",
       "      <td>2016-07-19 10:37:03</td>\n",
       "      <td>1</td>\n",
       "    </tr>\n",
       "    <tr>\n",
       "      <th>2250</th>\n",
       "      <td>2016-07-07-042460</td>\n",
       "      <td>I urge this Congress to come up with a biparti...</td>\n",
       "      <td>President Barack Obama</td>\n",
       "      <td>2016-07-07 01:40:20</td>\n",
       "      <td>1</td>\n",
       "    </tr>\n",
       "    <tr>\n",
       "      <th>5333</th>\n",
       "      <td>2016-04-27-116144</td>\n",
       "      <td>They tend not to see the importance of the imp...</td>\n",
       "      <td>Ahmed Djoghlaf</td>\n",
       "      <td>2016-04-27 01:53:36</td>\n",
       "      <td>2</td>\n",
       "    </tr>\n",
       "    <tr>\n",
       "      <th>5648</th>\n",
       "      <td>2016-05-10-128944</td>\n",
       "      <td>Together, we've done great work here in Califo...</td>\n",
       "      <td>Kamala Harris</td>\n",
       "      <td>2016-05-10 19:04:29</td>\n",
       "      <td>2</td>\n",
       "    </tr>\n",
       "    <tr>\n",
       "      <th>7556</th>\n",
       "      <td>2016-12-08-015155</td>\n",
       "      <td>But we still need a lot of energy to power the...</td>\n",
       "      <td>Urs Hölzle</td>\n",
       "      <td>2016-12-08 15:14:00</td>\n",
       "      <td>1</td>\n",
       "    </tr>\n",
       "  </tbody>\n",
       "</table>\n",
       "</div>"
      ],
      "text/plain": [
       "                quoteID                                          quotation  \\\n",
       "1205  2016-07-19-025193  HAARP is an advanced model of a super powerful...   \n",
       "2250  2016-07-07-042460  I urge this Congress to come up with a biparti...   \n",
       "5333  2016-04-27-116144  They tend not to see the importance of the imp...   \n",
       "5648  2016-05-10-128944  Together, we've done great work here in Califo...   \n",
       "7556  2016-12-08-015155  But we still need a lot of energy to power the...   \n",
       "\n",
       "                     speaker                date  numOccurrences  \n",
       "1205        Anil Madhav Dave 2016-07-19 10:37:03               1  \n",
       "2250  President Barack Obama 2016-07-07 01:40:20               1  \n",
       "5333          Ahmed Djoghlaf 2016-04-27 01:53:36               2  \n",
       "5648           Kamala Harris 2016-05-10 19:04:29               2  \n",
       "7556              Urs Hölzle 2016-12-08 15:14:00               1  "
      ]
     },
     "execution_count": 7,
     "metadata": {},
     "output_type": "execute_result"
    }
   ],
   "source": [
    "print(len(data2016))\n",
    "data2016.head()"
   ]
  },
  {
   "cell_type": "code",
   "execution_count": 8,
   "id": "f4e2f4bf",
   "metadata": {},
   "outputs": [
    {
     "name": "stdout",
     "output_type": "stream",
     "text": [
      "23654\n"
     ]
    },
    {
     "data": {
      "text/html": [
       "<div>\n",
       "<style scoped>\n",
       "    .dataframe tbody tr th:only-of-type {\n",
       "        vertical-align: middle;\n",
       "    }\n",
       "\n",
       "    .dataframe tbody tr th {\n",
       "        vertical-align: top;\n",
       "    }\n",
       "\n",
       "    .dataframe thead th {\n",
       "        text-align: right;\n",
       "    }\n",
       "</style>\n",
       "<table border=\"1\" class=\"dataframe\">\n",
       "  <thead>\n",
       "    <tr style=\"text-align: right;\">\n",
       "      <th></th>\n",
       "      <th>quoteID</th>\n",
       "      <th>quotation</th>\n",
       "      <th>speaker</th>\n",
       "      <th>date</th>\n",
       "      <th>numOccurrences</th>\n",
       "    </tr>\n",
       "  </thead>\n",
       "  <tbody>\n",
       "    <tr>\n",
       "      <th>5265</th>\n",
       "      <td>2015-08-19-056730</td>\n",
       "      <td>It's very important to understand how the ocea...</td>\n",
       "      <td>Helen McGregor</td>\n",
       "      <td>2015-08-19 11:46:00</td>\n",
       "      <td>2</td>\n",
       "    </tr>\n",
       "    <tr>\n",
       "      <th>5891</th>\n",
       "      <td>2015-09-28-067347</td>\n",
       "      <td>man-made emissions are an insignificant part o...</td>\n",
       "      <td>John Abraham</td>\n",
       "      <td>2015-09-28 23:16:52</td>\n",
       "      <td>1</td>\n",
       "    </tr>\n",
       "    <tr>\n",
       "      <th>7868</th>\n",
       "      <td>2015-09-29-052783</td>\n",
       "      <td>In the final months before crucial climate tal...</td>\n",
       "      <td>Bill de Blasio</td>\n",
       "      <td>2015-09-29 16:10:01</td>\n",
       "      <td>1</td>\n",
       "    </tr>\n",
       "    <tr>\n",
       "      <th>9207</th>\n",
       "      <td>2015-10-29-104475</td>\n",
       "      <td>The Baker Polito Administration is fully devot...</td>\n",
       "      <td>Peter Lorenz</td>\n",
       "      <td>2015-10-29 10:49:41</td>\n",
       "      <td>3</td>\n",
       "    </tr>\n",
       "    <tr>\n",
       "      <th>9709</th>\n",
       "      <td>2015-05-07-042445</td>\n",
       "      <td>The general narrative is addressing climate ch...</td>\n",
       "      <td>Dallas Burtraw</td>\n",
       "      <td>2015-05-07 17:55:43</td>\n",
       "      <td>2</td>\n",
       "    </tr>\n",
       "  </tbody>\n",
       "</table>\n",
       "</div>"
      ],
      "text/plain": [
       "                quoteID                                          quotation  \\\n",
       "5265  2015-08-19-056730  It's very important to understand how the ocea...   \n",
       "5891  2015-09-28-067347  man-made emissions are an insignificant part o...   \n",
       "7868  2015-09-29-052783  In the final months before crucial climate tal...   \n",
       "9207  2015-10-29-104475  The Baker Polito Administration is fully devot...   \n",
       "9709  2015-05-07-042445  The general narrative is addressing climate ch...   \n",
       "\n",
       "             speaker                date  numOccurrences  \n",
       "5265  Helen McGregor 2015-08-19 11:46:00               2  \n",
       "5891    John Abraham 2015-09-28 23:16:52               1  \n",
       "7868  Bill de Blasio 2015-09-29 16:10:01               1  \n",
       "9207    Peter Lorenz 2015-10-29 10:49:41               3  \n",
       "9709  Dallas Burtraw 2015-05-07 17:55:43               2  "
      ]
     },
     "execution_count": 8,
     "metadata": {},
     "output_type": "execute_result"
    }
   ],
   "source": [
    "print(len(data2015))\n",
    "data2015.head()"
   ]
  },
  {
   "cell_type": "markdown",
   "id": "ba50dcc9",
   "metadata": {},
   "source": [
    "## Load data from pickle"
   ]
  },
  {
   "cell_type": "code",
   "execution_count": 2,
   "id": "a8e6ed27",
   "metadata": {},
   "outputs": [],
   "source": [
    "data2020 = pd.read_pickle('data2020.pkl', compression='infer')\n",
    "data2019 = pd.read_pickle('data2019.pkl', compression='infer')\n",
    "data2018 = pd.read_pickle('data2018.pkl', compression='infer')\n",
    "data2017 = pd.read_pickle('data2017.pkl', compression='infer')\n",
    "data2016 = pd.read_pickle('data2016.pkl', compression='infer')\n",
    "data2015 = pd.read_pickle('data2015.pkl', compression='infer')"
   ]
  },
  {
   "cell_type": "code",
   "execution_count": 3,
   "id": "2f2ec9c7",
   "metadata": {},
   "outputs": [
    {
     "data": {
      "text/plain": [
       "135492"
      ]
     },
     "execution_count": 3,
     "metadata": {},
     "output_type": "execute_result"
    }
   ],
   "source": [
    "data = data2020\n",
    "data = data.append(data2019, ignore_index=True)\n",
    "data = data.append(data2018, ignore_index=True)\n",
    "data = data.append(data2017, ignore_index=True)\n",
    "data =data.append(data2016, ignore_index=True)\n",
    "data = data.append(data2015, ignore_index=True)\n",
    "len(data)"
   ]
  },
  {
   "cell_type": "markdown",
   "id": "c78d8dab",
   "metadata": {},
   "source": [
    "## Load speaker data"
   ]
  },
  {
   "cell_type": "code",
   "execution_count": 4,
   "id": "258e02a4",
   "metadata": {},
   "outputs": [
    {
     "data": {
      "text/html": [
       "<div>\n",
       "<style scoped>\n",
       "    .dataframe tbody tr th:only-of-type {\n",
       "        vertical-align: middle;\n",
       "    }\n",
       "\n",
       "    .dataframe tbody tr th {\n",
       "        vertical-align: top;\n",
       "    }\n",
       "\n",
       "    .dataframe thead th {\n",
       "        text-align: right;\n",
       "    }\n",
       "</style>\n",
       "<table border=\"1\" class=\"dataframe\">\n",
       "  <thead>\n",
       "    <tr style=\"text-align: right;\">\n",
       "      <th></th>\n",
       "      <th>Label</th>\n",
       "      <th>Description</th>\n",
       "    </tr>\n",
       "    <tr>\n",
       "      <th>QID</th>\n",
       "      <th></th>\n",
       "      <th></th>\n",
       "    </tr>\n",
       "  </thead>\n",
       "  <tbody>\n",
       "    <tr>\n",
       "      <th>Q31</th>\n",
       "      <td>Belgium</td>\n",
       "      <td>country in western Europe</td>\n",
       "    </tr>\n",
       "    <tr>\n",
       "      <th>Q45</th>\n",
       "      <td>Portugal</td>\n",
       "      <td>country in southwestern Europe</td>\n",
       "    </tr>\n",
       "    <tr>\n",
       "      <th>Q75</th>\n",
       "      <td>Internet</td>\n",
       "      <td>global system of connected computer networks</td>\n",
       "    </tr>\n",
       "    <tr>\n",
       "      <th>Q148</th>\n",
       "      <td>People's Republic of China</td>\n",
       "      <td>sovereign state in East Asia</td>\n",
       "    </tr>\n",
       "    <tr>\n",
       "      <th>Q155</th>\n",
       "      <td>Brazil</td>\n",
       "      <td>country in South America</td>\n",
       "    </tr>\n",
       "  </tbody>\n",
       "</table>\n",
       "</div>"
      ],
      "text/plain": [
       "                           Label                                   Description\n",
       "QID                                                                           \n",
       "Q31                      Belgium                     country in western Europe\n",
       "Q45                     Portugal                country in southwestern Europe\n",
       "Q75                     Internet  global system of connected computer networks\n",
       "Q148  People's Republic of China                  sovereign state in East Asia\n",
       "Q155                      Brazil                      country in South America"
      ]
     },
     "execution_count": 4,
     "metadata": {},
     "output_type": "execute_result"
    }
   ],
   "source": [
    "df_QID= pd.read_csv('wikidata_labels_descriptions_quotebank.csv.bz2', compression='bz2', index_col='QID')\n",
    "df_QID.head()"
   ]
  },
  {
   "cell_type": "code",
   "execution_count": 216,
   "id": "6f5b0499",
   "metadata": {
    "scrolled": true
   },
   "outputs": [
    {
     "data": {
      "text/html": [
       "<div>\n",
       "<style scoped>\n",
       "    .dataframe tbody tr th:only-of-type {\n",
       "        vertical-align: middle;\n",
       "    }\n",
       "\n",
       "    .dataframe tbody tr th {\n",
       "        vertical-align: top;\n",
       "    }\n",
       "\n",
       "    .dataframe thead th {\n",
       "        text-align: right;\n",
       "    }\n",
       "</style>\n",
       "<table border=\"1\" class=\"dataframe\">\n",
       "  <thead>\n",
       "    <tr style=\"text-align: right;\">\n",
       "      <th></th>\n",
       "      <th>aliases</th>\n",
       "      <th>date_of_birth</th>\n",
       "      <th>nationality</th>\n",
       "      <th>gender</th>\n",
       "      <th>lastrevid</th>\n",
       "      <th>ethnic_group</th>\n",
       "      <th>US_congress_bio_ID</th>\n",
       "      <th>occupation</th>\n",
       "      <th>party</th>\n",
       "      <th>academic_degree</th>\n",
       "      <th>id</th>\n",
       "      <th>label</th>\n",
       "      <th>candidacy</th>\n",
       "      <th>type</th>\n",
       "      <th>religion</th>\n",
       "    </tr>\n",
       "  </thead>\n",
       "  <tbody>\n",
       "    <tr>\n",
       "      <th>0</th>\n",
       "      <td>[Washington, President Washington, G. Washingt...</td>\n",
       "      <td>[+1732-02-22T00:00:00Z]</td>\n",
       "      <td>[Q161885, Q30]</td>\n",
       "      <td>[Q6581097]</td>\n",
       "      <td>1395141751</td>\n",
       "      <td>None</td>\n",
       "      <td>W000178</td>\n",
       "      <td>[Q82955, Q189290, Q131512, Q1734662, Q294126, ...</td>\n",
       "      <td>[Q327591]</td>\n",
       "      <td>None</td>\n",
       "      <td>Q23</td>\n",
       "      <td>George Washington</td>\n",
       "      <td>[Q698073, Q697949]</td>\n",
       "      <td>item</td>\n",
       "      <td>[Q682443]</td>\n",
       "    </tr>\n",
       "    <tr>\n",
       "      <th>1</th>\n",
       "      <td>[Douglas Noel Adams, Douglas Noël Adams, Dougl...</td>\n",
       "      <td>[+1952-03-11T00:00:00Z]</td>\n",
       "      <td>[Q145]</td>\n",
       "      <td>[Q6581097]</td>\n",
       "      <td>1395737157</td>\n",
       "      <td>[Q7994501]</td>\n",
       "      <td>None</td>\n",
       "      <td>[Q214917, Q28389, Q6625963, Q4853732, Q1884422...</td>\n",
       "      <td>None</td>\n",
       "      <td>None</td>\n",
       "      <td>Q42</td>\n",
       "      <td>Douglas Adams</td>\n",
       "      <td>None</td>\n",
       "      <td>item</td>\n",
       "      <td>None</td>\n",
       "    </tr>\n",
       "    <tr>\n",
       "      <th>2</th>\n",
       "      <td>[Paul Marie Ghislain Otlet, Paul Marie Otlet]</td>\n",
       "      <td>[+1868-08-23T00:00:00Z]</td>\n",
       "      <td>[Q31]</td>\n",
       "      <td>[Q6581097]</td>\n",
       "      <td>1380367296</td>\n",
       "      <td>None</td>\n",
       "      <td>None</td>\n",
       "      <td>[Q36180, Q40348, Q182436, Q1265807, Q205375, Q...</td>\n",
       "      <td>None</td>\n",
       "      <td>None</td>\n",
       "      <td>Q1868</td>\n",
       "      <td>Paul Otlet</td>\n",
       "      <td>None</td>\n",
       "      <td>item</td>\n",
       "      <td>None</td>\n",
       "    </tr>\n",
       "    <tr>\n",
       "      <th>3</th>\n",
       "      <td>[George Walker Bush, Bush Jr., Dubya, GWB, Bus...</td>\n",
       "      <td>[+1946-07-06T00:00:00Z]</td>\n",
       "      <td>[Q30]</td>\n",
       "      <td>[Q6581097]</td>\n",
       "      <td>1395142029</td>\n",
       "      <td>None</td>\n",
       "      <td>None</td>\n",
       "      <td>[Q82955, Q15982858, Q18814623, Q1028181, Q1408...</td>\n",
       "      <td>[Q29468]</td>\n",
       "      <td>None</td>\n",
       "      <td>Q207</td>\n",
       "      <td>George W. Bush</td>\n",
       "      <td>[Q327959, Q464075, Q3586276, Q4450587]</td>\n",
       "      <td>item</td>\n",
       "      <td>[Q329646, Q682443, Q33203]</td>\n",
       "    </tr>\n",
       "    <tr>\n",
       "      <th>4</th>\n",
       "      <td>[Velázquez, Diego Rodríguez de Silva y Velázqu...</td>\n",
       "      <td>[+1599-06-06T00:00:00Z]</td>\n",
       "      <td>[Q29]</td>\n",
       "      <td>[Q6581097]</td>\n",
       "      <td>1391704596</td>\n",
       "      <td>None</td>\n",
       "      <td>None</td>\n",
       "      <td>[Q1028181]</td>\n",
       "      <td>None</td>\n",
       "      <td>None</td>\n",
       "      <td>Q297</td>\n",
       "      <td>Diego Velázquez</td>\n",
       "      <td>None</td>\n",
       "      <td>item</td>\n",
       "      <td>None</td>\n",
       "    </tr>\n",
       "  </tbody>\n",
       "</table>\n",
       "</div>"
      ],
      "text/plain": [
       "                                             aliases            date_of_birth  \\\n",
       "0  [Washington, President Washington, G. Washingt...  [+1732-02-22T00:00:00Z]   \n",
       "1  [Douglas Noel Adams, Douglas Noël Adams, Dougl...  [+1952-03-11T00:00:00Z]   \n",
       "2      [Paul Marie Ghislain Otlet, Paul Marie Otlet]  [+1868-08-23T00:00:00Z]   \n",
       "3  [George Walker Bush, Bush Jr., Dubya, GWB, Bus...  [+1946-07-06T00:00:00Z]   \n",
       "4  [Velázquez, Diego Rodríguez de Silva y Velázqu...  [+1599-06-06T00:00:00Z]   \n",
       "\n",
       "      nationality      gender   lastrevid ethnic_group US_congress_bio_ID  \\\n",
       "0  [Q161885, Q30]  [Q6581097]  1395141751         None            W000178   \n",
       "1          [Q145]  [Q6581097]  1395737157   [Q7994501]               None   \n",
       "2           [Q31]  [Q6581097]  1380367296         None               None   \n",
       "3           [Q30]  [Q6581097]  1395142029         None               None   \n",
       "4           [Q29]  [Q6581097]  1391704596         None               None   \n",
       "\n",
       "                                          occupation      party  \\\n",
       "0  [Q82955, Q189290, Q131512, Q1734662, Q294126, ...  [Q327591]   \n",
       "1  [Q214917, Q28389, Q6625963, Q4853732, Q1884422...       None   \n",
       "2  [Q36180, Q40348, Q182436, Q1265807, Q205375, Q...       None   \n",
       "3  [Q82955, Q15982858, Q18814623, Q1028181, Q1408...   [Q29468]   \n",
       "4                                         [Q1028181]       None   \n",
       "\n",
       "  academic_degree     id              label  \\\n",
       "0            None    Q23  George Washington   \n",
       "1            None    Q42      Douglas Adams   \n",
       "2            None  Q1868         Paul Otlet   \n",
       "3            None   Q207     George W. Bush   \n",
       "4            None   Q297    Diego Velázquez   \n",
       "\n",
       "                                candidacy  type                    religion  \n",
       "0                      [Q698073, Q697949]  item                   [Q682443]  \n",
       "1                                    None  item                        None  \n",
       "2                                    None  item                        None  \n",
       "3  [Q327959, Q464075, Q3586276, Q4450587]  item  [Q329646, Q682443, Q33203]  \n",
       "4                                    None  item                        None  "
      ]
     },
     "execution_count": 216,
     "metadata": {},
     "output_type": "execute_result"
    }
   ],
   "source": [
    "df_speaker = pd.read_parquet(\"speaker_attributes.parquet\", engine='pyarrow')\n",
    "df_speaker.head()"
   ]
  },
  {
   "cell_type": "code",
   "execution_count": 217,
   "id": "17766b0a",
   "metadata": {},
   "outputs": [
    {
     "data": {
      "text/plain": [
       "36969"
      ]
     },
     "execution_count": 217,
     "metadata": {},
     "output_type": "execute_result"
    }
   ],
   "source": [
    "len(df_QID)"
   ]
  },
  {
   "cell_type": "code",
   "execution_count": 218,
   "id": "8b030e06",
   "metadata": {},
   "outputs": [
    {
     "data": {
      "text/plain": [
       "9055981"
      ]
     },
     "execution_count": 218,
     "metadata": {},
     "output_type": "execute_result"
    }
   ],
   "source": [
    "len(df_speaker)"
   ]
  },
  {
   "cell_type": "code",
   "execution_count": 219,
   "id": "fd1a41a9",
   "metadata": {},
   "outputs": [],
   "source": [
    "df_speaker = df_speaker.dropna(subset=['date_of_birth'])"
   ]
  },
  {
   "cell_type": "code",
   "execution_count": 220,
   "id": "a6fd9153",
   "metadata": {},
   "outputs": [
    {
     "data": {
      "text/plain": [
       "5017333"
      ]
     },
     "execution_count": 220,
     "metadata": {},
     "output_type": "execute_result"
    }
   ],
   "source": [
    "len(df_speaker)"
   ]
  },
  {
   "cell_type": "code",
   "execution_count": 221,
   "id": "ab40d897",
   "metadata": {},
   "outputs": [],
   "source": [
    "df_speaker.date_of_birth = [item[0] for item in df_speaker.date_of_birth]"
   ]
  },
  {
   "cell_type": "code",
   "execution_count": 224,
   "id": "d6c09a9a",
   "metadata": {},
   "outputs": [],
   "source": [
    "df_speaker['date_of_birth'] = pd.to_datetime(df_speaker.date_of_birth, format='+%Y-%m-%d', exact=False, errors='ignore')"
   ]
  },
  {
   "cell_type": "code",
   "execution_count": 225,
   "id": "209a6e11",
   "metadata": {},
   "outputs": [
    {
     "data": {
      "text/html": [
       "<div>\n",
       "<style scoped>\n",
       "    .dataframe tbody tr th:only-of-type {\n",
       "        vertical-align: middle;\n",
       "    }\n",
       "\n",
       "    .dataframe tbody tr th {\n",
       "        vertical-align: top;\n",
       "    }\n",
       "\n",
       "    .dataframe thead th {\n",
       "        text-align: right;\n",
       "    }\n",
       "</style>\n",
       "<table border=\"1\" class=\"dataframe\">\n",
       "  <thead>\n",
       "    <tr style=\"text-align: right;\">\n",
       "      <th></th>\n",
       "      <th>aliases</th>\n",
       "      <th>date_of_birth</th>\n",
       "      <th>nationality</th>\n",
       "      <th>gender</th>\n",
       "      <th>lastrevid</th>\n",
       "      <th>ethnic_group</th>\n",
       "      <th>US_congress_bio_ID</th>\n",
       "      <th>occupation</th>\n",
       "      <th>party</th>\n",
       "      <th>academic_degree</th>\n",
       "      <th>id</th>\n",
       "      <th>label</th>\n",
       "      <th>candidacy</th>\n",
       "      <th>type</th>\n",
       "      <th>religion</th>\n",
       "    </tr>\n",
       "  </thead>\n",
       "  <tbody>\n",
       "    <tr>\n",
       "      <th>7193566</th>\n",
       "      <td>None</td>\n",
       "      <td>-8000-00-00T00:00:00Z</td>\n",
       "      <td>None</td>\n",
       "      <td>[Q6581072]</td>\n",
       "      <td>1363816969</td>\n",
       "      <td>None</td>\n",
       "      <td>None</td>\n",
       "      <td>None</td>\n",
       "      <td>None</td>\n",
       "      <td>None</td>\n",
       "      <td>Q25583326</td>\n",
       "      <td>Loschbur-Fra</td>\n",
       "      <td>None</td>\n",
       "      <td>item</td>\n",
       "      <td>None</td>\n",
       "    </tr>\n",
       "    <tr>\n",
       "      <th>6809976</th>\n",
       "      <td>None</td>\n",
       "      <td>-7999-01-01T00:00:00Z</td>\n",
       "      <td>None</td>\n",
       "      <td>[Q6581097]</td>\n",
       "      <td>1254639367</td>\n",
       "      <td>None</td>\n",
       "      <td>None</td>\n",
       "      <td>None</td>\n",
       "      <td>None</td>\n",
       "      <td>None</td>\n",
       "      <td>Q455750</td>\n",
       "      <td>Koelbjerg Woman</td>\n",
       "      <td>None</td>\n",
       "      <td>item</td>\n",
       "      <td>None</td>\n",
       "    </tr>\n",
       "    <tr>\n",
       "      <th>365445</th>\n",
       "      <td>None</td>\n",
       "      <td>-7200-00-00T00:00:00Z</td>\n",
       "      <td>None</td>\n",
       "      <td>[Q6581072]</td>\n",
       "      <td>1372493488</td>\n",
       "      <td>None</td>\n",
       "      <td>None</td>\n",
       "      <td>None</td>\n",
       "      <td>None</td>\n",
       "      <td>None</td>\n",
       "      <td>Q21044994</td>\n",
       "      <td>Frau von Österöd</td>\n",
       "      <td>None</td>\n",
       "      <td>item</td>\n",
       "      <td>None</td>\n",
       "    </tr>\n",
       "    <tr>\n",
       "      <th>3519913</th>\n",
       "      <td>[Gough’s Cave 1 (GC1)]</td>\n",
       "      <td>-7150-00-00T00:00:00Z</td>\n",
       "      <td>None</td>\n",
       "      <td>[Q6581097]</td>\n",
       "      <td>1325334083</td>\n",
       "      <td>None</td>\n",
       "      <td>None</td>\n",
       "      <td>[Q27443]</td>\n",
       "      <td>None</td>\n",
       "      <td>None</td>\n",
       "      <td>Q4508563</td>\n",
       "      <td>Cheddar Man</td>\n",
       "      <td>None</td>\n",
       "      <td>item</td>\n",
       "      <td>None</td>\n",
       "    </tr>\n",
       "    <tr>\n",
       "      <th>4716002</th>\n",
       "      <td>None</td>\n",
       "      <td>-7000-00-00T00:00:00Z</td>\n",
       "      <td>None</td>\n",
       "      <td>[Q6581072]</td>\n",
       "      <td>1371620926</td>\n",
       "      <td>None</td>\n",
       "      <td>None</td>\n",
       "      <td>None</td>\n",
       "      <td>None</td>\n",
       "      <td>None</td>\n",
       "      <td>Q6981339</td>\n",
       "      <td>Bäckaskogskvinna</td>\n",
       "      <td>None</td>\n",
       "      <td>item</td>\n",
       "      <td>None</td>\n",
       "    </tr>\n",
       "    <tr>\n",
       "      <th>...</th>\n",
       "      <td>...</td>\n",
       "      <td>...</td>\n",
       "      <td>...</td>\n",
       "      <td>...</td>\n",
       "      <td>...</td>\n",
       "      <td>...</td>\n",
       "      <td>...</td>\n",
       "      <td>...</td>\n",
       "      <td>...</td>\n",
       "      <td>...</td>\n",
       "      <td>...</td>\n",
       "      <td>...</td>\n",
       "      <td>...</td>\n",
       "      <td>...</td>\n",
       "      <td>...</td>\n",
       "    </tr>\n",
       "    <tr>\n",
       "      <th>6836325</th>\n",
       "      <td>None</td>\n",
       "      <td>+0001-00-00T00:00:00Z</td>\n",
       "      <td>None</td>\n",
       "      <td>[Q6581097]</td>\n",
       "      <td>1135337566</td>\n",
       "      <td>None</td>\n",
       "      <td>None</td>\n",
       "      <td>None</td>\n",
       "      <td>None</td>\n",
       "      <td>None</td>\n",
       "      <td>Q1348937</td>\n",
       "      <td>Garab Dorje</td>\n",
       "      <td>None</td>\n",
       "      <td>item</td>\n",
       "      <td>[Q748]</td>\n",
       "    </tr>\n",
       "    <tr>\n",
       "      <th>5726580</th>\n",
       "      <td>None</td>\n",
       "      <td>+0001-00-00T00:00:00Z</td>\n",
       "      <td>None</td>\n",
       "      <td>[Q6581097]</td>\n",
       "      <td>1308758061</td>\n",
       "      <td>None</td>\n",
       "      <td>None</td>\n",
       "      <td>[Q133485]</td>\n",
       "      <td>None</td>\n",
       "      <td>None</td>\n",
       "      <td>Q2070197</td>\n",
       "      <td>Baba ben Buta</td>\n",
       "      <td>None</td>\n",
       "      <td>item</td>\n",
       "      <td>[Q9268]</td>\n",
       "    </tr>\n",
       "    <tr>\n",
       "      <th>3685549</th>\n",
       "      <td>None</td>\n",
       "      <td>+0001-00-00T00:00:00Z</td>\n",
       "      <td>None</td>\n",
       "      <td>[Q6581072]</td>\n",
       "      <td>1378588294</td>\n",
       "      <td>None</td>\n",
       "      <td>None</td>\n",
       "      <td>None</td>\n",
       "      <td>None</td>\n",
       "      <td>None</td>\n",
       "      <td>Q15916381</td>\n",
       "      <td>Sophia the Martyr</td>\n",
       "      <td>None</td>\n",
       "      <td>item</td>\n",
       "      <td>None</td>\n",
       "    </tr>\n",
       "    <tr>\n",
       "      <th>3647564</th>\n",
       "      <td>[Servius Sulpicius Icelus Marcianus, Icelus]</td>\n",
       "      <td>+0001-00-00T00:00:00Z</td>\n",
       "      <td>[Q1747689]</td>\n",
       "      <td>[Q6581097]</td>\n",
       "      <td>1327339563</td>\n",
       "      <td>None</td>\n",
       "      <td>None</td>\n",
       "      <td>[Q82955]</td>\n",
       "      <td>None</td>\n",
       "      <td>None</td>\n",
       "      <td>Q11926389</td>\n",
       "      <td>Icelus Marcianus</td>\n",
       "      <td>None</td>\n",
       "      <td>item</td>\n",
       "      <td>None</td>\n",
       "    </tr>\n",
       "    <tr>\n",
       "      <th>6834330</th>\n",
       "      <td>None</td>\n",
       "      <td>+0001-00-00T00:00:00Z</td>\n",
       "      <td>[Q1747689]</td>\n",
       "      <td>[Q6581097]</td>\n",
       "      <td>1361104166</td>\n",
       "      <td>None</td>\n",
       "      <td>None</td>\n",
       "      <td>[Q42603]</td>\n",
       "      <td>None</td>\n",
       "      <td>None</td>\n",
       "      <td>Q1291457</td>\n",
       "      <td>Epenetus of Carthage</td>\n",
       "      <td>None</td>\n",
       "      <td>item</td>\n",
       "      <td>None</td>\n",
       "    </tr>\n",
       "  </tbody>\n",
       "</table>\n",
       "<p>4226509 rows × 15 columns</p>\n",
       "</div>"
      ],
      "text/plain": [
       "                                              aliases          date_of_birth  \\\n",
       "7193566                                          None  -8000-00-00T00:00:00Z   \n",
       "6809976                                          None  -7999-01-01T00:00:00Z   \n",
       "365445                                           None  -7200-00-00T00:00:00Z   \n",
       "3519913                        [Gough’s Cave 1 (GC1)]  -7150-00-00T00:00:00Z   \n",
       "4716002                                          None  -7000-00-00T00:00:00Z   \n",
       "...                                               ...                    ...   \n",
       "6836325                                          None  +0001-00-00T00:00:00Z   \n",
       "5726580                                          None  +0001-00-00T00:00:00Z   \n",
       "3685549                                          None  +0001-00-00T00:00:00Z   \n",
       "3647564  [Servius Sulpicius Icelus Marcianus, Icelus]  +0001-00-00T00:00:00Z   \n",
       "6834330                                          None  +0001-00-00T00:00:00Z   \n",
       "\n",
       "        nationality      gender   lastrevid ethnic_group US_congress_bio_ID  \\\n",
       "7193566        None  [Q6581072]  1363816969         None               None   \n",
       "6809976        None  [Q6581097]  1254639367         None               None   \n",
       "365445         None  [Q6581072]  1372493488         None               None   \n",
       "3519913        None  [Q6581097]  1325334083         None               None   \n",
       "4716002        None  [Q6581072]  1371620926         None               None   \n",
       "...             ...         ...         ...          ...                ...   \n",
       "6836325        None  [Q6581097]  1135337566         None               None   \n",
       "5726580        None  [Q6581097]  1308758061         None               None   \n",
       "3685549        None  [Q6581072]  1378588294         None               None   \n",
       "3647564  [Q1747689]  [Q6581097]  1327339563         None               None   \n",
       "6834330  [Q1747689]  [Q6581097]  1361104166         None               None   \n",
       "\n",
       "        occupation party academic_degree         id                 label  \\\n",
       "7193566       None  None            None  Q25583326          Loschbur-Fra   \n",
       "6809976       None  None            None    Q455750       Koelbjerg Woman   \n",
       "365445        None  None            None  Q21044994      Frau von Österöd   \n",
       "3519913   [Q27443]  None            None   Q4508563           Cheddar Man   \n",
       "4716002       None  None            None   Q6981339      Bäckaskogskvinna   \n",
       "...            ...   ...             ...        ...                   ...   \n",
       "6836325       None  None            None   Q1348937           Garab Dorje   \n",
       "5726580  [Q133485]  None            None   Q2070197         Baba ben Buta   \n",
       "3685549       None  None            None  Q15916381     Sophia the Martyr   \n",
       "3647564   [Q82955]  None            None  Q11926389      Icelus Marcianus   \n",
       "6834330   [Q42603]  None            None   Q1291457  Epenetus of Carthage   \n",
       "\n",
       "        candidacy  type religion  \n",
       "7193566      None  item     None  \n",
       "6809976      None  item     None  \n",
       "365445       None  item     None  \n",
       "3519913      None  item     None  \n",
       "4716002      None  item     None  \n",
       "...           ...   ...      ...  \n",
       "6836325      None  item   [Q748]  \n",
       "5726580      None  item  [Q9268]  \n",
       "3685549      None  item     None  \n",
       "3647564      None  item     None  \n",
       "6834330      None  item     None  \n",
       "\n",
       "[4226509 rows x 15 columns]"
      ]
     },
     "execution_count": 225,
     "metadata": {},
     "output_type": "execute_result"
    }
   ],
   "source": [
    "df_speaker = df_speaker.sort_values(by = 'date_of_birth', ascending = False)\n",
    "df_speaker = df_speaker.drop_duplicates(subset = ['label'], keep = 'first')\n",
    "df_speaker"
   ]
  },
  {
   "cell_type": "code",
   "execution_count": 226,
   "id": "bd362f94",
   "metadata": {},
   "outputs": [
    {
     "data": {
      "text/plain": [
       "4226509"
      ]
     },
     "execution_count": 226,
     "metadata": {},
     "output_type": "execute_result"
    }
   ],
   "source": [
    "len(df_speaker)"
   ]
  },
  {
   "cell_type": "code",
   "execution_count": 229,
   "id": "538f968b",
   "metadata": {},
   "outputs": [
    {
     "data": {
      "text/html": [
       "<div>\n",
       "<style scoped>\n",
       "    .dataframe tbody tr th:only-of-type {\n",
       "        vertical-align: middle;\n",
       "    }\n",
       "\n",
       "    .dataframe tbody tr th {\n",
       "        vertical-align: top;\n",
       "    }\n",
       "\n",
       "    .dataframe thead th {\n",
       "        text-align: right;\n",
       "    }\n",
       "</style>\n",
       "<table border=\"1\" class=\"dataframe\">\n",
       "  <thead>\n",
       "    <tr style=\"text-align: right;\">\n",
       "      <th></th>\n",
       "      <th>aliases</th>\n",
       "      <th>date_of_birth</th>\n",
       "      <th>nationality</th>\n",
       "      <th>gender</th>\n",
       "      <th>lastrevid</th>\n",
       "      <th>ethnic_group</th>\n",
       "      <th>US_congress_bio_ID</th>\n",
       "      <th>occupation</th>\n",
       "      <th>party</th>\n",
       "      <th>academic_degree</th>\n",
       "      <th>id</th>\n",
       "      <th>label</th>\n",
       "      <th>candidacy</th>\n",
       "      <th>type</th>\n",
       "      <th>religion</th>\n",
       "    </tr>\n",
       "  </thead>\n",
       "  <tbody>\n",
       "    <tr>\n",
       "      <th>4544778</th>\n",
       "      <td>[Elizabeth Ann Warren, Senator Warren, Elisabe...</td>\n",
       "      <td>+1949-06-22T00:00:00Z</td>\n",
       "      <td>[Q30]</td>\n",
       "      <td>[Q6581072]</td>\n",
       "      <td>1394365746</td>\n",
       "      <td>[Q49078]</td>\n",
       "      <td>W000817</td>\n",
       "      <td>[Q185351, Q82955, Q37226, Q1622272, Q40348, Q1...</td>\n",
       "      <td>[Q29552]</td>\n",
       "      <td>[Q163727, Q1540185]</td>\n",
       "      <td>Q434706</td>\n",
       "      <td>Elizabeth Warren</td>\n",
       "      <td>[Q28220813]</td>\n",
       "      <td>item</td>\n",
       "      <td>[Q33203]</td>\n",
       "    </tr>\n",
       "  </tbody>\n",
       "</table>\n",
       "</div>"
      ],
      "text/plain": [
       "                                                   aliases  \\\n",
       "4544778  [Elizabeth Ann Warren, Senator Warren, Elisabe...   \n",
       "\n",
       "                 date_of_birth nationality      gender   lastrevid  \\\n",
       "4544778  +1949-06-22T00:00:00Z       [Q30]  [Q6581072]  1394365746   \n",
       "\n",
       "        ethnic_group US_congress_bio_ID  \\\n",
       "4544778     [Q49078]            W000817   \n",
       "\n",
       "                                                occupation     party  \\\n",
       "4544778  [Q185351, Q82955, Q37226, Q1622272, Q40348, Q1...  [Q29552]   \n",
       "\n",
       "             academic_degree       id             label    candidacy  type  \\\n",
       "4544778  [Q163727, Q1540185]  Q434706  Elizabeth Warren  [Q28220813]  item   \n",
       "\n",
       "         religion  \n",
       "4544778  [Q33203]  "
      ]
     },
     "execution_count": 229,
     "metadata": {},
     "output_type": "execute_result"
    }
   ],
   "source": [
    "df_speaker.loc[df_speaker['label'] == 'Elizabeth Warren']"
   ]
  },
  {
   "cell_type": "code",
   "execution_count": 250,
   "id": "6ea7788d",
   "metadata": {},
   "outputs": [],
   "source": [
    "Bernie_Sanders_occupations = df_speaker[df_speaker.label == 'Bernie Sanders'].occupation.to_numpy()[0]\n",
    "Bernie_Sanders_party = df_speaker[df_speaker.label == 'Bernie Sanders'].party.to_numpy()[0]"
   ]
  },
  {
   "cell_type": "code",
   "execution_count": 251,
   "id": "f21a162a",
   "metadata": {},
   "outputs": [],
   "source": [
    "Greta_occupations = df_speaker[df_speaker.label == 'Greta Thunberg'].occupation.to_numpy()[0]\n",
    "Greta_party = df_speaker[df_speaker.label == 'Greta Thunberg'].party.to_numpy()[0]"
   ]
  },
  {
   "cell_type": "code",
   "execution_count": 252,
   "id": "ccdaa103",
   "metadata": {},
   "outputs": [
    {
     "name": "stdout",
     "output_type": "stream",
     "text": [
      "None\n"
     ]
    }
   ],
   "source": [
    "print(Greta_party)"
   ]
  },
  {
   "cell_type": "code",
   "execution_count": 253,
   "id": "dae415e2",
   "metadata": {},
   "outputs": [
    {
     "data": {
      "text/html": [
       "<div>\n",
       "<style scoped>\n",
       "    .dataframe tbody tr th:only-of-type {\n",
       "        vertical-align: middle;\n",
       "    }\n",
       "\n",
       "    .dataframe tbody tr th {\n",
       "        vertical-align: top;\n",
       "    }\n",
       "\n",
       "    .dataframe thead th {\n",
       "        text-align: right;\n",
       "    }\n",
       "</style>\n",
       "<table border=\"1\" class=\"dataframe\">\n",
       "  <thead>\n",
       "    <tr style=\"text-align: right;\">\n",
       "      <th></th>\n",
       "      <th>Label</th>\n",
       "      <th>Description</th>\n",
       "    </tr>\n",
       "    <tr>\n",
       "      <th>QID</th>\n",
       "      <th></th>\n",
       "      <th></th>\n",
       "    </tr>\n",
       "  </thead>\n",
       "  <tbody>\n",
       "    <tr>\n",
       "      <th>Q154549</th>\n",
       "      <td>carpenter</td>\n",
       "      <td>profession; person who performs carpentry</td>\n",
       "    </tr>\n",
       "    <tr>\n",
       "      <th>Q1622272</th>\n",
       "      <td>university teacher</td>\n",
       "      <td>person teaching at a university</td>\n",
       "    </tr>\n",
       "    <tr>\n",
       "      <th>Q36180</th>\n",
       "      <td>writer</td>\n",
       "      <td>person who uses written words to communicate i...</td>\n",
       "    </tr>\n",
       "    <tr>\n",
       "      <th>Q82955</th>\n",
       "      <td>politician</td>\n",
       "      <td>person involved in politics, person who holds ...</td>\n",
       "    </tr>\n",
       "    <tr>\n",
       "      <th>Q578109</th>\n",
       "      <td>television producer</td>\n",
       "      <td>occupation within video production for TV</td>\n",
       "    </tr>\n",
       "    <tr>\n",
       "      <th>Q1930187</th>\n",
       "      <td>journalist</td>\n",
       "      <td>person who collects, writes and distributes ne...</td>\n",
       "    </tr>\n",
       "  </tbody>\n",
       "</table>\n",
       "</div>"
      ],
      "text/plain": [
       "                        Label  \\\n",
       "QID                             \n",
       "Q154549             carpenter   \n",
       "Q1622272   university teacher   \n",
       "Q36180                 writer   \n",
       "Q82955             politician   \n",
       "Q578109   television producer   \n",
       "Q1930187           journalist   \n",
       "\n",
       "                                                Description  \n",
       "QID                                                          \n",
       "Q154549           profession; person who performs carpentry  \n",
       "Q1622272                    person teaching at a university  \n",
       "Q36180    person who uses written words to communicate i...  \n",
       "Q82955    person involved in politics, person who holds ...  \n",
       "Q578109           occupation within video production for TV  \n",
       "Q1930187  person who collects, writes and distributes ne...  "
      ]
     },
     "execution_count": 253,
     "metadata": {},
     "output_type": "execute_result"
    }
   ],
   "source": [
    "df_QID.loc[df_QID.index.intersection(Bernie_Sanders_occupations)]\n"
   ]
  },
  {
   "cell_type": "code",
   "execution_count": 254,
   "id": "543c2845",
   "metadata": {},
   "outputs": [
    {
     "data": {
      "text/html": [
       "<div>\n",
       "<style scoped>\n",
       "    .dataframe tbody tr th:only-of-type {\n",
       "        vertical-align: middle;\n",
       "    }\n",
       "\n",
       "    .dataframe tbody tr th {\n",
       "        vertical-align: top;\n",
       "    }\n",
       "\n",
       "    .dataframe thead th {\n",
       "        text-align: right;\n",
       "    }\n",
       "</style>\n",
       "<table border=\"1\" class=\"dataframe\">\n",
       "  <thead>\n",
       "    <tr style=\"text-align: right;\">\n",
       "      <th></th>\n",
       "      <th>Label</th>\n",
       "      <th>Description</th>\n",
       "    </tr>\n",
       "    <tr>\n",
       "      <th>QID</th>\n",
       "      <th></th>\n",
       "      <th></th>\n",
       "    </tr>\n",
       "  </thead>\n",
       "  <tbody>\n",
       "    <tr>\n",
       "      <th>Q327591</th>\n",
       "      <td>independent politician</td>\n",
       "      <td>individual not affiliated to any political party</td>\n",
       "    </tr>\n",
       "    <tr>\n",
       "      <th>Q29552</th>\n",
       "      <td>Democratic Party</td>\n",
       "      <td>political party in the United States</td>\n",
       "    </tr>\n",
       "    <tr>\n",
       "      <th>Q6542163</th>\n",
       "      <td>Liberty Union Party</td>\n",
       "      <td>political party in Vermont</td>\n",
       "    </tr>\n",
       "  </tbody>\n",
       "</table>\n",
       "</div>"
      ],
      "text/plain": [
       "                           Label  \\\n",
       "QID                                \n",
       "Q327591   independent politician   \n",
       "Q29552          Democratic Party   \n",
       "Q6542163     Liberty Union Party   \n",
       "\n",
       "                                               Description  \n",
       "QID                                                         \n",
       "Q327591   individual not affiliated to any political party  \n",
       "Q29552                political party in the United States  \n",
       "Q6542163                        political party in Vermont  "
      ]
     },
     "execution_count": 254,
     "metadata": {},
     "output_type": "execute_result"
    }
   ],
   "source": [
    "df_QID.loc[df_QID.index.intersection(Bernie_Sanders_party)]"
   ]
  },
  {
   "cell_type": "markdown",
   "id": "715e011d",
   "metadata": {},
   "source": [
    "# First visualization of the data"
   ]
  },
  {
   "cell_type": "markdown",
   "id": "529adb18",
   "metadata": {},
   "source": [
    "### Number of words per quote"
   ]
  },
  {
   "cell_type": "code",
   "execution_count": 51,
   "id": "7a755559",
   "metadata": {},
   "outputs": [],
   "source": [
    "word_per_quote = data2019[\"quotation\"].apply(lambda x : len(x.split()))"
   ]
  },
  {
   "cell_type": "code",
   "execution_count": 59,
   "id": "8555dc07",
   "metadata": {},
   "outputs": [
    {
     "data": {
      "image/png": "[encoded data removed]",
      "text/plain": [
       "<Figure size 720x432 with 1 Axes>"
      ]
     },
     "metadata": {
      "needs_background": "light"
     },
     "output_type": "display_data"
    }
   ],
   "source": [
    "word_per_quote.hist(bins=100,  figsize=(10, 6))\n",
    "plt.yscale('log')\n",
    "\n",
    "plt.title('Number of words per quote')\n",
    "plt.xlabel('Number of words')\n",
    "plt.ylabel('Number of quotes [log]')\n",
    "\n",
    "plt.show()"
   ]
  },
  {
   "cell_type": "markdown",
   "id": "643494fe",
   "metadata": {},
   "source": [
    "Words embeding models are sensible to the difference in the length of the quotes, thus it can be helpful to be aware that we might have issues because of this inbalance.\n",
    "Not forget here that dots and commas are also counted as words. "
   ]
  },
  {
   "cell_type": "markdown",
   "id": "f50c303e",
   "metadata": {},
   "source": [
    "### Repartition over the year"
   ]
  },
  {
   "cell_type": "code",
   "execution_count": 12,
   "id": "cfbc28d2",
   "metadata": {},
   "outputs": [
    {
     "data": {
      "image/png": "[encoded data removed]",
      "text/plain": [
       "<Figure size 720x432 with 1 Axes>"
      ]
     },
     "metadata": {
      "needs_background": "light"
     },
     "output_type": "display_data"
    },
    {
     "name": "stdout",
     "output_type": "stream",
     "text": [
      "2020-01-01 00:00:00\n",
      "2020-04-16 20:46:52\n"
     ]
    }
   ],
   "source": [
    "data2020['date'].hist(bins=24, figsize=(10, 6))\n",
    "plt.xlabel('Date')\n",
    "plt.ylabel('Number of quotes')\n",
    "plt.title('Quotes in 2020')\n",
    "plt.show()\n",
    "\n",
    "print(min(data2020['date']))\n",
    "print(max(data2020['date']))"
   ]
  },
  {
   "cell_type": "markdown",
   "id": "16d70d82",
   "metadata": {},
   "source": [
    "#### Comments\n",
    "* Much less apparition of the climate change in the newspapper from in March and April 2020. The decrease coincides with the explosion of the pandemic of Covid-19 in the world. "
   ]
  },
  {
   "cell_type": "code",
   "execution_count": 25,
   "id": "20416993",
   "metadata": {},
   "outputs": [
    {
     "data": {
      "image/png": "[encoded data removed]",
      "text/plain": [
       "<Figure size 720x432 with 1 Axes>"
      ]
     },
     "metadata": {
      "needs_background": "light"
     },
     "output_type": "display_data"
    },
    {
     "name": "stdout",
     "output_type": "stream",
     "text": [
      "2019-01-01 02:18:32\n",
      "2019-12-31 23:29:13\n"
     ]
    }
   ],
   "source": [
    "data2019['date'].hist(bins=24, figsize=(10, 6))\n",
    "plt.xlabel('Date')\n",
    "plt.ylabel('Number of quotes')\n",
    "plt.title('Quotes in 2019')\n",
    "plt.show()\n",
    "\n",
    "print(min(data2019['date']))\n",
    "print(max(data2019['date']))"
   ]
  },
  {
   "cell_type": "markdown",
   "id": "2c22c717",
   "metadata": {},
   "source": [
    "#### Comments\n",
    "* Peak in end of september. By looking on the internet the first result shows that the month of september 2019 was the hottest ever seen since the beginning of the regostration of the temperature.\n",
    "* The second peak, beginning of December, coicides with the date of the COP25."
   ]
  },
  {
   "cell_type": "markdown",
   "id": "3ae3712d",
   "metadata": {},
   "source": [
    "### Speakers that come up the more often"
   ]
  },
  {
   "cell_type": "code",
   "execution_count": 234,
   "id": "46247654",
   "metadata": {},
   "outputs": [],
   "source": [
    "n = 20"
   ]
  },
  {
   "cell_type": "code",
   "execution_count": 235,
   "id": "e54c4bc5",
   "metadata": {},
   "outputs": [],
   "source": [
    "most_speaker = data['speaker'].value_counts()[:n].index.tolist()"
   ]
  },
  {
   "cell_type": "code",
   "execution_count": 236,
   "id": "0cf89746",
   "metadata": {},
   "outputs": [
    {
     "data": {
      "text/plain": [
       "['Bernie Sanders',\n",
       " 'President Barack Obama',\n",
       " 'Narendra Modi',\n",
       " 'Jay Inslee',\n",
       " 'Justin Trudeau',\n",
       " 'Jerry Brown',\n",
       " 'Michael Mann',\n",
       " 'President Obama',\n",
       " 'Catherine McKenna',\n",
       " 'Al Gore',\n",
       " 'Donald Trump',\n",
       " 'Pope Francis',\n",
       " 'Antonio Guterres',\n",
       " 'Greta Thunberg',\n",
       " 'President Donald Trump',\n",
       " 'Bill McKibben',\n",
       " 'Alexandria Ocasio-Cortez',\n",
       " 'Scott Pruitt',\n",
       " 'John Kerry',\n",
       " 'James Shaw']"
      ]
     },
     "execution_count": 236,
     "metadata": {},
     "output_type": "execute_result"
    }
   ],
   "source": [
    "most_speaker"
   ]
  },
  {
   "cell_type": "markdown",
   "id": "09e1d2ba",
   "metadata": {},
   "source": [
    "At first sight, we can see that there is mostly politicians.  \n",
    "If we look at the american politicians, most of them are democrate: Bernie Sanders, Alexandria Ocasio-Cortez, Elizabeth Warren, Michael Bloomberg, Nancy Pelosi.\n",
    "For further analysis, we will use the speaker data. "
   ]
  },
  {
   "cell_type": "code",
   "execution_count": 237,
   "id": "a84d7cfe",
   "metadata": {},
   "outputs": [],
   "source": [
    "df_most_speaker = pd.DataFrame(columns = ['speaker', 'main_party', 'academic_degree'])"
   ]
  },
  {
   "cell_type": "code",
   "execution_count": 238,
   "id": "b8ea8130",
   "metadata": {},
   "outputs": [
    {
     "ename": "TypeError",
     "evalue": "intersection() missing 1 required positional argument: 'other'",
     "output_type": "error",
     "traceback": [
      "\u001b[1;31m---------------------------------------------------------------------------\u001b[0m",
      "\u001b[1;31mTypeError\u001b[0m                                 Traceback (most recent call last)",
      "\u001b[1;32m<ipython-input-238-f41f6f7c9532>\u001b[0m in \u001b[0;36m<module>\u001b[1;34m\u001b[0m\n\u001b[0;32m      1\u001b[0m \u001b[0mdf_most_speaker\u001b[0m\u001b[1;33m.\u001b[0m\u001b[0mspeaker\u001b[0m \u001b[1;33m=\u001b[0m \u001b[0mmost_speaker\u001b[0m\u001b[1;33m\u001b[0m\u001b[1;33m\u001b[0m\u001b[0m\n\u001b[0;32m      2\u001b[0m \u001b[1;33m\u001b[0m\u001b[0m\n\u001b[1;32m----> 3\u001b[1;33m \u001b[0mdf_most_speaker\u001b[0m\u001b[1;33m.\u001b[0m\u001b[0mparty\u001b[0m \u001b[1;33m=\u001b[0m \u001b[0mdf_QID\u001b[0m\u001b[1;33m.\u001b[0m\u001b[0mloc\u001b[0m\u001b[1;33m[\u001b[0m\u001b[0mdf_QID\u001b[0m\u001b[1;33m.\u001b[0m\u001b[0mindex\u001b[0m\u001b[1;33m.\u001b[0m\u001b[0mintersection\u001b[0m\u001b[1;33m(\u001b[0m\u001b[1;33m)\u001b[0m\u001b[1;33m]\u001b[0m\u001b[1;33m\u001b[0m\u001b[1;33m\u001b[0m\u001b[0m\n\u001b[0m",
      "\u001b[1;31mTypeError\u001b[0m: intersection() missing 1 required positional argument: 'other'"
     ]
    }
   ],
   "source": [
    "df_most_speaker.speaker = most_speaker\n",
    "\n",
    "df_most_speaker.party = df_QID.loc[df_QID.index.intersection()]"
   ]
  },
  {
   "cell_type": "code",
   "execution_count": 239,
   "id": "e80d3832",
   "metadata": {},
   "outputs": [
    {
     "name": "stdout",
     "output_type": "stream",
     "text": [
      "Bernie Sanders\n"
     ]
    },
    {
     "name": "stderr",
     "output_type": "stream",
     "text": [
      "<ipython-input-239-7bc7c09c48e8>:7: DeprecationWarning: elementwise comparison failed; this will raise an error in the future.\n",
      "  if df_speaker[df_speaker.label == i].party.to_numpy() == None:\n"
     ]
    },
    {
     "name": "stdout",
     "output_type": "stream",
     "text": [
      "5\n",
      "President Barack Obama\n"
     ]
    },
    {
     "ename": "AttributeError",
     "evalue": "'DataFrame' object has no attribute 'party'",
     "output_type": "error",
     "traceback": [
      "\u001b[1;31m---------------------------------------------------------------------------\u001b[0m",
      "\u001b[1;31mAttributeError\u001b[0m                            Traceback (most recent call last)",
      "\u001b[1;32m<ipython-input-239-7bc7c09c48e8>\u001b[0m in \u001b[0;36m<module>\u001b[1;34m\u001b[0m\n\u001b[0;32m      3\u001b[0m     \u001b[0mprint\u001b[0m\u001b[1;33m(\u001b[0m\u001b[0mi\u001b[0m\u001b[1;33m)\u001b[0m\u001b[1;33m\u001b[0m\u001b[1;33m\u001b[0m\u001b[0m\n\u001b[0;32m      4\u001b[0m     \u001b[1;32mif\u001b[0m \u001b[0mdf_speaker\u001b[0m\u001b[1;33m[\u001b[0m\u001b[0mdf_speaker\u001b[0m\u001b[1;33m.\u001b[0m\u001b[0mlabel\u001b[0m \u001b[1;33m==\u001b[0m \u001b[0mi\u001b[0m\u001b[1;33m]\u001b[0m\u001b[1;33m.\u001b[0m\u001b[0mparty\u001b[0m\u001b[1;33m.\u001b[0m\u001b[0mempty\u001b[0m \u001b[1;33m:\u001b[0m\u001b[1;33m\u001b[0m\u001b[1;33m\u001b[0m\u001b[0m\n\u001b[1;32m----> 5\u001b[1;33m         \u001b[0mdf_most_speaker\u001b[0m\u001b[1;33m.\u001b[0m\u001b[0mparty\u001b[0m\u001b[1;33m[\u001b[0m\u001b[0mn\u001b[0m\u001b[1;33m]\u001b[0m \u001b[1;33m=\u001b[0m \u001b[1;34m'None'\u001b[0m\u001b[1;33m\u001b[0m\u001b[1;33m\u001b[0m\u001b[0m\n\u001b[0m\u001b[0;32m      6\u001b[0m         \u001b[0mprint\u001b[0m\u001b[1;33m(\u001b[0m\u001b[1;34m'salut'\u001b[0m\u001b[1;33m)\u001b[0m\u001b[1;33m\u001b[0m\u001b[1;33m\u001b[0m\u001b[0m\n\u001b[0;32m      7\u001b[0m     \u001b[1;32mif\u001b[0m \u001b[0mdf_speaker\u001b[0m\u001b[1;33m[\u001b[0m\u001b[0mdf_speaker\u001b[0m\u001b[1;33m.\u001b[0m\u001b[0mlabel\u001b[0m \u001b[1;33m==\u001b[0m \u001b[0mi\u001b[0m\u001b[1;33m]\u001b[0m\u001b[1;33m.\u001b[0m\u001b[0mparty\u001b[0m\u001b[1;33m.\u001b[0m\u001b[0mto_numpy\u001b[0m\u001b[1;33m(\u001b[0m\u001b[1;33m)\u001b[0m \u001b[1;33m==\u001b[0m \u001b[1;32mNone\u001b[0m\u001b[1;33m:\u001b[0m\u001b[1;33m\u001b[0m\u001b[1;33m\u001b[0m\u001b[0m\n",
      "\u001b[1;32m~\\Anaconda3\\lib\\site-packages\\pandas\\core\\generic.py\u001b[0m in \u001b[0;36m__getattr__\u001b[1;34m(self, name)\u001b[0m\n\u001b[0;32m   5463\u001b[0m             \u001b[1;32mif\u001b[0m \u001b[0mself\u001b[0m\u001b[1;33m.\u001b[0m\u001b[0m_info_axis\u001b[0m\u001b[1;33m.\u001b[0m\u001b[0m_can_hold_identifiers_and_holds_name\u001b[0m\u001b[1;33m(\u001b[0m\u001b[0mname\u001b[0m\u001b[1;33m)\u001b[0m\u001b[1;33m:\u001b[0m\u001b[1;33m\u001b[0m\u001b[1;33m\u001b[0m\u001b[0m\n\u001b[0;32m   5464\u001b[0m                 \u001b[1;32mreturn\u001b[0m \u001b[0mself\u001b[0m\u001b[1;33m[\u001b[0m\u001b[0mname\u001b[0m\u001b[1;33m]\u001b[0m\u001b[1;33m\u001b[0m\u001b[1;33m\u001b[0m\u001b[0m\n\u001b[1;32m-> 5465\u001b[1;33m             \u001b[1;32mreturn\u001b[0m \u001b[0mobject\u001b[0m\u001b[1;33m.\u001b[0m\u001b[0m__getattribute__\u001b[0m\u001b[1;33m(\u001b[0m\u001b[0mself\u001b[0m\u001b[1;33m,\u001b[0m \u001b[0mname\u001b[0m\u001b[1;33m)\u001b[0m\u001b[1;33m\u001b[0m\u001b[1;33m\u001b[0m\u001b[0m\n\u001b[0m\u001b[0;32m   5466\u001b[0m \u001b[1;33m\u001b[0m\u001b[0m\n\u001b[0;32m   5467\u001b[0m     \u001b[1;32mdef\u001b[0m \u001b[0m__setattr__\u001b[0m\u001b[1;33m(\u001b[0m\u001b[0mself\u001b[0m\u001b[1;33m,\u001b[0m \u001b[0mname\u001b[0m\u001b[1;33m:\u001b[0m \u001b[0mstr\u001b[0m\u001b[1;33m,\u001b[0m \u001b[0mvalue\u001b[0m\u001b[1;33m)\u001b[0m \u001b[1;33m->\u001b[0m \u001b[1;32mNone\u001b[0m\u001b[1;33m:\u001b[0m\u001b[1;33m\u001b[0m\u001b[1;33m\u001b[0m\u001b[0m\n",
      "\u001b[1;31mAttributeError\u001b[0m: 'DataFrame' object has no attribute 'party'"
     ]
    }
   ],
   "source": [
    "most_speaker_party = []\n",
    "for n,i in enumerate(most_speaker):\n",
    "    print(i)\n",
    "    if df_speaker[df_speaker.label == i].party.empty :\n",
    "        df_most_speaker.party[n] = 'None'\n",
    "        print('salut')\n",
    "    if df_speaker[df_speaker.label == i].party.to_numpy() == None:\n",
    "        df_most_speaker.party[n] = 'None'\n",
    "        print('hello')\n",
    "    else:\n",
    "        print(len(df_speaker[df_speaker.label == i].party.to_numpy()[0]))"
   ]
  },
  {
   "cell_type": "markdown",
   "id": "7a617bfe",
   "metadata": {},
   "source": [
    "# PROBLEM:\n",
    "Elizabeth Warren a plusieurs ligne dans le tableau mais que une qui contient des infos faut supprimer\n"
   ]
  },
  {
   "cell_type": "code",
   "execution_count": 241,
   "id": "7f19b00b",
   "metadata": {},
   "outputs": [
    {
     "name": "stdout",
     "output_type": "stream",
     "text": [
      "[array(['Q29552'], dtype=object), array(['Q6542163', 'Q29552', 'Q327591', 'Q327591', 'Q29552'], dtype=object), None, array(['Q29552'], dtype=object), None, array(['Q138345'], dtype=object), 'None', None, array(['Q138345'], dtype=object), array(['Q29552'], dtype=object), array(['Q1571660'], dtype=object), array(['Q10230'], dtype=object), None, array(['Q29552'], dtype=object), array(['Q216082'], dtype=object), None, array(['Q29552'], dtype=object), 'None', array(['Q29552'], dtype=object), None]\n"
     ]
    }
   ],
   "source": [
    "        most_speaker_party.append(df_speaker[df_speaker.label == i].party.to_numpy()[0])\n",
    "        print('2')\n",
    "        if df_speaker[df_speaker.label == i].party.all:\n",
    "            continue\n",
    "        else:\n",
    "            print(df_QID.loc[df_QID.index.intersection(most_speaker_party[n])])\n",
    "        print('3')\n",
    "        \n",
    "    if df_speaker[df_speaker.label == i].party == 'None':\n",
    "        df_most_speaker.party[n] = 'None'\n",
    "        print('hello')\n",
    "\n",
    "print(most_speaker_party)"
   ]
  },
  {
   "cell_type": "code",
   "execution_count": 248,
   "id": "d5d02bd8",
   "metadata": {},
   "outputs": [
    {
     "ename": "TypeError",
     "evalue": "Input must be Index or array-like",
     "output_type": "error",
     "traceback": [
      "\u001b[1;31m---------------------------------------------------------------------------\u001b[0m",
      "\u001b[1;31mTypeError\u001b[0m                                 Traceback (most recent call last)",
      "\u001b[1;32m<ipython-input-248-a2fe5b5d9ee9>\u001b[0m in \u001b[0;36m<module>\u001b[1;34m\u001b[0m\n\u001b[1;32m----> 1\u001b[1;33m \u001b[0mdf_QID\u001b[0m\u001b[1;33m.\u001b[0m\u001b[0mloc\u001b[0m\u001b[1;33m[\u001b[0m\u001b[0mdf_QID\u001b[0m\u001b[1;33m.\u001b[0m\u001b[0mindex\u001b[0m\u001b[1;33m.\u001b[0m\u001b[0mintersection\u001b[0m\u001b[1;33m(\u001b[0m\u001b[0mmost_speaker_party\u001b[0m\u001b[1;33m[\u001b[0m\u001b[1;36m7\u001b[0m\u001b[1;33m]\u001b[0m\u001b[1;33m)\u001b[0m\u001b[1;33m]\u001b[0m\u001b[1;33m\u001b[0m\u001b[1;33m\u001b[0m\u001b[0m\n\u001b[0m",
      "\u001b[1;32m~\\Anaconda3\\lib\\site-packages\\pandas\\core\\indexes\\base.py\u001b[0m in \u001b[0;36mintersection\u001b[1;34m(self, other, sort)\u001b[0m\n\u001b[0;32m   2824\u001b[0m         \"\"\"\n\u001b[0;32m   2825\u001b[0m         \u001b[0mself\u001b[0m\u001b[1;33m.\u001b[0m\u001b[0m_validate_sort_keyword\u001b[0m\u001b[1;33m(\u001b[0m\u001b[0msort\u001b[0m\u001b[1;33m)\u001b[0m\u001b[1;33m\u001b[0m\u001b[1;33m\u001b[0m\u001b[0m\n\u001b[1;32m-> 2826\u001b[1;33m         \u001b[0mself\u001b[0m\u001b[1;33m.\u001b[0m\u001b[0m_assert_can_do_setop\u001b[0m\u001b[1;33m(\u001b[0m\u001b[0mother\u001b[0m\u001b[1;33m)\u001b[0m\u001b[1;33m\u001b[0m\u001b[1;33m\u001b[0m\u001b[0m\n\u001b[0m\u001b[0;32m   2827\u001b[0m         \u001b[0mother\u001b[0m\u001b[1;33m,\u001b[0m \u001b[0m_\u001b[0m \u001b[1;33m=\u001b[0m \u001b[0mself\u001b[0m\u001b[1;33m.\u001b[0m\u001b[0m_convert_can_do_setop\u001b[0m\u001b[1;33m(\u001b[0m\u001b[0mother\u001b[0m\u001b[1;33m)\u001b[0m\u001b[1;33m\u001b[0m\u001b[1;33m\u001b[0m\u001b[0m\n\u001b[0;32m   2828\u001b[0m \u001b[1;33m\u001b[0m\u001b[0m\n",
      "\u001b[1;32m~\\Anaconda3\\lib\\site-packages\\pandas\\core\\indexes\\base.py\u001b[0m in \u001b[0;36m_assert_can_do_setop\u001b[1;34m(self, other)\u001b[0m\n\u001b[0;32m   3020\u001b[0m     \u001b[1;32mdef\u001b[0m \u001b[0m_assert_can_do_setop\u001b[0m\u001b[1;33m(\u001b[0m\u001b[0mself\u001b[0m\u001b[1;33m,\u001b[0m \u001b[0mother\u001b[0m\u001b[1;33m)\u001b[0m\u001b[1;33m:\u001b[0m\u001b[1;33m\u001b[0m\u001b[1;33m\u001b[0m\u001b[0m\n\u001b[0;32m   3021\u001b[0m         \u001b[1;32mif\u001b[0m \u001b[1;32mnot\u001b[0m \u001b[0mis_list_like\u001b[0m\u001b[1;33m(\u001b[0m\u001b[0mother\u001b[0m\u001b[1;33m)\u001b[0m\u001b[1;33m:\u001b[0m\u001b[1;33m\u001b[0m\u001b[1;33m\u001b[0m\u001b[0m\n\u001b[1;32m-> 3022\u001b[1;33m             \u001b[1;32mraise\u001b[0m \u001b[0mTypeError\u001b[0m\u001b[1;33m(\u001b[0m\u001b[1;34m\"Input must be Index or array-like\"\u001b[0m\u001b[1;33m)\u001b[0m\u001b[1;33m\u001b[0m\u001b[1;33m\u001b[0m\u001b[0m\n\u001b[0m\u001b[0;32m   3023\u001b[0m         \u001b[1;32mreturn\u001b[0m \u001b[1;32mTrue\u001b[0m\u001b[1;33m\u001b[0m\u001b[1;33m\u001b[0m\u001b[0m\n\u001b[0;32m   3024\u001b[0m \u001b[1;33m\u001b[0m\u001b[0m\n",
      "\u001b[1;31mTypeError\u001b[0m: Input must be Index or array-like"
     ]
    }
   ],
   "source": [
    "df_QID.loc[df_QID.index.intersection(most_speaker_party[7])]"
   ]
  },
  {
   "cell_type": "code",
   "execution_count": null,
   "id": "12f01c6f",
   "metadata": {},
   "outputs": [],
   "source": []
  },
  {
   "cell_type": "markdown",
   "id": "6ebf0944",
   "metadata": {},
   "source": [
    "## First attempts of quotations retrieval\n",
    "\n",
    "We tried to apply an alorithm to pick up all the quotes related to cliamte change but it is not ready now. With the coming lecture we will be able to fix it.  \n",
    "We focused on the 100 000 first lines of the 2020 dataset.\n"
   ]
  },
  {
   "cell_type": "code",
   "execution_count": 14,
   "id": "9e761341",
   "metadata": {},
   "outputs": [],
   "source": [
    "df = pd.read_json('quotes-2020.json.bz2', compression='bz2', nrows=100000, lines=True)"
   ]
  },
  {
   "cell_type": "markdown",
   "id": "047fa56c",
   "metadata": {},
   "source": [
    "### 1. Word2Vec"
   ]
  },
  {
   "cell_type": "code",
   "execution_count": 15,
   "id": "190939fe",
   "metadata": {},
   "outputs": [],
   "source": [
    "# Preprocessing of the data to remove stop-words and tokenize the quotes\n",
    "vocab_quotes = df.quotation.apply(gensim.utils.simple_preprocess)"
   ]
  },
  {
   "cell_type": "code",
   "execution_count": 16,
   "id": "e49ef86d",
   "metadata": {},
   "outputs": [],
   "source": [
    "# Define the model and the parameters\n",
    "model = gensim.models.Word2Vec(\n",
    "    window=10,\n",
    "    min_count=2,\n",
    "    workers=4)"
   ]
  },
  {
   "cell_type": "code",
   "execution_count": 17,
   "id": "95bfe8c1",
   "metadata": {},
   "outputs": [],
   "source": [
    "model.build_vocab(vocab_quotes, progress_per=1000)"
   ]
  },
  {
   "cell_type": "code",
   "execution_count": 18,
   "id": "800ce721",
   "metadata": {},
   "outputs": [
    {
     "data": {
      "text/plain": [
       "(8829356, 11833700)"
      ]
     },
     "execution_count": 18,
     "metadata": {},
     "output_type": "execute_result"
    }
   ],
   "source": [
    "model.train(vocab_quotes, total_examples=model.corpus_count, epochs=model.epochs)"
   ]
  },
  {
   "cell_type": "code",
   "execution_count": 21,
   "id": "551e7db2",
   "metadata": {},
   "outputs": [
    {
     "data": {
      "text/plain": [
       "[('economic', 0.7479218244552612),\n",
       " ('global', 0.7118955850601196),\n",
       " ('current', 0.701635479927063),\n",
       " ('data', 0.701321005821228),\n",
       " ('policy', 0.6959260106086731),\n",
       " ('environmental', 0.6941445469856262),\n",
       " ('science', 0.6937196850776672),\n",
       " ('economy', 0.6861879229545593),\n",
       " ('structural', 0.6811080574989319),\n",
       " ('risks', 0.6744256615638733),\n",
       " ('policies', 0.6719207763671875),\n",
       " ('carbon', 0.6714789867401123),\n",
       " ('financial', 0.670987069606781),\n",
       " ('transparency', 0.6707075238227844),\n",
       " ('significant', 0.6703941822052002),\n",
       " ('awareness', 0.6698325872421265),\n",
       " ('accurate', 0.6639865040779114),\n",
       " ('scope', 0.6620934009552002),\n",
       " ('urgency', 0.6592832207679749),\n",
       " ('sustainable', 0.659204363822937),\n",
       " ('investors', 0.6591705679893494),\n",
       " ('disruption', 0.6580424904823303),\n",
       " ('emissions', 0.6571123600006104),\n",
       " ('minimizes', 0.6541130542755127),\n",
       " ('sustainability', 0.6524901390075684),\n",
       " ('economies', 0.6507850885391235),\n",
       " ('consumer', 0.6506547331809998),\n",
       " ('comprehensive', 0.6459457874298096),\n",
       " ('coal', 0.6424870491027832),\n",
       " ('trillion', 0.642428457736969)]"
      ]
     },
     "execution_count": 21,
     "metadata": {},
     "output_type": "execute_result"
    }
   ],
   "source": [
    "model.wv.most_similar(\"climate\", topn=30)"
   ]
  },
  {
   "cell_type": "markdown",
   "id": "739db7ab",
   "metadata": {},
   "source": [
    "A lot of words are not directly related to climamate change. We can use maybe this list to imporve ours but we can not use directly."
   ]
  },
  {
   "cell_type": "markdown",
   "id": "7686859a",
   "metadata": {},
   "source": [
    "### 2. Doc2Vec"
   ]
  },
  {
   "cell_type": "code",
   "execution_count": 22,
   "id": "642a4494",
   "metadata": {},
   "outputs": [],
   "source": [
    "# We need to convert data into format supported by the Doc2Vec librairy\n",
    "tagged_data = [TaggedDocument(words=doc, tags=[i]) for i, doc in enumerate(vocab_quotes)]"
   ]
  },
  {
   "cell_type": "code",
   "execution_count": 23,
   "id": "5a139530",
   "metadata": {},
   "outputs": [],
   "source": [
    "model = gensim.models.Doc2Vec(vector_size=100, dbow_words= 1, dm=0,  window=5, seed=1337, min_count=5, workers=4,alpha=0.025, min_alpha=0.025)"
   ]
  },
  {
   "cell_type": "code",
   "execution_count": 24,
   "id": "da3ed40d",
   "metadata": {},
   "outputs": [],
   "source": [
    "model.build_vocab(tagged_data)"
   ]
  },
  {
   "cell_type": "code",
   "execution_count": 25,
   "id": "5201e65f",
   "metadata": {},
   "outputs": [],
   "source": [
    "model.train(tagged_data, total_examples=model.corpus_count, epochs=10)"
   ]
  },
  {
   "cell_type": "code",
   "execution_count": 26,
   "id": "0d6a814c",
   "metadata": {},
   "outputs": [],
   "source": [
    "tokens = \"climate warming environment\".split()\n",
    "new_vector = model.infer_vector(tokens)\n",
    "sims = model.dv.most_similar([new_vector], topn=30)"
   ]
  },
  {
   "cell_type": "code",
   "execution_count": 27,
   "id": "c38aabb3",
   "metadata": {},
   "outputs": [
    {
     "name": "stdout",
     "output_type": "stream",
     "text": [
      "6518    Risky Business: Climate and the Macroeconomy,\n",
      "Name: quotation, dtype: object\n",
      "23771    in response to the climate changing,\n",
      "Name: quotation, dtype: object\n",
      "47475    Responses to Climate Change,\n",
      "Name: quotation, dtype: object\n",
      "91030    launches a movement to change the system\n",
      "Name: quotation, dtype: object\n",
      "19102    overrun [ ning ] the planet,\n",
      "Name: quotation, dtype: object\n",
      "52652    Rise Against Militarism, Racism and the Climat...\n",
      "Name: quotation, dtype: object\n",
      "21455    life ‐ sustaining climate system.\n",
      "Name: quotation, dtype: object\n",
      "10474    epically outmatched by a global pandemic.\n",
      "Name: quotation, dtype: object\n",
      "19419    the global elite's panic room.\n",
      "Name: quotation, dtype: object\n",
      "85019    Climate World War III.\n",
      "Name: quotation, dtype: object\n",
      "68263    The drivers in the community are for decarboni...\n",
      "Name: quotation, dtype: object\n",
      "40763    Adapting to climate change isn't enough.\n",
      "Name: quotation, dtype: object\n",
      "95234    clear climate change fuelled the ferocity of t...\n",
      "Name: quotation, dtype: object\n",
      "46136    Australia, your country is burning -- dangerou...\n",
      "Name: quotation, dtype: object\n",
      "18774    it's about building a movement for change.\n",
      "Name: quotation, dtype: object\n",
      "5304    Canada's Global Role in the Climate Emergency.\n",
      "Name: quotation, dtype: object\n",
      "60897    This... is telling us that anthropogenic clima...\n",
      "Name: quotation, dtype: object\n",
      "37885    We think the overuse of pesticides and climate...\n",
      "Name: quotation, dtype: object\n",
      "64469    global `misinfo-demic' is spreading\n",
      "Name: quotation, dtype: object\n",
      "79853    Clearly the new factor is climate change,\n",
      "Name: quotation, dtype: object\n",
      "86798    vastly underprepared for this pandemic.\n",
      "Name: quotation, dtype: object\n",
      "29448    promoting false scepticism about climate chang...\n",
      "Name: quotation, dtype: object\n",
      "65002    Investors are increasingly... recognising that...\n",
      "Name: quotation, dtype: object\n",
      "65040    It is modern antisemitism on a global scale,\n",
      "Name: quotation, dtype: object\n",
      "21770    So here we are. Global pandemic,\n",
      "Name: quotation, dtype: object\n",
      "86148    part of the solution to climate change.\n",
      "Name: quotation, dtype: object\n",
      "87628    firmly entrenched in a gang environment\n",
      "Name: quotation, dtype: object\n",
      "99586    This is a problem that is global,\n",
      "Name: quotation, dtype: object\n",
      "56131    We're going to change bundling,\n",
      "Name: quotation, dtype: object\n",
      "58040    The coronavirus is a global crisis,\n",
      "Name: quotation, dtype: object\n"
     ]
    }
   ],
   "source": [
    "for elt in sims :\n",
    "    print(str(df.iloc[[elt[0]]]['quotation']))"
   ]
  },
  {
   "cell_type": "markdown",
   "id": "8d344d97",
   "metadata": {},
   "source": [
    "#### Conclusion:\n",
    "We get results that seem more conclusive but we still get some incoherent quotes in the results. Furthermore, we didn't find a way to scale it for our very large data set. When chunking the data, we had to train it for every chunk which takes too long. For now, we chose to stick with the naive retrieval method."
   ]
  }
 ],
 "metadata": {
  "kernelspec": {
   "display_name": "Python 3",
   "language": "python",
   "name": "python3"
  },
  "language_info": {
   "codemirror_mode": {
    "name": "ipython",
    "version": 3
   },
   "file_extension": ".py",
   "mimetype": "text/x-python",
   "name": "python",
   "nbconvert_exporter": "python",
   "pygments_lexer": "ipython3",
   "version": "3.8.8"
  }
 },
 "nbformat": 4,
 "nbformat_minor": 5
}
