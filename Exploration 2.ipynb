{
 "cells": [
  {
   "cell_type": "markdown",
   "id": "e8caf97d",
   "metadata": {
    "scrolled": true
   },
   "source": [
    "#### Exécuter si vous n'avez pas déjà installer ces deux packages"
   ]
  },
  {
   "cell_type": "code",
   "execution_count": null,
   "id": "98ca383d",
   "metadata": {},
   "outputs": [],
   "source": [
    "#!pip install gensim\n",
    "#!pip install python-Levenshtein"
   ]
  },
  {
   "cell_type": "markdown",
   "id": "c89fd46b",
   "metadata": {},
   "source": [
    "#### Import des librairies"
   ]
  },
  {
   "cell_type": "code",
   "execution_count": 8,
   "id": "7417279e",
   "metadata": {},
   "outputs": [],
   "source": [
    "import numpy as np\n",
    "import pandas as pd\n",
    "import gensim\n",
    "from nltk.tokenize import word_tokenize\n",
    "from gensim.models.doc2vec import Doc2Vec, TaggedDocument"
   ]
  },
  {
   "cell_type": "markdown",
   "id": "579bb0b3",
   "metadata": {},
   "source": [
    "#### Import des données"
   ]
  },
  {
   "cell_type": "code",
   "execution_count": 2,
   "id": "f726c1db",
   "metadata": {},
   "outputs": [],
   "source": [
    "df = pd.read_json('quotes-2020.json.bz2', compression='bz2', nrows=100000, lines=True)"
   ]
  },
  {
   "cell_type": "code",
   "execution_count": 4,
   "id": "2d45890e",
   "metadata": {
    "scrolled": true
   },
   "outputs": [
    {
     "data": {
      "text/html": [
       "<div>\n",
       "<style scoped>\n",
       "    .dataframe tbody tr th:only-of-type {\n",
       "        vertical-align: middle;\n",
       "    }\n",
       "\n",
       "    .dataframe tbody tr th {\n",
       "        vertical-align: top;\n",
       "    }\n",
       "\n",
       "    .dataframe thead th {\n",
       "        text-align: right;\n",
       "    }\n",
       "</style>\n",
       "<table border=\"1\" class=\"dataframe\">\n",
       "  <thead>\n",
       "    <tr style=\"text-align: right;\">\n",
       "      <th></th>\n",
       "      <th>quoteID</th>\n",
       "      <th>quotation</th>\n",
       "      <th>speaker</th>\n",
       "      <th>qids</th>\n",
       "      <th>date</th>\n",
       "      <th>numOccurrences</th>\n",
       "      <th>probas</th>\n",
       "      <th>urls</th>\n",
       "      <th>phase</th>\n",
       "    </tr>\n",
       "  </thead>\n",
       "  <tbody>\n",
       "    <tr>\n",
       "      <th>0</th>\n",
       "      <td>2020-01-28-000082</td>\n",
       "      <td>[ D ] espite the efforts of the partners to cr...</td>\n",
       "      <td>None</td>\n",
       "      <td>[]</td>\n",
       "      <td>2020-01-28 08:04:05</td>\n",
       "      <td>1</td>\n",
       "      <td>[[None, 0.7272], [Prime Minister Netanyahu, 0....</td>\n",
       "      <td>[http://israelnationalnews.com/News/News.aspx/...</td>\n",
       "      <td>E</td>\n",
       "    </tr>\n",
       "  </tbody>\n",
       "</table>\n",
       "</div>"
      ],
      "text/plain": [
       "             quoteID                                          quotation  \\\n",
       "0  2020-01-28-000082  [ D ] espite the efforts of the partners to cr...   \n",
       "\n",
       "  speaker qids                date  numOccurrences  \\\n",
       "0    None   [] 2020-01-28 08:04:05               1   \n",
       "\n",
       "                                              probas  \\\n",
       "0  [[None, 0.7272], [Prime Minister Netanyahu, 0....   \n",
       "\n",
       "                                                urls phase  \n",
       "0  [http://israelnationalnews.com/News/News.aspx/...     E  "
      ]
     },
     "execution_count": 4,
     "metadata": {},
     "output_type": "execute_result"
    }
   ],
   "source": [
    "df.head(1)"
   ]
  },
  {
   "cell_type": "code",
   "execution_count": 131,
   "id": "5e21a21f",
   "metadata": {
    "scrolled": false
   },
   "outputs": [
    {
     "data": {
      "text/html": [
       "<div>\n",
       "<style scoped>\n",
       "    .dataframe tbody tr th:only-of-type {\n",
       "        vertical-align: middle;\n",
       "    }\n",
       "\n",
       "    .dataframe tbody tr th {\n",
       "        vertical-align: top;\n",
       "    }\n",
       "\n",
       "    .dataframe thead th {\n",
       "        text-align: right;\n",
       "    }\n",
       "</style>\n",
       "<table border=\"1\" class=\"dataframe\">\n",
       "  <thead>\n",
       "    <tr style=\"text-align: right;\">\n",
       "      <th></th>\n",
       "      <th>quoteID</th>\n",
       "      <th>quotation</th>\n",
       "      <th>speaker</th>\n",
       "      <th>qids</th>\n",
       "      <th>date</th>\n",
       "      <th>numOccurrences</th>\n",
       "      <th>probas</th>\n",
       "      <th>urls</th>\n",
       "      <th>phase</th>\n",
       "    </tr>\n",
       "  </thead>\n",
       "  <tbody>\n",
       "    <tr>\n",
       "      <th>0</th>\n",
       "      <td>2020-01-28-000082</td>\n",
       "      <td>[ D ] espite the efforts of the partners to cr...</td>\n",
       "      <td>None</td>\n",
       "      <td>[]</td>\n",
       "      <td>2020-01-28 08:04:05</td>\n",
       "      <td>1</td>\n",
       "      <td>[[None, 0.7272], [Prime Minister Netanyahu, 0....</td>\n",
       "      <td>[http://israelnationalnews.com/News/News.aspx/...</td>\n",
       "      <td>E</td>\n",
       "    </tr>\n",
       "  </tbody>\n",
       "</table>\n",
       "</div>"
      ],
      "text/plain": [
       "             quoteID                                          quotation  \\\n",
       "0  2020-01-28-000082  [ D ] espite the efforts of the partners to cr...   \n",
       "\n",
       "  speaker qids                date  numOccurrences  \\\n",
       "0    None   [] 2020-01-28 08:04:05               1   \n",
       "\n",
       "                                              probas  \\\n",
       "0  [[None, 0.7272], [Prime Minister Netanyahu, 0....   \n",
       "\n",
       "                                                urls phase  \n",
       "0  [http://israelnationalnews.com/News/News.aspx/...     E  "
      ]
     },
     "execution_count": 131,
     "metadata": {},
     "output_type": "execute_result"
    }
   ],
   "source": [
    "df[df['speaker']=='None'].head(1)"
   ]
  },
  {
   "cell_type": "code",
   "execution_count": null,
   "id": "e7642a70",
   "metadata": {},
   "outputs": [],
   "source": [
    "good_quotes = []\n",
    "tokens = \"climate warming environment\".split()\n",
    "new_vector = model.infer_vector(tokens)\n",
    "\n",
    "def process_chunk(chunk):\n",
    "        print(f'Processing chunk with {len(chunk)} rows')\n",
    "        for row in chunk.iterrows():\n",
    "            if 'limate change' in str(row[1]['quotation']) :\n",
    "                good_quotes.append(row[1]['quotation'])\n",
    "          \n",
    "        \n",
    "with pd.read_json('quotes-2020.json.bz2', lines=True, compression='bz2', chunksize=10000) as df_reader:\n",
    "    for chunk in df_reader:\n",
    "        process_chunk(chunk)"
   ]
  },
  {
   "cell_type": "code",
   "execution_count": 169,
   "id": "d151890e",
   "metadata": {},
   "outputs": [
    {
     "data": {
      "text/plain": [
       "[\"And it's also in the context of decades of utter failure on climate change. And now we're staring down a very dark future.\",\n",
       " 'Many make the link today between their experience of violent conflicts and climate change,',\n",
       " 'the National Energy and Climate Plans are how we chart the course towards climate neutrality. We have no time to lose in our fight against climate change so we really need to respect our own deadlines for action.',\n",
       " 'This budget also allows us to earmark £ 500,000 to ensure funding is available for the recommendations that will come from our environment and climate change taskforce, helping us to achieve our ambition of being carbon neutral by 2030 and ensuring our finances are robust enough to meet the local and global challenges of the future.',\n",
       " 'As a state, we will pursue every option available under existing law to combat the effects of climate change and put Oregon on a path we can be proud to leave behind for our children.']"
      ]
     },
     "execution_count": 169,
     "metadata": {},
     "output_type": "execute_result"
    }
   ],
   "source": [
    "good_quotes[:5]"
   ]
  },
  {
   "cell_type": "code",
   "execution_count": 1,
   "id": "aabfc506",
   "metadata": {},
   "outputs": [
    {
     "ename": "NameError",
     "evalue": "name 'good_quotes' is not defined",
     "output_type": "error",
     "traceback": [
      "\u001b[0;31m---------------------------------------------------------------------------\u001b[0m",
      "\u001b[0;31mNameError\u001b[0m                                 Traceback (most recent call last)",
      "\u001b[0;32m<ipython-input-1-31dfad84c5a4>\u001b[0m in \u001b[0;36m<module>\u001b[0;34m\u001b[0m\n\u001b[0;32m----> 1\u001b[0;31m \u001b[0mgood_quotes\u001b[0m\u001b[0;34m[\u001b[0m\u001b[0;34m:\u001b[0m\u001b[0;36m3\u001b[0m\u001b[0;34m]\u001b[0m\u001b[0;34m\u001b[0m\u001b[0;34m\u001b[0m\u001b[0m\n\u001b[0m",
      "\u001b[0;31mNameError\u001b[0m: name 'good_quotes' is not defined"
     ]
    }
   ],
   "source": [
    "good_quotes[:3]"
   ]
  },
  {
   "cell_type": "markdown",
   "id": "0c389045",
   "metadata": {},
   "source": [
    "#### 1. Doc2Vec"
   ]
  },
  {
   "cell_type": "markdown",
   "id": "75edafbf",
   "metadata": {},
   "source": [
    "#### On va créer une liste de TaggedDocument. Chaque TaggedDocument contient un Document, et un Tag (identifiant unique)."
   ]
  },
  {
   "cell_type": "markdown",
   "id": "a7e89f26",
   "metadata": {},
   "source": [
    "Deux manières de créer les Tagged-Data, on voit que la deuxieme est mieux car elle permet de mieux nettoyer les quotations : "
   ]
  },
  {
   "cell_type": "code",
   "execution_count": 7,
   "id": "fbc1a0dd",
   "metadata": {},
   "outputs": [],
   "source": [
    "tagged_data = [TaggedDocument(words=word_tokenize(_d.lower()), tags=[str(i)]) for i, _d in enumerate(df['quotation'])]"
   ]
  },
  {
   "cell_type": "code",
   "execution_count": 28,
   "id": "757ffb18",
   "metadata": {},
   "outputs": [
    {
     "data": {
      "text/plain": [
       "TaggedDocument(words=['[', 'd', ']', 'espite', 'the', 'efforts', 'of', 'the', 'partners', 'to', 'create', 'a', 'non-political', 'award', 'that', 'unites', 'the', 'jewish', 'people', ',', 'some', 'have', 'incorrectly', 'interpreted', 'the', 'participation', 'of', 'the', 'office', 'of', 'the', 'prime', 'minister', 'in', 'the', 'genesis', 'prize', 'as', 'bringing', 'a', 'political', 'dimension', 'to', 'this', 'important', 'initiative', ','], tags=['0'])"
      ]
     },
     "execution_count": 28,
     "metadata": {},
     "output_type": "execute_result"
    }
   ],
   "source": [
    "tagged_data[0]"
   ]
  },
  {
   "cell_type": "code",
   "execution_count": 52,
   "id": "1b5a479e",
   "metadata": {},
   "outputs": [],
   "source": [
    "vocab_quotes = df.quotation.apply(gensim.utils.simple_preprocess)\n",
    "tagged_data_2 = [TaggedDocument(words=doc, tags=[i]) for i, doc in enumerate(vocab_quotes)]"
   ]
  },
  {
   "cell_type": "code",
   "execution_count": 53,
   "id": "04892ca4",
   "metadata": {},
   "outputs": [
    {
     "data": {
      "text/plain": [
       "TaggedDocument(words=['espite', 'the', 'efforts', 'of', 'the', 'partners', 'to', 'create', 'non', 'political', 'award', 'that', 'unites', 'the', 'jewish', 'people', 'some', 'have', 'incorrectly', 'interpreted', 'the', 'participation', 'of', 'the', 'office', 'of', 'the', 'prime', 'minister', 'in', 'the', 'genesis', 'prize', 'as', 'bringing', 'political', 'dimension', 'to', 'this', 'important', 'initiative'], tags=[0])"
      ]
     },
     "execution_count": 53,
     "metadata": {},
     "output_type": "execute_result"
    }
   ],
   "source": [
    "tagged_data_2[0]"
   ]
  },
  {
   "cell_type": "code",
   "execution_count": 67,
   "id": "e2987256",
   "metadata": {},
   "outputs": [],
   "source": [
    "# On définit le modèle, il y a beaucoup de paramètres à étudier pour optimiser\n",
    "#model = gensim.models.Doc2Vec(vector_size=300, window=10, min_count=5, workers=4, epochs=20)\n",
    "model = gensim.models.Doc2Vec(vector_size=100, dbow_words= 1, dm=0,  window=5, seed=1337, min_count=5, workers=4,alpha=0.025, min_alpha=0.025)"
   ]
  },
  {
   "cell_type": "code",
   "execution_count": 68,
   "id": "596ddaad",
   "metadata": {},
   "outputs": [],
   "source": [
    "# On construit le vocab nécessaire au training \n",
    "model.build_vocab(tagged_data_2)"
   ]
  },
  {
   "cell_type": "code",
   "execution_count": 130,
   "id": "c78a50f9",
   "metadata": {},
   "outputs": [],
   "source": [
    "# On entraine le modèle\n",
    "model.train(tagged_data_2, total_examples=model.corpus_count, epochs=10)"
   ]
  },
  {
   "cell_type": "code",
   "execution_count": 175,
   "id": "29f143fd",
   "metadata": {},
   "outputs": [],
   "source": [
    "# On cherche les 10 documents les plus similaires à celui-ci. \n",
    "\n",
    "tokens = \"climate warming environment\".split()\n",
    "new_vector = model.infer_vector(tokens)\n",
    "sims = model.dv.most_similar([new_vector], topn=30)"
   ]
  },
  {
   "cell_type": "code",
   "execution_count": 178,
   "id": "a5be7c43",
   "metadata": {},
   "outputs": [
    {
     "name": "stderr",
     "output_type": "stream",
     "text": [
      "<ipython-input-178-699a2bb19f84>:1: DeprecationWarning: Call to deprecated `docvecs` (The `docvecs` property has been renamed `dv`.).\n",
      "  model.docvecs.similarity('climate warming environment', 'Many make the link today between their experience of violent conflicts and climate change')\n"
     ]
    },
    {
     "ename": "KeyError",
     "evalue": "\"Key 'climate warming environment' not present\"",
     "output_type": "error",
     "traceback": [
      "\u001b[0;31m---------------------------------------------------------------------------\u001b[0m",
      "\u001b[0;31mKeyError\u001b[0m                                  Traceback (most recent call last)",
      "\u001b[0;32m<ipython-input-178-699a2bb19f84>\u001b[0m in \u001b[0;36m<module>\u001b[0;34m\u001b[0m\n\u001b[0;32m----> 1\u001b[0;31m \u001b[0mmodel\u001b[0m\u001b[0;34m.\u001b[0m\u001b[0mdocvecs\u001b[0m\u001b[0;34m.\u001b[0m\u001b[0msimilarity\u001b[0m\u001b[0;34m(\u001b[0m\u001b[0;34m'climate warming environment'\u001b[0m\u001b[0;34m,\u001b[0m \u001b[0;34m'Many make the link today between their experience of violent conflicts and climate change'\u001b[0m\u001b[0;34m)\u001b[0m\u001b[0;34m\u001b[0m\u001b[0;34m\u001b[0m\u001b[0m\n\u001b[0m",
      "\u001b[0;32m/Applications/anaconda3/lib/python3.8/site-packages/gensim/models/keyedvectors.py\u001b[0m in \u001b[0;36msimilarity\u001b[0;34m(self, w1, w2)\u001b[0m\n\u001b[1;32m   1152\u001b[0m \u001b[0;34m\u001b[0m\u001b[0m\n\u001b[1;32m   1153\u001b[0m         \"\"\"\n\u001b[0;32m-> 1154\u001b[0;31m         \u001b[0;32mreturn\u001b[0m \u001b[0mdot\u001b[0m\u001b[0;34m(\u001b[0m\u001b[0mmatutils\u001b[0m\u001b[0;34m.\u001b[0m\u001b[0munitvec\u001b[0m\u001b[0;34m(\u001b[0m\u001b[0mself\u001b[0m\u001b[0;34m[\u001b[0m\u001b[0mw1\u001b[0m\u001b[0;34m]\u001b[0m\u001b[0;34m)\u001b[0m\u001b[0;34m,\u001b[0m \u001b[0mmatutils\u001b[0m\u001b[0;34m.\u001b[0m\u001b[0munitvec\u001b[0m\u001b[0;34m(\u001b[0m\u001b[0mself\u001b[0m\u001b[0;34m[\u001b[0m\u001b[0mw2\u001b[0m\u001b[0;34m]\u001b[0m\u001b[0;34m)\u001b[0m\u001b[0;34m)\u001b[0m\u001b[0;34m\u001b[0m\u001b[0;34m\u001b[0m\u001b[0m\n\u001b[0m\u001b[1;32m   1155\u001b[0m \u001b[0;34m\u001b[0m\u001b[0m\n\u001b[1;32m   1156\u001b[0m     \u001b[0;32mdef\u001b[0m \u001b[0mn_similarity\u001b[0m\u001b[0;34m(\u001b[0m\u001b[0mself\u001b[0m\u001b[0;34m,\u001b[0m \u001b[0mws1\u001b[0m\u001b[0;34m,\u001b[0m \u001b[0mws2\u001b[0m\u001b[0;34m)\u001b[0m\u001b[0;34m:\u001b[0m\u001b[0;34m\u001b[0m\u001b[0;34m\u001b[0m\u001b[0m\n",
      "\u001b[0;32m/Applications/anaconda3/lib/python3.8/site-packages/gensim/models/keyedvectors.py\u001b[0m in \u001b[0;36m__getitem__\u001b[0;34m(self, key_or_keys)\u001b[0m\n\u001b[1;32m    393\u001b[0m         \"\"\"\n\u001b[1;32m    394\u001b[0m         \u001b[0;32mif\u001b[0m \u001b[0misinstance\u001b[0m\u001b[0;34m(\u001b[0m\u001b[0mkey_or_keys\u001b[0m\u001b[0;34m,\u001b[0m \u001b[0m_KEY_TYPES\u001b[0m\u001b[0;34m)\u001b[0m\u001b[0;34m:\u001b[0m\u001b[0;34m\u001b[0m\u001b[0;34m\u001b[0m\u001b[0m\n\u001b[0;32m--> 395\u001b[0;31m             \u001b[0;32mreturn\u001b[0m \u001b[0mself\u001b[0m\u001b[0;34m.\u001b[0m\u001b[0mget_vector\u001b[0m\u001b[0;34m(\u001b[0m\u001b[0mkey_or_keys\u001b[0m\u001b[0;34m)\u001b[0m\u001b[0;34m\u001b[0m\u001b[0;34m\u001b[0m\u001b[0m\n\u001b[0m\u001b[1;32m    396\u001b[0m \u001b[0;34m\u001b[0m\u001b[0m\n\u001b[1;32m    397\u001b[0m         \u001b[0;32mreturn\u001b[0m \u001b[0mvstack\u001b[0m\u001b[0;34m(\u001b[0m\u001b[0;34m[\u001b[0m\u001b[0mself\u001b[0m\u001b[0;34m.\u001b[0m\u001b[0mget_vector\u001b[0m\u001b[0;34m(\u001b[0m\u001b[0mkey\u001b[0m\u001b[0;34m)\u001b[0m \u001b[0;32mfor\u001b[0m \u001b[0mkey\u001b[0m \u001b[0;32min\u001b[0m \u001b[0mkey_or_keys\u001b[0m\u001b[0;34m]\u001b[0m\u001b[0;34m)\u001b[0m\u001b[0;34m\u001b[0m\u001b[0;34m\u001b[0m\u001b[0m\n",
      "\u001b[0;32m/Applications/anaconda3/lib/python3.8/site-packages/gensim/models/keyedvectors.py\u001b[0m in \u001b[0;36mget_vector\u001b[0;34m(self, key, norm)\u001b[0m\n\u001b[1;32m    436\u001b[0m \u001b[0;34m\u001b[0m\u001b[0m\n\u001b[1;32m    437\u001b[0m         \"\"\"\n\u001b[0;32m--> 438\u001b[0;31m         \u001b[0mindex\u001b[0m \u001b[0;34m=\u001b[0m \u001b[0mself\u001b[0m\u001b[0;34m.\u001b[0m\u001b[0mget_index\u001b[0m\u001b[0;34m(\u001b[0m\u001b[0mkey\u001b[0m\u001b[0;34m)\u001b[0m\u001b[0;34m\u001b[0m\u001b[0;34m\u001b[0m\u001b[0m\n\u001b[0m\u001b[1;32m    439\u001b[0m         \u001b[0;32mif\u001b[0m \u001b[0mnorm\u001b[0m\u001b[0;34m:\u001b[0m\u001b[0;34m\u001b[0m\u001b[0;34m\u001b[0m\u001b[0m\n\u001b[1;32m    440\u001b[0m             \u001b[0mself\u001b[0m\u001b[0;34m.\u001b[0m\u001b[0mfill_norms\u001b[0m\u001b[0;34m(\u001b[0m\u001b[0;34m)\u001b[0m\u001b[0;34m\u001b[0m\u001b[0;34m\u001b[0m\u001b[0m\n",
      "\u001b[0;32m/Applications/anaconda3/lib/python3.8/site-packages/gensim/models/keyedvectors.py\u001b[0m in \u001b[0;36mget_index\u001b[0;34m(self, key, default)\u001b[0m\n\u001b[1;32m    410\u001b[0m             \u001b[0;32mreturn\u001b[0m \u001b[0mdefault\u001b[0m\u001b[0;34m\u001b[0m\u001b[0;34m\u001b[0m\u001b[0m\n\u001b[1;32m    411\u001b[0m         \u001b[0;32melse\u001b[0m\u001b[0;34m:\u001b[0m\u001b[0;34m\u001b[0m\u001b[0;34m\u001b[0m\u001b[0m\n\u001b[0;32m--> 412\u001b[0;31m             \u001b[0;32mraise\u001b[0m \u001b[0mKeyError\u001b[0m\u001b[0;34m(\u001b[0m\u001b[0;34mf\"Key '{key}' not present\"\u001b[0m\u001b[0;34m)\u001b[0m\u001b[0;34m\u001b[0m\u001b[0;34m\u001b[0m\u001b[0m\n\u001b[0m\u001b[1;32m    413\u001b[0m \u001b[0;34m\u001b[0m\u001b[0m\n\u001b[1;32m    414\u001b[0m     \u001b[0;32mdef\u001b[0m \u001b[0mget_vector\u001b[0m\u001b[0;34m(\u001b[0m\u001b[0mself\u001b[0m\u001b[0;34m,\u001b[0m \u001b[0mkey\u001b[0m\u001b[0;34m,\u001b[0m \u001b[0mnorm\u001b[0m\u001b[0;34m=\u001b[0m\u001b[0;32mFalse\u001b[0m\u001b[0;34m)\u001b[0m\u001b[0;34m:\u001b[0m\u001b[0;34m\u001b[0m\u001b[0;34m\u001b[0m\u001b[0m\n",
      "\u001b[0;31mKeyError\u001b[0m: \"Key 'climate warming environment' not present\""
     ]
    }
   ],
   "source": [
    "model.docvecs.similarity('climate warming environment', 'Many make the link today between their experience of violent conflicts and climate change')"
   ]
  },
  {
   "cell_type": "code",
   "execution_count": 177,
   "id": "ffc5d205",
   "metadata": {},
   "outputs": [
    {
     "data": {
      "text/plain": [
       "[(23771, 0.7676342725753784),\n",
       " (47475, 0.7420128583908081),\n",
       " (6518, 0.7162148356437683),\n",
       " (43734, 0.7111215591430664),\n",
       " (85019, 0.7109125256538391),\n",
       " (95234, 0.7011255621910095),\n",
       " (86231, 0.7006449699401855),\n",
       " (65002, 0.6982077360153198),\n",
       " (21455, 0.6878529191017151),\n",
       " (40763, 0.6850039958953857),\n",
       " (68263, 0.6796166300773621),\n",
       " (5304, 0.676025390625),\n",
       " (2302, 0.6682032346725464),\n",
       " (74714, 0.6679670810699463),\n",
       " (19419, 0.6671484708786011),\n",
       " (64469, 0.6649736762046814),\n",
       " (74302, 0.6552955508232117),\n",
       " (10474, 0.6490005254745483),\n",
       " (65040, 0.648915708065033),\n",
       " (98878, 0.6482448577880859),\n",
       " (65260, 0.6475870013237),\n",
       " (58040, 0.6474145650863647),\n",
       " (25068, 0.6432352662086487),\n",
       " (99586, 0.6427844762802124),\n",
       " (29448, 0.642483115196228),\n",
       " (79853, 0.6411502361297607),\n",
       " (87628, 0.6401574611663818),\n",
       " (35887, 0.6374573707580566),\n",
       " (17582, 0.636782705783844),\n",
       " (52509, 0.6339145302772522)]"
      ]
     },
     "execution_count": 177,
     "metadata": {},
     "output_type": "execute_result"
    }
   ],
   "source": [
    "sims"
   ]
  },
  {
   "cell_type": "code",
   "execution_count": 176,
   "id": "58ab4a80",
   "metadata": {},
   "outputs": [
    {
     "name": "stdout",
     "output_type": "stream",
     "text": [
      "23771    in response to the climate changing,\n",
      "Name: quotation, dtype: object\n",
      "47475    Responses to Climate Change,\n",
      "Name: quotation, dtype: object\n",
      "6518    Risky Business: Climate and the Macroeconomy,\n",
      "Name: quotation, dtype: object\n",
      "43734    getting serious about the climate emergency,\n",
      "Name: quotation, dtype: object\n",
      "85019    Climate World War III.\n",
      "Name: quotation, dtype: object\n",
      "95234    clear climate change fuelled the ferocity of t...\n",
      "Name: quotation, dtype: object\n",
      "86231    sensitive to the current climate.\n",
      "Name: quotation, dtype: object\n",
      "65002    Investors are increasingly... recognising that...\n",
      "Name: quotation, dtype: object\n",
      "21455    life ‐ sustaining climate system.\n",
      "Name: quotation, dtype: object\n",
      "40763    Adapting to climate change isn't enough.\n",
      "Name: quotation, dtype: object\n",
      "68263    The drivers in the community are for decarboni...\n",
      "Name: quotation, dtype: object\n",
      "5304    Canada's Global Role in the Climate Emergency.\n",
      "Name: quotation, dtype: object\n",
      "2302    Weather is a serious issue!\n",
      "Name: quotation, dtype: object\n",
      "74714    Global health and development, education, and ...\n",
      "Name: quotation, dtype: object\n",
      "19419    the global elite's panic room.\n",
      "Name: quotation, dtype: object\n",
      "64469    global `misinfo-demic' is spreading\n",
      "Name: quotation, dtype: object\n",
      "74302    A Political Federation is imperative in this g...\n",
      "Name: quotation, dtype: object\n",
      "10474    epically outmatched by a global pandemic.\n",
      "Name: quotation, dtype: object\n",
      "65040    It is modern antisemitism on a global scale,\n",
      "Name: quotation, dtype: object\n",
      "98878    Managing bushfires will become more complicate...\n",
      "Name: quotation, dtype: object\n",
      "65260    Making the environment conducive for justice\n",
      "Name: quotation, dtype: object\n",
      "58040    The coronavirus is a global crisis,\n",
      "Name: quotation, dtype: object\n",
      "25068    We hope our research improves predictions of f...\n",
      "Name: quotation, dtype: object\n",
      "99586    This is a problem that is global,\n",
      "Name: quotation, dtype: object\n",
      "29448    promoting false scepticism about climate chang...\n",
      "Name: quotation, dtype: object\n",
      "79853    Clearly the new factor is climate change,\n",
      "Name: quotation, dtype: object\n",
      "87628    firmly entrenched in a gang environment\n",
      "Name: quotation, dtype: object\n",
      "35887    climate, health care, and local flooding,\n",
      "Name: quotation, dtype: object\n",
      "17582    with the hotter weather,\n",
      "Name: quotation, dtype: object\n",
      "52509    Now, in an increasingly unequal world, the fut...\n",
      "Name: quotation, dtype: object\n"
     ]
    }
   ],
   "source": [
    "for elt in sims :\n",
    "    print(str(df.iloc[[elt[0]]]['quotation']))"
   ]
  },
  {
   "cell_type": "code",
   "execution_count": 117,
   "id": "70f0539b",
   "metadata": {},
   "outputs": [
    {
     "name": "stdout",
     "output_type": "stream",
     "text": [
      "10474    epically outmatched by a global pandemic.\n",
      "Name: quotation, dtype: object\n"
     ]
    }
   ],
   "source": [
    "print(str(df.iloc[[10474 ]]['quotation']))"
   ]
  },
  {
   "cell_type": "code",
   "execution_count": null,
   "id": "777c0a19",
   "metadata": {},
   "outputs": [],
   "source": [
    "# Bon ben apparement ca marche assez bien, comment faire mieux désormais ? "
   ]
  },
  {
   "cell_type": "markdown",
   "id": "11ff556b",
   "metadata": {},
   "source": [
    "#### 2. Word2Vec"
   ]
  },
  {
   "cell_type": "code",
   "execution_count": 16,
   "id": "76932c0f",
   "metadata": {},
   "outputs": [],
   "source": [
    "vocab_quotes = df.quotation.apply(gensim.utils.simple_preprocess)"
   ]
  },
  {
   "cell_type": "code",
   "execution_count": 29,
   "id": "26969019",
   "metadata": {},
   "outputs": [
    {
     "data": {
      "text/plain": [
       "['espite',\n",
       " 'the',\n",
       " 'efforts',\n",
       " 'of',\n",
       " 'the',\n",
       " 'partners',\n",
       " 'to',\n",
       " 'create',\n",
       " 'non',\n",
       " 'political',\n",
       " 'award',\n",
       " 'that',\n",
       " 'unites',\n",
       " 'the',\n",
       " 'jewish',\n",
       " 'people',\n",
       " 'some',\n",
       " 'have',\n",
       " 'incorrectly',\n",
       " 'interpreted',\n",
       " 'the',\n",
       " 'participation',\n",
       " 'of',\n",
       " 'the',\n",
       " 'office',\n",
       " 'of',\n",
       " 'the',\n",
       " 'prime',\n",
       " 'minister',\n",
       " 'in',\n",
       " 'the',\n",
       " 'genesis',\n",
       " 'prize',\n",
       " 'as',\n",
       " 'bringing',\n",
       " 'political',\n",
       " 'dimension',\n",
       " 'to',\n",
       " 'this',\n",
       " 'important',\n",
       " 'initiative']"
      ]
     },
     "execution_count": 29,
     "metadata": {},
     "output_type": "execute_result"
    }
   ],
   "source": [
    "vocab_quotes[0]"
   ]
  },
  {
   "cell_type": "code",
   "execution_count": 20,
   "id": "1f4b96ee",
   "metadata": {},
   "outputs": [],
   "source": [
    "model = gensim.models.Word2Vec(\n",
    "    window=10,\n",
    "    min_count=2,\n",
    "    workers=4,\n",
    ")"
   ]
  },
  {
   "cell_type": "code",
   "execution_count": 21,
   "id": "3df2c428",
   "metadata": {},
   "outputs": [],
   "source": [
    "model.build_vocab(vocab_quotes, progress_per=1000)"
   ]
  },
  {
   "cell_type": "code",
   "execution_count": 22,
   "id": "fcbb90b1",
   "metadata": {},
   "outputs": [
    {
     "data": {
      "text/plain": [
       "(8831377, 11833700)"
      ]
     },
     "execution_count": 22,
     "metadata": {},
     "output_type": "execute_result"
    }
   ],
   "source": [
    "model.train(vocab_quotes, total_examples=model.corpus_count, epochs=model.epochs)"
   ]
  },
  {
   "cell_type": "code",
   "execution_count": 124,
   "id": "480c31ad",
   "metadata": {},
   "outputs": [
    {
     "data": {
      "text/plain": [
       "[('deforestation', 0.578827440738678),\n",
       " ('inequality', 0.530994713306427),\n",
       " ('change', 0.5236321687698364),\n",
       " ('global', 0.5184160470962524),\n",
       " ('declines', 0.5175962448120117),\n",
       " ('disparities', 0.5151465535163879),\n",
       " ('structural', 0.5150886178016663),\n",
       " ('robustly', 0.5074840784072876),\n",
       " ('unforgiving', 0.50663161277771),\n",
       " ('wildfire', 0.5015254616737366),\n",
       " ('mitigating', 0.4986288547515869),\n",
       " ('racial', 0.49859723448753357),\n",
       " ('environmental', 0.4983930289745331),\n",
       " ('equality', 0.49219849705696106),\n",
       " ('destructive', 0.48925095796585083),\n",
       " ('confederation', 0.4890865683555603),\n",
       " ('radical', 0.48764461278915405),\n",
       " ('regulation', 0.4872642457485199),\n",
       " ('initiatives', 0.48353496193885803),\n",
       " ('unruly', 0.48303091526031494),\n",
       " ('catalysts', 0.480881005525589),\n",
       " ('combating', 0.48057907819747925),\n",
       " ('jeopardizes', 0.47917208075523376),\n",
       " ('impending', 0.4784373342990875),\n",
       " ('nuclear', 0.47744154930114746),\n",
       " ('extremes', 0.4771021902561188),\n",
       " ('silencing', 0.4768330156803131),\n",
       " ('ecological', 0.4745658040046692),\n",
       " ('extreme', 0.47351208329200745),\n",
       " ('paradigm', 0.4721035361289978),\n",
       " ('synergy', 0.47179287672042847),\n",
       " ('fuelling', 0.47014302015304565),\n",
       " ('scotia', 0.46985968947410583),\n",
       " ('needlessly', 0.4693785309791565),\n",
       " ('ignores', 0.4692935347557068),\n",
       " ('inequities', 0.469046413898468),\n",
       " ('reforming', 0.4678780734539032),\n",
       " ('rhode', 0.4653361141681671),\n",
       " ('criminality', 0.46500587463378906),\n",
       " ('planet', 0.46234673261642456),\n",
       " ('pollution', 0.46208876371383667),\n",
       " ('aversion', 0.46011197566986084),\n",
       " ('overhaul', 0.4601091146469116),\n",
       " ('affordable', 0.45838192105293274),\n",
       " ('inclusion', 0.4581718444824219),\n",
       " ('lever', 0.4581194519996643),\n",
       " ('efficiency', 0.45764878392219543),\n",
       " ('unequal', 0.4570135772228241),\n",
       " ('cybercrime', 0.45546644926071167),\n",
       " ('emissions', 0.45543691515922546)]"
      ]
     },
     "execution_count": 124,
     "metadata": {},
     "output_type": "execute_result"
    }
   ],
   "source": [
    "model.wv.most_similar(\"climate\", topn=50)"
   ]
  },
  {
   "cell_type": "code",
   "execution_count": null,
   "id": "d128f575",
   "metadata": {},
   "outputs": [],
   "source": [
    "# Ca marche aussi, mais y a des mots qui ne sont pas reliés QUE au changement climatique comme 'policy' et qui\n",
    "# ne peuvent pas servir de clé pour déterminer à eux tout seul qu'une quote est sur le changement climatique."
   ]
  },
  {
   "cell_type": "markdown",
   "id": "a4284dfc",
   "metadata": {},
   "source": [
    "### Conclusion :  Se concentrer sur la première approche Doc2Vec à mon avis, en mettant plus de données dans l'algorithme, chercher à trouver les paramètres optimaux de train, améliorer le pré-processing en dégageant les mots tronqués, et en réajustant continuellement pour avoir la meilleure accuracy possible. \n",
    "\n",
    "#### Trouver comment importer toute la donnée en même temps ? Ou une maniere d'utiliser toute la donnée pour entrainer le modèle en tout cas. \n",
    "\n",
    "#### Aussi pourquoi quand on print kes"
   ]
  },
  {
   "cell_type": "code",
   "execution_count": null,
   "id": "3819b246",
   "metadata": {},
   "outputs": [],
   "source": []
  }
 ],
 "metadata": {
  "kernelspec": {
   "display_name": "Python 3",
   "language": "python",
   "name": "python3"
  },
  "language_info": {
   "codemirror_mode": {
    "name": "ipython",
    "version": 3
   },
   "file_extension": ".py",
   "mimetype": "text/x-python",
   "name": "python",
   "nbconvert_exporter": "python",
   "pygments_lexer": "ipython3",
   "version": "3.8.8"
  }
 },
 "nbformat": 4,
 "nbformat_minor": 5
}
